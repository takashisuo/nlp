{
  "nbformat": 4,
  "nbformat_minor": 0,
  "metadata": {
    "colab": {
      "name": "NLP_100_1.ipynb",
      "provenance": [],
      "collapsed_sections": [],
      "authorship_tag": "ABX9TyOyHechxBV0i8Xb2qWpbL0x",
      "include_colab_link": true
    },
    "kernelspec": {
      "name": "python3",
      "display_name": "Python 3"
    }
  },
  "cells": [
    {
      "cell_type": "markdown",
      "metadata": {
        "id": "view-in-github",
        "colab_type": "text"
      },
      "source": [
        "<a href=\"https://colab.research.google.com/github/takashisuo/nlp/blob/main/NLP_100_1.ipynb\" target=\"_parent\"><img src=\"https://colab.research.google.com/assets/colab-badge.svg\" alt=\"Open In Colab\"/></a>"
      ]
    },
    {
      "cell_type": "code",
      "metadata": {
        "id": "5cZVSFvRU7oD"
      },
      "source": [
        "import numpy as np\n",
        "import pandas as pd"
      ],
      "execution_count": null,
      "outputs": []
    },
    {
      "cell_type": "code",
      "metadata": {
        "id": "L6FpnYjhY03_",
        "colab": {
          "base_uri": "https://localhost:8080/"
        },
        "outputId": "4ca2d81a-adee-4193-9be5-9426d28f9a0a"
      },
      "source": [
        "!pip install https://github.com/ipython-contrib/jupyter_contrib_nbextensions/tarball/master\n",
        "!jupyter contrib nbextension install --user\n",
        "!jupyter nbextension enable hinterland/hinterland"
      ],
      "execution_count": null,
      "outputs": [
        {
          "output_type": "stream",
          "text": [
            "Collecting https://github.com/ipython-contrib/jupyter_contrib_nbextensions/tarball/master\n",
            "\u001b[?25l  Downloading https://github.com/ipython-contrib/jupyter_contrib_nbextensions/tarball/master\n",
            "\u001b[K     - 29.4MB 20.2MB/s\n",
            "\u001b[?25hRequirement already satisfied: ipython_genutils in /usr/local/lib/python3.6/dist-packages (from jupyter-contrib-nbextensions==0.5.1) (0.2.0)\n",
            "Collecting jupyter_contrib_core>=0.3.3\n",
            "  Downloading https://files.pythonhosted.org/packages/e6/8f/04a752a8b66a66e7092c035e5d87d2502ac7ec07f9fb6059059b6c0dc272/jupyter_contrib_core-0.3.3-py2.py3-none-any.whl\n",
            "Requirement already satisfied: jupyter_core in /usr/local/lib/python3.6/dist-packages (from jupyter-contrib-nbextensions==0.5.1) (4.7.0)\n",
            "Collecting jupyter_highlight_selected_word>=0.1.1\n",
            "  Downloading https://files.pythonhosted.org/packages/50/d7/19ab7cfd60bf268d2abbacc52d4295a40f52d74dfc0d938e4761ee5e598b/jupyter_highlight_selected_word-0.2.0-py2.py3-none-any.whl\n",
            "Collecting jupyter_latex_envs>=1.3.8\n",
            "\u001b[?25l  Downloading https://files.pythonhosted.org/packages/0e/15/55805de080d5542f76920364635e96e64d3b37f678befdfe3b16aa154205/jupyter_latex_envs-1.4.6.tar.gz (861kB)\n",
            "\u001b[K     |████████████████████████████████| 870kB 5.9MB/s \n",
            "\u001b[?25hCollecting jupyter_nbextensions_configurator>=0.4.0\n",
            "\u001b[?25l  Downloading https://files.pythonhosted.org/packages/51/a3/d72d5f2dc10c5ccf5a6f4c79f636bf071a5ce462dedd07af2f70384db6cb/jupyter_nbextensions_configurator-0.4.1.tar.gz (479kB)\n",
            "\u001b[K     |████████████████████████████████| 481kB 25.1MB/s \n",
            "\u001b[?25hRequirement already satisfied: nbconvert>=4.2 in /usr/local/lib/python3.6/dist-packages (from jupyter-contrib-nbextensions==0.5.1) (5.6.1)\n",
            "Requirement already satisfied: notebook>=4.0 in /usr/local/lib/python3.6/dist-packages (from jupyter-contrib-nbextensions==0.5.1) (5.3.1)\n",
            "Requirement already satisfied: pyyaml in /usr/local/lib/python3.6/dist-packages (from jupyter-contrib-nbextensions==0.5.1) (3.13)\n",
            "Requirement already satisfied: tornado in /usr/local/lib/python3.6/dist-packages (from jupyter-contrib-nbextensions==0.5.1) (5.1.1)\n",
            "Requirement already satisfied: traitlets>=4.1 in /usr/local/lib/python3.6/dist-packages (from jupyter-contrib-nbextensions==0.5.1) (4.3.3)\n",
            "Requirement already satisfied: lxml in /usr/local/lib/python3.6/dist-packages (from jupyter-contrib-nbextensions==0.5.1) (4.2.6)\n",
            "Requirement already satisfied: setuptools in /usr/local/lib/python3.6/dist-packages (from jupyter_contrib_core>=0.3.3->jupyter-contrib-nbextensions==0.5.1) (50.3.2)\n",
            "Requirement already satisfied: ipython in /usr/local/lib/python3.6/dist-packages (from jupyter_latex_envs>=1.3.8->jupyter-contrib-nbextensions==0.5.1) (5.5.0)\n",
            "Requirement already satisfied: pandocfilters>=1.4.1 in /usr/local/lib/python3.6/dist-packages (from nbconvert>=4.2->jupyter-contrib-nbextensions==0.5.1) (1.4.3)\n",
            "Requirement already satisfied: mistune<2,>=0.8.1 in /usr/local/lib/python3.6/dist-packages (from nbconvert>=4.2->jupyter-contrib-nbextensions==0.5.1) (0.8.4)\n",
            "Requirement already satisfied: entrypoints>=0.2.2 in /usr/local/lib/python3.6/dist-packages (from nbconvert>=4.2->jupyter-contrib-nbextensions==0.5.1) (0.3)\n",
            "Requirement already satisfied: nbformat>=4.4 in /usr/local/lib/python3.6/dist-packages (from nbconvert>=4.2->jupyter-contrib-nbextensions==0.5.1) (5.0.8)\n",
            "Requirement already satisfied: jinja2>=2.4 in /usr/local/lib/python3.6/dist-packages (from nbconvert>=4.2->jupyter-contrib-nbextensions==0.5.1) (2.11.2)\n",
            "Requirement already satisfied: bleach in /usr/local/lib/python3.6/dist-packages (from nbconvert>=4.2->jupyter-contrib-nbextensions==0.5.1) (3.2.1)\n",
            "Requirement already satisfied: defusedxml in /usr/local/lib/python3.6/dist-packages (from nbconvert>=4.2->jupyter-contrib-nbextensions==0.5.1) (0.6.0)\n",
            "Requirement already satisfied: pygments in /usr/local/lib/python3.6/dist-packages (from nbconvert>=4.2->jupyter-contrib-nbextensions==0.5.1) (2.6.1)\n",
            "Requirement already satisfied: testpath in /usr/local/lib/python3.6/dist-packages (from nbconvert>=4.2->jupyter-contrib-nbextensions==0.5.1) (0.4.4)\n",
            "Requirement already satisfied: Send2Trash in /usr/local/lib/python3.6/dist-packages (from notebook>=4.0->jupyter-contrib-nbextensions==0.5.1) (1.5.0)\n",
            "Requirement already satisfied: terminado>=0.8.1 in /usr/local/lib/python3.6/dist-packages (from notebook>=4.0->jupyter-contrib-nbextensions==0.5.1) (0.9.1)\n",
            "Requirement already satisfied: jupyter-client>=5.2.0 in /usr/local/lib/python3.6/dist-packages (from notebook>=4.0->jupyter-contrib-nbextensions==0.5.1) (5.3.5)\n",
            "Requirement already satisfied: ipykernel in /usr/local/lib/python3.6/dist-packages (from notebook>=4.0->jupyter-contrib-nbextensions==0.5.1) (4.10.1)\n",
            "Requirement already satisfied: six in /usr/local/lib/python3.6/dist-packages (from traitlets>=4.1->jupyter-contrib-nbextensions==0.5.1) (1.15.0)\n",
            "Requirement already satisfied: decorator in /usr/local/lib/python3.6/dist-packages (from traitlets>=4.1->jupyter-contrib-nbextensions==0.5.1) (4.4.2)\n",
            "Requirement already satisfied: simplegeneric>0.8 in /usr/local/lib/python3.6/dist-packages (from ipython->jupyter_latex_envs>=1.3.8->jupyter-contrib-nbextensions==0.5.1) (0.8.1)\n",
            "Requirement already satisfied: pexpect; sys_platform != \"win32\" in /usr/local/lib/python3.6/dist-packages (from ipython->jupyter_latex_envs>=1.3.8->jupyter-contrib-nbextensions==0.5.1) (4.8.0)\n",
            "Requirement already satisfied: prompt-toolkit<2.0.0,>=1.0.4 in /usr/local/lib/python3.6/dist-packages (from ipython->jupyter_latex_envs>=1.3.8->jupyter-contrib-nbextensions==0.5.1) (1.0.18)\n",
            "Requirement already satisfied: pickleshare in /usr/local/lib/python3.6/dist-packages (from ipython->jupyter_latex_envs>=1.3.8->jupyter-contrib-nbextensions==0.5.1) (0.7.5)\n",
            "Requirement already satisfied: jsonschema!=2.5.0,>=2.4 in /usr/local/lib/python3.6/dist-packages (from nbformat>=4.4->nbconvert>=4.2->jupyter-contrib-nbextensions==0.5.1) (2.6.0)\n",
            "Requirement already satisfied: MarkupSafe>=0.23 in /usr/local/lib/python3.6/dist-packages (from jinja2>=2.4->nbconvert>=4.2->jupyter-contrib-nbextensions==0.5.1) (1.1.1)\n",
            "Requirement already satisfied: packaging in /usr/local/lib/python3.6/dist-packages (from bleach->nbconvert>=4.2->jupyter-contrib-nbextensions==0.5.1) (20.8)\n",
            "Requirement already satisfied: webencodings in /usr/local/lib/python3.6/dist-packages (from bleach->nbconvert>=4.2->jupyter-contrib-nbextensions==0.5.1) (0.5.1)\n",
            "Requirement already satisfied: ptyprocess; os_name != \"nt\" in /usr/local/lib/python3.6/dist-packages (from terminado>=0.8.1->notebook>=4.0->jupyter-contrib-nbextensions==0.5.1) (0.6.0)\n",
            "Requirement already satisfied: pyzmq>=13 in /usr/local/lib/python3.6/dist-packages (from jupyter-client>=5.2.0->notebook>=4.0->jupyter-contrib-nbextensions==0.5.1) (20.0.0)\n",
            "Requirement already satisfied: python-dateutil>=2.1 in /usr/local/lib/python3.6/dist-packages (from jupyter-client>=5.2.0->notebook>=4.0->jupyter-contrib-nbextensions==0.5.1) (2.8.1)\n",
            "Requirement already satisfied: wcwidth in /usr/local/lib/python3.6/dist-packages (from prompt-toolkit<2.0.0,>=1.0.4->ipython->jupyter_latex_envs>=1.3.8->jupyter-contrib-nbextensions==0.5.1) (0.2.5)\n",
            "Requirement already satisfied: pyparsing>=2.0.2 in /usr/local/lib/python3.6/dist-packages (from packaging->bleach->nbconvert>=4.2->jupyter-contrib-nbextensions==0.5.1) (2.4.7)\n",
            "Building wheels for collected packages: jupyter-contrib-nbextensions, jupyter-latex-envs, jupyter-nbextensions-configurator\n",
            "  Building wheel for jupyter-contrib-nbextensions (setup.py) ... \u001b[?25l\u001b[?25hdone\n",
            "  Created wheel for jupyter-contrib-nbextensions: filename=jupyter_contrib_nbextensions-0.5.1-py2.py3-none-any.whl size=23430599 sha256=692548630edfeda767709610ae9ad2f60d60952a36293cf20465e89a2b3bc9c7\n",
            "  Stored in directory: /tmp/pip-ephem-wheel-cache-3hzslcur/wheels/22/4a/9f/df59e985684a10ea0e025300581870b5b3a300ee3525f0eef5\n",
            "  Building wheel for jupyter-latex-envs (setup.py) ... \u001b[?25l\u001b[?25hdone\n",
            "  Created wheel for jupyter-latex-envs: filename=jupyter_latex_envs-1.4.6-py2.py3-none-any.whl size=963394 sha256=b54f6420b84f7abf600024a0d5824442dc5eae01453ac6a67a49c355f2a87f6a\n",
            "  Stored in directory: /root/.cache/pip/wheels/0d/71/2a/164491997299b9f2479a251e254323fe35d946779e18f27956\n",
            "  Building wheel for jupyter-nbextensions-configurator (setup.py) ... \u001b[?25l\u001b[?25hdone\n",
            "  Created wheel for jupyter-nbextensions-configurator: filename=jupyter_nbextensions_configurator-0.4.1-py2.py3-none-any.whl size=465825 sha256=0ee1763f0b7bbefa1829f9d40dc99a8f49418ba224df905760b48cadd65c3c88\n",
            "  Stored in directory: /root/.cache/pip/wheels/15/df/fe/2a74fe34709e7fdc5ae153a768675d9fda93cc7d5133ed1fb0\n",
            "Successfully built jupyter-contrib-nbextensions jupyter-latex-envs jupyter-nbextensions-configurator\n",
            "Installing collected packages: jupyter-contrib-core, jupyter-highlight-selected-word, jupyter-latex-envs, jupyter-nbextensions-configurator, jupyter-contrib-nbextensions\n",
            "Successfully installed jupyter-contrib-core-0.3.3 jupyter-contrib-nbextensions-0.5.1 jupyter-highlight-selected-word-0.2.0 jupyter-latex-envs-1.4.6 jupyter-nbextensions-configurator-0.4.1\n",
            "\u001b[32m[I 07:00:22 InstallContribNbextensionsApp]\u001b[m jupyter contrib nbextension install --user\n",
            "\u001b[32m[I 07:00:22 InstallContribNbextensionsApp]\u001b[m Installing jupyter_contrib_nbextensions nbextension files to jupyter data directory\n",
            "\u001b[32m[I 07:00:23 InstallContribNbextensionsApp]\u001b[m Installing /usr/local/lib/python3.6/dist-packages/jupyter_contrib_nbextensions/nbextensions/select_keymap -> select_keymap\n",
            "\u001b[32m[I 07:00:23 InstallContribNbextensionsApp]\u001b[m Making directory: /root/.local/share/jupyter/nbextensions/select_keymap/\n",
            "\u001b[32m[I 07:00:23 InstallContribNbextensionsApp]\u001b[m Copying: /usr/local/lib/python3.6/dist-packages/jupyter_contrib_nbextensions/nbextensions/select_keymap/select_keymap.png -> /root/.local/share/jupyter/nbextensions/select_keymap/select_keymap.png\n",
            "\u001b[32m[I 07:00:23 InstallContribNbextensionsApp]\u001b[m Copying: /usr/local/lib/python3.6/dist-packages/jupyter_contrib_nbextensions/nbextensions/select_keymap/select_keymap.yaml -> /root/.local/share/jupyter/nbextensions/select_keymap/select_keymap.yaml\n",
            "\u001b[32m[I 07:00:23 InstallContribNbextensionsApp]\u001b[m Copying: /usr/local/lib/python3.6/dist-packages/jupyter_contrib_nbextensions/nbextensions/select_keymap/README.md -> /root/.local/share/jupyter/nbextensions/select_keymap/README.md\n",
            "\u001b[32m[I 07:00:23 InstallContribNbextensionsApp]\u001b[m Copying: /usr/local/lib/python3.6/dist-packages/jupyter_contrib_nbextensions/nbextensions/select_keymap/main.js -> /root/.local/share/jupyter/nbextensions/select_keymap/main.js\n",
            "\u001b[32m[I 07:00:23 InstallContribNbextensionsApp]\u001b[m - Validating: \u001b[32mOK\u001b[0m\n",
            "\u001b[32m[I 07:00:23 InstallContribNbextensionsApp]\u001b[m Installing /usr/local/lib/python3.6/dist-packages/jupyter_contrib_nbextensions/nbextensions/navigation-hotkeys -> navigation-hotkeys\n",
            "\u001b[32m[I 07:00:23 InstallContribNbextensionsApp]\u001b[m Making directory: /root/.local/share/jupyter/nbextensions/navigation-hotkeys/\n",
            "\u001b[32m[I 07:00:23 InstallContribNbextensionsApp]\u001b[m Copying: /usr/local/lib/python3.6/dist-packages/jupyter_contrib_nbextensions/nbextensions/navigation-hotkeys/icon.png -> /root/.local/share/jupyter/nbextensions/navigation-hotkeys/icon.png\n",
            "\u001b[32m[I 07:00:23 InstallContribNbextensionsApp]\u001b[m Copying: /usr/local/lib/python3.6/dist-packages/jupyter_contrib_nbextensions/nbextensions/navigation-hotkeys/hotkeys.yaml -> /root/.local/share/jupyter/nbextensions/navigation-hotkeys/hotkeys.yaml\n",
            "\u001b[32m[I 07:00:23 InstallContribNbextensionsApp]\u001b[m Copying: /usr/local/lib/python3.6/dist-packages/jupyter_contrib_nbextensions/nbextensions/navigation-hotkeys/main.js -> /root/.local/share/jupyter/nbextensions/navigation-hotkeys/main.js\n",
            "\u001b[32m[I 07:00:23 InstallContribNbextensionsApp]\u001b[m Copying: /usr/local/lib/python3.6/dist-packages/jupyter_contrib_nbextensions/nbextensions/navigation-hotkeys/readme.md -> /root/.local/share/jupyter/nbextensions/navigation-hotkeys/readme.md\n",
            "\u001b[32m[I 07:00:23 InstallContribNbextensionsApp]\u001b[m - Validating: \u001b[32mOK\u001b[0m\n",
            "\u001b[32m[I 07:00:23 InstallContribNbextensionsApp]\u001b[m Installing /usr/local/lib/python3.6/dist-packages/jupyter_contrib_nbextensions/nbextensions/exercise2 -> exercise2\n",
            "\u001b[32m[I 07:00:23 InstallContribNbextensionsApp]\u001b[m Making directory: /root/.local/share/jupyter/nbextensions/exercise2/\n",
            "\u001b[32m[I 07:00:23 InstallContribNbextensionsApp]\u001b[m Copying: /usr/local/lib/python3.6/dist-packages/jupyter_contrib_nbextensions/nbextensions/exercise2/icon.png -> /root/.local/share/jupyter/nbextensions/exercise2/icon.png\n",
            "\u001b[32m[I 07:00:23 InstallContribNbextensionsApp]\u001b[m Copying: /usr/local/lib/python3.6/dist-packages/jupyter_contrib_nbextensions/nbextensions/exercise2/main.css -> /root/.local/share/jupyter/nbextensions/exercise2/main.css\n",
            "\u001b[32m[I 07:00:23 InstallContribNbextensionsApp]\u001b[m Copying: /usr/local/lib/python3.6/dist-packages/jupyter_contrib_nbextensions/nbextensions/exercise2/exercise2.yaml -> /root/.local/share/jupyter/nbextensions/exercise2/exercise2.yaml\n",
            "\u001b[32m[I 07:00:23 InstallContribNbextensionsApp]\u001b[m Copying: /usr/local/lib/python3.6/dist-packages/jupyter_contrib_nbextensions/nbextensions/exercise2/image.gif -> /root/.local/share/jupyter/nbextensions/exercise2/image.gif\n",
            "\u001b[32m[I 07:00:23 InstallContribNbextensionsApp]\u001b[m Copying: /usr/local/lib/python3.6/dist-packages/jupyter_contrib_nbextensions/nbextensions/exercise2/main.js -> /root/.local/share/jupyter/nbextensions/exercise2/main.js\n",
            "\u001b[32m[I 07:00:23 InstallContribNbextensionsApp]\u001b[m Copying: /usr/local/lib/python3.6/dist-packages/jupyter_contrib_nbextensions/nbextensions/exercise2/readme.md -> /root/.local/share/jupyter/nbextensions/exercise2/readme.md\n",
            "\u001b[32m[I 07:00:23 InstallContribNbextensionsApp]\u001b[m - Validating: \u001b[32mOK\u001b[0m\n",
            "\u001b[32m[I 07:00:23 InstallContribNbextensionsApp]\u001b[m Installing /usr/local/lib/python3.6/dist-packages/jupyter_contrib_nbextensions/nbextensions/comment-uncomment -> comment-uncomment\n",
            "\u001b[32m[I 07:00:23 InstallContribNbextensionsApp]\u001b[m Making directory: /root/.local/share/jupyter/nbextensions/comment-uncomment/\n",
            "\u001b[32m[I 07:00:23 InstallContribNbextensionsApp]\u001b[m Copying: /usr/local/lib/python3.6/dist-packages/jupyter_contrib_nbextensions/nbextensions/comment-uncomment/icon.png -> /root/.local/share/jupyter/nbextensions/comment-uncomment/icon.png\n",
            "\u001b[32m[I 07:00:23 InstallContribNbextensionsApp]\u001b[m Copying: /usr/local/lib/python3.6/dist-packages/jupyter_contrib_nbextensions/nbextensions/comment-uncomment/comment-uncomment.yaml -> /root/.local/share/jupyter/nbextensions/comment-uncomment/comment-uncomment.yaml\n",
            "\u001b[32m[I 07:00:23 InstallContribNbextensionsApp]\u001b[m Copying: /usr/local/lib/python3.6/dist-packages/jupyter_contrib_nbextensions/nbextensions/comment-uncomment/main.js -> /root/.local/share/jupyter/nbextensions/comment-uncomment/main.js\n",
            "\u001b[32m[I 07:00:23 InstallContribNbextensionsApp]\u001b[m Copying: /usr/local/lib/python3.6/dist-packages/jupyter_contrib_nbextensions/nbextensions/comment-uncomment/readme.md -> /root/.local/share/jupyter/nbextensions/comment-uncomment/readme.md\n",
            "\u001b[32m[I 07:00:23 InstallContribNbextensionsApp]\u001b[m - Validating: \u001b[32mOK\u001b[0m\n",
            "\u001b[32m[I 07:00:23 InstallContribNbextensionsApp]\u001b[m Installing /usr/local/lib/python3.6/dist-packages/jupyter_contrib_nbextensions/nbextensions/qtconsole -> qtconsole\n",
            "\u001b[32m[I 07:00:23 InstallContribNbextensionsApp]\u001b[m Making directory: /root/.local/share/jupyter/nbextensions/qtconsole/\n",
            "\u001b[32m[I 07:00:23 InstallContribNbextensionsApp]\u001b[m Copying: /usr/local/lib/python3.6/dist-packages/jupyter_contrib_nbextensions/nbextensions/qtconsole/README.md -> /root/.local/share/jupyter/nbextensions/qtconsole/README.md\n",
            "\u001b[32m[I 07:00:23 InstallContribNbextensionsApp]\u001b[m Copying: /usr/local/lib/python3.6/dist-packages/jupyter_contrib_nbextensions/nbextensions/qtconsole/qtconsole.yaml -> /root/.local/share/jupyter/nbextensions/qtconsole/qtconsole.yaml\n",
            "\u001b[32m[I 07:00:23 InstallContribNbextensionsApp]\u001b[m Copying: /usr/local/lib/python3.6/dist-packages/jupyter_contrib_nbextensions/nbextensions/qtconsole/qtconsole.js -> /root/.local/share/jupyter/nbextensions/qtconsole/qtconsole.js\n",
            "\u001b[32m[I 07:00:23 InstallContribNbextensionsApp]\u001b[m - Validating: \u001b[32mOK\u001b[0m\n",
            "\u001b[32m[I 07:00:23 InstallContribNbextensionsApp]\u001b[m Installing /usr/local/lib/python3.6/dist-packages/jupyter_contrib_nbextensions/nbextensions/snippets_menu -> snippets_menu\n",
            "\u001b[32m[I 07:00:23 InstallContribNbextensionsApp]\u001b[m Making directory: /root/.local/share/jupyter/nbextensions/snippets_menu/\n",
            "\u001b[32m[I 07:00:23 InstallContribNbextensionsApp]\u001b[m Copying: /usr/local/lib/python3.6/dist-packages/jupyter_contrib_nbextensions/nbextensions/snippets_menu/snippets_submenu_python.js -> /root/.local/share/jupyter/nbextensions/snippets_menu/snippets_submenu_python.js\n",
            "\u001b[32m[I 07:00:23 InstallContribNbextensionsApp]\u001b[m Copying: /usr/local/lib/python3.6/dist-packages/jupyter_contrib_nbextensions/nbextensions/snippets_menu/thumbnail.png -> /root/.local/share/jupyter/nbextensions/snippets_menu/thumbnail.png\n",
            "\u001b[32m[I 07:00:23 InstallContribNbextensionsApp]\u001b[m Copying: /usr/local/lib/python3.6/dist-packages/jupyter_contrib_nbextensions/nbextensions/snippets_menu/snippets_menu.css -> /root/.local/share/jupyter/nbextensions/snippets_menu/snippets_menu.css\n",
            "\u001b[32m[I 07:00:23 InstallContribNbextensionsApp]\u001b[m Copying: /usr/local/lib/python3.6/dist-packages/jupyter_contrib_nbextensions/nbextensions/snippets_menu/config.yaml -> /root/.local/share/jupyter/nbextensions/snippets_menu/config.yaml\n",
            "\u001b[32m[I 07:00:23 InstallContribNbextensionsApp]\u001b[m Copying: /usr/local/lib/python3.6/dist-packages/jupyter_contrib_nbextensions/nbextensions/snippets_menu/screenshot1.png -> /root/.local/share/jupyter/nbextensions/snippets_menu/screenshot1.png\n",
            "\u001b[32m[I 07:00:23 InstallContribNbextensionsApp]\u001b[m Copying: /usr/local/lib/python3.6/dist-packages/jupyter_contrib_nbextensions/nbextensions/snippets_menu/snippets_submenu_markdown.js -> /root/.local/share/jupyter/nbextensions/snippets_menu/snippets_submenu_markdown.js\n",
            "\u001b[32m[I 07:00:23 InstallContribNbextensionsApp]\u001b[m Copying: /usr/local/lib/python3.6/dist-packages/jupyter_contrib_nbextensions/nbextensions/snippets_menu/main.js -> /root/.local/share/jupyter/nbextensions/snippets_menu/main.js\n",
            "\u001b[32m[I 07:00:23 InstallContribNbextensionsApp]\u001b[m Copying: /usr/local/lib/python3.6/dist-packages/jupyter_contrib_nbextensions/nbextensions/snippets_menu/screenshot3.png -> /root/.local/share/jupyter/nbextensions/snippets_menu/screenshot3.png\n",
            "\u001b[32m[I 07:00:23 InstallContribNbextensionsApp]\u001b[m Copying: /usr/local/lib/python3.6/dist-packages/jupyter_contrib_nbextensions/nbextensions/snippets_menu/examples_for_custom.js -> /root/.local/share/jupyter/nbextensions/snippets_menu/examples_for_custom.js\n",
            "\u001b[32m[I 07:00:23 InstallContribNbextensionsApp]\u001b[m Copying: /usr/local/lib/python3.6/dist-packages/jupyter_contrib_nbextensions/nbextensions/snippets_menu/readme.md -> /root/.local/share/jupyter/nbextensions/snippets_menu/readme.md\n",
            "\u001b[32m[I 07:00:23 InstallContribNbextensionsApp]\u001b[m Copying: /usr/local/lib/python3.6/dist-packages/jupyter_contrib_nbextensions/nbextensions/snippets_menu/screenshot2.png -> /root/.local/share/jupyter/nbextensions/snippets_menu/screenshot2.png\n",
            "\u001b[32m[I 07:00:23 InstallContribNbextensionsApp]\u001b[m Making directory: /root/.local/share/jupyter/nbextensions/snippets_menu/snippets_submenus_python\n",
            "\u001b[32m[I 07:00:23 InstallContribNbextensionsApp]\u001b[m Copying: /usr/local/lib/python3.6/dist-packages/jupyter_contrib_nbextensions/nbextensions/snippets_menu/snippets_submenus_python/astropy.js -> /root/.local/share/jupyter/nbextensions/snippets_menu/snippets_submenus_python/astropy.js\n",
            "\u001b[32m[I 07:00:23 InstallContribNbextensionsApp]\u001b[m Copying: /usr/local/lib/python3.6/dist-packages/jupyter_contrib_nbextensions/nbextensions/snippets_menu/snippets_submenus_python/numba.js -> /root/.local/share/jupyter/nbextensions/snippets_menu/snippets_submenus_python/numba.js\n",
            "\u001b[32m[I 07:00:23 InstallContribNbextensionsApp]\u001b[m Copying: /usr/local/lib/python3.6/dist-packages/jupyter_contrib_nbextensions/nbextensions/snippets_menu/snippets_submenus_python/python_regex.js -> /root/.local/share/jupyter/nbextensions/snippets_menu/snippets_submenus_python/python_regex.js\n",
            "\u001b[32m[I 07:00:23 InstallContribNbextensionsApp]\u001b[m Copying: /usr/local/lib/python3.6/dist-packages/jupyter_contrib_nbextensions/nbextensions/snippets_menu/snippets_submenus_python/scipy.js -> /root/.local/share/jupyter/nbextensions/snippets_menu/snippets_submenus_python/scipy.js\n",
            "\u001b[32m[I 07:00:23 InstallContribNbextensionsApp]\u001b[m Copying: /usr/local/lib/python3.6/dist-packages/jupyter_contrib_nbextensions/nbextensions/snippets_menu/snippets_submenus_python/matplotlib.js -> /root/.local/share/jupyter/nbextensions/snippets_menu/snippets_submenus_python/matplotlib.js\n",
            "\u001b[32m[I 07:00:23 InstallContribNbextensionsApp]\u001b[m Copying: /usr/local/lib/python3.6/dist-packages/jupyter_contrib_nbextensions/nbextensions/snippets_menu/snippets_submenus_python/numpy_ufuncs.js -> /root/.local/share/jupyter/nbextensions/snippets_menu/snippets_submenus_python/numpy_ufuncs.js\n",
            "\u001b[32m[I 07:00:23 InstallContribNbextensionsApp]\u001b[m Copying: /usr/local/lib/python3.6/dist-packages/jupyter_contrib_nbextensions/nbextensions/snippets_menu/snippets_submenus_python/python.js -> /root/.local/share/jupyter/nbextensions/snippets_menu/snippets_submenus_python/python.js\n",
            "\u001b[32m[I 07:00:23 InstallContribNbextensionsApp]\u001b[m Copying: /usr/local/lib/python3.6/dist-packages/jupyter_contrib_nbextensions/nbextensions/snippets_menu/snippets_submenus_python/scipy_constants.js -> /root/.local/share/jupyter/nbextensions/snippets_menu/snippets_submenus_python/scipy_constants.js\n",
            "\u001b[32m[I 07:00:23 InstallContribNbextensionsApp]\u001b[m Copying: /usr/local/lib/python3.6/dist-packages/jupyter_contrib_nbextensions/nbextensions/snippets_menu/snippets_submenus_python/scipy_special.js -> /root/.local/share/jupyter/nbextensions/snippets_menu/snippets_submenus_python/scipy_special.js\n",
            "\u001b[32m[I 07:00:23 InstallContribNbextensionsApp]\u001b[m Copying: /usr/local/lib/python3.6/dist-packages/jupyter_contrib_nbextensions/nbextensions/snippets_menu/snippets_submenus_python/pandas.js -> /root/.local/share/jupyter/nbextensions/snippets_menu/snippets_submenus_python/pandas.js\n",
            "\u001b[32m[I 07:00:23 InstallContribNbextensionsApp]\u001b[m Copying: /usr/local/lib/python3.6/dist-packages/jupyter_contrib_nbextensions/nbextensions/snippets_menu/snippets_submenus_python/h5py.js -> /root/.local/share/jupyter/nbextensions/snippets_menu/snippets_submenus_python/h5py.js\n",
            "\u001b[32m[I 07:00:23 InstallContribNbextensionsApp]\u001b[m Copying: /usr/local/lib/python3.6/dist-packages/jupyter_contrib_nbextensions/nbextensions/snippets_menu/snippets_submenus_python/sympy_assumptions.js -> /root/.local/share/jupyter/nbextensions/snippets_menu/snippets_submenus_python/sympy_assumptions.js\n",
            "\u001b[32m[I 07:00:23 InstallContribNbextensionsApp]\u001b[m Copying: /usr/local/lib/python3.6/dist-packages/jupyter_contrib_nbextensions/nbextensions/snippets_menu/snippets_submenus_python/numpy.js -> /root/.local/share/jupyter/nbextensions/snippets_menu/snippets_submenus_python/numpy.js\n",
            "\u001b[32m[I 07:00:23 InstallContribNbextensionsApp]\u001b[m Copying: /usr/local/lib/python3.6/dist-packages/jupyter_contrib_nbextensions/nbextensions/snippets_menu/snippets_submenus_python/sympy_functions.js -> /root/.local/share/jupyter/nbextensions/snippets_menu/snippets_submenus_python/sympy_functions.js\n",
            "\u001b[32m[I 07:00:23 InstallContribNbextensionsApp]\u001b[m Copying: /usr/local/lib/python3.6/dist-packages/jupyter_contrib_nbextensions/nbextensions/snippets_menu/snippets_submenus_python/sympy.js -> /root/.local/share/jupyter/nbextensions/snippets_menu/snippets_submenus_python/sympy.js\n",
            "\u001b[32m[I 07:00:23 InstallContribNbextensionsApp]\u001b[m Copying: /usr/local/lib/python3.6/dist-packages/jupyter_contrib_nbextensions/nbextensions/snippets_menu/snippets_submenus_python/numpy_polynomial.js -> /root/.local/share/jupyter/nbextensions/snippets_menu/snippets_submenus_python/numpy_polynomial.js\n",
            "\u001b[32m[I 07:00:23 InstallContribNbextensionsApp]\u001b[m - Validating: \u001b[32mOK\u001b[0m\n",
            "\u001b[32m[I 07:00:23 InstallContribNbextensionsApp]\u001b[m Installing /usr/local/lib/python3.6/dist-packages/jupyter_contrib_nbextensions/nbextensions/hide_input_all -> hide_input_all\n",
            "\u001b[32m[I 07:00:23 InstallContribNbextensionsApp]\u001b[m Making directory: /root/.local/share/jupyter/nbextensions/hide_input_all/\n",
            "\u001b[32m[I 07:00:23 InstallContribNbextensionsApp]\u001b[m Copying: /usr/local/lib/python3.6/dist-packages/jupyter_contrib_nbextensions/nbextensions/hide_input_all/icon.png -> /root/.local/share/jupyter/nbextensions/hide_input_all/icon.png\n",
            "\u001b[32m[I 07:00:23 InstallContribNbextensionsApp]\u001b[m Copying: /usr/local/lib/python3.6/dist-packages/jupyter_contrib_nbextensions/nbextensions/hide_input_all/hide_input_all.yaml -> /root/.local/share/jupyter/nbextensions/hide_input_all/hide_input_all.yaml\n",
            "\u001b[32m[I 07:00:23 InstallContribNbextensionsApp]\u001b[m Copying: /usr/local/lib/python3.6/dist-packages/jupyter_contrib_nbextensions/nbextensions/hide_input_all/hide_input_all_hide.png -> /root/.local/share/jupyter/nbextensions/hide_input_all/hide_input_all_hide.png\n",
            "\u001b[32m[I 07:00:23 InstallContribNbextensionsApp]\u001b[m Copying: /usr/local/lib/python3.6/dist-packages/jupyter_contrib_nbextensions/nbextensions/hide_input_all/main.js -> /root/.local/share/jupyter/nbextensions/hide_input_all/main.js\n",
            "\u001b[32m[I 07:00:23 InstallContribNbextensionsApp]\u001b[m Copying: /usr/local/lib/python3.6/dist-packages/jupyter_contrib_nbextensions/nbextensions/hide_input_all/hide_input_all_show.png -> /root/.local/share/jupyter/nbextensions/hide_input_all/hide_input_all_show.png\n",
            "\u001b[32m[I 07:00:23 InstallContribNbextensionsApp]\u001b[m Copying: /usr/local/lib/python3.6/dist-packages/jupyter_contrib_nbextensions/nbextensions/hide_input_all/readme.md -> /root/.local/share/jupyter/nbextensions/hide_input_all/readme.md\n",
            "\u001b[32m[I 07:00:23 InstallContribNbextensionsApp]\u001b[m - Validating: \u001b[32mOK\u001b[0m\n",
            "\u001b[32m[I 07:00:23 InstallContribNbextensionsApp]\u001b[m Installing /usr/local/lib/python3.6/dist-packages/jupyter_contrib_nbextensions/nbextensions/runtools -> runtools\n",
            "\u001b[32m[I 07:00:23 InstallContribNbextensionsApp]\u001b[m Making directory: /root/.local/share/jupyter/nbextensions/runtools/\n",
            "\u001b[32m[I 07:00:23 InstallContribNbextensionsApp]\u001b[m Copying: /usr/local/lib/python3.6/dist-packages/jupyter_contrib_nbextensions/nbextensions/runtools/icon.png -> /root/.local/share/jupyter/nbextensions/runtools/icon.png\n",
            "\u001b[32m[I 07:00:23 InstallContribNbextensionsApp]\u001b[m Copying: /usr/local/lib/python3.6/dist-packages/jupyter_contrib_nbextensions/nbextensions/runtools/main.css -> /root/.local/share/jupyter/nbextensions/runtools/main.css\n",
            "\u001b[32m[I 07:00:23 InstallContribNbextensionsApp]\u001b[m Copying: /usr/local/lib/python3.6/dist-packages/jupyter_contrib_nbextensions/nbextensions/runtools/runtools_nb.png -> /root/.local/share/jupyter/nbextensions/runtools/runtools_nb.png\n",
            "\u001b[32m[I 07:00:23 InstallContribNbextensionsApp]\u001b[m Copying: /usr/local/lib/python3.6/dist-packages/jupyter_contrib_nbextensions/nbextensions/runtools/gutter.css -> /root/.local/share/jupyter/nbextensions/runtools/gutter.css\n",
            "\u001b[32m[I 07:00:23 InstallContribNbextensionsApp]\u001b[m Copying: /usr/local/lib/python3.6/dist-packages/jupyter_contrib_nbextensions/nbextensions/runtools/runtools.yaml -> /root/.local/share/jupyter/nbextensions/runtools/runtools.yaml\n",
            "\u001b[32m[I 07:00:23 InstallContribNbextensionsApp]\u001b[m Copying: /usr/local/lib/python3.6/dist-packages/jupyter_contrib_nbextensions/nbextensions/runtools/annotations.odg -> /root/.local/share/jupyter/nbextensions/runtools/annotations.odg\n",
            "\u001b[32m[I 07:00:23 InstallContribNbextensionsApp]\u001b[m Copying: /usr/local/lib/python3.6/dist-packages/jupyter_contrib_nbextensions/nbextensions/runtools/runtools_show_hide.png -> /root/.local/share/jupyter/nbextensions/runtools/runtools_show_hide.png\n",
            "\u001b[32m[I 07:00:23 InstallContribNbextensionsApp]\u001b[m Copying: /usr/local/lib/python3.6/dist-packages/jupyter_contrib_nbextensions/nbextensions/runtools/demo.gif -> /root/.local/share/jupyter/nbextensions/runtools/demo.gif\n",
            "\u001b[32m[I 07:00:23 InstallContribNbextensionsApp]\u001b[m Copying: /usr/local/lib/python3.6/dist-packages/jupyter_contrib_nbextensions/nbextensions/runtools/main.js -> /root/.local/share/jupyter/nbextensions/runtools/main.js\n",
            "\u001b[32m[I 07:00:23 InstallContribNbextensionsApp]\u001b[m Copying: /usr/local/lib/python3.6/dist-packages/jupyter_contrib_nbextensions/nbextensions/runtools/cellstate.js -> /root/.local/share/jupyter/nbextensions/runtools/cellstate.js\n",
            "\u001b[32m[I 07:00:23 InstallContribNbextensionsApp]\u001b[m Copying: /usr/local/lib/python3.6/dist-packages/jupyter_contrib_nbextensions/nbextensions/runtools/runtools_marker.png -> /root/.local/share/jupyter/nbextensions/runtools/runtools_marker.png\n",
            "\u001b[32m[I 07:00:23 InstallContribNbextensionsApp]\u001b[m Copying: /usr/local/lib/python3.6/dist-packages/jupyter_contrib_nbextensions/nbextensions/runtools/readme.md -> /root/.local/share/jupyter/nbextensions/runtools/readme.md\n",
            "\u001b[32m[I 07:00:23 InstallContribNbextensionsApp]\u001b[m Copying: /usr/local/lib/python3.6/dist-packages/jupyter_contrib_nbextensions/nbextensions/runtools/runtools_execute.png -> /root/.local/share/jupyter/nbextensions/runtools/runtools_execute.png\n",
            "\u001b[32m[I 07:00:23 InstallContribNbextensionsApp]\u001b[m Copying: /usr/local/lib/python3.6/dist-packages/jupyter_contrib_nbextensions/nbextensions/runtools/runtools_lock.png -> /root/.local/share/jupyter/nbextensions/runtools/runtools_lock.png\n",
            "\u001b[32m[I 07:00:23 InstallContribNbextensionsApp]\u001b[m - Validating: \u001b[32mOK\u001b[0m\n",
            "\u001b[32m[I 07:00:23 InstallContribNbextensionsApp]\u001b[m Installing /usr/local/lib/python3.6/dist-packages/jupyter_contrib_nbextensions/nbextensions/nbTranslate -> nbTranslate\n",
            "\u001b[32m[I 07:00:23 InstallContribNbextensionsApp]\u001b[m Making directory: /root/.local/share/jupyter/nbextensions/nbTranslate/\n",
            "\u001b[32m[I 07:00:23 InstallContribNbextensionsApp]\u001b[m Copying: /usr/local/lib/python3.6/dist-packages/jupyter_contrib_nbextensions/nbextensions/nbTranslate/demo2.gif -> /root/.local/share/jupyter/nbextensions/nbTranslate/demo2.gif\n",
            "\u001b[32m[I 07:00:23 InstallContribNbextensionsApp]\u001b[m Copying: /usr/local/lib/python3.6/dist-packages/jupyter_contrib_nbextensions/nbextensions/nbTranslate/nbTranslate.yaml -> /root/.local/share/jupyter/nbextensions/nbTranslate/nbTranslate.yaml\n",
            "\u001b[32m[I 07:00:23 InstallContribNbextensionsApp]\u001b[m Copying: /usr/local/lib/python3.6/dist-packages/jupyter_contrib_nbextensions/nbextensions/nbTranslate/README.md -> /root/.local/share/jupyter/nbextensions/nbTranslate/README.md\n",
            "\u001b[32m[I 07:00:23 InstallContribNbextensionsApp]\u001b[m Copying: /usr/local/lib/python3.6/dist-packages/jupyter_contrib_nbextensions/nbextensions/nbTranslate/mutils.js -> /root/.local/share/jupyter/nbextensions/nbTranslate/mutils.js\n",
            "\u001b[32m[I 07:00:23 InstallContribNbextensionsApp]\u001b[m Copying: /usr/local/lib/python3.6/dist-packages/jupyter_contrib_nbextensions/nbextensions/nbTranslate/main.js -> /root/.local/share/jupyter/nbextensions/nbTranslate/main.js\n",
            "\u001b[32m[I 07:00:23 InstallContribNbextensionsApp]\u001b[m Copying: /usr/local/lib/python3.6/dist-packages/jupyter_contrib_nbextensions/nbextensions/nbTranslate/demo1.gif -> /root/.local/share/jupyter/nbextensions/nbTranslate/demo1.gif\n",
            "\u001b[32m[I 07:00:23 InstallContribNbextensionsApp]\u001b[m Copying: /usr/local/lib/python3.6/dist-packages/jupyter_contrib_nbextensions/nbextensions/nbTranslate/languages.js -> /root/.local/share/jupyter/nbextensions/nbTranslate/languages.js\n",
            "\u001b[32m[I 07:00:23 InstallContribNbextensionsApp]\u001b[m Copying: /usr/local/lib/python3.6/dist-packages/jupyter_contrib_nbextensions/nbextensions/nbTranslate/nbTranslate.js -> /root/.local/share/jupyter/nbextensions/nbTranslate/nbTranslate.js\n",
            "\u001b[32m[I 07:00:23 InstallContribNbextensionsApp]\u001b[m - Validating: \u001b[32mOK\u001b[0m\n",
            "\u001b[32m[I 07:00:23 InstallContribNbextensionsApp]\u001b[m Installing /usr/local/lib/python3.6/dist-packages/jupyter_contrib_nbextensions/nbextensions/execution_dependencies -> execution_dependencies\n",
            "\u001b[32m[I 07:00:23 InstallContribNbextensionsApp]\u001b[m Making directory: /root/.local/share/jupyter/nbextensions/execution_dependencies/\n",
            "\u001b[32m[I 07:00:23 InstallContribNbextensionsApp]\u001b[m Copying: /usr/local/lib/python3.6/dist-packages/jupyter_contrib_nbextensions/nbextensions/execution_dependencies/README.md -> /root/.local/share/jupyter/nbextensions/execution_dependencies/README.md\n",
            "\u001b[32m[I 07:00:23 InstallContribNbextensionsApp]\u001b[m Copying: /usr/local/lib/python3.6/dist-packages/jupyter_contrib_nbextensions/nbextensions/execution_dependencies/execution_dependencies.yml -> /root/.local/share/jupyter/nbextensions/execution_dependencies/execution_dependencies.yml\n",
            "\u001b[32m[I 07:00:23 InstallContribNbextensionsApp]\u001b[m Copying: /usr/local/lib/python3.6/dist-packages/jupyter_contrib_nbextensions/nbextensions/execution_dependencies/execution_dependencies.js -> /root/.local/share/jupyter/nbextensions/execution_dependencies/execution_dependencies.js\n",
            "\u001b[32m[I 07:00:23 InstallContribNbextensionsApp]\u001b[m - Validating: \u001b[32mOK\u001b[0m\n",
            "\u001b[32m[I 07:00:23 InstallContribNbextensionsApp]\u001b[m Installing /usr/local/lib/python3.6/dist-packages/jupyter_contrib_nbextensions/nbextensions/table_beautifier -> table_beautifier\n",
            "\u001b[32m[I 07:00:23 InstallContribNbextensionsApp]\u001b[m Making directory: /root/.local/share/jupyter/nbextensions/table_beautifier/\n",
            "\u001b[32m[I 07:00:23 InstallContribNbextensionsApp]\u001b[m Copying: /usr/local/lib/python3.6/dist-packages/jupyter_contrib_nbextensions/nbextensions/table_beautifier/main.css -> /root/.local/share/jupyter/nbextensions/table_beautifier/main.css\n",
            "\u001b[32m[I 07:00:23 InstallContribNbextensionsApp]\u001b[m Copying: /usr/local/lib/python3.6/dist-packages/jupyter_contrib_nbextensions/nbextensions/table_beautifier/README.md -> /root/.local/share/jupyter/nbextensions/table_beautifier/README.md\n",
            "\u001b[32m[I 07:00:23 InstallContribNbextensionsApp]\u001b[m Copying: /usr/local/lib/python3.6/dist-packages/jupyter_contrib_nbextensions/nbextensions/table_beautifier/table_beautifier.yaml -> /root/.local/share/jupyter/nbextensions/table_beautifier/table_beautifier.yaml\n",
            "\u001b[32m[I 07:00:23 InstallContribNbextensionsApp]\u001b[m Copying: /usr/local/lib/python3.6/dist-packages/jupyter_contrib_nbextensions/nbextensions/table_beautifier/main.js -> /root/.local/share/jupyter/nbextensions/table_beautifier/main.js\n",
            "\u001b[32m[I 07:00:23 InstallContribNbextensionsApp]\u001b[m - Validating: \u001b[32mOK\u001b[0m\n",
            "\u001b[32m[I 07:00:23 InstallContribNbextensionsApp]\u001b[m Installing /usr/local/lib/python3.6/dist-packages/jupyter_contrib_nbextensions/nbextensions/varInspector -> varInspector\n",
            "\u001b[32m[I 07:00:23 InstallContribNbextensionsApp]\u001b[m Making directory: /root/.local/share/jupyter/nbextensions/varInspector/\n",
            "\u001b[32m[I 07:00:23 InstallContribNbextensionsApp]\u001b[m Copying: /usr/local/lib/python3.6/dist-packages/jupyter_contrib_nbextensions/nbextensions/varInspector/icon.png -> /root/.local/share/jupyter/nbextensions/varInspector/icon.png\n",
            "\u001b[32m[I 07:00:23 InstallContribNbextensionsApp]\u001b[m Copying: /usr/local/lib/python3.6/dist-packages/jupyter_contrib_nbextensions/nbextensions/varInspector/main.css -> /root/.local/share/jupyter/nbextensions/varInspector/main.css\n",
            "\u001b[32m[I 07:00:23 InstallContribNbextensionsApp]\u001b[m Copying: /usr/local/lib/python3.6/dist-packages/jupyter_contrib_nbextensions/nbextensions/varInspector/README.md -> /root/.local/share/jupyter/nbextensions/varInspector/README.md\n",
            "\u001b[32m[I 07:00:23 InstallContribNbextensionsApp]\u001b[m Copying: /usr/local/lib/python3.6/dist-packages/jupyter_contrib_nbextensions/nbextensions/varInspector/tablesorter_LICENSE.txt -> /root/.local/share/jupyter/nbextensions/varInspector/tablesorter_LICENSE.txt\n",
            "\u001b[32m[I 07:00:23 InstallContribNbextensionsApp]\u001b[m Copying: /usr/local/lib/python3.6/dist-packages/jupyter_contrib_nbextensions/nbextensions/varInspector/demo.gif -> /root/.local/share/jupyter/nbextensions/varInspector/demo.gif\n",
            "\u001b[32m[I 07:00:23 InstallContribNbextensionsApp]\u001b[m Copying: /usr/local/lib/python3.6/dist-packages/jupyter_contrib_nbextensions/nbextensions/varInspector/main.js -> /root/.local/share/jupyter/nbextensions/varInspector/main.js\n",
            "\u001b[32m[I 07:00:23 InstallContribNbextensionsApp]\u001b[m Copying: /usr/local/lib/python3.6/dist-packages/jupyter_contrib_nbextensions/nbextensions/varInspector/varInspector.yaml -> /root/.local/share/jupyter/nbextensions/varInspector/varInspector.yaml\n",
            "\u001b[32m[I 07:00:23 InstallContribNbextensionsApp]\u001b[m Copying: /usr/local/lib/python3.6/dist-packages/jupyter_contrib_nbextensions/nbextensions/varInspector/var_list.py -> /root/.local/share/jupyter/nbextensions/varInspector/var_list.py\n",
            "\u001b[32m[I 07:00:23 InstallContribNbextensionsApp]\u001b[m Copying: /usr/local/lib/python3.6/dist-packages/jupyter_contrib_nbextensions/nbextensions/varInspector/jquery.tablesorter.min.js -> /root/.local/share/jupyter/nbextensions/varInspector/jquery.tablesorter.min.js\n",
            "\u001b[32m[I 07:00:23 InstallContribNbextensionsApp]\u001b[m Copying: /usr/local/lib/python3.6/dist-packages/jupyter_contrib_nbextensions/nbextensions/varInspector/var_list.r -> /root/.local/share/jupyter/nbextensions/varInspector/var_list.r\n",
            "\u001b[32m[I 07:00:23 InstallContribNbextensionsApp]\u001b[m Making directory: /root/.local/share/jupyter/nbextensions/varInspector/__pycache__\n",
            "\u001b[32m[I 07:00:23 InstallContribNbextensionsApp]\u001b[m Copying: /usr/local/lib/python3.6/dist-packages/jupyter_contrib_nbextensions/nbextensions/varInspector/__pycache__/var_list.cpython-36.pyc -> /root/.local/share/jupyter/nbextensions/varInspector/__pycache__/var_list.cpython-36.pyc\n",
            "\u001b[32m[I 07:00:23 InstallContribNbextensionsApp]\u001b[m - Validating: \u001b[32mOK\u001b[0m\n",
            "\u001b[32m[I 07:00:23 InstallContribNbextensionsApp]\u001b[m Installing /usr/local/lib/python3.6/dist-packages/jupyter_contrib_nbextensions/nbextensions/skip-traceback -> skip-traceback\n",
            "\u001b[32m[I 07:00:23 InstallContribNbextensionsApp]\u001b[m Making directory: /root/.local/share/jupyter/nbextensions/skip-traceback/\n",
            "\u001b[32m[I 07:00:23 InstallContribNbextensionsApp]\u001b[m Copying: /usr/local/lib/python3.6/dist-packages/jupyter_contrib_nbextensions/nbextensions/skip-traceback/icon.png -> /root/.local/share/jupyter/nbextensions/skip-traceback/icon.png\n",
            "\u001b[32m[I 07:00:23 InstallContribNbextensionsApp]\u001b[m Copying: /usr/local/lib/python3.6/dist-packages/jupyter_contrib_nbextensions/nbextensions/skip-traceback/traceback.png -> /root/.local/share/jupyter/nbextensions/skip-traceback/traceback.png\n",
            "\u001b[32m[I 07:00:23 InstallContribNbextensionsApp]\u001b[m Copying: /usr/local/lib/python3.6/dist-packages/jupyter_contrib_nbextensions/nbextensions/skip-traceback/skip-traceback.yaml -> /root/.local/share/jupyter/nbextensions/skip-traceback/skip-traceback.yaml\n",
            "\u001b[32m[I 07:00:23 InstallContribNbextensionsApp]\u001b[m Copying: /usr/local/lib/python3.6/dist-packages/jupyter_contrib_nbextensions/nbextensions/skip-traceback/skip-traceback.png -> /root/.local/share/jupyter/nbextensions/skip-traceback/skip-traceback.png\n",
            "\u001b[32m[I 07:00:23 InstallContribNbextensionsApp]\u001b[m Copying: /usr/local/lib/python3.6/dist-packages/jupyter_contrib_nbextensions/nbextensions/skip-traceback/main.js -> /root/.local/share/jupyter/nbextensions/skip-traceback/main.js\n",
            "\u001b[32m[I 07:00:23 InstallContribNbextensionsApp]\u001b[m Copying: /usr/local/lib/python3.6/dist-packages/jupyter_contrib_nbextensions/nbextensions/skip-traceback/readme.md -> /root/.local/share/jupyter/nbextensions/skip-traceback/readme.md\n",
            "\u001b[32m[I 07:00:23 InstallContribNbextensionsApp]\u001b[m - Validating: \u001b[32mOK\u001b[0m\n",
            "\u001b[32m[I 07:00:23 InstallContribNbextensionsApp]\u001b[m Installing /usr/local/lib/python3.6/dist-packages/jupyter_contrib_nbextensions/nbextensions/rubberband -> rubberband\n",
            "\u001b[32m[I 07:00:23 InstallContribNbextensionsApp]\u001b[m Making directory: /root/.local/share/jupyter/nbextensions/rubberband/\n",
            "\u001b[32m[I 07:00:23 InstallContribNbextensionsApp]\u001b[m Copying: /usr/local/lib/python3.6/dist-packages/jupyter_contrib_nbextensions/nbextensions/rubberband/icon.png -> /root/.local/share/jupyter/nbextensions/rubberband/icon.png\n",
            "\u001b[32m[I 07:00:23 InstallContribNbextensionsApp]\u001b[m Copying: /usr/local/lib/python3.6/dist-packages/jupyter_contrib_nbextensions/nbextensions/rubberband/main.css -> /root/.local/share/jupyter/nbextensions/rubberband/main.css\n",
            "\u001b[32m[I 07:00:23 InstallContribNbextensionsApp]\u001b[m Copying: /usr/local/lib/python3.6/dist-packages/jupyter_contrib_nbextensions/nbextensions/rubberband/rubberband.yaml -> /root/.local/share/jupyter/nbextensions/rubberband/rubberband.yaml\n",
            "\u001b[32m[I 07:00:23 InstallContribNbextensionsApp]\u001b[m Copying: /usr/local/lib/python3.6/dist-packages/jupyter_contrib_nbextensions/nbextensions/rubberband/main.js -> /root/.local/share/jupyter/nbextensions/rubberband/main.js\n",
            "\u001b[32m[I 07:00:23 InstallContribNbextensionsApp]\u001b[m Copying: /usr/local/lib/python3.6/dist-packages/jupyter_contrib_nbextensions/nbextensions/rubberband/readme.md -> /root/.local/share/jupyter/nbextensions/rubberband/readme.md\n",
            "\u001b[32m[I 07:00:23 InstallContribNbextensionsApp]\u001b[m - Validating: \u001b[32mOK\u001b[0m\n",
            "\u001b[32m[I 07:00:23 InstallContribNbextensionsApp]\u001b[m Installing /usr/local/lib/python3.6/dist-packages/jupyter_contrib_nbextensions/nbextensions/toggle_all_line_numbers -> toggle_all_line_numbers\n",
            "\u001b[32m[I 07:00:23 InstallContribNbextensionsApp]\u001b[m Making directory: /root/.local/share/jupyter/nbextensions/toggle_all_line_numbers/\n",
            "\u001b[32m[I 07:00:23 InstallContribNbextensionsApp]\u001b[m Copying: /usr/local/lib/python3.6/dist-packages/jupyter_contrib_nbextensions/nbextensions/toggle_all_line_numbers/icon.png -> /root/.local/share/jupyter/nbextensions/toggle_all_line_numbers/icon.png\n",
            "\u001b[32m[I 07:00:23 InstallContribNbextensionsApp]\u001b[m Copying: /usr/local/lib/python3.6/dist-packages/jupyter_contrib_nbextensions/nbextensions/toggle_all_line_numbers/main.yaml -> /root/.local/share/jupyter/nbextensions/toggle_all_line_numbers/main.yaml\n",
            "\u001b[32m[I 07:00:23 InstallContribNbextensionsApp]\u001b[m Copying: /usr/local/lib/python3.6/dist-packages/jupyter_contrib_nbextensions/nbextensions/toggle_all_line_numbers/main.js -> /root/.local/share/jupyter/nbextensions/toggle_all_line_numbers/main.js\n",
            "\u001b[32m[I 07:00:23 InstallContribNbextensionsApp]\u001b[m Copying: /usr/local/lib/python3.6/dist-packages/jupyter_contrib_nbextensions/nbextensions/toggle_all_line_numbers/readme.md -> /root/.local/share/jupyter/nbextensions/toggle_all_line_numbers/readme.md\n",
            "\u001b[32m[I 07:00:23 InstallContribNbextensionsApp]\u001b[m - Validating: \u001b[32mOK\u001b[0m\n",
            "\u001b[32m[I 07:00:23 InstallContribNbextensionsApp]\u001b[m Installing /usr/local/lib/python3.6/dist-packages/jupyter_contrib_nbextensions/nbextensions/zenmode -> zenmode\n",
            "\u001b[32m[I 07:00:23 InstallContribNbextensionsApp]\u001b[m Making directory: /root/.local/share/jupyter/nbextensions/zenmode/\n",
            "\u001b[32m[I 07:00:23 InstallContribNbextensionsApp]\u001b[m Copying: /usr/local/lib/python3.6/dist-packages/jupyter_contrib_nbextensions/nbextensions/zenmode/main.css -> /root/.local/share/jupyter/nbextensions/zenmode/main.css\n",
            "\u001b[32m[I 07:00:23 InstallContribNbextensionsApp]\u001b[m Copying: /usr/local/lib/python3.6/dist-packages/jupyter_contrib_nbextensions/nbextensions/zenmode/README.md -> /root/.local/share/jupyter/nbextensions/zenmode/README.md\n",
            "\u001b[32m[I 07:00:23 InstallContribNbextensionsApp]\u001b[m Copying: /usr/local/lib/python3.6/dist-packages/jupyter_contrib_nbextensions/nbextensions/zenmode/zenmode.yaml -> /root/.local/share/jupyter/nbextensions/zenmode/zenmode.yaml\n",
            "\u001b[32m[I 07:00:23 InstallContribNbextensionsApp]\u001b[m Copying: /usr/local/lib/python3.6/dist-packages/jupyter_contrib_nbextensions/nbextensions/zenmode/main.js -> /root/.local/share/jupyter/nbextensions/zenmode/main.js\n",
            "\u001b[32m[I 07:00:23 InstallContribNbextensionsApp]\u001b[m Making directory: /root/.local/share/jupyter/nbextensions/zenmode/images\n",
            "\u001b[32m[I 07:00:23 InstallContribNbextensionsApp]\u001b[m Copying: /usr/local/lib/python3.6/dist-packages/jupyter_contrib_nbextensions/nbextensions/zenmode/images/back12.jpg -> /root/.local/share/jupyter/nbextensions/zenmode/images/back12.jpg\n",
            "\u001b[32m[I 07:00:23 InstallContribNbextensionsApp]\u001b[m Copying: /usr/local/lib/python3.6/dist-packages/jupyter_contrib_nbextensions/nbextensions/zenmode/images/back2.jpg -> /root/.local/share/jupyter/nbextensions/zenmode/images/back2.jpg\n",
            "\u001b[32m[I 07:00:23 InstallContribNbextensionsApp]\u001b[m Copying: /usr/local/lib/python3.6/dist-packages/jupyter_contrib_nbextensions/nbextensions/zenmode/images/ipynblogo0.png -> /root/.local/share/jupyter/nbextensions/zenmode/images/ipynblogo0.png\n",
            "\u001b[32m[I 07:00:23 InstallContribNbextensionsApp]\u001b[m Copying: /usr/local/lib/python3.6/dist-packages/jupyter_contrib_nbextensions/nbextensions/zenmode/images/back11.jpg -> /root/.local/share/jupyter/nbextensions/zenmode/images/back11.jpg\n",
            "\u001b[32m[I 07:00:23 InstallContribNbextensionsApp]\u001b[m Copying: /usr/local/lib/python3.6/dist-packages/jupyter_contrib_nbextensions/nbextensions/zenmode/images/ipynblogo1.png -> /root/.local/share/jupyter/nbextensions/zenmode/images/ipynblogo1.png\n",
            "\u001b[32m[I 07:00:23 InstallContribNbextensionsApp]\u001b[m Copying: /usr/local/lib/python3.6/dist-packages/jupyter_contrib_nbextensions/nbextensions/zenmode/images/back3.jpg -> /root/.local/share/jupyter/nbextensions/zenmode/images/back3.jpg\n",
            "\u001b[32m[I 07:00:23 InstallContribNbextensionsApp]\u001b[m Copying: /usr/local/lib/python3.6/dist-packages/jupyter_contrib_nbextensions/nbextensions/zenmode/images/back1.jpg -> /root/.local/share/jupyter/nbextensions/zenmode/images/back1.jpg\n",
            "\u001b[32m[I 07:00:23 InstallContribNbextensionsApp]\u001b[m Copying: /usr/local/lib/python3.6/dist-packages/jupyter_contrib_nbextensions/nbextensions/zenmode/images/back22.jpg -> /root/.local/share/jupyter/nbextensions/zenmode/images/back22.jpg\n",
            "\u001b[32m[I 07:00:23 InstallContribNbextensionsApp]\u001b[m Copying: /usr/local/lib/python3.6/dist-packages/jupyter_contrib_nbextensions/nbextensions/zenmode/images/back21.jpg -> /root/.local/share/jupyter/nbextensions/zenmode/images/back21.jpg\n",
            "\u001b[32m[I 07:00:23 InstallContribNbextensionsApp]\u001b[m - Validating: \u001b[32mOK\u001b[0m\n",
            "\u001b[32m[I 07:00:23 InstallContribNbextensionsApp]\u001b[m Installing /usr/local/lib/python3.6/dist-packages/jupyter_contrib_nbextensions/nbextensions/hinterland -> hinterland\n",
            "\u001b[32m[I 07:00:23 InstallContribNbextensionsApp]\u001b[m Making directory: /root/.local/share/jupyter/nbextensions/hinterland/\n",
            "\u001b[32m[I 07:00:23 InstallContribNbextensionsApp]\u001b[m Copying: /usr/local/lib/python3.6/dist-packages/jupyter_contrib_nbextensions/nbextensions/hinterland/hinterland.js -> /root/.local/share/jupyter/nbextensions/hinterland/hinterland.js\n",
            "\u001b[32m[I 07:00:23 InstallContribNbextensionsApp]\u001b[m Copying: /usr/local/lib/python3.6/dist-packages/jupyter_contrib_nbextensions/nbextensions/hinterland/hinterland.yaml -> /root/.local/share/jupyter/nbextensions/hinterland/hinterland.yaml\n",
            "\u001b[32m[I 07:00:23 InstallContribNbextensionsApp]\u001b[m Copying: /usr/local/lib/python3.6/dist-packages/jupyter_contrib_nbextensions/nbextensions/hinterland/README.md -> /root/.local/share/jupyter/nbextensions/hinterland/README.md\n",
            "\u001b[32m[I 07:00:23 InstallContribNbextensionsApp]\u001b[m - Validating: \u001b[32mOK\u001b[0m\n",
            "\u001b[32m[I 07:00:23 InstallContribNbextensionsApp]\u001b[m Installing /usr/local/lib/python3.6/dist-packages/jupyter_contrib_nbextensions/nbextensions/codefolding -> codefolding\n",
            "\u001b[32m[I 07:00:23 InstallContribNbextensionsApp]\u001b[m Making directory: /root/.local/share/jupyter/nbextensions/codefolding/\n",
            "\u001b[32m[I 07:00:23 InstallContribNbextensionsApp]\u001b[m Copying: /usr/local/lib/python3.6/dist-packages/jupyter_contrib_nbextensions/nbextensions/codefolding/icon.png -> /root/.local/share/jupyter/nbextensions/codefolding/icon.png\n",
            "\u001b[32m[I 07:00:23 InstallContribNbextensionsApp]\u001b[m Copying: /usr/local/lib/python3.6/dist-packages/jupyter_contrib_nbextensions/nbextensions/codefolding/foldgutter.css -> /root/.local/share/jupyter/nbextensions/codefolding/foldgutter.css\n",
            "\u001b[32m[I 07:00:23 InstallContribNbextensionsApp]\u001b[m Copying: /usr/local/lib/python3.6/dist-packages/jupyter_contrib_nbextensions/nbextensions/codefolding/codefolding_indent_unfolded.png -> /root/.local/share/jupyter/nbextensions/codefolding/codefolding_indent_unfolded.png\n",
            "\u001b[32m[I 07:00:23 InstallContribNbextensionsApp]\u001b[m Copying: /usr/local/lib/python3.6/dist-packages/jupyter_contrib_nbextensions/nbextensions/codefolding/magic-unfolded.png -> /root/.local/share/jupyter/nbextensions/codefolding/magic-unfolded.png\n",
            "\u001b[32m[I 07:00:23 InstallContribNbextensionsApp]\u001b[m Copying: /usr/local/lib/python3.6/dist-packages/jupyter_contrib_nbextensions/nbextensions/codefolding/firstline-fold.js -> /root/.local/share/jupyter/nbextensions/codefolding/firstline-fold.js\n",
            "\u001b[32m[I 07:00:23 InstallContribNbextensionsApp]\u001b[m Copying: /usr/local/lib/python3.6/dist-packages/jupyter_contrib_nbextensions/nbextensions/codefolding/blockcomment-fold.js -> /root/.local/share/jupyter/nbextensions/codefolding/blockcomment-fold.js\n",
            "\u001b[32m[I 07:00:23 InstallContribNbextensionsApp]\u001b[m Copying: /usr/local/lib/python3.6/dist-packages/jupyter_contrib_nbextensions/nbextensions/codefolding/codefolding_indent_folded_2.png -> /root/.local/share/jupyter/nbextensions/codefolding/codefolding_indent_folded_2.png\n",
            "\u001b[32m[I 07:00:23 InstallContribNbextensionsApp]\u001b[m Copying: /usr/local/lib/python3.6/dist-packages/jupyter_contrib_nbextensions/nbextensions/codefolding/codefolding.yaml -> /root/.local/share/jupyter/nbextensions/codefolding/codefolding.yaml\n",
            "\u001b[32m[I 07:00:23 InstallContribNbextensionsApp]\u001b[m Copying: /usr/local/lib/python3.6/dist-packages/jupyter_contrib_nbextensions/nbextensions/codefolding/codefolding_editor.yaml -> /root/.local/share/jupyter/nbextensions/codefolding/codefolding_editor.yaml\n",
            "\u001b[32m[I 07:00:23 InstallContribNbextensionsApp]\u001b[m Copying: /usr/local/lib/python3.6/dist-packages/jupyter_contrib_nbextensions/nbextensions/codefolding/magic-fold.js -> /root/.local/share/jupyter/nbextensions/codefolding/magic-fold.js\n",
            "\u001b[32m[I 07:00:23 InstallContribNbextensionsApp]\u001b[m Copying: /usr/local/lib/python3.6/dist-packages/jupyter_contrib_nbextensions/nbextensions/codefolding/codefolding_firstline_folded.png -> /root/.local/share/jupyter/nbextensions/codefolding/codefolding_firstline_folded.png\n",
            "\u001b[32m[I 07:00:23 InstallContribNbextensionsApp]\u001b[m Copying: /usr/local/lib/python3.6/dist-packages/jupyter_contrib_nbextensions/nbextensions/codefolding/main.js -> /root/.local/share/jupyter/nbextensions/codefolding/main.js\n",
            "\u001b[32m[I 07:00:23 InstallContribNbextensionsApp]\u001b[m Copying: /usr/local/lib/python3.6/dist-packages/jupyter_contrib_nbextensions/nbextensions/codefolding/magic-folded.png -> /root/.local/share/jupyter/nbextensions/codefolding/magic-folded.png\n",
            "\u001b[32m[I 07:00:23 InstallContribNbextensionsApp]\u001b[m Copying: /usr/local/lib/python3.6/dist-packages/jupyter_contrib_nbextensions/nbextensions/codefolding/codefolding_indent_folded_1.png -> /root/.local/share/jupyter/nbextensions/codefolding/codefolding_indent_folded_1.png\n",
            "\u001b[32m[I 07:00:23 InstallContribNbextensionsApp]\u001b[m Copying: /usr/local/lib/python3.6/dist-packages/jupyter_contrib_nbextensions/nbextensions/codefolding/readme.md -> /root/.local/share/jupyter/nbextensions/codefolding/readme.md\n",
            "\u001b[32m[I 07:00:23 InstallContribNbextensionsApp]\u001b[m Copying: /usr/local/lib/python3.6/dist-packages/jupyter_contrib_nbextensions/nbextensions/codefolding/codefolding_firstline_unfolded.png -> /root/.local/share/jupyter/nbextensions/codefolding/codefolding_firstline_unfolded.png\n",
            "\u001b[32m[I 07:00:23 InstallContribNbextensionsApp]\u001b[m Copying: /usr/local/lib/python3.6/dist-packages/jupyter_contrib_nbextensions/nbextensions/codefolding/codefolding_editor.png -> /root/.local/share/jupyter/nbextensions/codefolding/codefolding_editor.png\n",
            "\u001b[32m[I 07:00:23 InstallContribNbextensionsApp]\u001b[m Copying: /usr/local/lib/python3.6/dist-packages/jupyter_contrib_nbextensions/nbextensions/codefolding/edit.js -> /root/.local/share/jupyter/nbextensions/codefolding/edit.js\n",
            "\u001b[32m[I 07:00:23 InstallContribNbextensionsApp]\u001b[m - Validating: \u001b[32mOK\u001b[0m\n",
            "\u001b[32m[I 07:00:23 InstallContribNbextensionsApp]\u001b[m Installing /usr/local/lib/python3.6/dist-packages/jupyter_contrib_nbextensions/nbextensions/codefolding -> codefolding\n",
            "\u001b[32m[I 07:00:23 InstallContribNbextensionsApp]\u001b[m Up to date: /root/.local/share/jupyter/nbextensions/codefolding/icon.png\n",
            "\u001b[32m[I 07:00:23 InstallContribNbextensionsApp]\u001b[m Up to date: /root/.local/share/jupyter/nbextensions/codefolding/foldgutter.css\n",
            "\u001b[32m[I 07:00:23 InstallContribNbextensionsApp]\u001b[m Up to date: /root/.local/share/jupyter/nbextensions/codefolding/codefolding_indent_unfolded.png\n",
            "\u001b[32m[I 07:00:23 InstallContribNbextensionsApp]\u001b[m Up to date: /root/.local/share/jupyter/nbextensions/codefolding/magic-unfolded.png\n",
            "\u001b[32m[I 07:00:23 InstallContribNbextensionsApp]\u001b[m Up to date: /root/.local/share/jupyter/nbextensions/codefolding/firstline-fold.js\n",
            "\u001b[32m[I 07:00:23 InstallContribNbextensionsApp]\u001b[m Up to date: /root/.local/share/jupyter/nbextensions/codefolding/blockcomment-fold.js\n",
            "\u001b[32m[I 07:00:23 InstallContribNbextensionsApp]\u001b[m Up to date: /root/.local/share/jupyter/nbextensions/codefolding/codefolding_indent_folded_2.png\n",
            "\u001b[32m[I 07:00:23 InstallContribNbextensionsApp]\u001b[m Up to date: /root/.local/share/jupyter/nbextensions/codefolding/codefolding.yaml\n",
            "\u001b[32m[I 07:00:23 InstallContribNbextensionsApp]\u001b[m Up to date: /root/.local/share/jupyter/nbextensions/codefolding/codefolding_editor.yaml\n",
            "\u001b[32m[I 07:00:23 InstallContribNbextensionsApp]\u001b[m Up to date: /root/.local/share/jupyter/nbextensions/codefolding/magic-fold.js\n",
            "\u001b[32m[I 07:00:23 InstallContribNbextensionsApp]\u001b[m Up to date: /root/.local/share/jupyter/nbextensions/codefolding/codefolding_firstline_folded.png\n",
            "\u001b[32m[I 07:00:23 InstallContribNbextensionsApp]\u001b[m Up to date: /root/.local/share/jupyter/nbextensions/codefolding/main.js\n",
            "\u001b[32m[I 07:00:23 InstallContribNbextensionsApp]\u001b[m Up to date: /root/.local/share/jupyter/nbextensions/codefolding/magic-folded.png\n",
            "\u001b[32m[I 07:00:23 InstallContribNbextensionsApp]\u001b[m Up to date: /root/.local/share/jupyter/nbextensions/codefolding/codefolding_indent_folded_1.png\n",
            "\u001b[32m[I 07:00:23 InstallContribNbextensionsApp]\u001b[m Up to date: /root/.local/share/jupyter/nbextensions/codefolding/readme.md\n",
            "\u001b[32m[I 07:00:23 InstallContribNbextensionsApp]\u001b[m Up to date: /root/.local/share/jupyter/nbextensions/codefolding/codefolding_firstline_unfolded.png\n",
            "\u001b[32m[I 07:00:23 InstallContribNbextensionsApp]\u001b[m Up to date: /root/.local/share/jupyter/nbextensions/codefolding/codefolding_editor.png\n",
            "\u001b[32m[I 07:00:23 InstallContribNbextensionsApp]\u001b[m Up to date: /root/.local/share/jupyter/nbextensions/codefolding/edit.js\n",
            "\u001b[32m[I 07:00:23 InstallContribNbextensionsApp]\u001b[m - Validating: \u001b[32mOK\u001b[0m\n",
            "\u001b[32m[I 07:00:23 InstallContribNbextensionsApp]\u001b[m Installing /usr/local/lib/python3.6/dist-packages/jupyter_contrib_nbextensions/nbextensions/export_embedded -> export_embedded\n",
            "\u001b[32m[I 07:00:23 InstallContribNbextensionsApp]\u001b[m Making directory: /root/.local/share/jupyter/nbextensions/export_embedded/\n",
            "\u001b[32m[I 07:00:23 InstallContribNbextensionsApp]\u001b[m Copying: /usr/local/lib/python3.6/dist-packages/jupyter_contrib_nbextensions/nbextensions/export_embedded/icon.png -> /root/.local/share/jupyter/nbextensions/export_embedded/icon.png\n",
            "\u001b[32m[I 07:00:23 InstallContribNbextensionsApp]\u001b[m Copying: /usr/local/lib/python3.6/dist-packages/jupyter_contrib_nbextensions/nbextensions/export_embedded/export_embedded.yaml -> /root/.local/share/jupyter/nbextensions/export_embedded/export_embedded.yaml\n",
            "\u001b[32m[I 07:00:23 InstallContribNbextensionsApp]\u001b[m Copying: /usr/local/lib/python3.6/dist-packages/jupyter_contrib_nbextensions/nbextensions/export_embedded/main.js -> /root/.local/share/jupyter/nbextensions/export_embedded/main.js\n",
            "\u001b[32m[I 07:00:23 InstallContribNbextensionsApp]\u001b[m Copying: /usr/local/lib/python3.6/dist-packages/jupyter_contrib_nbextensions/nbextensions/export_embedded/readme.md -> /root/.local/share/jupyter/nbextensions/export_embedded/readme.md\n",
            "\u001b[32m[I 07:00:23 InstallContribNbextensionsApp]\u001b[m - Validating: \u001b[32mOK\u001b[0m\n",
            "\u001b[32m[I 07:00:23 InstallContribNbextensionsApp]\u001b[m Installing /usr/local/lib/python3.6/dist-packages/jupyter_contrib_nbextensions/nbextensions/livemdpreview -> livemdpreview\n",
            "\u001b[32m[I 07:00:23 InstallContribNbextensionsApp]\u001b[m Making directory: /root/.local/share/jupyter/nbextensions/livemdpreview/\n",
            "\u001b[32m[I 07:00:23 InstallContribNbextensionsApp]\u001b[m Copying: /usr/local/lib/python3.6/dist-packages/jupyter_contrib_nbextensions/nbextensions/livemdpreview/livemdpreview.js -> /root/.local/share/jupyter/nbextensions/livemdpreview/livemdpreview.js\n",
            "\u001b[32m[I 07:00:23 InstallContribNbextensionsApp]\u001b[m Copying: /usr/local/lib/python3.6/dist-packages/jupyter_contrib_nbextensions/nbextensions/livemdpreview/livemdpreview.yml -> /root/.local/share/jupyter/nbextensions/livemdpreview/livemdpreview.yml\n",
            "\u001b[32m[I 07:00:23 InstallContribNbextensionsApp]\u001b[m - Validating: \u001b[32mOK\u001b[0m\n",
            "\u001b[32m[I 07:00:23 InstallContribNbextensionsApp]\u001b[m Installing /usr/local/lib/python3.6/dist-packages/jupyter_contrib_nbextensions/nbextensions/help_panel -> help_panel\n",
            "\u001b[32m[I 07:00:23 InstallContribNbextensionsApp]\u001b[m Making directory: /root/.local/share/jupyter/nbextensions/help_panel/\n",
            "\u001b[32m[I 07:00:23 InstallContribNbextensionsApp]\u001b[m Copying: /usr/local/lib/python3.6/dist-packages/jupyter_contrib_nbextensions/nbextensions/help_panel/icon.png -> /root/.local/share/jupyter/nbextensions/help_panel/icon.png\n",
            "\u001b[32m[I 07:00:23 InstallContribNbextensionsApp]\u001b[m Copying: /usr/local/lib/python3.6/dist-packages/jupyter_contrib_nbextensions/nbextensions/help_panel/help_panel_ext.png -> /root/.local/share/jupyter/nbextensions/help_panel/help_panel_ext.png\n",
            "\u001b[32m[I 07:00:23 InstallContribNbextensionsApp]\u001b[m Copying: /usr/local/lib/python3.6/dist-packages/jupyter_contrib_nbextensions/nbextensions/help_panel/help_panel.yaml -> /root/.local/share/jupyter/nbextensions/help_panel/help_panel.yaml\n",
            "\u001b[32m[I 07:00:23 InstallContribNbextensionsApp]\u001b[m Copying: /usr/local/lib/python3.6/dist-packages/jupyter_contrib_nbextensions/nbextensions/help_panel/help_panel.js -> /root/.local/share/jupyter/nbextensions/help_panel/help_panel.js\n",
            "\u001b[32m[I 07:00:23 InstallContribNbextensionsApp]\u001b[m Copying: /usr/local/lib/python3.6/dist-packages/jupyter_contrib_nbextensions/nbextensions/help_panel/help_panel_ext_fullscreen.png -> /root/.local/share/jupyter/nbextensions/help_panel/help_panel_ext_fullscreen.png\n",
            "\u001b[32m[I 07:00:23 InstallContribNbextensionsApp]\u001b[m Copying: /usr/local/lib/python3.6/dist-packages/jupyter_contrib_nbextensions/nbextensions/help_panel/readme.md -> /root/.local/share/jupyter/nbextensions/help_panel/readme.md\n",
            "\u001b[32m[I 07:00:23 InstallContribNbextensionsApp]\u001b[m Copying: /usr/local/lib/python3.6/dist-packages/jupyter_contrib_nbextensions/nbextensions/help_panel/help_panel.css -> /root/.local/share/jupyter/nbextensions/help_panel/help_panel.css\n",
            "\u001b[32m[I 07:00:23 InstallContribNbextensionsApp]\u001b[m Making directory: /root/.local/share/jupyter/nbextensions/help_panel/img\n",
            "\u001b[32m[I 07:00:23 InstallContribNbextensionsApp]\u001b[m Copying: /usr/local/lib/python3.6/dist-packages/jupyter_contrib_nbextensions/nbextensions/help_panel/img/handle-v.png -> /root/.local/share/jupyter/nbextensions/help_panel/img/handle-v.png\n",
            "\u001b[32m[I 07:00:23 InstallContribNbextensionsApp]\u001b[m - Validating: \u001b[32mOK\u001b[0m\n",
            "\u001b[32m[I 07:00:23 InstallContribNbextensionsApp]\u001b[m Installing /usr/local/lib/python3.6/dist-packages/jupyter_contrib_nbextensions/nbextensions/exercise -> exercise\n",
            "\u001b[32m[I 07:00:23 InstallContribNbextensionsApp]\u001b[m Making directory: /root/.local/share/jupyter/nbextensions/exercise/\n",
            "\u001b[32m[I 07:00:23 InstallContribNbextensionsApp]\u001b[m Copying: /usr/local/lib/python3.6/dist-packages/jupyter_contrib_nbextensions/nbextensions/exercise/icon.png -> /root/.local/share/jupyter/nbextensions/exercise/icon.png\n",
            "\u001b[32m[I 07:00:23 InstallContribNbextensionsApp]\u001b[m Copying: /usr/local/lib/python3.6/dist-packages/jupyter_contrib_nbextensions/nbextensions/exercise/main.css -> /root/.local/share/jupyter/nbextensions/exercise/main.css\n",
            "\u001b[32m[I 07:00:23 InstallContribNbextensionsApp]\u001b[m Copying: /usr/local/lib/python3.6/dist-packages/jupyter_contrib_nbextensions/nbextensions/exercise/image.gif -> /root/.local/share/jupyter/nbextensions/exercise/image.gif\n",
            "\u001b[32m[I 07:00:23 InstallContribNbextensionsApp]\u001b[m Copying: /usr/local/lib/python3.6/dist-packages/jupyter_contrib_nbextensions/nbextensions/exercise/history.md -> /root/.local/share/jupyter/nbextensions/exercise/history.md\n",
            "\u001b[32m[I 07:00:23 InstallContribNbextensionsApp]\u001b[m Copying: /usr/local/lib/python3.6/dist-packages/jupyter_contrib_nbextensions/nbextensions/exercise/main.js -> /root/.local/share/jupyter/nbextensions/exercise/main.js\n",
            "\u001b[32m[I 07:00:23 InstallContribNbextensionsApp]\u001b[m Copying: /usr/local/lib/python3.6/dist-packages/jupyter_contrib_nbextensions/nbextensions/exercise/readme.md -> /root/.local/share/jupyter/nbextensions/exercise/readme.md\n",
            "\u001b[32m[I 07:00:23 InstallContribNbextensionsApp]\u001b[m Copying: /usr/local/lib/python3.6/dist-packages/jupyter_contrib_nbextensions/nbextensions/exercise/exercise.yaml -> /root/.local/share/jupyter/nbextensions/exercise/exercise.yaml\n",
            "\u001b[32m[I 07:00:23 InstallContribNbextensionsApp]\u001b[m - Validating: \u001b[32mOK\u001b[0m\n",
            "\u001b[32m[I 07:00:23 InstallContribNbextensionsApp]\u001b[m Installing /usr/local/lib/python3.6/dist-packages/jupyter_contrib_nbextensions/nbextensions/hide_header -> hide_header\n",
            "\u001b[32m[I 07:00:23 InstallContribNbextensionsApp]\u001b[m Making directory: /root/.local/share/jupyter/nbextensions/hide_header/\n",
            "\u001b[32m[I 07:00:23 InstallContribNbextensionsApp]\u001b[m Copying: /usr/local/lib/python3.6/dist-packages/jupyter_contrib_nbextensions/nbextensions/hide_header/hide_header.yaml -> /root/.local/share/jupyter/nbextensions/hide_header/hide_header.yaml\n",
            "\u001b[32m[I 07:00:23 InstallContribNbextensionsApp]\u001b[m Copying: /usr/local/lib/python3.6/dist-packages/jupyter_contrib_nbextensions/nbextensions/hide_header/README.md -> /root/.local/share/jupyter/nbextensions/hide_header/README.md\n",
            "\u001b[32m[I 07:00:23 InstallContribNbextensionsApp]\u001b[m Copying: /usr/local/lib/python3.6/dist-packages/jupyter_contrib_nbextensions/nbextensions/hide_header/main.js -> /root/.local/share/jupyter/nbextensions/hide_header/main.js\n",
            "\u001b[32m[I 07:00:23 InstallContribNbextensionsApp]\u001b[m - Validating: \u001b[32mOK\u001b[0m\n",
            "\u001b[32m[I 07:00:23 InstallContribNbextensionsApp]\u001b[m Installing /usr/local/lib/python3.6/dist-packages/jupyter_contrib_nbextensions/nbextensions/execute_time -> execute_time\n",
            "\u001b[32m[I 07:00:23 InstallContribNbextensionsApp]\u001b[m Making directory: /root/.local/share/jupyter/nbextensions/execute_time/\n",
            "\u001b[32m[I 07:00:23 InstallContribNbextensionsApp]\u001b[m Copying: /usr/local/lib/python3.6/dist-packages/jupyter_contrib_nbextensions/nbextensions/execute_time/icon.png -> /root/.local/share/jupyter/nbextensions/execute_time/icon.png\n",
            "\u001b[32m[I 07:00:23 InstallContribNbextensionsApp]\u001b[m Copying: /usr/local/lib/python3.6/dist-packages/jupyter_contrib_nbextensions/nbextensions/execute_time/ExecuteTime.css -> /root/.local/share/jupyter/nbextensions/execute_time/ExecuteTime.css\n",
            "\u001b[32m[I 07:00:23 InstallContribNbextensionsApp]\u001b[m Copying: /usr/local/lib/python3.6/dist-packages/jupyter_contrib_nbextensions/nbextensions/execute_time/execution-timings-box.png -> /root/.local/share/jupyter/nbextensions/execute_time/execution-timings-box.png\n",
            "\u001b[32m[I 07:00:23 InstallContribNbextensionsApp]\u001b[m Copying: /usr/local/lib/python3.6/dist-packages/jupyter_contrib_nbextensions/nbextensions/execute_time/execution-timings-menu.png -> /root/.local/share/jupyter/nbextensions/execute_time/execution-timings-menu.png\n",
            "\u001b[32m[I 07:00:23 InstallContribNbextensionsApp]\u001b[m Copying: /usr/local/lib/python3.6/dist-packages/jupyter_contrib_nbextensions/nbextensions/execute_time/readme.md -> /root/.local/share/jupyter/nbextensions/execute_time/readme.md\n",
            "\u001b[32m[I 07:00:23 InstallContribNbextensionsApp]\u001b[m Copying: /usr/local/lib/python3.6/dist-packages/jupyter_contrib_nbextensions/nbextensions/execute_time/ExecuteTime.js -> /root/.local/share/jupyter/nbextensions/execute_time/ExecuteTime.js\n",
            "\u001b[32m[I 07:00:23 InstallContribNbextensionsApp]\u001b[m Copying: /usr/local/lib/python3.6/dist-packages/jupyter_contrib_nbextensions/nbextensions/execute_time/ExecuteTime.yaml -> /root/.local/share/jupyter/nbextensions/execute_time/ExecuteTime.yaml\n",
            "\u001b[32m[I 07:00:23 InstallContribNbextensionsApp]\u001b[m - Validating: \u001b[32mOK\u001b[0m\n",
            "\u001b[32m[I 07:00:23 InstallContribNbextensionsApp]\u001b[m Installing /usr/local/lib/python3.6/dist-packages/jupyter_contrib_nbextensions/nbextensions/collapsible_headings -> collapsible_headings\n",
            "\u001b[32m[I 07:00:23 InstallContribNbextensionsApp]\u001b[m Making directory: /root/.local/share/jupyter/nbextensions/collapsible_headings/\n",
            "\u001b[32m[I 07:00:23 InstallContribNbextensionsApp]\u001b[m Copying: /usr/local/lib/python3.6/dist-packages/jupyter_contrib_nbextensions/nbextensions/collapsible_headings/icon.png -> /root/.local/share/jupyter/nbextensions/collapsible_headings/icon.png\n",
            "\u001b[32m[I 07:00:23 InstallContribNbextensionsApp]\u001b[m Copying: /usr/local/lib/python3.6/dist-packages/jupyter_contrib_nbextensions/nbextensions/collapsible_headings/main.css -> /root/.local/share/jupyter/nbextensions/collapsible_headings/main.css\n",
            "\u001b[32m[I 07:00:23 InstallContribNbextensionsApp]\u001b[m Copying: /usr/local/lib/python3.6/dist-packages/jupyter_contrib_nbextensions/nbextensions/collapsible_headings/screenshot.png -> /root/.local/share/jupyter/nbextensions/collapsible_headings/screenshot.png\n",
            "\u001b[32m[I 07:00:23 InstallContribNbextensionsApp]\u001b[m Copying: /usr/local/lib/python3.6/dist-packages/jupyter_contrib_nbextensions/nbextensions/collapsible_headings/collapsible_headings.yaml -> /root/.local/share/jupyter/nbextensions/collapsible_headings/collapsible_headings.yaml\n",
            "\u001b[32m[I 07:00:23 InstallContribNbextensionsApp]\u001b[m Copying: /usr/local/lib/python3.6/dist-packages/jupyter_contrib_nbextensions/nbextensions/collapsible_headings/main.js -> /root/.local/share/jupyter/nbextensions/collapsible_headings/main.js\n",
            "\u001b[32m[I 07:00:23 InstallContribNbextensionsApp]\u001b[m Copying: /usr/local/lib/python3.6/dist-packages/jupyter_contrib_nbextensions/nbextensions/collapsible_headings/readme.md -> /root/.local/share/jupyter/nbextensions/collapsible_headings/readme.md\n",
            "\u001b[32m[I 07:00:23 InstallContribNbextensionsApp]\u001b[m - Validating: \u001b[32mOK\u001b[0m\n",
            "\u001b[32m[I 07:00:23 InstallContribNbextensionsApp]\u001b[m Installing /usr/local/lib/python3.6/dist-packages/jupyter_contrib_nbextensions/nbextensions/python-markdown -> python-markdown\n",
            "\u001b[32m[I 07:00:23 InstallContribNbextensionsApp]\u001b[m Making directory: /root/.local/share/jupyter/nbextensions/python-markdown/\n",
            "\u001b[32m[I 07:00:23 InstallContribNbextensionsApp]\u001b[m Copying: /usr/local/lib/python3.6/dist-packages/jupyter_contrib_nbextensions/nbextensions/python-markdown/trusted.png -> /root/.local/share/jupyter/nbextensions/python-markdown/trusted.png\n",
            "\u001b[32m[I 07:00:23 InstallContribNbextensionsApp]\u001b[m Copying: /usr/local/lib/python3.6/dist-packages/jupyter_contrib_nbextensions/nbextensions/python-markdown/python-markdown.yaml -> /root/.local/share/jupyter/nbextensions/python-markdown/python-markdown.yaml\n",
            "\u001b[32m[I 07:00:23 InstallContribNbextensionsApp]\u001b[m Copying: /usr/local/lib/python3.6/dist-packages/jupyter_contrib_nbextensions/nbextensions/python-markdown/main.css -> /root/.local/share/jupyter/nbextensions/python-markdown/main.css\n",
            "\u001b[32m[I 07:00:23 InstallContribNbextensionsApp]\u001b[m Copying: /usr/local/lib/python3.6/dist-packages/jupyter_contrib_nbextensions/nbextensions/python-markdown/python-markdown-post.png -> /root/.local/share/jupyter/nbextensions/python-markdown/python-markdown-post.png\n",
            "\u001b[32m[I 07:00:23 InstallContribNbextensionsApp]\u001b[m Copying: /usr/local/lib/python3.6/dist-packages/jupyter_contrib_nbextensions/nbextensions/python-markdown/untrusted.png -> /root/.local/share/jupyter/nbextensions/python-markdown/untrusted.png\n",
            "\u001b[32m[I 07:00:23 InstallContribNbextensionsApp]\u001b[m Copying: /usr/local/lib/python3.6/dist-packages/jupyter_contrib_nbextensions/nbextensions/python-markdown/python-markdown-pre.png -> /root/.local/share/jupyter/nbextensions/python-markdown/python-markdown-pre.png\n",
            "\u001b[32m[I 07:00:23 InstallContribNbextensionsApp]\u001b[m Copying: /usr/local/lib/python3.6/dist-packages/jupyter_contrib_nbextensions/nbextensions/python-markdown/python-markdown.png -> /root/.local/share/jupyter/nbextensions/python-markdown/python-markdown.png\n",
            "\u001b[32m[I 07:00:23 InstallContribNbextensionsApp]\u001b[m Copying: /usr/local/lib/python3.6/dist-packages/jupyter_contrib_nbextensions/nbextensions/python-markdown/main.js -> /root/.local/share/jupyter/nbextensions/python-markdown/main.js\n",
            "\u001b[32m[I 07:00:23 InstallContribNbextensionsApp]\u001b[m Copying: /usr/local/lib/python3.6/dist-packages/jupyter_contrib_nbextensions/nbextensions/python-markdown/readme.md -> /root/.local/share/jupyter/nbextensions/python-markdown/readme.md\n",
            "\u001b[32m[I 07:00:23 InstallContribNbextensionsApp]\u001b[m - Validating: \u001b[32mOK\u001b[0m\n",
            "\u001b[32m[I 07:00:23 InstallContribNbextensionsApp]\u001b[m Installing /usr/local/lib/python3.6/dist-packages/jupyter_contrib_nbextensions/nbextensions/printview -> printview\n",
            "\u001b[32m[I 07:00:23 InstallContribNbextensionsApp]\u001b[m Making directory: /root/.local/share/jupyter/nbextensions/printview/\n",
            "\u001b[32m[I 07:00:23 InstallContribNbextensionsApp]\u001b[m Copying: /usr/local/lib/python3.6/dist-packages/jupyter_contrib_nbextensions/nbextensions/printview/icon.png -> /root/.local/share/jupyter/nbextensions/printview/icon.png\n",
            "\u001b[32m[I 07:00:23 InstallContribNbextensionsApp]\u001b[m Copying: /usr/local/lib/python3.6/dist-packages/jupyter_contrib_nbextensions/nbextensions/printview/printview.yaml -> /root/.local/share/jupyter/nbextensions/printview/printview.yaml\n",
            "\u001b[32m[I 07:00:23 InstallContribNbextensionsApp]\u001b[m Copying: /usr/local/lib/python3.6/dist-packages/jupyter_contrib_nbextensions/nbextensions/printview/printview-button.png -> /root/.local/share/jupyter/nbextensions/printview/printview-button.png\n",
            "\u001b[32m[I 07:00:23 InstallContribNbextensionsApp]\u001b[m Copying: /usr/local/lib/python3.6/dist-packages/jupyter_contrib_nbextensions/nbextensions/printview/main.js -> /root/.local/share/jupyter/nbextensions/printview/main.js\n",
            "\u001b[32m[I 07:00:23 InstallContribNbextensionsApp]\u001b[m Copying: /usr/local/lib/python3.6/dist-packages/jupyter_contrib_nbextensions/nbextensions/printview/readme.md -> /root/.local/share/jupyter/nbextensions/printview/readme.md\n",
            "\u001b[32m[I 07:00:23 InstallContribNbextensionsApp]\u001b[m - Validating: \u001b[32mOK\u001b[0m\n",
            "\u001b[32m[I 07:00:23 InstallContribNbextensionsApp]\u001b[m Installing /usr/local/lib/python3.6/dist-packages/jupyter_contrib_nbextensions/nbextensions/codemirror_mode_extensions -> codemirror_mode_extensions\n",
            "\u001b[32m[I 07:00:23 InstallContribNbextensionsApp]\u001b[m Making directory: /root/.local/share/jupyter/nbextensions/codemirror_mode_extensions/\n",
            "\u001b[32m[I 07:00:23 InstallContribNbextensionsApp]\u001b[m Copying: /usr/local/lib/python3.6/dist-packages/jupyter_contrib_nbextensions/nbextensions/codemirror_mode_extensions/codemirror_mode_extensions.yaml -> /root/.local/share/jupyter/nbextensions/codemirror_mode_extensions/codemirror_mode_extensions.yaml\n",
            "\u001b[32m[I 07:00:23 InstallContribNbextensionsApp]\u001b[m Copying: /usr/local/lib/python3.6/dist-packages/jupyter_contrib_nbextensions/nbextensions/codemirror_mode_extensions/main.js -> /root/.local/share/jupyter/nbextensions/codemirror_mode_extensions/main.js\n",
            "\u001b[32m[I 07:00:23 InstallContribNbextensionsApp]\u001b[m - Validating: \u001b[32mOK\u001b[0m\n",
            "\u001b[32m[I 07:00:23 InstallContribNbextensionsApp]\u001b[m Installing /usr/local/lib/python3.6/dist-packages/jupyter_contrib_nbextensions/nbextensions/scroll_down -> scroll_down\n",
            "\u001b[32m[I 07:00:23 InstallContribNbextensionsApp]\u001b[m Making directory: /root/.local/share/jupyter/nbextensions/scroll_down/\n",
            "\u001b[32m[I 07:00:23 InstallContribNbextensionsApp]\u001b[m Copying: /usr/local/lib/python3.6/dist-packages/jupyter_contrib_nbextensions/nbextensions/scroll_down/icon.png -> /root/.local/share/jupyter/nbextensions/scroll_down/icon.png\n",
            "\u001b[32m[I 07:00:23 InstallContribNbextensionsApp]\u001b[m Copying: /usr/local/lib/python3.6/dist-packages/jupyter_contrib_nbextensions/nbextensions/scroll_down/config.yaml -> /root/.local/share/jupyter/nbextensions/scroll_down/config.yaml\n",
            "\u001b[32m[I 07:00:23 InstallContribNbextensionsApp]\u001b[m Copying: /usr/local/lib/python3.6/dist-packages/jupyter_contrib_nbextensions/nbextensions/scroll_down/main.js -> /root/.local/share/jupyter/nbextensions/scroll_down/main.js\n",
            "\u001b[32m[I 07:00:23 InstallContribNbextensionsApp]\u001b[m Copying: /usr/local/lib/python3.6/dist-packages/jupyter_contrib_nbextensions/nbextensions/scroll_down/readme.md -> /root/.local/share/jupyter/nbextensions/scroll_down/readme.md\n",
            "\u001b[32m[I 07:00:23 InstallContribNbextensionsApp]\u001b[m - Validating: \u001b[32mOK\u001b[0m\n",
            "\u001b[32m[I 07:00:23 InstallContribNbextensionsApp]\u001b[m Installing /usr/local/lib/python3.6/dist-packages/jupyter_contrib_nbextensions/nbextensions/snippets -> snippets\n",
            "\u001b[32m[I 07:00:23 InstallContribNbextensionsApp]\u001b[m Making directory: /root/.local/share/jupyter/nbextensions/snippets/\n",
            "\u001b[32m[I 07:00:23 InstallContribNbextensionsApp]\u001b[m Copying: /usr/local/lib/python3.6/dist-packages/jupyter_contrib_nbextensions/nbextensions/snippets/snippets-demo.gif -> /root/.local/share/jupyter/nbextensions/snippets/snippets-demo.gif\n",
            "\u001b[32m[I 07:00:23 InstallContribNbextensionsApp]\u001b[m Copying: /usr/local/lib/python3.6/dist-packages/jupyter_contrib_nbextensions/nbextensions/snippets/README.md -> /root/.local/share/jupyter/nbextensions/snippets/README.md\n",
            "\u001b[32m[I 07:00:23 InstallContribNbextensionsApp]\u001b[m Copying: /usr/local/lib/python3.6/dist-packages/jupyter_contrib_nbextensions/nbextensions/snippets/snippets.json -> /root/.local/share/jupyter/nbextensions/snippets/snippets.json\n",
            "\u001b[32m[I 07:00:23 InstallContribNbextensionsApp]\u001b[m Copying: /usr/local/lib/python3.6/dist-packages/jupyter_contrib_nbextensions/nbextensions/snippets/main.js -> /root/.local/share/jupyter/nbextensions/snippets/main.js\n",
            "\u001b[32m[I 07:00:23 InstallContribNbextensionsApp]\u001b[m Copying: /usr/local/lib/python3.6/dist-packages/jupyter_contrib_nbextensions/nbextensions/snippets/snippets.yaml -> /root/.local/share/jupyter/nbextensions/snippets/snippets.yaml\n",
            "\u001b[32m[I 07:00:23 InstallContribNbextensionsApp]\u001b[m - Validating: \u001b[32mOK\u001b[0m\n",
            "\u001b[32m[I 07:00:23 InstallContribNbextensionsApp]\u001b[m Installing /usr/local/lib/python3.6/dist-packages/jupyter_contrib_nbextensions/nbextensions/datestamper -> datestamper\n",
            "\u001b[32m[I 07:00:23 InstallContribNbextensionsApp]\u001b[m Making directory: /root/.local/share/jupyter/nbextensions/datestamper/\n",
            "\u001b[32m[I 07:00:23 InstallContribNbextensionsApp]\u001b[m Copying: /usr/local/lib/python3.6/dist-packages/jupyter_contrib_nbextensions/nbextensions/datestamper/icon.png -> /root/.local/share/jupyter/nbextensions/datestamper/icon.png\n",
            "\u001b[32m[I 07:00:23 InstallContribNbextensionsApp]\u001b[m Copying: /usr/local/lib/python3.6/dist-packages/jupyter_contrib_nbextensions/nbextensions/datestamper/main.yaml -> /root/.local/share/jupyter/nbextensions/datestamper/main.yaml\n",
            "\u001b[32m[I 07:00:23 InstallContribNbextensionsApp]\u001b[m Copying: /usr/local/lib/python3.6/dist-packages/jupyter_contrib_nbextensions/nbextensions/datestamper/main.js -> /root/.local/share/jupyter/nbextensions/datestamper/main.js\n",
            "\u001b[32m[I 07:00:23 InstallContribNbextensionsApp]\u001b[m Copying: /usr/local/lib/python3.6/dist-packages/jupyter_contrib_nbextensions/nbextensions/datestamper/readme.md -> /root/.local/share/jupyter/nbextensions/datestamper/readme.md\n",
            "\u001b[32m[I 07:00:23 InstallContribNbextensionsApp]\u001b[m - Validating: \u001b[32mOK\u001b[0m\n",
            "\u001b[32m[I 07:00:23 InstallContribNbextensionsApp]\u001b[m Installing /usr/local/lib/python3.6/dist-packages/jupyter_contrib_nbextensions/nbextensions/freeze -> freeze\n",
            "\u001b[32m[I 07:00:23 InstallContribNbextensionsApp]\u001b[m Making directory: /root/.local/share/jupyter/nbextensions/freeze/\n",
            "\u001b[32m[I 07:00:23 InstallContribNbextensionsApp]\u001b[m Copying: /usr/local/lib/python3.6/dist-packages/jupyter_contrib_nbextensions/nbextensions/freeze/icon.png -> /root/.local/share/jupyter/nbextensions/freeze/icon.png\n",
            "\u001b[32m[I 07:00:23 InstallContribNbextensionsApp]\u001b[m Copying: /usr/local/lib/python3.6/dist-packages/jupyter_contrib_nbextensions/nbextensions/freeze/config.yaml -> /root/.local/share/jupyter/nbextensions/freeze/config.yaml\n",
            "\u001b[32m[I 07:00:23 InstallContribNbextensionsApp]\u001b[m Copying: /usr/local/lib/python3.6/dist-packages/jupyter_contrib_nbextensions/nbextensions/freeze/main.js -> /root/.local/share/jupyter/nbextensions/freeze/main.js\n",
            "\u001b[32m[I 07:00:23 InstallContribNbextensionsApp]\u001b[m Copying: /usr/local/lib/python3.6/dist-packages/jupyter_contrib_nbextensions/nbextensions/freeze/readme.md -> /root/.local/share/jupyter/nbextensions/freeze/readme.md\n",
            "\u001b[32m[I 07:00:23 InstallContribNbextensionsApp]\u001b[m - Validating: \u001b[32mOK\u001b[0m\n",
            "\u001b[32m[I 07:00:23 InstallContribNbextensionsApp]\u001b[m Installing /usr/local/lib/python3.6/dist-packages/jupyter_contrib_nbextensions/nbextensions/hide_input -> hide_input\n",
            "\u001b[32m[I 07:00:23 InstallContribNbextensionsApp]\u001b[m Making directory: /root/.local/share/jupyter/nbextensions/hide_input/\n",
            "\u001b[32m[I 07:00:23 InstallContribNbextensionsApp]\u001b[m Copying: /usr/local/lib/python3.6/dist-packages/jupyter_contrib_nbextensions/nbextensions/hide_input/icon.png -> /root/.local/share/jupyter/nbextensions/hide_input/icon.png\n",
            "\u001b[32m[I 07:00:23 InstallContribNbextensionsApp]\u001b[m Copying: /usr/local/lib/python3.6/dist-packages/jupyter_contrib_nbextensions/nbextensions/hide_input/hide-input.yaml -> /root/.local/share/jupyter/nbextensions/hide_input/hide-input.yaml\n",
            "\u001b[32m[I 07:00:23 InstallContribNbextensionsApp]\u001b[m Copying: /usr/local/lib/python3.6/dist-packages/jupyter_contrib_nbextensions/nbextensions/hide_input/main.js -> /root/.local/share/jupyter/nbextensions/hide_input/main.js\n",
            "\u001b[32m[I 07:00:23 InstallContribNbextensionsApp]\u001b[m Copying: /usr/local/lib/python3.6/dist-packages/jupyter_contrib_nbextensions/nbextensions/hide_input/readme.md -> /root/.local/share/jupyter/nbextensions/hide_input/readme.md\n",
            "\u001b[32m[I 07:00:23 InstallContribNbextensionsApp]\u001b[m - Validating: \u001b[32mOK\u001b[0m\n",
            "\u001b[32m[I 07:00:23 InstallContribNbextensionsApp]\u001b[m Installing /usr/local/lib/python3.6/dist-packages/jupyter_contrib_nbextensions/nbextensions/equation-numbering -> equation-numbering\n",
            "\u001b[32m[I 07:00:23 InstallContribNbextensionsApp]\u001b[m Making directory: /root/.local/share/jupyter/nbextensions/equation-numbering/\n",
            "\u001b[32m[I 07:00:23 InstallContribNbextensionsApp]\u001b[m Copying: /usr/local/lib/python3.6/dist-packages/jupyter_contrib_nbextensions/nbextensions/equation-numbering/icon.png -> /root/.local/share/jupyter/nbextensions/equation-numbering/icon.png\n",
            "\u001b[32m[I 07:00:23 InstallContribNbextensionsApp]\u001b[m Copying: /usr/local/lib/python3.6/dist-packages/jupyter_contrib_nbextensions/nbextensions/equation-numbering/button.png -> /root/.local/share/jupyter/nbextensions/equation-numbering/button.png\n",
            "\u001b[32m[I 07:00:23 InstallContribNbextensionsApp]\u001b[m Copying: /usr/local/lib/python3.6/dist-packages/jupyter_contrib_nbextensions/nbextensions/equation-numbering/info.yaml -> /root/.local/share/jupyter/nbextensions/equation-numbering/info.yaml\n",
            "\u001b[32m[I 07:00:23 InstallContribNbextensionsApp]\u001b[m Copying: /usr/local/lib/python3.6/dist-packages/jupyter_contrib_nbextensions/nbextensions/equation-numbering/main.js -> /root/.local/share/jupyter/nbextensions/equation-numbering/main.js\n",
            "\u001b[32m[I 07:00:23 InstallContribNbextensionsApp]\u001b[m Copying: /usr/local/lib/python3.6/dist-packages/jupyter_contrib_nbextensions/nbextensions/equation-numbering/readme.md -> /root/.local/share/jupyter/nbextensions/equation-numbering/readme.md\n",
            "\u001b[32m[I 07:00:23 InstallContribNbextensionsApp]\u001b[m - Validating: \u001b[32mOK\u001b[0m\n",
            "\u001b[32m[I 07:00:23 InstallContribNbextensionsApp]\u001b[m Installing /usr/local/lib/python3.6/dist-packages/jupyter_contrib_nbextensions/nbextensions/go_to_current_running_cell -> go_to_current_running_cell\n",
            "\u001b[32m[I 07:00:23 InstallContribNbextensionsApp]\u001b[m Making directory: /root/.local/share/jupyter/nbextensions/go_to_current_running_cell/\n",
            "\u001b[32m[I 07:00:23 InstallContribNbextensionsApp]\u001b[m Copying: /usr/local/lib/python3.6/dist-packages/jupyter_contrib_nbextensions/nbextensions/go_to_current_running_cell/eye.png -> /root/.local/share/jupyter/nbextensions/go_to_current_running_cell/eye.png\n",
            "\u001b[32m[I 07:00:23 InstallContribNbextensionsApp]\u001b[m Copying: /usr/local/lib/python3.6/dist-packages/jupyter_contrib_nbextensions/nbextensions/go_to_current_running_cell/anchor.png -> /root/.local/share/jupyter/nbextensions/go_to_current_running_cell/anchor.png\n",
            "\u001b[32m[I 07:00:23 InstallContribNbextensionsApp]\u001b[m Copying: /usr/local/lib/python3.6/dist-packages/jupyter_contrib_nbextensions/nbextensions/go_to_current_running_cell/jump_to_cell.gif -> /root/.local/share/jupyter/nbextensions/go_to_current_running_cell/jump_to_cell.gif\n",
            "\u001b[32m[I 07:00:23 InstallContribNbextensionsApp]\u001b[m Copying: /usr/local/lib/python3.6/dist-packages/jupyter_contrib_nbextensions/nbextensions/go_to_current_running_cell/README.md -> /root/.local/share/jupyter/nbextensions/go_to_current_running_cell/README.md\n",
            "\u001b[32m[I 07:00:23 InstallContribNbextensionsApp]\u001b[m Copying: /usr/local/lib/python3.6/dist-packages/jupyter_contrib_nbextensions/nbextensions/go_to_current_running_cell/main.js -> /root/.local/share/jupyter/nbextensions/go_to_current_running_cell/main.js\n",
            "\u001b[32m[I 07:00:23 InstallContribNbextensionsApp]\u001b[m Copying: /usr/local/lib/python3.6/dist-packages/jupyter_contrib_nbextensions/nbextensions/go_to_current_running_cell/go_to_current_running_cell.yaml -> /root/.local/share/jupyter/nbextensions/go_to_current_running_cell/go_to_current_running_cell.yaml\n",
            "\u001b[32m[I 07:00:23 InstallContribNbextensionsApp]\u001b[m Copying: /usr/local/lib/python3.6/dist-packages/jupyter_contrib_nbextensions/nbextensions/go_to_current_running_cell/auto_focus.gif -> /root/.local/share/jupyter/nbextensions/go_to_current_running_cell/auto_focus.gif\n",
            "\u001b[32m[I 07:00:23 InstallContribNbextensionsApp]\u001b[m - Validating: \u001b[32mOK\u001b[0m\n",
            "\u001b[32m[I 07:00:23 InstallContribNbextensionsApp]\u001b[m Installing /usr/local/lib/python3.6/dist-packages/jupyter_contrib_nbextensions/nbextensions/splitcell -> splitcell\n",
            "\u001b[32m[I 07:00:23 InstallContribNbextensionsApp]\u001b[m Making directory: /root/.local/share/jupyter/nbextensions/splitcell/\n",
            "\u001b[32m[I 07:00:23 InstallContribNbextensionsApp]\u001b[m Copying: /usr/local/lib/python3.6/dist-packages/jupyter_contrib_nbextensions/nbextensions/splitcell/icon.png -> /root/.local/share/jupyter/nbextensions/splitcell/icon.png\n",
            "\u001b[32m[I 07:00:23 InstallContribNbextensionsApp]\u001b[m Copying: /usr/local/lib/python3.6/dist-packages/jupyter_contrib_nbextensions/nbextensions/splitcell/splitcell.js -> /root/.local/share/jupyter/nbextensions/splitcell/splitcell.js\n",
            "\u001b[32m[I 07:00:23 InstallContribNbextensionsApp]\u001b[m Copying: /usr/local/lib/python3.6/dist-packages/jupyter_contrib_nbextensions/nbextensions/splitcell/readme.md -> /root/.local/share/jupyter/nbextensions/splitcell/readme.md\n",
            "\u001b[32m[I 07:00:23 InstallContribNbextensionsApp]\u001b[m Copying: /usr/local/lib/python3.6/dist-packages/jupyter_contrib_nbextensions/nbextensions/splitcell/splitcell.yaml -> /root/.local/share/jupyter/nbextensions/splitcell/splitcell.yaml\n",
            "\u001b[32m[I 07:00:23 InstallContribNbextensionsApp]\u001b[m - Validating: \u001b[32mOK\u001b[0m\n",
            "\u001b[32m[I 07:00:23 InstallContribNbextensionsApp]\u001b[m Installing /usr/local/lib/python3.6/dist-packages/jupyter_contrib_nbextensions/nbextensions/gist_it -> gist_it\n",
            "\u001b[32m[I 07:00:23 InstallContribNbextensionsApp]\u001b[m Making directory: /root/.local/share/jupyter/nbextensions/gist_it/\n",
            "\u001b[32m[I 07:00:23 InstallContribNbextensionsApp]\u001b[m Copying: /usr/local/lib/python3.6/dist-packages/jupyter_contrib_nbextensions/nbextensions/gist_it/icon.png -> /root/.local/share/jupyter/nbextensions/gist_it/icon.png\n",
            "\u001b[32m[I 07:00:23 InstallContribNbextensionsApp]\u001b[m Copying: /usr/local/lib/python3.6/dist-packages/jupyter_contrib_nbextensions/nbextensions/gist_it/gist_it.yaml -> /root/.local/share/jupyter/nbextensions/gist_it/gist_it.yaml\n",
            "\u001b[32m[I 07:00:23 InstallContribNbextensionsApp]\u001b[m Copying: /usr/local/lib/python3.6/dist-packages/jupyter_contrib_nbextensions/nbextensions/gist_it/main.js -> /root/.local/share/jupyter/nbextensions/gist_it/main.js\n",
            "\u001b[32m[I 07:00:23 InstallContribNbextensionsApp]\u001b[m Copying: /usr/local/lib/python3.6/dist-packages/jupyter_contrib_nbextensions/nbextensions/gist_it/readme.md -> /root/.local/share/jupyter/nbextensions/gist_it/readme.md\n",
            "\u001b[32m[I 07:00:23 InstallContribNbextensionsApp]\u001b[m - Validating: \u001b[32mOK\u001b[0m\n",
            "\u001b[32m[I 07:00:23 InstallContribNbextensionsApp]\u001b[m Installing /usr/local/lib/python3.6/dist-packages/jupyter_contrib_nbextensions/nbextensions/spellchecker -> spellchecker\n",
            "\u001b[32m[I 07:00:23 InstallContribNbextensionsApp]\u001b[m Making directory: /root/.local/share/jupyter/nbextensions/spellchecker/\n",
            "\u001b[32m[I 07:00:23 InstallContribNbextensionsApp]\u001b[m Copying: /usr/local/lib/python3.6/dist-packages/jupyter_contrib_nbextensions/nbextensions/spellchecker/main.css -> /root/.local/share/jupyter/nbextensions/spellchecker/main.css\n",
            "\u001b[32m[I 07:00:23 InstallContribNbextensionsApp]\u001b[m Copying: /usr/local/lib/python3.6/dist-packages/jupyter_contrib_nbextensions/nbextensions/spellchecker/README.md -> /root/.local/share/jupyter/nbextensions/spellchecker/README.md\n",
            "\u001b[32m[I 07:00:23 InstallContribNbextensionsApp]\u001b[m Copying: /usr/local/lib/python3.6/dist-packages/jupyter_contrib_nbextensions/nbextensions/spellchecker/screenshot.png -> /root/.local/share/jupyter/nbextensions/spellchecker/screenshot.png\n",
            "\u001b[32m[I 07:00:23 InstallContribNbextensionsApp]\u001b[m Copying: /usr/local/lib/python3.6/dist-packages/jupyter_contrib_nbextensions/nbextensions/spellchecker/config.yaml -> /root/.local/share/jupyter/nbextensions/spellchecker/config.yaml\n",
            "\u001b[32m[I 07:00:23 InstallContribNbextensionsApp]\u001b[m Copying: /usr/local/lib/python3.6/dist-packages/jupyter_contrib_nbextensions/nbextensions/spellchecker/download_new_dict.py -> /root/.local/share/jupyter/nbextensions/spellchecker/download_new_dict.py\n",
            "\u001b[32m[I 07:00:23 InstallContribNbextensionsApp]\u001b[m Copying: /usr/local/lib/python3.6/dist-packages/jupyter_contrib_nbextensions/nbextensions/spellchecker/main.js -> /root/.local/share/jupyter/nbextensions/spellchecker/main.js\n",
            "\u001b[32m[I 07:00:23 InstallContribNbextensionsApp]\u001b[m Making directory: /root/.local/share/jupyter/nbextensions/spellchecker/typo\n",
            "\u001b[32m[I 07:00:23 InstallContribNbextensionsApp]\u001b[m Copying: /usr/local/lib/python3.6/dist-packages/jupyter_contrib_nbextensions/nbextensions/spellchecker/typo/typo.js -> /root/.local/share/jupyter/nbextensions/spellchecker/typo/typo.js\n",
            "\u001b[32m[I 07:00:23 InstallContribNbextensionsApp]\u001b[m Copying: /usr/local/lib/python3.6/dist-packages/jupyter_contrib_nbextensions/nbextensions/spellchecker/typo/LICENSE.txt -> /root/.local/share/jupyter/nbextensions/spellchecker/typo/LICENSE.txt\n",
            "\u001b[32m[I 07:00:23 InstallContribNbextensionsApp]\u001b[m Making directory: /root/.local/share/jupyter/nbextensions/spellchecker/__pycache__\n",
            "\u001b[32m[I 07:00:23 InstallContribNbextensionsApp]\u001b[m Copying: /usr/local/lib/python3.6/dist-packages/jupyter_contrib_nbextensions/nbextensions/spellchecker/__pycache__/download_new_dict.cpython-36.pyc -> /root/.local/share/jupyter/nbextensions/spellchecker/__pycache__/download_new_dict.cpython-36.pyc\n",
            "\u001b[32m[I 07:00:23 InstallContribNbextensionsApp]\u001b[m - Validating: \u001b[32mOK\u001b[0m\n",
            "\u001b[32m[I 07:00:23 InstallContribNbextensionsApp]\u001b[m Installing /usr/local/lib/python3.6/dist-packages/jupyter_contrib_nbextensions/nbextensions/init_cell -> init_cell\n",
            "\u001b[32m[I 07:00:23 InstallContribNbextensionsApp]\u001b[m Making directory: /root/.local/share/jupyter/nbextensions/init_cell/\n",
            "\u001b[32m[I 07:00:23 InstallContribNbextensionsApp]\u001b[m Copying: /usr/local/lib/python3.6/dist-packages/jupyter_contrib_nbextensions/nbextensions/init_cell/icon.png -> /root/.local/share/jupyter/nbextensions/init_cell/icon.png\n",
            "\u001b[32m[I 07:00:23 InstallContribNbextensionsApp]\u001b[m Copying: /usr/local/lib/python3.6/dist-packages/jupyter_contrib_nbextensions/nbextensions/init_cell/cell_toolbar_menu.png -> /root/.local/share/jupyter/nbextensions/init_cell/cell_toolbar_menu.png\n",
            "\u001b[32m[I 07:00:23 InstallContribNbextensionsApp]\u001b[m Copying: /usr/local/lib/python3.6/dist-packages/jupyter_contrib_nbextensions/nbextensions/init_cell/README.md -> /root/.local/share/jupyter/nbextensions/init_cell/README.md\n",
            "\u001b[32m[I 07:00:23 InstallContribNbextensionsApp]\u001b[m Copying: /usr/local/lib/python3.6/dist-packages/jupyter_contrib_nbextensions/nbextensions/init_cell/main.js -> /root/.local/share/jupyter/nbextensions/init_cell/main.js\n",
            "\u001b[32m[I 07:00:23 InstallContribNbextensionsApp]\u001b[m Copying: /usr/local/lib/python3.6/dist-packages/jupyter_contrib_nbextensions/nbextensions/init_cell/init_cell.yaml -> /root/.local/share/jupyter/nbextensions/init_cell/init_cell.yaml\n",
            "\u001b[32m[I 07:00:23 InstallContribNbextensionsApp]\u001b[m - Validating: \u001b[32mOK\u001b[0m\n",
            "\u001b[32m[I 07:00:23 InstallContribNbextensionsApp]\u001b[m Installing /usr/local/lib/python3.6/dist-packages/jupyter_contrib_nbextensions/nbextensions/contrib_nbextensions_help_item -> contrib_nbextensions_help_item\n",
            "\u001b[32m[I 07:00:23 InstallContribNbextensionsApp]\u001b[m Making directory: /root/.local/share/jupyter/nbextensions/contrib_nbextensions_help_item/\n",
            "\u001b[32m[I 07:00:23 InstallContribNbextensionsApp]\u001b[m Copying: /usr/local/lib/python3.6/dist-packages/jupyter_contrib_nbextensions/nbextensions/contrib_nbextensions_help_item/contrib_nbextensions_help_item.yaml -> /root/.local/share/jupyter/nbextensions/contrib_nbextensions_help_item/contrib_nbextensions_help_item.yaml\n",
            "\u001b[32m[I 07:00:23 InstallContribNbextensionsApp]\u001b[m Copying: /usr/local/lib/python3.6/dist-packages/jupyter_contrib_nbextensions/nbextensions/contrib_nbextensions_help_item/README.md -> /root/.local/share/jupyter/nbextensions/contrib_nbextensions_help_item/README.md\n",
            "\u001b[32m[I 07:00:23 InstallContribNbextensionsApp]\u001b[m Copying: /usr/local/lib/python3.6/dist-packages/jupyter_contrib_nbextensions/nbextensions/contrib_nbextensions_help_item/main.js -> /root/.local/share/jupyter/nbextensions/contrib_nbextensions_help_item/main.js\n",
            "\u001b[32m[I 07:00:23 InstallContribNbextensionsApp]\u001b[m - Validating: \u001b[32mOK\u001b[0m\n",
            "\u001b[32m[I 07:00:23 InstallContribNbextensionsApp]\u001b[m Installing /usr/local/lib/python3.6/dist-packages/jupyter_contrib_nbextensions/nbextensions/code_prettify -> code_prettify\n",
            "\u001b[32m[I 07:00:23 InstallContribNbextensionsApp]\u001b[m Making directory: /root/.local/share/jupyter/nbextensions/code_prettify/\n",
            "\u001b[32m[I 07:00:23 InstallContribNbextensionsApp]\u001b[m Copying: /usr/local/lib/python3.6/dist-packages/jupyter_contrib_nbextensions/nbextensions/code_prettify/demo-jv.gif -> /root/.local/share/jupyter/nbextensions/code_prettify/demo-jv.gif\n",
            "\u001b[32m[I 07:00:23 InstallContribNbextensionsApp]\u001b[m Copying: /usr/local/lib/python3.6/dist-packages/jupyter_contrib_nbextensions/nbextensions/code_prettify/isort.yaml -> /root/.local/share/jupyter/nbextensions/code_prettify/isort.yaml\n",
            "\u001b[32m[I 07:00:23 InstallContribNbextensionsApp]\u001b[m Copying: /usr/local/lib/python3.6/dist-packages/jupyter_contrib_nbextensions/nbextensions/code_prettify/autopep8.js -> /root/.local/share/jupyter/nbextensions/code_prettify/autopep8.js\n",
            "\u001b[32m[I 07:00:23 InstallContribNbextensionsApp]\u001b[m Copying: /usr/local/lib/python3.6/dist-packages/jupyter_contrib_nbextensions/nbextensions/code_prettify/2to3.yaml -> /root/.local/share/jupyter/nbextensions/code_prettify/2to3.yaml\n",
            "\u001b[32m[I 07:00:23 InstallContribNbextensionsApp]\u001b[m Copying: /usr/local/lib/python3.6/dist-packages/jupyter_contrib_nbextensions/nbextensions/code_prettify/code_prettify.yaml -> /root/.local/share/jupyter/nbextensions/code_prettify/code_prettify.yaml\n",
            "\u001b[32m[I 07:00:23 InstallContribNbextensionsApp]\u001b[m Copying: /usr/local/lib/python3.6/dist-packages/jupyter_contrib_nbextensions/nbextensions/code_prettify/README.md -> /root/.local/share/jupyter/nbextensions/code_prettify/README.md\n",
            "\u001b[32m[I 07:00:23 InstallContribNbextensionsApp]\u001b[m Copying: /usr/local/lib/python3.6/dist-packages/jupyter_contrib_nbextensions/nbextensions/code_prettify/README_code_prettify.md -> /root/.local/share/jupyter/nbextensions/code_prettify/README_code_prettify.md\n",
            "\u001b[32m[I 07:00:23 InstallContribNbextensionsApp]\u001b[m Copying: /usr/local/lib/python3.6/dist-packages/jupyter_contrib_nbextensions/nbextensions/code_prettify/code_prettify.js -> /root/.local/share/jupyter/nbextensions/code_prettify/code_prettify.js\n",
            "\u001b[32m[I 07:00:23 InstallContribNbextensionsApp]\u001b[m Copying: /usr/local/lib/python3.6/dist-packages/jupyter_contrib_nbextensions/nbextensions/code_prettify/isort.js -> /root/.local/share/jupyter/nbextensions/code_prettify/isort.js\n",
            "\u001b[32m[I 07:00:23 InstallContribNbextensionsApp]\u001b[m Copying: /usr/local/lib/python3.6/dist-packages/jupyter_contrib_nbextensions/nbextensions/code_prettify/demo_2to3.gif -> /root/.local/share/jupyter/nbextensions/code_prettify/demo_2to3.gif\n",
            "\u001b[32m[I 07:00:23 InstallContribNbextensionsApp]\u001b[m Copying: /usr/local/lib/python3.6/dist-packages/jupyter_contrib_nbextensions/nbextensions/code_prettify/kernel_exec_on_cell.js -> /root/.local/share/jupyter/nbextensions/code_prettify/kernel_exec_on_cell.js\n",
            "\u001b[32m[I 07:00:23 InstallContribNbextensionsApp]\u001b[m Copying: /usr/local/lib/python3.6/dist-packages/jupyter_contrib_nbextensions/nbextensions/code_prettify/README_isort.md -> /root/.local/share/jupyter/nbextensions/code_prettify/README_isort.md\n",
            "\u001b[32m[I 07:00:23 InstallContribNbextensionsApp]\u001b[m Copying: /usr/local/lib/python3.6/dist-packages/jupyter_contrib_nbextensions/nbextensions/code_prettify/autopep8.yaml -> /root/.local/share/jupyter/nbextensions/code_prettify/autopep8.yaml\n",
            "\u001b[32m[I 07:00:23 InstallContribNbextensionsApp]\u001b[m Copying: /usr/local/lib/python3.6/dist-packages/jupyter_contrib_nbextensions/nbextensions/code_prettify/README_autopep8.md -> /root/.local/share/jupyter/nbextensions/code_prettify/README_autopep8.md\n",
            "\u001b[32m[I 07:00:23 InstallContribNbextensionsApp]\u001b[m Copying: /usr/local/lib/python3.6/dist-packages/jupyter_contrib_nbextensions/nbextensions/code_prettify/demo-R.gif -> /root/.local/share/jupyter/nbextensions/code_prettify/demo-R.gif\n",
            "\u001b[32m[I 07:00:23 InstallContribNbextensionsApp]\u001b[m Copying: /usr/local/lib/python3.6/dist-packages/jupyter_contrib_nbextensions/nbextensions/code_prettify/demo-py.gif -> /root/.local/share/jupyter/nbextensions/code_prettify/demo-py.gif\n",
            "\u001b[32m[I 07:00:23 InstallContribNbextensionsApp]\u001b[m Copying: /usr/local/lib/python3.6/dist-packages/jupyter_contrib_nbextensions/nbextensions/code_prettify/2to3.js -> /root/.local/share/jupyter/nbextensions/code_prettify/2to3.js\n",
            "\u001b[32m[I 07:00:23 InstallContribNbextensionsApp]\u001b[m Copying: /usr/local/lib/python3.6/dist-packages/jupyter_contrib_nbextensions/nbextensions/code_prettify/README_2to3.md -> /root/.local/share/jupyter/nbextensions/code_prettify/README_2to3.md\n",
            "\u001b[32m[I 07:00:23 InstallContribNbextensionsApp]\u001b[m - Validating: \u001b[32mOK\u001b[0m\n",
            "\u001b[32m[I 07:00:23 InstallContribNbextensionsApp]\u001b[m Installing /usr/local/lib/python3.6/dist-packages/jupyter_contrib_nbextensions/nbextensions/code_prettify -> code_prettify\n",
            "\u001b[32m[I 07:00:23 InstallContribNbextensionsApp]\u001b[m Up to date: /root/.local/share/jupyter/nbextensions/code_prettify/demo-jv.gif\n",
            "\u001b[32m[I 07:00:23 InstallContribNbextensionsApp]\u001b[m Up to date: /root/.local/share/jupyter/nbextensions/code_prettify/isort.yaml\n",
            "\u001b[32m[I 07:00:23 InstallContribNbextensionsApp]\u001b[m Up to date: /root/.local/share/jupyter/nbextensions/code_prettify/autopep8.js\n",
            "\u001b[32m[I 07:00:23 InstallContribNbextensionsApp]\u001b[m Up to date: /root/.local/share/jupyter/nbextensions/code_prettify/2to3.yaml\n",
            "\u001b[32m[I 07:00:23 InstallContribNbextensionsApp]\u001b[m Up to date: /root/.local/share/jupyter/nbextensions/code_prettify/code_prettify.yaml\n",
            "\u001b[32m[I 07:00:23 InstallContribNbextensionsApp]\u001b[m Up to date: /root/.local/share/jupyter/nbextensions/code_prettify/README.md\n",
            "\u001b[32m[I 07:00:23 InstallContribNbextensionsApp]\u001b[m Up to date: /root/.local/share/jupyter/nbextensions/code_prettify/README_code_prettify.md\n",
            "\u001b[32m[I 07:00:23 InstallContribNbextensionsApp]\u001b[m Up to date: /root/.local/share/jupyter/nbextensions/code_prettify/code_prettify.js\n",
            "\u001b[32m[I 07:00:23 InstallContribNbextensionsApp]\u001b[m Up to date: /root/.local/share/jupyter/nbextensions/code_prettify/isort.js\n",
            "\u001b[32m[I 07:00:23 InstallContribNbextensionsApp]\u001b[m Up to date: /root/.local/share/jupyter/nbextensions/code_prettify/demo_2to3.gif\n",
            "\u001b[32m[I 07:00:23 InstallContribNbextensionsApp]\u001b[m Up to date: /root/.local/share/jupyter/nbextensions/code_prettify/kernel_exec_on_cell.js\n",
            "\u001b[32m[I 07:00:23 InstallContribNbextensionsApp]\u001b[m Up to date: /root/.local/share/jupyter/nbextensions/code_prettify/README_isort.md\n",
            "\u001b[32m[I 07:00:23 InstallContribNbextensionsApp]\u001b[m Up to date: /root/.local/share/jupyter/nbextensions/code_prettify/autopep8.yaml\n",
            "\u001b[32m[I 07:00:23 InstallContribNbextensionsApp]\u001b[m Up to date: /root/.local/share/jupyter/nbextensions/code_prettify/README_autopep8.md\n",
            "\u001b[32m[I 07:00:23 InstallContribNbextensionsApp]\u001b[m Up to date: /root/.local/share/jupyter/nbextensions/code_prettify/demo-R.gif\n",
            "\u001b[32m[I 07:00:23 InstallContribNbextensionsApp]\u001b[m Up to date: /root/.local/share/jupyter/nbextensions/code_prettify/demo-py.gif\n",
            "\u001b[32m[I 07:00:23 InstallContribNbextensionsApp]\u001b[m Up to date: /root/.local/share/jupyter/nbextensions/code_prettify/2to3.js\n",
            "\u001b[32m[I 07:00:23 InstallContribNbextensionsApp]\u001b[m Up to date: /root/.local/share/jupyter/nbextensions/code_prettify/README_2to3.md\n",
            "\u001b[32m[I 07:00:23 InstallContribNbextensionsApp]\u001b[m - Validating: \u001b[32mOK\u001b[0m\n",
            "\u001b[32m[I 07:00:23 InstallContribNbextensionsApp]\u001b[m Installing /usr/local/lib/python3.6/dist-packages/jupyter_contrib_nbextensions/nbextensions/code_prettify -> code_prettify\n",
            "\u001b[32m[I 07:00:23 InstallContribNbextensionsApp]\u001b[m Up to date: /root/.local/share/jupyter/nbextensions/code_prettify/demo-jv.gif\n",
            "\u001b[32m[I 07:00:23 InstallContribNbextensionsApp]\u001b[m Up to date: /root/.local/share/jupyter/nbextensions/code_prettify/isort.yaml\n",
            "\u001b[32m[I 07:00:23 InstallContribNbextensionsApp]\u001b[m Up to date: /root/.local/share/jupyter/nbextensions/code_prettify/autopep8.js\n",
            "\u001b[32m[I 07:00:23 InstallContribNbextensionsApp]\u001b[m Up to date: /root/.local/share/jupyter/nbextensions/code_prettify/2to3.yaml\n",
            "\u001b[32m[I 07:00:23 InstallContribNbextensionsApp]\u001b[m Up to date: /root/.local/share/jupyter/nbextensions/code_prettify/code_prettify.yaml\n",
            "\u001b[32m[I 07:00:23 InstallContribNbextensionsApp]\u001b[m Up to date: /root/.local/share/jupyter/nbextensions/code_prettify/README.md\n",
            "\u001b[32m[I 07:00:23 InstallContribNbextensionsApp]\u001b[m Up to date: /root/.local/share/jupyter/nbextensions/code_prettify/README_code_prettify.md\n",
            "\u001b[32m[I 07:00:23 InstallContribNbextensionsApp]\u001b[m Up to date: /root/.local/share/jupyter/nbextensions/code_prettify/code_prettify.js\n",
            "\u001b[32m[I 07:00:23 InstallContribNbextensionsApp]\u001b[m Up to date: /root/.local/share/jupyter/nbextensions/code_prettify/isort.js\n",
            "\u001b[32m[I 07:00:23 InstallContribNbextensionsApp]\u001b[m Up to date: /root/.local/share/jupyter/nbextensions/code_prettify/demo_2to3.gif\n",
            "\u001b[32m[I 07:00:23 InstallContribNbextensionsApp]\u001b[m Up to date: /root/.local/share/jupyter/nbextensions/code_prettify/kernel_exec_on_cell.js\n",
            "\u001b[32m[I 07:00:23 InstallContribNbextensionsApp]\u001b[m Up to date: /root/.local/share/jupyter/nbextensions/code_prettify/README_isort.md\n",
            "\u001b[32m[I 07:00:23 InstallContribNbextensionsApp]\u001b[m Up to date: /root/.local/share/jupyter/nbextensions/code_prettify/autopep8.yaml\n",
            "\u001b[32m[I 07:00:23 InstallContribNbextensionsApp]\u001b[m Up to date: /root/.local/share/jupyter/nbextensions/code_prettify/README_autopep8.md\n",
            "\u001b[32m[I 07:00:23 InstallContribNbextensionsApp]\u001b[m Up to date: /root/.local/share/jupyter/nbextensions/code_prettify/demo-R.gif\n",
            "\u001b[32m[I 07:00:23 InstallContribNbextensionsApp]\u001b[m Up to date: /root/.local/share/jupyter/nbextensions/code_prettify/demo-py.gif\n",
            "\u001b[32m[I 07:00:23 InstallContribNbextensionsApp]\u001b[m Up to date: /root/.local/share/jupyter/nbextensions/code_prettify/2to3.js\n",
            "\u001b[32m[I 07:00:23 InstallContribNbextensionsApp]\u001b[m Up to date: /root/.local/share/jupyter/nbextensions/code_prettify/README_2to3.md\n",
            "\u001b[32m[I 07:00:23 InstallContribNbextensionsApp]\u001b[m - Validating: \u001b[32mOK\u001b[0m\n",
            "\u001b[32m[I 07:00:23 InstallContribNbextensionsApp]\u001b[m Installing /usr/local/lib/python3.6/dist-packages/jupyter_contrib_nbextensions/nbextensions/code_prettify -> code_prettify\n",
            "\u001b[32m[I 07:00:23 InstallContribNbextensionsApp]\u001b[m Up to date: /root/.local/share/jupyter/nbextensions/code_prettify/demo-jv.gif\n",
            "\u001b[32m[I 07:00:23 InstallContribNbextensionsApp]\u001b[m Up to date: /root/.local/share/jupyter/nbextensions/code_prettify/isort.yaml\n",
            "\u001b[32m[I 07:00:23 InstallContribNbextensionsApp]\u001b[m Up to date: /root/.local/share/jupyter/nbextensions/code_prettify/autopep8.js\n",
            "\u001b[32m[I 07:00:23 InstallContribNbextensionsApp]\u001b[m Up to date: /root/.local/share/jupyter/nbextensions/code_prettify/2to3.yaml\n",
            "\u001b[32m[I 07:00:23 InstallContribNbextensionsApp]\u001b[m Up to date: /root/.local/share/jupyter/nbextensions/code_prettify/code_prettify.yaml\n",
            "\u001b[32m[I 07:00:23 InstallContribNbextensionsApp]\u001b[m Up to date: /root/.local/share/jupyter/nbextensions/code_prettify/README.md\n",
            "\u001b[32m[I 07:00:23 InstallContribNbextensionsApp]\u001b[m Up to date: /root/.local/share/jupyter/nbextensions/code_prettify/README_code_prettify.md\n",
            "\u001b[32m[I 07:00:23 InstallContribNbextensionsApp]\u001b[m Up to date: /root/.local/share/jupyter/nbextensions/code_prettify/code_prettify.js\n",
            "\u001b[32m[I 07:00:23 InstallContribNbextensionsApp]\u001b[m Up to date: /root/.local/share/jupyter/nbextensions/code_prettify/isort.js\n",
            "\u001b[32m[I 07:00:23 InstallContribNbextensionsApp]\u001b[m Up to date: /root/.local/share/jupyter/nbextensions/code_prettify/demo_2to3.gif\n",
            "\u001b[32m[I 07:00:23 InstallContribNbextensionsApp]\u001b[m Up to date: /root/.local/share/jupyter/nbextensions/code_prettify/kernel_exec_on_cell.js\n",
            "\u001b[32m[I 07:00:23 InstallContribNbextensionsApp]\u001b[m Up to date: /root/.local/share/jupyter/nbextensions/code_prettify/README_isort.md\n",
            "\u001b[32m[I 07:00:23 InstallContribNbextensionsApp]\u001b[m Up to date: /root/.local/share/jupyter/nbextensions/code_prettify/autopep8.yaml\n",
            "\u001b[32m[I 07:00:23 InstallContribNbextensionsApp]\u001b[m Up to date: /root/.local/share/jupyter/nbextensions/code_prettify/README_autopep8.md\n",
            "\u001b[32m[I 07:00:23 InstallContribNbextensionsApp]\u001b[m Up to date: /root/.local/share/jupyter/nbextensions/code_prettify/demo-R.gif\n",
            "\u001b[32m[I 07:00:23 InstallContribNbextensionsApp]\u001b[m Up to date: /root/.local/share/jupyter/nbextensions/code_prettify/demo-py.gif\n",
            "\u001b[32m[I 07:00:23 InstallContribNbextensionsApp]\u001b[m Up to date: /root/.local/share/jupyter/nbextensions/code_prettify/2to3.js\n",
            "\u001b[32m[I 07:00:23 InstallContribNbextensionsApp]\u001b[m Up to date: /root/.local/share/jupyter/nbextensions/code_prettify/README_2to3.md\n",
            "\u001b[32m[I 07:00:23 InstallContribNbextensionsApp]\u001b[m - Validating: \u001b[32mOK\u001b[0m\n",
            "\u001b[32m[I 07:00:23 InstallContribNbextensionsApp]\u001b[m Installing /usr/local/lib/python3.6/dist-packages/jupyter_contrib_nbextensions/nbextensions/code_font_size -> code_font_size\n",
            "\u001b[32m[I 07:00:23 InstallContribNbextensionsApp]\u001b[m Making directory: /root/.local/share/jupyter/nbextensions/code_font_size/\n",
            "\u001b[32m[I 07:00:23 InstallContribNbextensionsApp]\u001b[m Copying: /usr/local/lib/python3.6/dist-packages/jupyter_contrib_nbextensions/nbextensions/code_font_size/code_font_size.js -> /root/.local/share/jupyter/nbextensions/code_font_size/code_font_size.js\n",
            "\u001b[32m[I 07:00:23 InstallContribNbextensionsApp]\u001b[m Copying: /usr/local/lib/python3.6/dist-packages/jupyter_contrib_nbextensions/nbextensions/code_font_size/README.md -> /root/.local/share/jupyter/nbextensions/code_font_size/README.md\n",
            "\u001b[32m[I 07:00:23 InstallContribNbextensionsApp]\u001b[m Copying: /usr/local/lib/python3.6/dist-packages/jupyter_contrib_nbextensions/nbextensions/code_font_size/code_font_size.yaml -> /root/.local/share/jupyter/nbextensions/code_font_size/code_font_size.yaml\n",
            "\u001b[32m[I 07:00:23 InstallContribNbextensionsApp]\u001b[m - Validating: \u001b[32mOK\u001b[0m\n",
            "\u001b[32m[I 07:00:23 InstallContribNbextensionsApp]\u001b[m Installing /usr/local/lib/python3.6/dist-packages/jupyter_contrib_nbextensions/nbextensions/cell_filter -> cell_filter\n",
            "\u001b[32m[I 07:00:23 InstallContribNbextensionsApp]\u001b[m Making directory: /root/.local/share/jupyter/nbextensions/cell_filter/\n",
            "\u001b[32m[I 07:00:23 InstallContribNbextensionsApp]\u001b[m Copying: /usr/local/lib/python3.6/dist-packages/jupyter_contrib_nbextensions/nbextensions/cell_filter/README.md -> /root/.local/share/jupyter/nbextensions/cell_filter/README.md\n",
            "\u001b[32m[I 07:00:23 InstallContribNbextensionsApp]\u001b[m Copying: /usr/local/lib/python3.6/dist-packages/jupyter_contrib_nbextensions/nbextensions/cell_filter/cell_filter.yml -> /root/.local/share/jupyter/nbextensions/cell_filter/cell_filter.yml\n",
            "\u001b[32m[I 07:00:23 InstallContribNbextensionsApp]\u001b[m Copying: /usr/local/lib/python3.6/dist-packages/jupyter_contrib_nbextensions/nbextensions/cell_filter/cell_filter.js -> /root/.local/share/jupyter/nbextensions/cell_filter/cell_filter.js\n",
            "\u001b[32m[I 07:00:23 InstallContribNbextensionsApp]\u001b[m - Validating: \u001b[32mOK\u001b[0m\n",
            "\u001b[32m[I 07:00:23 InstallContribNbextensionsApp]\u001b[m Installing /usr/local/lib/python3.6/dist-packages/jupyter_contrib_nbextensions/nbextensions/autosavetime -> autosavetime\n",
            "\u001b[32m[I 07:00:23 InstallContribNbextensionsApp]\u001b[m Making directory: /root/.local/share/jupyter/nbextensions/autosavetime/\n",
            "\u001b[32m[I 07:00:23 InstallContribNbextensionsApp]\u001b[m Copying: /usr/local/lib/python3.6/dist-packages/jupyter_contrib_nbextensions/nbextensions/autosavetime/icon.png -> /root/.local/share/jupyter/nbextensions/autosavetime/icon.png\n",
            "\u001b[32m[I 07:00:23 InstallContribNbextensionsApp]\u001b[m Copying: /usr/local/lib/python3.6/dist-packages/jupyter_contrib_nbextensions/nbextensions/autosavetime/README.md -> /root/.local/share/jupyter/nbextensions/autosavetime/README.md\n",
            "\u001b[32m[I 07:00:23 InstallContribNbextensionsApp]\u001b[m Copying: /usr/local/lib/python3.6/dist-packages/jupyter_contrib_nbextensions/nbextensions/autosavetime/main.js -> /root/.local/share/jupyter/nbextensions/autosavetime/main.js\n",
            "\u001b[32m[I 07:00:23 InstallContribNbextensionsApp]\u001b[m Copying: /usr/local/lib/python3.6/dist-packages/jupyter_contrib_nbextensions/nbextensions/autosavetime/autosavetime.yaml -> /root/.local/share/jupyter/nbextensions/autosavetime/autosavetime.yaml\n",
            "\u001b[32m[I 07:00:23 InstallContribNbextensionsApp]\u001b[m - Validating: \u001b[32mOK\u001b[0m\n",
            "\u001b[32m[I 07:00:23 InstallContribNbextensionsApp]\u001b[m Installing /usr/local/lib/python3.6/dist-packages/jupyter_contrib_nbextensions/nbextensions/tree-filter -> tree-filter\n",
            "\u001b[32m[I 07:00:23 InstallContribNbextensionsApp]\u001b[m Making directory: /root/.local/share/jupyter/nbextensions/tree-filter/\n",
            "\u001b[32m[I 07:00:23 InstallContribNbextensionsApp]\u001b[m Copying: /usr/local/lib/python3.6/dist-packages/jupyter_contrib_nbextensions/nbextensions/tree-filter/index.js -> /root/.local/share/jupyter/nbextensions/tree-filter/index.js\n",
            "\u001b[32m[I 07:00:23 InstallContribNbextensionsApp]\u001b[m Copying: /usr/local/lib/python3.6/dist-packages/jupyter_contrib_nbextensions/nbextensions/tree-filter/tree-filter.yaml -> /root/.local/share/jupyter/nbextensions/tree-filter/tree-filter.yaml\n",
            "\u001b[32m[I 07:00:23 InstallContribNbextensionsApp]\u001b[m Copying: /usr/local/lib/python3.6/dist-packages/jupyter_contrib_nbextensions/nbextensions/tree-filter/demo.gif -> /root/.local/share/jupyter/nbextensions/tree-filter/demo.gif\n",
            "\u001b[32m[I 07:00:23 InstallContribNbextensionsApp]\u001b[m Copying: /usr/local/lib/python3.6/dist-packages/jupyter_contrib_nbextensions/nbextensions/tree-filter/readme.md -> /root/.local/share/jupyter/nbextensions/tree-filter/readme.md\n",
            "\u001b[32m[I 07:00:23 InstallContribNbextensionsApp]\u001b[m - Validating: \u001b[32mOK\u001b[0m\n",
            "\u001b[32m[I 07:00:23 InstallContribNbextensionsApp]\u001b[m Installing /usr/local/lib/python3.6/dist-packages/jupyter_contrib_nbextensions/nbextensions/skill -> skill\n",
            "\u001b[32m[I 07:00:23 InstallContribNbextensionsApp]\u001b[m Making directory: /root/.local/share/jupyter/nbextensions/skill/\n",
            "\u001b[32m[I 07:00:23 InstallContribNbextensionsApp]\u001b[m Copying: /usr/local/lib/python3.6/dist-packages/jupyter_contrib_nbextensions/nbextensions/skill/skill.yaml -> /root/.local/share/jupyter/nbextensions/skill/skill.yaml\n",
            "\u001b[32m[I 07:00:23 InstallContribNbextensionsApp]\u001b[m Copying: /usr/local/lib/python3.6/dist-packages/jupyter_contrib_nbextensions/nbextensions/skill/README.md -> /root/.local/share/jupyter/nbextensions/skill/README.md\n",
            "\u001b[32m[I 07:00:23 InstallContribNbextensionsApp]\u001b[m Copying: /usr/local/lib/python3.6/dist-packages/jupyter_contrib_nbextensions/nbextensions/skill/skill.js -> /root/.local/share/jupyter/nbextensions/skill/skill.js\n",
            "\u001b[32m[I 07:00:23 InstallContribNbextensionsApp]\u001b[m Copying: /usr/local/lib/python3.6/dist-packages/jupyter_contrib_nbextensions/nbextensions/skill/main.js -> /root/.local/share/jupyter/nbextensions/skill/main.js\n",
            "\u001b[32m[I 07:00:23 InstallContribNbextensionsApp]\u001b[m - Validating: \u001b[32mOK\u001b[0m\n",
            "\u001b[32m[I 07:00:23 InstallContribNbextensionsApp]\u001b[m Installing /usr/local/lib/python3.6/dist-packages/jupyter_contrib_nbextensions/nbextensions/keyboard_shortcut_editor -> keyboard_shortcut_editor\n",
            "\u001b[32m[I 07:00:23 InstallContribNbextensionsApp]\u001b[m Making directory: /root/.local/share/jupyter/nbextensions/keyboard_shortcut_editor/\n",
            "\u001b[32m[I 07:00:23 InstallContribNbextensionsApp]\u001b[m Copying: /usr/local/lib/python3.6/dist-packages/jupyter_contrib_nbextensions/nbextensions/keyboard_shortcut_editor/icon.png -> /root/.local/share/jupyter/nbextensions/keyboard_shortcut_editor/icon.png\n",
            "\u001b[32m[I 07:00:23 InstallContribNbextensionsApp]\u001b[m Copying: /usr/local/lib/python3.6/dist-packages/jupyter_contrib_nbextensions/nbextensions/keyboard_shortcut_editor/readme_reset_disabled.png -> /root/.local/share/jupyter/nbextensions/keyboard_shortcut_editor/readme_reset_disabled.png\n",
            "\u001b[32m[I 07:00:23 InstallContribNbextensionsApp]\u001b[m Copying: /usr/local/lib/python3.6/dist-packages/jupyter_contrib_nbextensions/nbextensions/keyboard_shortcut_editor/quickhelp_shim.js -> /root/.local/share/jupyter/nbextensions/keyboard_shortcut_editor/quickhelp_shim.js\n",
            "\u001b[32m[I 07:00:23 InstallContribNbextensionsApp]\u001b[m Copying: /usr/local/lib/python3.6/dist-packages/jupyter_contrib_nbextensions/nbextensions/keyboard_shortcut_editor/readme_conflict.png -> /root/.local/share/jupyter/nbextensions/keyboard_shortcut_editor/readme_conflict.png\n",
            "\u001b[32m[I 07:00:23 InstallContribNbextensionsApp]\u001b[m Copying: /usr/local/lib/python3.6/dist-packages/jupyter_contrib_nbextensions/nbextensions/keyboard_shortcut_editor/main.css -> /root/.local/share/jupyter/nbextensions/keyboard_shortcut_editor/main.css\n",
            "\u001b[32m[I 07:00:23 InstallContribNbextensionsApp]\u001b[m Copying: /usr/local/lib/python3.6/dist-packages/jupyter_contrib_nbextensions/nbextensions/keyboard_shortcut_editor/readme_add_new_link.png -> /root/.local/share/jupyter/nbextensions/keyboard_shortcut_editor/readme_add_new_link.png\n",
            "\u001b[32m[I 07:00:23 InstallContribNbextensionsApp]\u001b[m Copying: /usr/local/lib/python3.6/dist-packages/jupyter_contrib_nbextensions/nbextensions/keyboard_shortcut_editor/keyboard_shortcut_editor.yaml -> /root/.local/share/jupyter/nbextensions/keyboard_shortcut_editor/keyboard_shortcut_editor.yaml\n",
            "\u001b[32m[I 07:00:23 InstallContribNbextensionsApp]\u001b[m Copying: /usr/local/lib/python3.6/dist-packages/jupyter_contrib_nbextensions/nbextensions/keyboard_shortcut_editor/README.md -> /root/.local/share/jupyter/nbextensions/keyboard_shortcut_editor/README.md\n",
            "\u001b[32m[I 07:00:23 InstallContribNbextensionsApp]\u001b[m Copying: /usr/local/lib/python3.6/dist-packages/jupyter_contrib_nbextensions/nbextensions/keyboard_shortcut_editor/readme_undefined_key.png -> /root/.local/share/jupyter/nbextensions/keyboard_shortcut_editor/readme_undefined_key.png\n",
            "\u001b[32m[I 07:00:23 InstallContribNbextensionsApp]\u001b[m Copying: /usr/local/lib/python3.6/dist-packages/jupyter_contrib_nbextensions/nbextensions/keyboard_shortcut_editor/readme_menu_item.png -> /root/.local/share/jupyter/nbextensions/keyboard_shortcut_editor/readme_menu_item.png\n",
            "\u001b[32m[I 07:00:23 InstallContribNbextensionsApp]\u001b[m Copying: /usr/local/lib/python3.6/dist-packages/jupyter_contrib_nbextensions/nbextensions/keyboard_shortcut_editor/readme_dropdown.png -> /root/.local/share/jupyter/nbextensions/keyboard_shortcut_editor/readme_dropdown.png\n",
            "\u001b[32m[I 07:00:23 InstallContribNbextensionsApp]\u001b[m Copying: /usr/local/lib/python3.6/dist-packages/jupyter_contrib_nbextensions/nbextensions/keyboard_shortcut_editor/readme_shortcut_editor_blank.png -> /root/.local/share/jupyter/nbextensions/keyboard_shortcut_editor/readme_shortcut_editor_blank.png\n",
            "\u001b[32m[I 07:00:23 InstallContribNbextensionsApp]\u001b[m Copying: /usr/local/lib/python3.6/dist-packages/jupyter_contrib_nbextensions/nbextensions/keyboard_shortcut_editor/main.js -> /root/.local/share/jupyter/nbextensions/keyboard_shortcut_editor/main.js\n",
            "\u001b[32m[I 07:00:23 InstallContribNbextensionsApp]\u001b[m Copying: /usr/local/lib/python3.6/dist-packages/jupyter_contrib_nbextensions/nbextensions/keyboard_shortcut_editor/readme_comma.png -> /root/.local/share/jupyter/nbextensions/keyboard_shortcut_editor/readme_comma.png\n",
            "\u001b[32m[I 07:00:23 InstallContribNbextensionsApp]\u001b[m Copying: /usr/local/lib/python3.6/dist-packages/jupyter_contrib_nbextensions/nbextensions/keyboard_shortcut_editor/kse_components.js -> /root/.local/share/jupyter/nbextensions/keyboard_shortcut_editor/kse_components.js\n",
            "\u001b[32m[I 07:00:23 InstallContribNbextensionsApp]\u001b[m Copying: /usr/local/lib/python3.6/dist-packages/jupyter_contrib_nbextensions/nbextensions/keyboard_shortcut_editor/readme_add_new_select_action.png -> /root/.local/share/jupyter/nbextensions/keyboard_shortcut_editor/readme_add_new_select_action.png\n",
            "\u001b[32m[I 07:00:23 InstallContribNbextensionsApp]\u001b[m Copying: /usr/local/lib/python3.6/dist-packages/jupyter_contrib_nbextensions/nbextensions/keyboard_shortcut_editor/readme_shortcut_editor_success.png -> /root/.local/share/jupyter/nbextensions/keyboard_shortcut_editor/readme_shortcut_editor_success.png\n",
            "\u001b[32m[I 07:00:23 InstallContribNbextensionsApp]\u001b[m - Validating: \u001b[32mOK\u001b[0m\n",
            "\u001b[32m[I 07:00:23 InstallContribNbextensionsApp]\u001b[m Installing /usr/local/lib/python3.6/dist-packages/jupyter_contrib_nbextensions/nbextensions/autoscroll -> autoscroll\n",
            "\u001b[32m[I 07:00:23 InstallContribNbextensionsApp]\u001b[m Making directory: /root/.local/share/jupyter/nbextensions/autoscroll/\n",
            "\u001b[32m[I 07:00:23 InstallContribNbextensionsApp]\u001b[m Copying: /usr/local/lib/python3.6/dist-packages/jupyter_contrib_nbextensions/nbextensions/autoscroll/icon.png -> /root/.local/share/jupyter/nbextensions/autoscroll/icon.png\n",
            "\u001b[32m[I 07:00:23 InstallContribNbextensionsApp]\u001b[m Copying: /usr/local/lib/python3.6/dist-packages/jupyter_contrib_nbextensions/nbextensions/autoscroll/autoscroll.yaml -> /root/.local/share/jupyter/nbextensions/autoscroll/autoscroll.yaml\n",
            "\u001b[32m[I 07:00:23 InstallContribNbextensionsApp]\u001b[m Copying: /usr/local/lib/python3.6/dist-packages/jupyter_contrib_nbextensions/nbextensions/autoscroll/README.md -> /root/.local/share/jupyter/nbextensions/autoscroll/README.md\n",
            "\u001b[32m[I 07:00:23 InstallContribNbextensionsApp]\u001b[m Copying: /usr/local/lib/python3.6/dist-packages/jupyter_contrib_nbextensions/nbextensions/autoscroll/main.js -> /root/.local/share/jupyter/nbextensions/autoscroll/main.js\n",
            "\u001b[32m[I 07:00:23 InstallContribNbextensionsApp]\u001b[m - Validating: \u001b[32mOK\u001b[0m\n",
            "\u001b[32m[I 07:00:23 InstallContribNbextensionsApp]\u001b[m Installing /usr/local/lib/python3.6/dist-packages/jupyter_contrib_nbextensions/nbextensions/move_selected_cells -> move_selected_cells\n",
            "\u001b[32m[I 07:00:23 InstallContribNbextensionsApp]\u001b[m Making directory: /root/.local/share/jupyter/nbextensions/move_selected_cells/\n",
            "\u001b[32m[I 07:00:23 InstallContribNbextensionsApp]\u001b[m Copying: /usr/local/lib/python3.6/dist-packages/jupyter_contrib_nbextensions/nbextensions/move_selected_cells/move_selected_cells.yaml -> /root/.local/share/jupyter/nbextensions/move_selected_cells/move_selected_cells.yaml\n",
            "\u001b[32m[I 07:00:23 InstallContribNbextensionsApp]\u001b[m Copying: /usr/local/lib/python3.6/dist-packages/jupyter_contrib_nbextensions/nbextensions/move_selected_cells/README.md -> /root/.local/share/jupyter/nbextensions/move_selected_cells/README.md\n",
            "\u001b[32m[I 07:00:23 InstallContribNbextensionsApp]\u001b[m Copying: /usr/local/lib/python3.6/dist-packages/jupyter_contrib_nbextensions/nbextensions/move_selected_cells/main.js -> /root/.local/share/jupyter/nbextensions/move_selected_cells/main.js\n",
            "\u001b[32m[I 07:00:23 InstallContribNbextensionsApp]\u001b[m - Validating: \u001b[32mOK\u001b[0m\n",
            "\u001b[32m[I 07:00:23 InstallContribNbextensionsApp]\u001b[m Installing /usr/local/lib/python3.6/dist-packages/jupyter_contrib_nbextensions/nbextensions/limit_output -> limit_output\n",
            "\u001b[32m[I 07:00:23 InstallContribNbextensionsApp]\u001b[m Making directory: /root/.local/share/jupyter/nbextensions/limit_output/\n",
            "\u001b[32m[I 07:00:23 InstallContribNbextensionsApp]\u001b[m Copying: /usr/local/lib/python3.6/dist-packages/jupyter_contrib_nbextensions/nbextensions/limit_output/icon.png -> /root/.local/share/jupyter/nbextensions/limit_output/icon.png\n",
            "\u001b[32m[I 07:00:23 InstallContribNbextensionsApp]\u001b[m Copying: /usr/local/lib/python3.6/dist-packages/jupyter_contrib_nbextensions/nbextensions/limit_output/limit-output.yaml -> /root/.local/share/jupyter/nbextensions/limit_output/limit-output.yaml\n",
            "\u001b[32m[I 07:00:23 InstallContribNbextensionsApp]\u001b[m Copying: /usr/local/lib/python3.6/dist-packages/jupyter_contrib_nbextensions/nbextensions/limit_output/main.js -> /root/.local/share/jupyter/nbextensions/limit_output/main.js\n",
            "\u001b[32m[I 07:00:23 InstallContribNbextensionsApp]\u001b[m Copying: /usr/local/lib/python3.6/dist-packages/jupyter_contrib_nbextensions/nbextensions/limit_output/readme.md -> /root/.local/share/jupyter/nbextensions/limit_output/readme.md\n",
            "\u001b[32m[I 07:00:23 InstallContribNbextensionsApp]\u001b[m - Validating: \u001b[32mOK\u001b[0m\n",
            "\u001b[32m[I 07:00:23 InstallContribNbextensionsApp]\u001b[m Installing /usr/local/lib/python3.6/dist-packages/jupyter_contrib_nbextensions/nbextensions/toc2 -> toc2\n",
            "\u001b[32m[I 07:00:23 InstallContribNbextensionsApp]\u001b[m Making directory: /root/.local/share/jupyter/nbextensions/toc2/\n",
            "\u001b[32m[I 07:00:23 InstallContribNbextensionsApp]\u001b[m Copying: /usr/local/lib/python3.6/dist-packages/jupyter_contrib_nbextensions/nbextensions/toc2/demo2.gif -> /root/.local/share/jupyter/nbextensions/toc2/demo2.gif\n",
            "\u001b[32m[I 07:00:23 InstallContribNbextensionsApp]\u001b[m Copying: /usr/local/lib/python3.6/dist-packages/jupyter_contrib_nbextensions/nbextensions/toc2/icon.png -> /root/.local/share/jupyter/nbextensions/toc2/icon.png\n",
            "\u001b[32m[I 07:00:23 InstallContribNbextensionsApp]\u001b[m Copying: /usr/local/lib/python3.6/dist-packages/jupyter_contrib_nbextensions/nbextensions/toc2/main.css -> /root/.local/share/jupyter/nbextensions/toc2/main.css\n",
            "\u001b[32m[I 07:00:23 InstallContribNbextensionsApp]\u001b[m Copying: /usr/local/lib/python3.6/dist-packages/jupyter_contrib_nbextensions/nbextensions/toc2/demo_dark.png -> /root/.local/share/jupyter/nbextensions/toc2/demo_dark.png\n",
            "\u001b[32m[I 07:00:23 InstallContribNbextensionsApp]\u001b[m Copying: /usr/local/lib/python3.6/dist-packages/jupyter_contrib_nbextensions/nbextensions/toc2/demo3.gif -> /root/.local/share/jupyter/nbextensions/toc2/demo3.gif\n",
            "\u001b[32m[I 07:00:23 InstallContribNbextensionsApp]\u001b[m Copying: /usr/local/lib/python3.6/dist-packages/jupyter_contrib_nbextensions/nbextensions/toc2/toc2.yaml -> /root/.local/share/jupyter/nbextensions/toc2/toc2.yaml\n",
            "\u001b[32m[I 07:00:23 InstallContribNbextensionsApp]\u001b[m Copying: /usr/local/lib/python3.6/dist-packages/jupyter_contrib_nbextensions/nbextensions/toc2/README.md -> /root/.local/share/jupyter/nbextensions/toc2/README.md\n",
            "\u001b[32m[I 07:00:23 InstallContribNbextensionsApp]\u001b[m Copying: /usr/local/lib/python3.6/dist-packages/jupyter_contrib_nbextensions/nbextensions/toc2/demo.gif -> /root/.local/share/jupyter/nbextensions/toc2/demo.gif\n",
            "\u001b[32m[I 07:00:23 InstallContribNbextensionsApp]\u001b[m Copying: /usr/local/lib/python3.6/dist-packages/jupyter_contrib_nbextensions/nbextensions/toc2/main.js -> /root/.local/share/jupyter/nbextensions/toc2/main.js\n",
            "\u001b[32m[I 07:00:23 InstallContribNbextensionsApp]\u001b[m Copying: /usr/local/lib/python3.6/dist-packages/jupyter_contrib_nbextensions/nbextensions/toc2/toc2.js -> /root/.local/share/jupyter/nbextensions/toc2/toc2.js\n",
            "\u001b[32m[I 07:00:23 InstallContribNbextensionsApp]\u001b[m Copying: /usr/local/lib/python3.6/dist-packages/jupyter_contrib_nbextensions/nbextensions/toc2/image.png -> /root/.local/share/jupyter/nbextensions/toc2/image.png\n",
            "\u001b[32m[I 07:00:23 InstallContribNbextensionsApp]\u001b[m - Validating: \u001b[32mOK\u001b[0m\n",
            "\u001b[32m[I 07:00:23 InstallContribNbextensionsApp]\u001b[m Installing /usr/local/lib/python3.6/dist-packages/jupyter_contrib_nbextensions/nbextensions/highlighter -> highlighter\n",
            "\u001b[32m[I 07:00:23 InstallContribNbextensionsApp]\u001b[m Making directory: /root/.local/share/jupyter/nbextensions/highlighter/\n",
            "\u001b[32m[I 07:00:23 InstallContribNbextensionsApp]\u001b[m Copying: /usr/local/lib/python3.6/dist-packages/jupyter_contrib_nbextensions/nbextensions/highlighter/icon.png -> /root/.local/share/jupyter/nbextensions/highlighter/icon.png\n",
            "\u001b[32m[I 07:00:23 InstallContribNbextensionsApp]\u001b[m Copying: /usr/local/lib/python3.6/dist-packages/jupyter_contrib_nbextensions/nbextensions/highlighter/export_highlights.html -> /root/.local/share/jupyter/nbextensions/highlighter/export_highlights.html\n",
            "\u001b[32m[I 07:00:23 InstallContribNbextensionsApp]\u001b[m Copying: /usr/local/lib/python3.6/dist-packages/jupyter_contrib_nbextensions/nbextensions/highlighter/tst_highlights.html -> /root/.local/share/jupyter/nbextensions/highlighter/tst_highlights.html\n",
            "\u001b[32m[I 07:00:23 InstallContribNbextensionsApp]\u001b[m Copying: /usr/local/lib/python3.6/dist-packages/jupyter_contrib_nbextensions/nbextensions/highlighter/demo_highlighter.html -> /root/.local/share/jupyter/nbextensions/highlighter/demo_highlighter.html\n",
            "\u001b[32m[I 07:00:23 InstallContribNbextensionsApp]\u001b[m Copying: /usr/local/lib/python3.6/dist-packages/jupyter_contrib_nbextensions/nbextensions/highlighter/tst_highlights.tex -> /root/.local/share/jupyter/nbextensions/highlighter/tst_highlights.tex\n",
            "\u001b[32m[I 07:00:23 InstallContribNbextensionsApp]\u001b[m Copying: /usr/local/lib/python3.6/dist-packages/jupyter_contrib_nbextensions/nbextensions/highlighter/export_highlights.ipynb -> /root/.local/share/jupyter/nbextensions/highlighter/export_highlights.ipynb\n",
            "\u001b[32m[I 07:00:23 InstallContribNbextensionsApp]\u001b[m Copying: /usr/local/lib/python3.6/dist-packages/jupyter_contrib_nbextensions/nbextensions/highlighter/highlighter.yaml -> /root/.local/share/jupyter/nbextensions/highlighter/highlighter.yaml\n",
            "\u001b[32m[I 07:00:23 InstallContribNbextensionsApp]\u001b[m Copying: /usr/local/lib/python3.6/dist-packages/jupyter_contrib_nbextensions/nbextensions/highlighter/image.gif -> /root/.local/share/jupyter/nbextensions/highlighter/image.gif\n",
            "\u001b[32m[I 07:00:23 InstallContribNbextensionsApp]\u001b[m Copying: /usr/local/lib/python3.6/dist-packages/jupyter_contrib_nbextensions/nbextensions/highlighter/export_highlights.pdf -> /root/.local/share/jupyter/nbextensions/highlighter/export_highlights.pdf\n",
            "\u001b[32m[I 07:00:23 InstallContribNbextensionsApp]\u001b[m Copying: /usr/local/lib/python3.6/dist-packages/jupyter_contrib_nbextensions/nbextensions/highlighter/export_highlights.tex -> /root/.local/share/jupyter/nbextensions/highlighter/export_highlights.tex\n",
            "\u001b[32m[I 07:00:23 InstallContribNbextensionsApp]\u001b[m Copying: /usr/local/lib/python3.6/dist-packages/jupyter_contrib_nbextensions/nbextensions/highlighter/tst_highlights.ipynb -> /root/.local/share/jupyter/nbextensions/highlighter/tst_highlights.ipynb\n",
            "\u001b[32m[I 07:00:23 InstallContribNbextensionsApp]\u001b[m Copying: /usr/local/lib/python3.6/dist-packages/jupyter_contrib_nbextensions/nbextensions/highlighter/demo_highlighter.ipynb -> /root/.local/share/jupyter/nbextensions/highlighter/demo_highlighter.ipynb\n",
            "\u001b[32m[I 07:00:23 InstallContribNbextensionsApp]\u001b[m Copying: /usr/local/lib/python3.6/dist-packages/jupyter_contrib_nbextensions/nbextensions/highlighter/tst_highlights.pdf -> /root/.local/share/jupyter/nbextensions/highlighter/tst_highlights.pdf\n",
            "\u001b[32m[I 07:00:23 InstallContribNbextensionsApp]\u001b[m Copying: /usr/local/lib/python3.6/dist-packages/jupyter_contrib_nbextensions/nbextensions/highlighter/highlighter.css -> /root/.local/share/jupyter/nbextensions/highlighter/highlighter.css\n",
            "\u001b[32m[I 07:00:23 InstallContribNbextensionsApp]\u001b[m Copying: /usr/local/lib/python3.6/dist-packages/jupyter_contrib_nbextensions/nbextensions/highlighter/readme.md -> /root/.local/share/jupyter/nbextensions/highlighter/readme.md\n",
            "\u001b[32m[I 07:00:23 InstallContribNbextensionsApp]\u001b[m Copying: /usr/local/lib/python3.6/dist-packages/jupyter_contrib_nbextensions/nbextensions/highlighter/highlighter.js -> /root/.local/share/jupyter/nbextensions/highlighter/highlighter.js\n",
            "\u001b[32m[I 07:00:23 InstallContribNbextensionsApp]\u001b[m - Validating: \u001b[32mOK\u001b[0m\n",
            "\u001b[32m[I 07:00:23 InstallContribNbextensionsApp]\u001b[m Installing /usr/local/lib/python3.6/dist-packages/jupyter_contrib_nbextensions/nbextensions/scratchpad -> scratchpad\n",
            "\u001b[32m[I 07:00:23 InstallContribNbextensionsApp]\u001b[m Making directory: /root/.local/share/jupyter/nbextensions/scratchpad/\n",
            "\u001b[32m[I 07:00:23 InstallContribNbextensionsApp]\u001b[m Copying: /usr/local/lib/python3.6/dist-packages/jupyter_contrib_nbextensions/nbextensions/scratchpad/README.md -> /root/.local/share/jupyter/nbextensions/scratchpad/README.md\n",
            "\u001b[32m[I 07:00:23 InstallContribNbextensionsApp]\u001b[m Copying: /usr/local/lib/python3.6/dist-packages/jupyter_contrib_nbextensions/nbextensions/scratchpad/scratchpad.yaml -> /root/.local/share/jupyter/nbextensions/scratchpad/scratchpad.yaml\n",
            "\u001b[32m[I 07:00:23 InstallContribNbextensionsApp]\u001b[m Copying: /usr/local/lib/python3.6/dist-packages/jupyter_contrib_nbextensions/nbextensions/scratchpad/LICENSE -> /root/.local/share/jupyter/nbextensions/scratchpad/LICENSE\n",
            "\u001b[32m[I 07:00:23 InstallContribNbextensionsApp]\u001b[m Copying: /usr/local/lib/python3.6/dist-packages/jupyter_contrib_nbextensions/nbextensions/scratchpad/demo.gif -> /root/.local/share/jupyter/nbextensions/scratchpad/demo.gif\n",
            "\u001b[32m[I 07:00:23 InstallContribNbextensionsApp]\u001b[m Copying: /usr/local/lib/python3.6/dist-packages/jupyter_contrib_nbextensions/nbextensions/scratchpad/main.js -> /root/.local/share/jupyter/nbextensions/scratchpad/main.js\n",
            "\u001b[32m[I 07:00:23 InstallContribNbextensionsApp]\u001b[m Copying: /usr/local/lib/python3.6/dist-packages/jupyter_contrib_nbextensions/nbextensions/scratchpad/scratchpad.css -> /root/.local/share/jupyter/nbextensions/scratchpad/scratchpad.css\n",
            "\u001b[32m[I 07:00:23 InstallContribNbextensionsApp]\u001b[m - Validating: \u001b[32mOK\u001b[0m\n",
            "\u001b[32m[I 07:00:23 InstallContribNbextensionsApp]\u001b[m Installing /usr/local/lib/python3.6/dist-packages/jupyter_contrib_nbextensions/nbextensions/addbefore -> addbefore\n",
            "\u001b[32m[I 07:00:23 InstallContribNbextensionsApp]\u001b[m Making directory: /root/.local/share/jupyter/nbextensions/addbefore/\n",
            "\u001b[32m[I 07:00:23 InstallContribNbextensionsApp]\u001b[m Copying: /usr/local/lib/python3.6/dist-packages/jupyter_contrib_nbextensions/nbextensions/addbefore/icon.png -> /root/.local/share/jupyter/nbextensions/addbefore/icon.png\n",
            "\u001b[32m[I 07:00:23 InstallContribNbextensionsApp]\u001b[m Copying: /usr/local/lib/python3.6/dist-packages/jupyter_contrib_nbextensions/nbextensions/addbefore/addbefore.yaml -> /root/.local/share/jupyter/nbextensions/addbefore/addbefore.yaml\n",
            "\u001b[32m[I 07:00:23 InstallContribNbextensionsApp]\u001b[m Copying: /usr/local/lib/python3.6/dist-packages/jupyter_contrib_nbextensions/nbextensions/addbefore/main.js -> /root/.local/share/jupyter/nbextensions/addbefore/main.js\n",
            "\u001b[32m[I 07:00:23 InstallContribNbextensionsApp]\u001b[m Copying: /usr/local/lib/python3.6/dist-packages/jupyter_contrib_nbextensions/nbextensions/addbefore/readme.md -> /root/.local/share/jupyter/nbextensions/addbefore/readme.md\n",
            "\u001b[32m[I 07:00:23 InstallContribNbextensionsApp]\u001b[m - Validating: \u001b[32mOK\u001b[0m\n",
            "\u001b[32m[I 07:00:23 InstallContribNbextensionsApp]\u001b[m Installing /usr/local/lib/python3.6/dist-packages/jupyter_contrib_nbextensions/nbextensions/notify -> notify\n",
            "\u001b[32m[I 07:00:23 InstallContribNbextensionsApp]\u001b[m Making directory: /root/.local/share/jupyter/nbextensions/notify/\n",
            "\u001b[32m[I 07:00:23 InstallContribNbextensionsApp]\u001b[m Copying: /usr/local/lib/python3.6/dist-packages/jupyter_contrib_nbextensions/nbextensions/notify/notify.mp3 -> /root/.local/share/jupyter/nbextensions/notify/notify.mp3\n",
            "\u001b[32m[I 07:00:23 InstallContribNbextensionsApp]\u001b[m Copying: /usr/local/lib/python3.6/dist-packages/jupyter_contrib_nbextensions/nbextensions/notify/notification.png -> /root/.local/share/jupyter/nbextensions/notify/notification.png\n",
            "\u001b[32m[I 07:00:23 InstallContribNbextensionsApp]\u001b[m Copying: /usr/local/lib/python3.6/dist-packages/jupyter_contrib_nbextensions/nbextensions/notify/notify.js -> /root/.local/share/jupyter/nbextensions/notify/notify.js\n",
            "\u001b[32m[I 07:00:23 InstallContribNbextensionsApp]\u001b[m Copying: /usr/local/lib/python3.6/dist-packages/jupyter_contrib_nbextensions/nbextensions/notify/notify.yaml -> /root/.local/share/jupyter/nbextensions/notify/notify.yaml\n",
            "\u001b[32m[I 07:00:23 InstallContribNbextensionsApp]\u001b[m Copying: /usr/local/lib/python3.6/dist-packages/jupyter_contrib_nbextensions/nbextensions/notify/readme.md -> /root/.local/share/jupyter/nbextensions/notify/readme.md\n",
            "\u001b[32m[I 07:00:23 InstallContribNbextensionsApp]\u001b[m - Validating: \u001b[32mOK\u001b[0m\n",
            "\u001b[32m[I 07:00:23 InstallContribNbextensionsApp]\u001b[m Installing /usr/local/lib/python3.6/dist-packages/jupyter_contrib_nbextensions/nbextensions/ruler -> ruler\n",
            "\u001b[32m[I 07:00:23 InstallContribNbextensionsApp]\u001b[m Making directory: /root/.local/share/jupyter/nbextensions/ruler/\n",
            "\u001b[32m[I 07:00:23 InstallContribNbextensionsApp]\u001b[m Copying: /usr/local/lib/python3.6/dist-packages/jupyter_contrib_nbextensions/nbextensions/ruler/icon.png -> /root/.local/share/jupyter/nbextensions/ruler/icon.png\n",
            "\u001b[32m[I 07:00:23 InstallContribNbextensionsApp]\u001b[m Copying: /usr/local/lib/python3.6/dist-packages/jupyter_contrib_nbextensions/nbextensions/ruler/ruler.yaml -> /root/.local/share/jupyter/nbextensions/ruler/ruler.yaml\n",
            "\u001b[32m[I 07:00:23 InstallContribNbextensionsApp]\u001b[m Copying: /usr/local/lib/python3.6/dist-packages/jupyter_contrib_nbextensions/nbextensions/ruler/main.js -> /root/.local/share/jupyter/nbextensions/ruler/main.js\n",
            "\u001b[32m[I 07:00:23 InstallContribNbextensionsApp]\u001b[m Copying: /usr/local/lib/python3.6/dist-packages/jupyter_contrib_nbextensions/nbextensions/ruler/readme.md -> /root/.local/share/jupyter/nbextensions/ruler/readme.md\n",
            "\u001b[32m[I 07:00:23 InstallContribNbextensionsApp]\u001b[m Copying: /usr/local/lib/python3.6/dist-packages/jupyter_contrib_nbextensions/nbextensions/ruler/ruler_editor.yaml -> /root/.local/share/jupyter/nbextensions/ruler/ruler_editor.yaml\n",
            "\u001b[32m[I 07:00:23 InstallContribNbextensionsApp]\u001b[m Copying: /usr/local/lib/python3.6/dist-packages/jupyter_contrib_nbextensions/nbextensions/ruler/edit.js -> /root/.local/share/jupyter/nbextensions/ruler/edit.js\n",
            "\u001b[32m[I 07:00:23 InstallContribNbextensionsApp]\u001b[m - Validating: \u001b[32mOK\u001b[0m\n",
            "\u001b[32m[I 07:00:23 InstallContribNbextensionsApp]\u001b[m Installing /usr/local/lib/python3.6/dist-packages/jupyter_contrib_nbextensions/nbextensions/ruler -> ruler\n",
            "\u001b[32m[I 07:00:23 InstallContribNbextensionsApp]\u001b[m Up to date: /root/.local/share/jupyter/nbextensions/ruler/icon.png\n",
            "\u001b[32m[I 07:00:23 InstallContribNbextensionsApp]\u001b[m Up to date: /root/.local/share/jupyter/nbextensions/ruler/ruler.yaml\n",
            "\u001b[32m[I 07:00:23 InstallContribNbextensionsApp]\u001b[m Up to date: /root/.local/share/jupyter/nbextensions/ruler/main.js\n",
            "\u001b[32m[I 07:00:23 InstallContribNbextensionsApp]\u001b[m Up to date: /root/.local/share/jupyter/nbextensions/ruler/readme.md\n",
            "\u001b[32m[I 07:00:23 InstallContribNbextensionsApp]\u001b[m Up to date: /root/.local/share/jupyter/nbextensions/ruler/ruler_editor.yaml\n",
            "\u001b[32m[I 07:00:23 InstallContribNbextensionsApp]\u001b[m Up to date: /root/.local/share/jupyter/nbextensions/ruler/edit.js\n",
            "\u001b[32m[I 07:00:23 InstallContribNbextensionsApp]\u001b[m - Validating: \u001b[32mOK\u001b[0m\n",
            "\u001b[32m[I 07:00:23 InstallContribNbextensionsApp]\u001b[m Installing /usr/local/lib/python3.6/dist-packages/jupyter_contrib_nbextensions/nbextensions/load_tex_macros -> load_tex_macros\n",
            "\u001b[32m[I 07:00:23 InstallContribNbextensionsApp]\u001b[m Making directory: /root/.local/share/jupyter/nbextensions/load_tex_macros/\n",
            "\u001b[32m[I 07:00:23 InstallContribNbextensionsApp]\u001b[m Copying: /usr/local/lib/python3.6/dist-packages/jupyter_contrib_nbextensions/nbextensions/load_tex_macros/icon.png -> /root/.local/share/jupyter/nbextensions/load_tex_macros/icon.png\n",
            "\u001b[32m[I 07:00:23 InstallContribNbextensionsApp]\u001b[m Copying: /usr/local/lib/python3.6/dist-packages/jupyter_contrib_nbextensions/nbextensions/load_tex_macros/load_tex_macros.yaml -> /root/.local/share/jupyter/nbextensions/load_tex_macros/load_tex_macros.yaml\n",
            "\u001b[32m[I 07:00:23 InstallContribNbextensionsApp]\u001b[m Copying: /usr/local/lib/python3.6/dist-packages/jupyter_contrib_nbextensions/nbextensions/load_tex_macros/main.js -> /root/.local/share/jupyter/nbextensions/load_tex_macros/main.js\n",
            "\u001b[32m[I 07:00:23 InstallContribNbextensionsApp]\u001b[m Copying: /usr/local/lib/python3.6/dist-packages/jupyter_contrib_nbextensions/nbextensions/load_tex_macros/readme.md -> /root/.local/share/jupyter/nbextensions/load_tex_macros/readme.md\n",
            "\u001b[32m[I 07:00:23 InstallContribNbextensionsApp]\u001b[m - Validating: \u001b[32mOK\u001b[0m\n",
            "\u001b[32m[I 07:00:23 InstallContribNbextensionsApp]\u001b[m Installing /usr/local/lib/python3.6/dist-packages/jupyter_highlight_selected_word/static/highlight_selected_word -> highlight_selected_word\n",
            "\u001b[32m[I 07:00:23 InstallContribNbextensionsApp]\u001b[m Making directory: /root/.local/share/jupyter/nbextensions/highlight_selected_word/\n",
            "\u001b[32m[I 07:00:23 InstallContribNbextensionsApp]\u001b[m Copying: /usr/local/lib/python3.6/dist-packages/jupyter_highlight_selected_word/static/highlight_selected_word/README.md -> /root/.local/share/jupyter/nbextensions/highlight_selected_word/README.md\n",
            "\u001b[32m[I 07:00:23 InstallContribNbextensionsApp]\u001b[m Copying: /usr/local/lib/python3.6/dist-packages/jupyter_highlight_selected_word/static/highlight_selected_word/configurator.yaml -> /root/.local/share/jupyter/nbextensions/highlight_selected_word/configurator.yaml\n",
            "\u001b[32m[I 07:00:23 InstallContribNbextensionsApp]\u001b[m Copying: /usr/local/lib/python3.6/dist-packages/jupyter_highlight_selected_word/static/highlight_selected_word/main.js -> /root/.local/share/jupyter/nbextensions/highlight_selected_word/main.js\n",
            "\u001b[32m[I 07:00:23 InstallContribNbextensionsApp]\u001b[m - Validating: \u001b[32mOK\u001b[0m\n",
            "\u001b[32m[I 07:00:23 InstallContribNbextensionsApp]\u001b[m Installing /usr/local/lib/python3.6/dist-packages/latex_envs/static -> latex_envs\n",
            "\u001b[32m[I 07:00:23 InstallContribNbextensionsApp]\u001b[m Making directory: /root/.local/share/jupyter/nbextensions/latex_envs/\n",
            "\u001b[32m[I 07:00:23 InstallContribNbextensionsApp]\u001b[m Copying: /usr/local/lib/python3.6/dist-packages/latex_envs/static/latex_envs.yaml -> /root/.local/share/jupyter/nbextensions/latex_envs/latex_envs.yaml\n",
            "\u001b[32m[I 07:00:23 InstallContribNbextensionsApp]\u001b[m Copying: /usr/local/lib/python3.6/dist-packages/latex_envs/static/icon.png -> /root/.local/share/jupyter/nbextensions/latex_envs/icon.png\n",
            "\u001b[32m[I 07:00:23 InstallContribNbextensionsApp]\u001b[m Copying: /usr/local/lib/python3.6/dist-packages/latex_envs/static/example.png -> /root/.local/share/jupyter/nbextensions/latex_envs/example.png\n",
            "\u001b[32m[I 07:00:23 InstallContribNbextensionsApp]\u001b[m Copying: /usr/local/lib/python3.6/dist-packages/latex_envs/static/latex_envs.css -> /root/.local/share/jupyter/nbextensions/latex_envs/latex_envs.css\n",
            "\u001b[32m[I 07:00:23 InstallContribNbextensionsApp]\u001b[m Copying: /usr/local/lib/python3.6/dist-packages/latex_envs/static/main_toolbar.png -> /root/.local/share/jupyter/nbextensions/latex_envs/main_toolbar.png\n",
            "\u001b[32m[I 07:00:23 InstallContribNbextensionsApp]\u001b[m Copying: /usr/local/lib/python3.6/dist-packages/latex_envs/static/thmsInNb4.js -> /root/.local/share/jupyter/nbextensions/latex_envs/thmsInNb4.js\n",
            "\u001b[32m[I 07:00:23 InstallContribNbextensionsApp]\u001b[m Copying: /usr/local/lib/python3.6/dist-packages/latex_envs/static/envsLatex.json -> /root/.local/share/jupyter/nbextensions/latex_envs/envsLatex.json\n",
            "\u001b[32m[I 07:00:23 InstallContribNbextensionsApp]\u001b[m Copying: /usr/local/lib/python3.6/dist-packages/latex_envs/static/envsLatex.js -> /root/.local/share/jupyter/nbextensions/latex_envs/envsLatex.js\n",
            "\u001b[32m[I 07:00:23 InstallContribNbextensionsApp]\u001b[m Copying: /usr/local/lib/python3.6/dist-packages/latex_envs/static/README.md -> /root/.local/share/jupyter/nbextensions/latex_envs/README.md\n",
            "\u001b[32m[I 07:00:23 InstallContribNbextensionsApp]\u001b[m Copying: /usr/local/lib/python3.6/dist-packages/latex_envs/static/configuration_toolbar.png -> /root/.local/share/jupyter/nbextensions/latex_envs/configuration_toolbar.png\n",
            "\u001b[32m[I 07:00:23 InstallContribNbextensionsApp]\u001b[m Copying: /usr/local/lib/python3.6/dist-packages/latex_envs/static/example_user_envs.json -> /root/.local/share/jupyter/nbextensions/latex_envs/example_user_envs.json\n",
            "\u001b[32m[I 07:00:23 InstallContribNbextensionsApp]\u001b[m Copying: /usr/local/lib/python3.6/dist-packages/latex_envs/static/bibtex2.js -> /root/.local/share/jupyter/nbextensions/latex_envs/bibtex2.js\n",
            "\u001b[32m[I 07:00:23 InstallContribNbextensionsApp]\u001b[m Copying: /usr/local/lib/python3.6/dist-packages/latex_envs/static/bibInNb4.js -> /root/.local/share/jupyter/nbextensions/latex_envs/bibInNb4.js\n",
            "\u001b[32m[I 07:00:23 InstallContribNbextensionsApp]\u001b[m Copying: /usr/local/lib/python3.6/dist-packages/latex_envs/static/initNb.js -> /root/.local/share/jupyter/nbextensions/latex_envs/initNb.js\n",
            "\u001b[32m[I 07:00:23 InstallContribNbextensionsApp]\u001b[m Copying: /usr/local/lib/python3.6/dist-packages/latex_envs/static/latex_envs.js -> /root/.local/share/jupyter/nbextensions/latex_envs/latex_envs.js\n",
            "\u001b[32m[I 07:00:23 InstallContribNbextensionsApp]\u001b[m Making directory: /root/.local/share/jupyter/nbextensions/latex_envs/doc\n",
            "\u001b[32m[I 07:00:23 InstallContribNbextensionsApp]\u001b[m Copying: /usr/local/lib/python3.6/dist-packages/latex_envs/static/doc/example.png -> /root/.local/share/jupyter/nbextensions/latex_envs/doc/example.png\n",
            "\u001b[32m[I 07:00:23 InstallContribNbextensionsApp]\u001b[m Copying: /usr/local/lib/python3.6/dist-packages/latex_envs/static/doc/latex_env_doc.ipynb -> /root/.local/share/jupyter/nbextensions/latex_envs/doc/latex_env_doc.ipynb\n",
            "\u001b[32m[I 07:00:23 InstallContribNbextensionsApp]\u001b[m Copying: /usr/local/lib/python3.6/dist-packages/latex_envs/static/doc/latex_env_doc.tex -> /root/.local/share/jupyter/nbextensions/latex_envs/doc/latex_env_doc.tex\n",
            "\u001b[32m[I 07:00:23 InstallContribNbextensionsApp]\u001b[m Copying: /usr/local/lib/python3.6/dist-packages/latex_envs/static/doc/main_toolbar.png -> /root/.local/share/jupyter/nbextensions/latex_envs/doc/main_toolbar.png\n",
            "\u001b[32m[I 07:00:23 InstallContribNbextensionsApp]\u001b[m Copying: /usr/local/lib/python3.6/dist-packages/latex_envs/static/doc/README.md -> /root/.local/share/jupyter/nbextensions/latex_envs/doc/README.md\n",
            "\u001b[32m[I 07:00:23 InstallContribNbextensionsApp]\u001b[m Copying: /usr/local/lib/python3.6/dist-packages/latex_envs/static/doc/Toggles.png -> /root/.local/share/jupyter/nbextensions/latex_envs/doc/Toggles.png\n",
            "\u001b[32m[I 07:00:23 InstallContribNbextensionsApp]\u001b[m Copying: /usr/local/lib/python3.6/dist-packages/latex_envs/static/doc/configuration_toolbar.png -> /root/.local/share/jupyter/nbextensions/latex_envs/doc/configuration_toolbar.png\n",
            "\u001b[32m[I 07:00:23 InstallContribNbextensionsApp]\u001b[m Copying: /usr/local/lib/python3.6/dist-packages/latex_envs/static/doc/IEEEtran.bst -> /root/.local/share/jupyter/nbextensions/latex_envs/doc/IEEEtran.bst\n",
            "\u001b[32m[I 07:00:23 InstallContribNbextensionsApp]\u001b[m Copying: /usr/local/lib/python3.6/dist-packages/latex_envs/static/doc/documentation.tex -> /root/.local/share/jupyter/nbextensions/latex_envs/doc/documentation.tex\n",
            "\u001b[32m[I 07:00:23 InstallContribNbextensionsApp]\u001b[m Copying: /usr/local/lib/python3.6/dist-packages/latex_envs/static/doc/documentation.pdf -> /root/.local/share/jupyter/nbextensions/latex_envs/doc/documentation.pdf\n",
            "\u001b[32m[I 07:00:23 InstallContribNbextensionsApp]\u001b[m Copying: /usr/local/lib/python3.6/dist-packages/latex_envs/static/doc/latex_env_doc.html -> /root/.local/share/jupyter/nbextensions/latex_envs/doc/latex_env_doc.html\n",
            "\u001b[32m[I 07:00:23 InstallContribNbextensionsApp]\u001b[m Copying: /usr/local/lib/python3.6/dist-packages/latex_envs/static/doc/LaTeX_envs_menu.png -> /root/.local/share/jupyter/nbextensions/latex_envs/doc/LaTeX_envs_menu.png\n",
            "\u001b[32m[I 07:00:23 InstallContribNbextensionsApp]\u001b[m Copying: /usr/local/lib/python3.6/dist-packages/latex_envs/static/doc/biblio_ipython.bib -> /root/.local/share/jupyter/nbextensions/latex_envs/doc/biblio_ipython.bib\n",
            "\u001b[32m[I 07:00:23 InstallContribNbextensionsApp]\u001b[m Copying: /usr/local/lib/python3.6/dist-packages/latex_envs/static/doc/header.tex -> /root/.local/share/jupyter/nbextensions/latex_envs/doc/header.tex\n",
            "\u001b[32m[I 07:00:23 InstallContribNbextensionsApp]\u001b[m Copying: /usr/local/lib/python3.6/dist-packages/latex_envs/static/doc/config_toolbar.png -> /root/.local/share/jupyter/nbextensions/latex_envs/doc/config_toolbar.png\n",
            "\u001b[32m[I 07:00:23 InstallContribNbextensionsApp]\u001b[m Making directory: /root/.local/share/jupyter/nbextensions/latex_envs/doc/latex_env_doc_files\n",
            "\u001b[32m[I 07:00:23 InstallContribNbextensionsApp]\u001b[m Copying: /usr/local/lib/python3.6/dist-packages/latex_envs/static/doc/latex_env_doc_files/latex_env_doc_26_2.png -> /root/.local/share/jupyter/nbextensions/latex_envs/doc/latex_env_doc_files/latex_env_doc_26_2.png\n",
            "\u001b[32m[I 07:00:23 InstallContribNbextensionsApp]\u001b[m Copying: /usr/local/lib/python3.6/dist-packages/latex_envs/static/doc/latex_env_doc_files/latex_env_doc_45_0.png -> /root/.local/share/jupyter/nbextensions/latex_envs/doc/latex_env_doc_files/latex_env_doc_45_0.png\n",
            "\u001b[32m[I 07:00:23 InstallContribNbextensionsApp]\u001b[m Copying: /usr/local/lib/python3.6/dist-packages/latex_envs/static/doc/latex_env_doc_files/latex_env_doc_49_0.png -> /root/.local/share/jupyter/nbextensions/latex_envs/doc/latex_env_doc_files/latex_env_doc_49_0.png\n",
            "\u001b[32m[I 07:00:23 InstallContribNbextensionsApp]\u001b[m Copying: /usr/local/lib/python3.6/dist-packages/latex_envs/static/doc/latex_env_doc_files/latex_env_doc_27_2.png -> /root/.local/share/jupyter/nbextensions/latex_envs/doc/latex_env_doc_files/latex_env_doc_27_2.png\n",
            "\u001b[32m[I 07:00:23 InstallContribNbextensionsApp]\u001b[m Copying: /usr/local/lib/python3.6/dist-packages/latex_envs/static/doc/latex_env_doc_files/latex_env_doc_44_0.png -> /root/.local/share/jupyter/nbextensions/latex_envs/doc/latex_env_doc_files/latex_env_doc_44_0.png\n",
            "\u001b[32m[I 07:00:23 InstallContribNbextensionsApp]\u001b[m Copying: /usr/local/lib/python3.6/dist-packages/latex_envs/static/doc/latex_env_doc_files/latex_env_doc_47_0.png -> /root/.local/share/jupyter/nbextensions/latex_envs/doc/latex_env_doc_files/latex_env_doc_47_0.png\n",
            "\u001b[32m[I 07:00:23 InstallContribNbextensionsApp]\u001b[m Copying: /usr/local/lib/python3.6/dist-packages/latex_envs/static/doc/latex_env_doc_files/latex_env_doc_42_0.png -> /root/.local/share/jupyter/nbextensions/latex_envs/doc/latex_env_doc_files/latex_env_doc_42_0.png\n",
            "\u001b[32m[I 07:00:23 InstallContribNbextensionsApp]\u001b[m Copying: /usr/local/lib/python3.6/dist-packages/latex_envs/static/doc/latex_env_doc_files/latex_env_doc_48_0.png -> /root/.local/share/jupyter/nbextensions/latex_envs/doc/latex_env_doc_files/latex_env_doc_48_0.png\n",
            "\u001b[32m[I 07:00:23 InstallContribNbextensionsApp]\u001b[m Copying: /usr/local/lib/python3.6/dist-packages/latex_envs/static/doc/latex_env_doc_files/latex_env_doc_50_0.png -> /root/.local/share/jupyter/nbextensions/latex_envs/doc/latex_env_doc_files/latex_env_doc_50_0.png\n",
            "\u001b[32m[I 07:00:23 InstallContribNbextensionsApp]\u001b[m Copying: /usr/local/lib/python3.6/dist-packages/latex_envs/static/doc/latex_env_doc_files/latex_env_doc_46_0.png -> /root/.local/share/jupyter/nbextensions/latex_envs/doc/latex_env_doc_files/latex_env_doc_46_0.png\n",
            "\u001b[32m[I 07:00:23 InstallContribNbextensionsApp]\u001b[m Copying: /usr/local/lib/python3.6/dist-packages/latex_envs/static/doc/latex_env_doc_files/latex_env_doc_52_0.png -> /root/.local/share/jupyter/nbextensions/latex_envs/doc/latex_env_doc_files/latex_env_doc_52_0.png\n",
            "\u001b[32m[I 07:00:23 InstallContribNbextensionsApp]\u001b[m Copying: /usr/local/lib/python3.6/dist-packages/latex_envs/static/doc/latex_env_doc_files/latex_env_doc_51_0.png -> /root/.local/share/jupyter/nbextensions/latex_envs/doc/latex_env_doc_files/latex_env_doc_51_0.png\n",
            "\u001b[32m[I 07:00:23 InstallContribNbextensionsApp]\u001b[m Copying: /usr/local/lib/python3.6/dist-packages/latex_envs/static/doc/latex_env_doc_files/latex_env_doc_43_0.png -> /root/.local/share/jupyter/nbextensions/latex_envs/doc/latex_env_doc_files/latex_env_doc_43_0.png\n",
            "\u001b[32m[I 07:00:23 InstallContribNbextensionsApp]\u001b[m Copying: /usr/local/lib/python3.6/dist-packages/latex_envs/static/doc/latex_env_doc_files/latex_env_doc_23_2.png -> /root/.local/share/jupyter/nbextensions/latex_envs/doc/latex_env_doc_files/latex_env_doc_23_2.png\n",
            "\u001b[32m[I 07:00:23 InstallContribNbextensionsApp]\u001b[m Copying: /usr/local/lib/python3.6/dist-packages/latex_envs/static/doc/latex_env_doc_files/latex_env_doc_41_0.png -> /root/.local/share/jupyter/nbextensions/latex_envs/doc/latex_env_doc_files/latex_env_doc_41_0.png\n",
            "\u001b[32m[I 07:00:23 InstallContribNbextensionsApp]\u001b[m Copying: /usr/local/lib/python3.6/dist-packages/latex_envs/static/doc/latex_env_doc_files/latex_env_doc_24_2.png -> /root/.local/share/jupyter/nbextensions/latex_envs/doc/latex_env_doc_files/latex_env_doc_24_2.png\n",
            "\u001b[32m[I 07:00:23 InstallContribNbextensionsApp]\u001b[m Making directory: /root/.local/share/jupyter/nbextensions/latex_envs/doc/.ipynb_checkpoints\n",
            "\u001b[32m[I 07:00:23 InstallContribNbextensionsApp]\u001b[m Copying: /usr/local/lib/python3.6/dist-packages/latex_envs/static/doc/.ipynb_checkpoints/latex_env_doc-checkpoint.ipynb -> /root/.local/share/jupyter/nbextensions/latex_envs/doc/.ipynb_checkpoints/latex_env_doc-checkpoint.ipynb\n",
            "\u001b[32m[I 07:00:23 InstallContribNbextensionsApp]\u001b[m - Validating: \u001b[32mOK\u001b[0m\n",
            "\u001b[32m[I 07:00:23 InstallContribNbextensionsApp]\u001b[m Installing jupyter_contrib_nbextensions items to config in /root/.jupyter\n",
            "Enabling: jupyter_nbextensions_configurator\n",
            "- Writing config: /root/.jupyter\n",
            "    - Validating...\n",
            "      jupyter_nbextensions_configurator  \u001b[32mOK\u001b[0m\n",
            "Enabling notebook nbextension nbextensions_configurator/config_menu/main...\n",
            "Enabling tree nbextension nbextensions_configurator/tree_tab/main...\n",
            "\u001b[32m[I 07:00:23 InstallContribNbextensionsApp]\u001b[m Enabling notebook extension contrib_nbextensions_help_item/main...\n",
            "\u001b[32m[I 07:00:23 InstallContribNbextensionsApp]\u001b[m       - Validating: \u001b[32mOK\u001b[0m\n",
            "\u001b[32m[I 07:00:23 InstallContribNbextensionsApp]\u001b[m - Editing config: /root/.jupyter/jupyter_nbconvert_config.json\n",
            "\u001b[32m[I 07:00:23 InstallContribNbextensionsApp]\u001b[m --  Configuring nbconvert template path\n",
            "\u001b[32m[I 07:00:23 InstallContribNbextensionsApp]\u001b[m --  Configuring nbconvert preprocessors\n",
            "\u001b[32m[I 07:00:23 InstallContribNbextensionsApp]\u001b[m - Writing config: /root/.jupyter/jupyter_nbconvert_config.json\n",
            "\u001b[32m[I 07:00:23 InstallContribNbextensionsApp]\u001b[m --  Writing updated config file /root/.jupyter/jupyter_nbconvert_config.json\n",
            "Enabling notebook extension hinterland/hinterland...\n",
            "      - Validating: \u001b[32mOK\u001b[0m\n"
          ],
          "name": "stdout"
        }
      ]
    },
    {
      "cell_type": "markdown",
      "metadata": {
        "id": "imtjTUuCVZs1"
      },
      "source": [
        "00. 文字列の逆順<br>\n",
        "文字列”stressed”の文字を逆に（末尾から先頭に向かって）並べた文字列を得よ．"
      ]
    },
    {
      "cell_type": "code",
      "metadata": {
        "id": "WjXAEgYwVW-f",
        "colab": {
          "base_uri": "https://localhost:8080/",
          "height": 35
        },
        "outputId": "05af21e8-2869-466c-d15c-aaf6791ef1b4"
      },
      "source": [
        "str = 'stressed'\n",
        "reverse = str[::-1]\n",
        "reverse"
      ],
      "execution_count": null,
      "outputs": [
        {
          "output_type": "execute_result",
          "data": {
            "application/vnd.google.colaboratory.intrinsic+json": {
              "type": "string"
            },
            "text/plain": [
              "'desserts'"
            ]
          },
          "metadata": {
            "tags": []
          },
          "execution_count": 3
        }
      ]
    },
    {
      "cell_type": "markdown",
      "metadata": {
        "id": "VpmXWElmVkER"
      },
      "source": [
        "01. 「パタトクカシーー」<br>\n",
        "「パタトクカシーー」という文字列の1,3,5,7文字目を取り出して連結した文字列を得よ．"
      ]
    },
    {
      "cell_type": "code",
      "metadata": {
        "id": "PYjH9ECgVosE",
        "colab": {
          "base_uri": "https://localhost:8080/",
          "height": 35
        },
        "outputId": "14e02e9d-a23d-4904-f5d6-7413b494c199"
      },
      "source": [
        "str = 'パタトクカシーー'\n",
        "interval = str[::2]\n",
        "interval"
      ],
      "execution_count": null,
      "outputs": [
        {
          "output_type": "execute_result",
          "data": {
            "application/vnd.google.colaboratory.intrinsic+json": {
              "type": "string"
            },
            "text/plain": [
              "'パトカー'"
            ]
          },
          "metadata": {
            "tags": []
          },
          "execution_count": 4
        }
      ]
    },
    {
      "cell_type": "markdown",
      "metadata": {
        "id": "bUHiOyBiV-Ob"
      },
      "source": [
        "02. 「パトカー」＋「タクシー」＝「パタトクカシーー」<br>\n",
        "「パトカー」＋「タクシー」の文字を先頭から交互に連結して文字列「パタトクカシーー」を得よ．"
      ]
    },
    {
      "cell_type": "code",
      "metadata": {
        "id": "x1mffcquV4qR",
        "colab": {
          "base_uri": "https://localhost:8080/",
          "height": 35
        },
        "outputId": "41a20233-3086-4fcb-f06a-0bcbe1633dc7"
      },
      "source": [
        "str_p = 'パトカー'\n",
        "str_t = 'タクシー'\n",
        "merged = ''.join([i + j for i, j in zip(str_p, str_t)])\n",
        "merged"
      ],
      "execution_count": null,
      "outputs": [
        {
          "output_type": "execute_result",
          "data": {
            "application/vnd.google.colaboratory.intrinsic+json": {
              "type": "string"
            },
            "text/plain": [
              "'パタトクカシーー'"
            ]
          },
          "metadata": {
            "tags": []
          },
          "execution_count": 5
        }
      ]
    },
    {
      "cell_type": "markdown",
      "metadata": {
        "id": "ajEKR4ZvYIw7"
      },
      "source": [
        "03. 円周率<br>\n",
        "“Now I need a drink, alcoholic of course, after the heavy lectures involving quantum mechanics.”という文を単語に分解し，各単語の（アルファベットの）文字数を先頭から出現順に並べたリストを作成せよ．"
      ]
    },
    {
      "cell_type": "code",
      "metadata": {
        "id": "grgZocRfWH76",
        "colab": {
          "base_uri": "https://localhost:8080/"
        },
        "outputId": "f94a95aa-a2a9-4038-dd72-9eefb14184f5"
      },
      "source": [
        "import re\n",
        "target = 'Now I need a drink, alcoholic of course, after the heavy lectures involving quantum mechanics.'\n",
        "target = re.sub('[,|.]', '', target)\n",
        "splited = [len(val) for val in re.split(' ', target)]\n",
        "splited"
      ],
      "execution_count": null,
      "outputs": [
        {
          "output_type": "execute_result",
          "data": {
            "text/plain": [
              "[3, 1, 4, 1, 5, 9, 2, 6, 5, 3, 5, 8, 9, 7, 9]"
            ]
          },
          "metadata": {
            "tags": []
          },
          "execution_count": 6
        }
      ]
    },
    {
      "cell_type": "markdown",
      "metadata": {
        "id": "VTBVn4qXcvUT"
      },
      "source": [
        "04. 元素記号<br>\n",
        "“Hi He Lied Because Boron Could Not Oxidize Fluorine. New Nations Might Also Sign Peace Security Clause. Arthur King Can.”という文を単語に分解し，1, 5, 6, 7, 8, 9, 15, 16, 19番目の単語は先頭の1文字，それ以外の単語は先頭に2文字を取り出し，取り出した文字列から単語の位置（先頭から何番目の単語か）への連想配列（辞書型もしくはマップ型）を作成せよ．"
      ]
    },
    {
      "cell_type": "code",
      "metadata": {
        "id": "hYM2Omt7Z9dA",
        "colab": {
          "base_uri": "https://localhost:8080/"
        },
        "outputId": "497934be-3572-49c4-9f2a-c86ce0562b7e"
      },
      "source": [
        "import re\n",
        "target = 'Hi He Lied Because Boron Could Not Oxidize Fluorine. New Nations Might Also Sign Peace Security Clause. Arthur King Can.'\n",
        "target = re.sub('[.]', '', target)\n",
        "splited = [val for val in re.split(' ', target)]\n",
        "num = len(splited)\n",
        "num\n",
        "i = 0\n",
        "dict = {}\n",
        "for val in splited:\n",
        "  i = i + 1\n",
        "  if i in [1, 5, 6, 7, 8, 9, 15, 16, 19]:\n",
        "    dict[val[:1]] = i\n",
        "  else:\n",
        "    dict[val[:2]] = i\n",
        "dict = sorted(dict.items(), key = lambda x: x[1])\n",
        "\n",
        "dict"
      ],
      "execution_count": null,
      "outputs": [
        {
          "output_type": "execute_result",
          "data": {
            "text/plain": [
              "[('H', 1),\n",
              " ('He', 2),\n",
              " ('Li', 3),\n",
              " ('Be', 4),\n",
              " ('B', 5),\n",
              " ('C', 6),\n",
              " ('N', 7),\n",
              " ('O', 8),\n",
              " ('F', 9),\n",
              " ('Ne', 10),\n",
              " ('Na', 11),\n",
              " ('Mi', 12),\n",
              " ('Al', 13),\n",
              " ('Si', 14),\n",
              " ('P', 15),\n",
              " ('S', 16),\n",
              " ('Cl', 17),\n",
              " ('Ar', 18),\n",
              " ('K', 19),\n",
              " ('Ca', 20)]"
            ]
          },
          "metadata": {
            "tags": []
          },
          "execution_count": 7
        }
      ]
    },
    {
      "cell_type": "markdown",
      "metadata": {
        "id": "LdxHumWsm-bC"
      },
      "source": [
        "05. n-gram<br>\n",
        "与えられたシーケンス（文字列やリストなど）からn-gramを作る関数を作成せよ．この関数を用い，”I am an NLPer”という文から単語bi-gram，文字bi-gramを得よ．"
      ]
    },
    {
      "cell_type": "code",
      "metadata": {
        "id": "CQO5IM-_dq3T",
        "colab": {
          "base_uri": "https://localhost:8080/"
        },
        "outputId": "474a056b-4f4e-42a8-8d75-6b36f25463f3"
      },
      "source": [
        "def ngram(n, lst):\n",
        "  # ex:\n",
        "  # [str[i:] for i in range(2) -> ['What time is it now', 'time is it now']]\n",
        "  # zip(*[str[i:] for i in range(2)])\n",
        "  return list(zip(*[lst[i:] for i in range(n)]))\n",
        "\n",
        "str = 'What time is it now'\n",
        "words_bi_gram = ngram(2, str.split())\n",
        "chars_bi_gram = ngram(2, str)\n",
        "print('単語bi-gram:', words_bi_gram)\n",
        "print('文字bi-gram:', chars_bi_gram)\n"
      ],
      "execution_count": null,
      "outputs": [
        {
          "output_type": "stream",
          "text": [
            "単語bi-gram: [('What', 'time'), ('time', 'is'), ('is', 'it'), ('it', 'now')]\n",
            "文字bi-gram: [('W', 'h'), ('h', 'a'), ('a', 't'), ('t', ' '), (' ', 't'), ('t', 'i'), ('i', 'm'), ('m', 'e'), ('e', ' '), (' ', 'i'), ('i', 's'), ('s', ' '), (' ', 'i'), ('i', 't'), ('t', ' '), (' ', 'n'), ('n', 'o'), ('o', 'w')]\n"
          ],
          "name": "stdout"
        }
      ]
    },
    {
      "cell_type": "markdown",
      "metadata": {
        "id": "gcyPF0g50rAj"
      },
      "source": [
        "06. 集合<br>\n",
        "“paraparaparadise”と”paragraph”に含まれる文字bi-gramの集合を，それぞれ, XとYとして求め，XとYの和集合，積集合，差集合を求めよ．さらに，’se’というbi-gramがXおよびYに含まれるかどうかを調べよ．"
      ]
    },
    {
      "cell_type": "code",
      "metadata": {
        "id": "Xh14V-bw0tDS",
        "colab": {
          "base_uri": "https://localhost:8080/"
        },
        "outputId": "ecb2d64c-ce92-4f1f-d74e-cb85678d7908"
      },
      "source": [
        "X = 'paraparaparadise'\n",
        "Y = 'paragraph'\n",
        "set_X = set(ngram(2, X))\n",
        "set_Y = set(ngram(2, Y))\n",
        "print(set_X)\n",
        "\n",
        "# 和集合\n",
        "union_XY = set_X.union(set_Y)\n",
        "print(f\"union:{union_XY}\")\n",
        "\n",
        "# 積集合\n",
        "intersec_XY = set_X.intersection(set_Y)\n",
        "print(f\"intersection:{intersec_XY}\")\n",
        "\n",
        "# 差集合\n",
        "diff_XY = set_X.difference(set_Y)\n",
        "print(f\"diff:{diff_XY}\")\n",
        "\n",
        "print({('s', 'e')}.issubset(set_X))\n",
        "print({('s', 'e')}.issubset(set_Y))"
      ],
      "execution_count": null,
      "outputs": [
        {
          "output_type": "stream",
          "text": [
            "{('a', 'p'), ('p', 'a'), ('a', 'r'), ('i', 's'), ('r', 'a'), ('s', 'e'), ('d', 'i'), ('a', 'd')}\n",
            "union:{('a', 'p'), ('p', 'a'), ('a', 'r'), ('i', 's'), ('p', 'h'), ('r', 'a'), ('g', 'r'), ('s', 'e'), ('a', 'g'), ('d', 'i'), ('a', 'd')}\n",
            "intersection:{('r', 'a'), ('a', 'p'), ('p', 'a'), ('a', 'r')}\n",
            "diff:{('a', 'd'), ('i', 's'), ('d', 'i'), ('s', 'e')}\n",
            "True\n",
            "False\n"
          ],
          "name": "stdout"
        }
      ]
    },
    {
      "cell_type": "markdown",
      "metadata": {
        "id": "EuQqf5Ot1Ntp"
      },
      "source": [
        "07. テンプレートによる文生成<br>\n",
        "引数x, y, zを受け取り「x時のyはz」という文字列を返す関数を実装せよ．さらに，x=12, y=”気温”, z=22.4として，実行結果を確認せよ．"
      ]
    },
    {
      "cell_type": "code",
      "metadata": {
        "id": "Xhs1Ww5r19pa",
        "colab": {
          "base_uri": "https://localhost:8080/"
        },
        "outputId": "a0ad0bab-835f-4782-95d3-2180cafcd5ca"
      },
      "source": [
        "def create_template(x, y, z):\n",
        "  str =  f\"{x}時の{y}は{z}\"\n",
        "  print(str)\n",
        "\n",
        "create_template(12,\"気温\",22.4)"
      ],
      "execution_count": null,
      "outputs": [
        {
          "output_type": "stream",
          "text": [
            "12時の気温は22.4\n"
          ],
          "name": "stdout"
        }
      ]
    },
    {
      "cell_type": "markdown",
      "metadata": {
        "id": "tHDA39531uoD"
      },
      "source": [
        "08. 暗号文<br>\n",
        "与えられた文字列の各文字を，以下の仕様で変換する関数cipherを実装せよ．\n",
        "英小文字ならば(219 - 文字コード)の文字に置換\n",
        "その他の文字はそのまま出力\n",
        "この関数を用い，英語のメッセージを暗号化・復号化せよ．"
      ]
    },
    {
      "cell_type": "code",
      "metadata": {
        "id": "Wjo--3TZ1iq1",
        "colab": {
          "base_uri": "https://localhost:8080/",
          "height": 35
        },
        "outputId": "8b809e79-4333-4ee9-fdd0-029de12acf95"
      },
      "source": [
        "import re\n",
        "import unicodedata\n",
        "def cipher(str):\n",
        "  result = ''\n",
        "  for s in str:\n",
        "    j = unicodedata.east_asian_width(s)\n",
        "    #print(\"unicode:\" + j)\n",
        "    if j == 'Na':\n",
        "      if re.match('\\w+', s):\n",
        "          #print(\"match:\" + s)\n",
        "          result = result + chr(219 - ord(s))\n",
        "    else:\n",
        "        result = result + s\n",
        "\n",
        "  return result\n",
        "\n",
        "cipher(\"hogeあいうhoge\")"
      ],
      "execution_count": null,
      "outputs": [
        {
          "output_type": "execute_result",
          "data": {
            "application/vnd.google.colaboratory.intrinsic+json": {
              "type": "string"
            },
            "text/plain": [
              "'sltvあいうsltv'"
            ]
          },
          "metadata": {
            "tags": []
          },
          "execution_count": 11
        }
      ]
    },
    {
      "cell_type": "markdown",
      "metadata": {
        "id": "V-cCIHd97WSZ"
      },
      "source": [
        "09. Typoglycemia<br>\n",
        "スペースで区切られた単語列に対して，各単語の先頭と末尾の文字は残し，それ以外の文字の順序をランダムに並び替えるプログラムを作成せよ．ただし，長さが４以下の単語は並び替えないこととする．適当な英語の文（例えば”I couldn’t believe that I could actually understand what I was reading : the phenomenal power of the human mind .”）を与え，その実行結果を確認せよ．"
      ]
    },
    {
      "cell_type": "code",
      "metadata": {
        "id": "P_0m7E8u3hXr",
        "colab": {
          "base_uri": "https://localhost:8080/"
        },
        "outputId": "2265c0b3-e0f2-4cc8-a043-3577c1b2d16c"
      },
      "source": [
        "import random\r\n",
        "string = 'I couldn\\'t believe that I could actually understand what I was reading : the phenomenal power of the human mind.'\r\n",
        "res = string.split(' ')\r\n",
        "new_str_list = []\r\n",
        "for s in res:\r\n",
        "  s = s.replace('.', '')\r\n",
        "  if len(s) <= 4:\r\n",
        "    new_s = s\r\n",
        "  else:\r\n",
        "    s_start = s[0]\r\n",
        "    s_end = s[-1]\r\n",
        "    s_center = s[1:-1]\r\n",
        "    s_random = random.sample(s_center, len(s_center))\r\n",
        "    s_random = ''.join(s_random)\r\n",
        "    new_s = s_start + s_random + s_end\r\n",
        "  new_str_list.append(new_s)\r\n",
        "\r\n",
        "print(new_str_list)"
      ],
      "execution_count": null,
      "outputs": [
        {
          "output_type": "stream",
          "text": [
            "['I', \"cldon'ut\", 'bveilee', 'that', 'I', 'cluod', 'alaltcuy', 'ursennatdd', 'what', 'I', 'was', 'reiadng', ':', 'the', 'pmeenhnaol', 'pewor', 'of', 'the', 'huamn', 'mind']\n"
          ],
          "name": "stdout"
        }
      ]
    },
    {
      "cell_type": "markdown",
      "metadata": {
        "id": "w4UcUj3c7TFv"
      },
      "source": [
        ""
      ]
    }
  ]
}