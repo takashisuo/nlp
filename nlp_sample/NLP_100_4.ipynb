{
  "nbformat": 4,
  "nbformat_minor": 0,
  "metadata": {
    "colab": {
      "name": "NLP_100_4.ipynb",
      "provenance": [],
      "collapsed_sections": [],
      "authorship_tag": "ABX9TyOrpPQDNW2GddAb//2gh56C",
      "include_colab_link": true
    },
    "kernelspec": {
      "name": "python3",
      "display_name": "Python 3"
    }
  },
  "cells": [
    {
      "cell_type": "markdown",
      "metadata": {
        "id": "view-in-github",
        "colab_type": "text"
      },
      "source": [
        "<a href=\"https://colab.research.google.com/github/takashisuo/nlp/blob/main/NLP_100_4.ipynb\" target=\"_parent\"><img src=\"https://colab.research.google.com/assets/colab-badge.svg\" alt=\"Open In Colab\"/></a>"
      ]
    },
    {
      "cell_type": "code",
      "metadata": {
        "id": "qIRj954RBfrt",
        "colab": {
          "base_uri": "https://localhost:8080/"
        },
        "outputId": "a1f4ab5b-6da1-4dd1-c5ad-db4991e102c8"
      },
      "source": [
        "from google.colab import drive \r\n",
        "drive.mount('/content/drive')"
      ],
      "execution_count": null,
      "outputs": [
        {
          "output_type": "stream",
          "text": [
            "Mounted at /content/drive\n"
          ],
          "name": "stdout"
        }
      ]
    },
    {
      "cell_type": "code",
      "metadata": {
        "id": "FbEH9PEzBj-a",
        "colab": {
          "base_uri": "https://localhost:8080/"
        },
        "outputId": "7f0ac301-8748-44f7-df81-4243b52bf56f"
      },
      "source": [
        "!wget -P \"/content/drive/My Drive/download\" https://nlp100.github.io/data/neko.txt"
      ],
      "execution_count": null,
      "outputs": [
        {
          "output_type": "stream",
          "text": [
            "--2021-01-11 03:56:06--  https://nlp100.github.io/data/neko.txt\n",
            "Resolving nlp100.github.io (nlp100.github.io)... 185.199.108.153, 185.199.109.153, 185.199.110.153, ...\n",
            "Connecting to nlp100.github.io (nlp100.github.io)|185.199.108.153|:443... connected.\n",
            "HTTP request sent, awaiting response... 200 OK\n",
            "Length: 975789 (953K) [text/plain]\n",
            "Saving to: ‘/content/drive/My Drive/download/neko.txt.4’\n",
            "\n",
            "neko.txt.4          100%[===================>] 952.92K  --.-KB/s    in 0.1s    \n",
            "\n",
            "2021-01-11 03:56:07 (8.14 MB/s) - ‘/content/drive/My Drive/download/neko.txt.4’ saved [975789/975789]\n",
            "\n"
          ],
          "name": "stdout"
        }
      ]
    },
    {
      "cell_type": "code",
      "metadata": {
        "id": "VQqt3nQ45zvw",
        "colab": {
          "base_uri": "https://localhost:8080/"
        },
        "outputId": "e4bec3ea-9b5e-4321-de34-7a8847279e57"
      },
      "source": [
        "!apt install mecab libmecab-dev mecab-ipadic-utf8"
      ],
      "execution_count": null,
      "outputs": [
        {
          "output_type": "stream",
          "text": [
            "Reading package lists... Done\n",
            "Building dependency tree       \n",
            "Reading state information... Done\n",
            "The following additional packages will be installed:\n",
            "  libmecab2 mecab-ipadic mecab-jumandic mecab-jumandic-utf8 mecab-utils\n",
            "The following NEW packages will be installed:\n",
            "  libmecab-dev libmecab2 mecab mecab-ipadic mecab-ipadic-utf8 mecab-jumandic\n",
            "  mecab-jumandic-utf8 mecab-utils\n",
            "0 upgraded, 8 newly installed, 0 to remove and 16 not upgraded.\n",
            "Need to get 29.0 MB of archives.\n",
            "After this operation, 277 MB of additional disk space will be used.\n",
            "Get:1 http://archive.ubuntu.com/ubuntu bionic/universe amd64 libmecab2 amd64 0.996-5 [257 kB]\n",
            "Get:2 http://archive.ubuntu.com/ubuntu bionic/universe amd64 libmecab-dev amd64 0.996-5 [308 kB]\n",
            "Get:3 http://archive.ubuntu.com/ubuntu bionic/universe amd64 mecab-utils amd64 0.996-5 [4,856 B]\n",
            "Get:4 http://archive.ubuntu.com/ubuntu bionic/universe amd64 mecab-jumandic-utf8 all 7.0-20130310-4 [16.2 MB]\n",
            "Get:5 http://archive.ubuntu.com/ubuntu bionic/universe amd64 mecab-jumandic all 7.0-20130310-4 [2,212 B]\n",
            "Get:6 http://archive.ubuntu.com/ubuntu bionic/universe amd64 mecab-ipadic all 2.7.0-20070801+main-1 [12.1 MB]\n",
            "Get:7 http://archive.ubuntu.com/ubuntu bionic/universe amd64 mecab amd64 0.996-5 [132 kB]\n",
            "Get:8 http://archive.ubuntu.com/ubuntu bionic/universe amd64 mecab-ipadic-utf8 all 2.7.0-20070801+main-1 [3,522 B]\n",
            "Fetched 29.0 MB in 0s (58.1 MB/s)\n",
            "Selecting previously unselected package libmecab2:amd64.\n",
            "(Reading database ... 145483 files and directories currently installed.)\n",
            "Preparing to unpack .../0-libmecab2_0.996-5_amd64.deb ...\n",
            "Unpacking libmecab2:amd64 (0.996-5) ...\n",
            "Selecting previously unselected package libmecab-dev.\n",
            "Preparing to unpack .../1-libmecab-dev_0.996-5_amd64.deb ...\n",
            "Unpacking libmecab-dev (0.996-5) ...\n",
            "Selecting previously unselected package mecab-utils.\n",
            "Preparing to unpack .../2-mecab-utils_0.996-5_amd64.deb ...\n",
            "Unpacking mecab-utils (0.996-5) ...\n",
            "Selecting previously unselected package mecab-jumandic-utf8.\n",
            "Preparing to unpack .../3-mecab-jumandic-utf8_7.0-20130310-4_all.deb ...\n",
            "Unpacking mecab-jumandic-utf8 (7.0-20130310-4) ...\n",
            "Selecting previously unselected package mecab-jumandic.\n",
            "Preparing to unpack .../4-mecab-jumandic_7.0-20130310-4_all.deb ...\n",
            "Unpacking mecab-jumandic (7.0-20130310-4) ...\n",
            "Selecting previously unselected package mecab-ipadic.\n",
            "Preparing to unpack .../5-mecab-ipadic_2.7.0-20070801+main-1_all.deb ...\n",
            "Unpacking mecab-ipadic (2.7.0-20070801+main-1) ...\n",
            "Selecting previously unselected package mecab.\n",
            "Preparing to unpack .../6-mecab_0.996-5_amd64.deb ...\n",
            "Unpacking mecab (0.996-5) ...\n",
            "Selecting previously unselected package mecab-ipadic-utf8.\n",
            "Preparing to unpack .../7-mecab-ipadic-utf8_2.7.0-20070801+main-1_all.deb ...\n",
            "Unpacking mecab-ipadic-utf8 (2.7.0-20070801+main-1) ...\n",
            "Setting up libmecab2:amd64 (0.996-5) ...\n",
            "Setting up mecab-utils (0.996-5) ...\n",
            "Setting up mecab-ipadic (2.7.0-20070801+main-1) ...\n",
            "Compiling IPA dictionary for Mecab.  This takes long time...\n",
            "reading /usr/share/mecab/dic/ipadic/unk.def ... 40\n",
            "emitting double-array: 100% |###########################################| \n",
            "/usr/share/mecab/dic/ipadic/model.def is not found. skipped.\n",
            "reading /usr/share/mecab/dic/ipadic/Prefix.csv ... 221\n",
            "reading /usr/share/mecab/dic/ipadic/Verb.csv ... 130750\n",
            "reading /usr/share/mecab/dic/ipadic/Postp-col.csv ... 91\n",
            "reading /usr/share/mecab/dic/ipadic/Symbol.csv ... 208\n",
            "reading /usr/share/mecab/dic/ipadic/Adverb.csv ... 3032\n",
            "reading /usr/share/mecab/dic/ipadic/Interjection.csv ... 252\n",
            "reading /usr/share/mecab/dic/ipadic/Adnominal.csv ... 135\n",
            "reading /usr/share/mecab/dic/ipadic/Suffix.csv ... 1393\n",
            "reading /usr/share/mecab/dic/ipadic/Adj.csv ... 27210\n",
            "reading /usr/share/mecab/dic/ipadic/Noun.others.csv ... 151\n",
            "reading /usr/share/mecab/dic/ipadic/Noun.org.csv ... 16668\n",
            "reading /usr/share/mecab/dic/ipadic/Noun.name.csv ... 34202\n",
            "reading /usr/share/mecab/dic/ipadic/Postp.csv ... 146\n",
            "reading /usr/share/mecab/dic/ipadic/Conjunction.csv ... 171\n",
            "reading /usr/share/mecab/dic/ipadic/Noun.demonst.csv ... 120\n",
            "reading /usr/share/mecab/dic/ipadic/Noun.proper.csv ... 27327\n",
            "reading /usr/share/mecab/dic/ipadic/Noun.adverbal.csv ... 795\n",
            "reading /usr/share/mecab/dic/ipadic/Noun.number.csv ... 42\n",
            "reading /usr/share/mecab/dic/ipadic/Auxil.csv ... 199\n",
            "reading /usr/share/mecab/dic/ipadic/Noun.verbal.csv ... 12146\n",
            "reading /usr/share/mecab/dic/ipadic/Others.csv ... 2\n",
            "reading /usr/share/mecab/dic/ipadic/Filler.csv ... 19\n",
            "reading /usr/share/mecab/dic/ipadic/Noun.csv ... 60477\n",
            "reading /usr/share/mecab/dic/ipadic/Noun.adjv.csv ... 3328\n",
            "reading /usr/share/mecab/dic/ipadic/Noun.place.csv ... 72999\n",
            "reading /usr/share/mecab/dic/ipadic/Noun.nai.csv ... 42\n",
            "emitting double-array: 100% |###########################################| \n",
            "reading /usr/share/mecab/dic/ipadic/matrix.def ... 1316x1316\n",
            "emitting matrix      : 100% |###########################################| \n",
            "\n",
            "done!\n",
            "update-alternatives: using /var/lib/mecab/dic/ipadic to provide /var/lib/mecab/dic/debian (mecab-dictionary) in auto mode\n",
            "Setting up libmecab-dev (0.996-5) ...\n",
            "Setting up mecab-jumandic-utf8 (7.0-20130310-4) ...\n",
            "Compiling Juman dictionary for Mecab.\n",
            "reading /usr/share/mecab/dic/juman/unk.def ... 37\n",
            "emitting double-array: 100% |###########################################| \n",
            "reading /usr/share/mecab/dic/juman/Prefix.csv ... 90\n",
            "reading /usr/share/mecab/dic/juman/ContentW.csv ... 551145\n",
            "reading /usr/share/mecab/dic/juman/Emoticon.csv ... 972\n",
            "reading /usr/share/mecab/dic/juman/Noun.keishiki.csv ... 8\n",
            "reading /usr/share/mecab/dic/juman/AuxV.csv ... 593\n",
            "reading /usr/share/mecab/dic/juman/Suffix.csv ... 2128\n",
            "reading /usr/share/mecab/dic/juman/Noun.hukusi.csv ... 81\n",
            "reading /usr/share/mecab/dic/juman/Demonstrative.csv ... 97\n",
            "reading /usr/share/mecab/dic/juman/Auto.csv ... 18931\n",
            "reading /usr/share/mecab/dic/juman/Postp.csv ... 108\n",
            "reading /usr/share/mecab/dic/juman/Wikipedia.csv ... 167709\n",
            "reading /usr/share/mecab/dic/juman/Noun.suusi.csv ... 49\n",
            "reading /usr/share/mecab/dic/juman/Assert.csv ... 34\n",
            "reading /usr/share/mecab/dic/juman/Rengo.csv ... 1118\n",
            "reading /usr/share/mecab/dic/juman/Noun.koyuu.csv ... 7964\n",
            "reading /usr/share/mecab/dic/juman/Special.csv ... 158\n",
            "emitting double-array: 100% |###########################################| \n",
            "reading /usr/share/mecab/dic/juman/matrix.def ... 1876x1876\n",
            "emitting matrix      : 100% |###########################################| \n",
            "\n",
            "done!\n",
            "Setting up mecab-ipadic-utf8 (2.7.0-20070801+main-1) ...\n",
            "Compiling IPA dictionary for Mecab.  This takes long time...\n",
            "reading /usr/share/mecab/dic/ipadic/unk.def ... 40\n",
            "emitting double-array: 100% |###########################################| \n",
            "/usr/share/mecab/dic/ipadic/model.def is not found. skipped.\n",
            "reading /usr/share/mecab/dic/ipadic/Prefix.csv ... 221\n",
            "reading /usr/share/mecab/dic/ipadic/Verb.csv ... 130750\n",
            "reading /usr/share/mecab/dic/ipadic/Postp-col.csv ... 91\n",
            "reading /usr/share/mecab/dic/ipadic/Symbol.csv ... 208\n",
            "reading /usr/share/mecab/dic/ipadic/Adverb.csv ... 3032\n",
            "reading /usr/share/mecab/dic/ipadic/Interjection.csv ... 252\n",
            "reading /usr/share/mecab/dic/ipadic/Adnominal.csv ... 135\n",
            "reading /usr/share/mecab/dic/ipadic/Suffix.csv ... 1393\n",
            "reading /usr/share/mecab/dic/ipadic/Adj.csv ... 27210\n",
            "reading /usr/share/mecab/dic/ipadic/Noun.others.csv ... 151\n",
            "reading /usr/share/mecab/dic/ipadic/Noun.org.csv ... 16668\n",
            "reading /usr/share/mecab/dic/ipadic/Noun.name.csv ... 34202\n",
            "reading /usr/share/mecab/dic/ipadic/Postp.csv ... 146\n",
            "reading /usr/share/mecab/dic/ipadic/Conjunction.csv ... 171\n",
            "reading /usr/share/mecab/dic/ipadic/Noun.demonst.csv ... 120\n",
            "reading /usr/share/mecab/dic/ipadic/Noun.proper.csv ... 27327\n",
            "reading /usr/share/mecab/dic/ipadic/Noun.adverbal.csv ... 795\n",
            "reading /usr/share/mecab/dic/ipadic/Noun.number.csv ... 42\n",
            "reading /usr/share/mecab/dic/ipadic/Auxil.csv ... 199\n",
            "reading /usr/share/mecab/dic/ipadic/Noun.verbal.csv ... 12146\n",
            "reading /usr/share/mecab/dic/ipadic/Others.csv ... 2\n",
            "reading /usr/share/mecab/dic/ipadic/Filler.csv ... 19\n",
            "reading /usr/share/mecab/dic/ipadic/Noun.csv ... 60477\n",
            "reading /usr/share/mecab/dic/ipadic/Noun.adjv.csv ... 3328\n",
            "reading /usr/share/mecab/dic/ipadic/Noun.place.csv ... 72999\n",
            "reading /usr/share/mecab/dic/ipadic/Noun.nai.csv ... 42\n",
            "emitting double-array: 100% |###########################################| \n",
            "reading /usr/share/mecab/dic/ipadic/matrix.def ... 1316x1316\n",
            "emitting matrix      : 100% |###########################################| \n",
            "\n",
            "done!\n",
            "update-alternatives: using /var/lib/mecab/dic/ipadic-utf8 to provide /var/lib/mecab/dic/debian (mecab-dictionary) in auto mode\n",
            "Setting up mecab (0.996-5) ...\n",
            "Compiling IPA dictionary for Mecab.  This takes long time...\n",
            "reading /usr/share/mecab/dic/ipadic/unk.def ... 40\n",
            "emitting double-array: 100% |###########################################| \n",
            "/usr/share/mecab/dic/ipadic/model.def is not found. skipped.\n",
            "reading /usr/share/mecab/dic/ipadic/Prefix.csv ... 221\n",
            "reading /usr/share/mecab/dic/ipadic/Verb.csv ... 130750\n",
            "reading /usr/share/mecab/dic/ipadic/Postp-col.csv ... 91\n",
            "reading /usr/share/mecab/dic/ipadic/Symbol.csv ... 208\n",
            "reading /usr/share/mecab/dic/ipadic/Adverb.csv ... 3032\n",
            "reading /usr/share/mecab/dic/ipadic/Interjection.csv ... 252\n",
            "reading /usr/share/mecab/dic/ipadic/Adnominal.csv ... 135\n",
            "reading /usr/share/mecab/dic/ipadic/Suffix.csv ... 1393\n",
            "reading /usr/share/mecab/dic/ipadic/Adj.csv ... 27210\n",
            "reading /usr/share/mecab/dic/ipadic/Noun.others.csv ... 151\n",
            "reading /usr/share/mecab/dic/ipadic/Noun.org.csv ... 16668\n",
            "reading /usr/share/mecab/dic/ipadic/Noun.name.csv ... 34202\n",
            "reading /usr/share/mecab/dic/ipadic/Postp.csv ... 146\n",
            "reading /usr/share/mecab/dic/ipadic/Conjunction.csv ... 171\n",
            "reading /usr/share/mecab/dic/ipadic/Noun.demonst.csv ... 120\n",
            "reading /usr/share/mecab/dic/ipadic/Noun.proper.csv ... 27327\n",
            "reading /usr/share/mecab/dic/ipadic/Noun.adverbal.csv ... 795\n",
            "reading /usr/share/mecab/dic/ipadic/Noun.number.csv ... 42\n",
            "reading /usr/share/mecab/dic/ipadic/Auxil.csv ... 199\n",
            "reading /usr/share/mecab/dic/ipadic/Noun.verbal.csv ... 12146\n",
            "reading /usr/share/mecab/dic/ipadic/Others.csv ... 2\n",
            "reading /usr/share/mecab/dic/ipadic/Filler.csv ... 19\n",
            "reading /usr/share/mecab/dic/ipadic/Noun.csv ... 60477\n",
            "reading /usr/share/mecab/dic/ipadic/Noun.adjv.csv ... 3328\n",
            "reading /usr/share/mecab/dic/ipadic/Noun.place.csv ... 72999\n",
            "reading /usr/share/mecab/dic/ipadic/Noun.nai.csv ... 42\n",
            "emitting double-array: 100% |###########################################| \n",
            "reading /usr/share/mecab/dic/ipadic/matrix.def ... 1316x1316\n",
            "emitting matrix      : 100% |###########################################| \n",
            "\n",
            "done!\n",
            "Setting up mecab-jumandic (7.0-20130310-4) ...\n",
            "Processing triggers for man-db (2.8.3-2ubuntu0.1) ...\n",
            "Processing triggers for libc-bin (2.27-3ubuntu1.2) ...\n",
            "/sbin/ldconfig.real: /usr/local/lib/python3.6/dist-packages/ideep4py/lib/libmkldnn.so.0 is not a symbolic link\n",
            "\n"
          ],
          "name": "stdout"
        }
      ]
    },
    {
      "cell_type": "code",
      "metadata": {
        "id": "5OupcTp-6yP8",
        "colab": {
          "base_uri": "https://localhost:8080/",
          "height": 35
        },
        "outputId": "e50d8e01-5442-49ac-f0ef-5f4122e524fb"
      },
      "source": [
        "pwd"
      ],
      "execution_count": null,
      "outputs": [
        {
          "output_type": "execute_result",
          "data": {
            "application/vnd.google.colaboratory.intrinsic+json": {
              "type": "string"
            },
            "text/plain": [
              "'/content'"
            ]
          },
          "metadata": {
            "tags": []
          },
          "execution_count": 5
        }
      ]
    },
    {
      "cell_type": "code",
      "metadata": {
        "id": "FJixuMI97ct9",
        "colab": {
          "base_uri": "https://localhost:8080/"
        },
        "outputId": "f090a632-7a1d-4522-dfc5-cb96b67472a4"
      },
      "source": [
        "!ls"
      ],
      "execution_count": null,
      "outputs": [
        {
          "output_type": "stream",
          "text": [
            "drive  sample_data\n"
          ],
          "name": "stdout"
        }
      ]
    },
    {
      "cell_type": "code",
      "metadata": {
        "id": "A21NmIyJ7nHL"
      },
      "source": [
        "!mecab -o \"/content/drive/My Drive/download/neko.txt.mecab\" \"/content/drive/My Drive/download/neko.txt\""
      ],
      "execution_count": null,
      "outputs": []
    },
    {
      "cell_type": "code",
      "metadata": {
        "id": "NCO_dXze8OSk"
      },
      "source": [
        "m_path = \"/content/drive/My Drive/download/neko.txt.mecab\""
      ],
      "execution_count": null,
      "outputs": []
    },
    {
      "cell_type": "code",
      "metadata": {
        "id": "hZiZlfyu7pe7",
        "colab": {
          "base_uri": "https://localhost:8080/"
        },
        "outputId": "ca78fdea-7317-499e-8268-04383c572f08"
      },
      "source": [
        "!wc -l \"/content/drive/My Drive/download/neko.txt.mecab\""
      ],
      "execution_count": null,
      "outputs": [
        {
          "output_type": "stream",
          "text": [
            "226266 /content/drive/My Drive/download/neko.txt.mecab\n"
          ],
          "name": "stdout"
        }
      ]
    },
    {
      "cell_type": "code",
      "metadata": {
        "id": "q7MQIezo8UQN",
        "colab": {
          "base_uri": "https://localhost:8080/"
        },
        "outputId": "6a73a80b-bddd-4820-f56a-bb24904b7dab"
      },
      "source": [
        "!head -15 \"/content/drive/My Drive/download/neko.txt.mecab\""
      ],
      "execution_count": null,
      "outputs": [
        {
          "output_type": "stream",
          "text": [
            "一\t名詞,数,*,*,*,*,一,イチ,イチ\n",
            "\r\t記号,一般,*,*,*,*,*\n",
            "EOS\n",
            "\r\t記号,一般,*,*,*,*,*\n",
            "EOS\n",
            "　\t記号,空白,*,*,*,*,　,　,　\n",
            "吾輩\t名詞,代名詞,一般,*,*,*,吾輩,ワガハイ,ワガハイ\n",
            "は\t助詞,係助詞,*,*,*,*,は,ハ,ワ\n",
            "猫\t名詞,一般,*,*,*,*,猫,ネコ,ネコ\n",
            "で\t助動詞,*,*,*,特殊・ダ,連用形,だ,デ,デ\n",
            "ある\t助動詞,*,*,*,五段・ラ行アル,基本形,ある,アル,アル\n",
            "。\t記号,句点,*,*,*,*,。,。,。\n",
            "\r\t記号,一般,*,*,*,*,*\n",
            "EOS\n",
            "名前\t名詞,一般,*,*,*,*,名前,ナマエ,ナマエ\n"
          ],
          "name": "stdout"
        }
      ]
    },
    {
      "cell_type": "markdown",
      "metadata": {
        "id": "y3v7DXhcAhsF"
      },
      "source": [
        "0:表層形(surface)<br>\r\n",
        "1:品詞(pos)<br>\r\n",
        "2:品詞細分類1(pos1)<br>\r\n",
        "7:基本形(base)<br>\r\n",
        "\r\n",
        "30. 形態素解析結果の読み込み<br>形態素解析結果（neko.txt.mecab）を読み込むプログラムを実装せよ．ただし，各形態素は表層形（surface），基本形（base），品詞（pos），品詞細分類1（pos1）をキーとするマッピング型に格納し，1文を形態素（マッピング型）のリストとして表現せよ．第4章の残りの問題では，ここで作ったプログラムを活用せよ．"
      ]
    },
    {
      "cell_type": "code",
      "metadata": {
        "id": "_zinMUzq_CTB",
        "colab": {
          "base_uri": "https://localhost:8080/"
        },
        "outputId": "c647d88d-7b0a-430c-cea3-51abb3eb2c5d"
      },
      "source": [
        "m_path = \"/content/drive/My Drive/download/neko.txt.mecab\"\r\n",
        "\r\n",
        "sentences = []\r\n",
        "morphs = []\r\n",
        "count = 0\r\n",
        "with open(m_path, mode='r') as f:\r\n",
        "  for line in f:  # 1行ずつ読込\r\n",
        "    if line == 'EOS\\n':\r\n",
        "      sentences.append(morphs)\r\n",
        "      morphs = []\r\n",
        "      continue\r\n",
        "\r\n",
        "    fields = line.split('\\t')\r\n",
        "    if len(fields) != 2 or fields[0] == '':  # 文頭以外の空白と改行文字はスキップ\r\n",
        "      continue\r\n",
        "\r\n",
        "    count = count + 1    \r\n",
        "    attr =  fields[1].split(',')\r\n",
        "    morph = {'surface': fields[0], 'base': attr[6], 'pos': attr[0], 'pos1': attr[1]}\r\n",
        "    morphs.append(morph)\r\n",
        "\r\n",
        "for morph in sentences[2]:\r\n",
        "  print(morph)"
      ],
      "execution_count": null,
      "outputs": [
        {
          "output_type": "stream",
          "text": [
            "{'surface': '\\u3000', 'base': '\\u3000', 'pos': '記号', 'pos1': '空白'}\n",
            "{'surface': '吾輩', 'base': '吾輩', 'pos': '名詞', 'pos1': '代名詞'}\n",
            "{'surface': 'は', 'base': 'は', 'pos': '助詞', 'pos1': '係助詞'}\n",
            "{'surface': '猫', 'base': '猫', 'pos': '名詞', 'pos1': '一般'}\n",
            "{'surface': 'で', 'base': 'だ', 'pos': '助動詞', 'pos1': '*'}\n",
            "{'surface': 'ある', 'base': 'ある', 'pos': '助動詞', 'pos1': '*'}\n",
            "{'surface': '。', 'base': '。', 'pos': '記号', 'pos1': '句点'}\n"
          ],
          "name": "stdout"
        }
      ]
    },
    {
      "cell_type": "markdown",
      "metadata": {
        "id": "tIvxC_xxAhBx"
      },
      "source": [
        ""
      ]
    },
    {
      "cell_type": "markdown",
      "metadata": {
        "id": "Z_OW5tU-XxSj"
      },
      "source": [
        "31. 動詞<br>\r\n",
        "動詞の表層形をすべて抽出せよ．"
      ]
    },
    {
      "cell_type": "code",
      "metadata": {
        "id": "W2dp0y6TX0ss",
        "colab": {
          "base_uri": "https://localhost:8080/"
        },
        "outputId": "9348e8ba-54bd-493a-ea06-5c2aa59c0700"
      },
      "source": [
        "ans = set()\r\n",
        "for sentence in sentences:\r\n",
        "  for morph in sentence:\r\n",
        "    if morph['pos'] != '動詞':\r\n",
        "      continue\r\n",
        "    \r\n",
        "    ans.add(morph['surface'])\r\n",
        "\r\n",
        "print(f'動詞の表層形の種類: {len(ans)}\\n')\r\n",
        "print('---サンプル---')\r\n",
        "for v in list(ans)[:10]:\r\n",
        "  print(v)\r\n",
        "\r\n"
      ],
      "execution_count": null,
      "outputs": [
        {
          "output_type": "stream",
          "text": [
            "動詞の表層形の種類: 3893\n",
            "\n",
            "---サンプル---\n",
            "聴き\n",
            "侵し\n",
            "覗く\n",
            "いざっ\n",
            "しる\n",
            "変ずる\n",
            "振り落とそ\n",
            "活け\n",
            "対し\n",
            "通さ\n"
          ],
          "name": "stdout"
        }
      ]
    },
    {
      "cell_type": "markdown",
      "metadata": {
        "id": "WUJlaOlCftbz"
      },
      "source": [
        ""
      ]
    },
    {
      "cell_type": "markdown",
      "metadata": {
        "id": "LyqRrsvQfvUY"
      },
      "source": [
        "32. 動詞の原形<br>\r\n",
        "動詞の原形をすべて抽出せよ．"
      ]
    },
    {
      "cell_type": "code",
      "metadata": {
        "id": "GAwzNkSsfwlj",
        "colab": {
          "base_uri": "https://localhost:8080/"
        },
        "outputId": "c89adb23-4855-4ec1-8243-31bf793a43f4"
      },
      "source": [
        "ans = set()\r\n",
        "for sentence in sentences:\r\n",
        "  for morph in sentence:\r\n",
        "    if morph['pos'] != '動詞':\r\n",
        "      continue\r\n",
        "    \r\n",
        "    ans.add(morph['base'])\r\n",
        "\r\n",
        "print(f'動詞の表層形の種類: {len(ans)}\\n')\r\n",
        "print('---サンプル---')\r\n",
        "for v in list(ans)[:10]:\r\n",
        "  print(v)"
      ],
      "execution_count": null,
      "outputs": [
        {
          "output_type": "stream",
          "text": [
            "動詞の表層形の種類: 2300\n",
            "\n",
            "---サンプル---\n",
            "冷める\n",
            "覗く\n",
            "堪る\n",
            "しる\n",
            "変ずる\n",
            "連れ出す\n",
            "証拠立てる\n",
            "貫く\n",
            "撓る\n",
            "与える\n"
          ],
          "name": "stdout"
        }
      ]
    },
    {
      "cell_type": "markdown",
      "metadata": {
        "id": "RxPfmlwhh1J6"
      },
      "source": [
        "33. 「AのB」<br>\r\n",
        "2つの名詞が「の」で連結されている名詞句を抽出せよ．"
      ]
    },
    {
      "cell_type": "code",
      "metadata": {
        "id": "Xy4JwYiLhsPp",
        "colab": {
          "base_uri": "https://localhost:8080/"
        },
        "outputId": "b12c9ce7-29f4-4690-cd8d-ee9dce304cdc"
      },
      "source": [
        "ans = set()\r\n",
        "for sentence in sentences:\r\n",
        "  for i in range(1, len(sentence) - 1):\r\n",
        "    if sentence[i-1]['pos']  == '名詞' and sentence[i]['surface']  == 'の' and sentence[i+1]['pos']  == '名詞':\r\n",
        "      ans.add(sentence[i-1]['surface'] + 'の' + sentence[i+1]['surface'])\r\n",
        "\r\n",
        "print(f'「名詞+の+名詞」の種類: {len(ans)}\\n')\r\n",
        "print('---サンプル---')\r\n",
        "for n in list(ans)[:10]:\r\n",
        "  print(n)"
      ],
      "execution_count": null,
      "outputs": [
        {
          "output_type": "stream",
          "text": [
            "「名詞+の+名詞」の種類: 4924\n",
            "\n",
            "---サンプル---\n",
            "ための方便\n",
            "表の方\n",
            "近松の世話物\n",
            "二の絵\n",
            "中のカステラ\n",
            "こっちの手\n",
            "咄嗟の間\n",
            "これしきの事\n",
            "恐縮の結果\n",
            "何等の関係\n"
          ],
          "name": "stdout"
        }
      ]
    },
    {
      "cell_type": "markdown",
      "metadata": {
        "id": "zAPw5ZrWJ2Vc"
      },
      "source": [
        "34. 名詞の連接<br>\r\n",
        "名詞の連接（連続して出現する名詞）を最長一致で抽出せよ．\r\n"
      ]
    },
    {
      "cell_type": "code",
      "metadata": {
        "colab": {
          "base_uri": "https://localhost:8080/"
        },
        "id": "lvtr8uUOJ7BP",
        "outputId": "4063f7af-3ac7-4113-f11a-f1c943f6fbb7"
      },
      "source": [
        "concat = \"\"\r\n",
        "num = 0\r\n",
        "result = set()\r\n",
        "for sentence in sentences:\r\n",
        "  for morph in sentence:\r\n",
        "    if morph[\"pos\"] == \"名詞\":\r\n",
        "      concat = ''.join([concat, morph[\"surface\"]])\r\n",
        "      num += 1\r\n",
        "    elif num >= 2:\r\n",
        "      result.add(concat)\r\n",
        "      num = 0\r\n",
        "      concat = ''\r\n",
        "    else:\r\n",
        "      num = 0\r\n",
        "      concat = ''\r\n",
        "  if num >= 2:\r\n",
        "    result.add(concat)\r\n",
        "\r\n",
        "# 確認\r\n",
        "print(f'連接名詞の種類: {len(result)}\\n')\r\n",
        "print('---サンプル---')\r\n",
        "for n in list(result)[:10]:\r\n",
        "  print(n)\r\n",
        "    "
      ],
      "execution_count": null,
      "outputs": [
        {
          "output_type": "stream",
          "text": [
            "連接名詞の種類: 4458\n",
            "\n",
            "---サンプル---\n",
            "manyaslip'twixtthecupandthelip\n",
            "黒猫\n",
            "迷亭さん\n",
            "説服\n",
            "西洋通\n",
            "不意撃\n",
            "かいらしった\n",
            "みんな一度\n",
            "一枚寒月君\n",
            "形身\n"
          ],
          "name": "stdout"
        }
      ]
    },
    {
      "cell_type": "markdown",
      "metadata": {
        "id": "Mh4-zQDse3--"
      },
      "source": [
        "35. 単語の出現頻度<br>\r\n",
        "文章中に出現する単語とその出現頻度を求め，出現頻度の高い順に並べよ．"
      ]
    },
    {
      "cell_type": "code",
      "metadata": {
        "colab": {
          "base_uri": "https://localhost:8080/"
        },
        "id": "TMIMD4OJgrM9",
        "outputId": "54c5fbfe-9da9-4a8f-dbf4-4e4eea183d46"
      },
      "source": [
        "key2num = {}\r\n",
        "for sentence in sentences:\r\n",
        "  for morph in sentence:\r\n",
        "    if morph['pos'] == '記号':\r\n",
        "      continue\r\n",
        "      \r\n",
        "    if morph[\"surface\"] in key2num:\r\n",
        "      val = key2num[morph[\"surface\"]]\r\n",
        "      key2num[morph[\"base\"]] = val + 1\r\n",
        "    else:\r\n",
        "      key2num[morph[\"base\"]] = 1\r\n",
        "      \r\n",
        "score_sorted = sorted(key2num.items(), key=lambda x:x[1], reverse=True)\r\n",
        "print(score_sorted)"
      ],
      "execution_count": null,
      "outputs": [
        {
          "output_type": "stream",
          "text": [
            "[('の', 9194), ('て', 6848), ('てる', 6722), ('は', 6420), ('に', 6243), ('を', 6071), ('と', 5508), ('が', 5337), ('も', 2479), ('だ', 2084), ('で', 2084), ('から', 2031), ('かる', 1993), ('でる', 1923), ('ん', 1568), ('か', 1529), ('事', 1207), ('へ', 1034), ('う', 987), ('もの', 981), ('君', 973), ('主人', 932), ('よう', 696), ('ね', 657), ('この', 649), ('御', 636), ('ば', 617), ('人', 602), ('その', 576), ('一', 554), ('そう', 546), ('何', 539), ('よ', 502), ('吾輩', 481), ('これ', 414), ('さ', 410), ('それ', 381), ('でも', 346), ('時', 345), ('三', 319), ('な', 317), ('まで', 313), ('ところ', 313), ('方', 312), ('二', 303), ('上', 294), ('いい', 294), ('いう', 288), ('寒月', 286), ('顔', 282), ('先生', 274), ('人間', 272), ('くらい', 269), ('僕', 268), ('さん', 260), ('気', 250), ('猫', 248), ('だけ', 246), ('また', 238), ('中', 234), ('ばかり', 231), ('十', 231), ('どう', 220), ('って', 216), ('細君', 213), ('など', 205), ('鼻', 199), ('今', 195), ('大', 195), ('者', 194), ('そんな', 194), ('や', 193), ('あの', 189), ('しかし', 185), ('ながら', 179), ('じゃ', 178), ('より', 176), ('自分', 175), ('ので', 175), ('少し', 172), ('頭', 169), ('ちょっと', 169), ('訳', 159), ('前', 158), ('日', 154), ('声', 154), ('うち', 152), ('ただ', 150), ('ほど', 150), ('として', 149), ('私', 149), ('だって', 148), ('男', 147), ('家', 143), ('子', 143), ('眼', 142), ('ため', 140), ('彼', 134), ('誰', 133), ('かも', 132), ('間', 131), ('所', 127), ('女', 126), ('もう', 125), ('こんな', 120), ('金田', 119), ('どこ', 118), ('東風', 118), ('という', 116), ('今日', 116), ('まだ', 115), ('いや', 114), ('かく', 114), ('かい', 113), ('通り', 112), ('的', 111), ('第', 108), ('よい', 108), ('さえ', 108), ('例', 108), ('こう', 107), ('よく', 107), ('口', 107), ('まあ', 107), ('わ', 104), ('馬鹿', 103), ('五', 102), ('本', 101), ('え', 101), ('心', 100), ('える', 99), ('年', 99), ('沙弥', 99), ('四', 98), ('ぜ', 98), ('とか', 97), ('手', 97), ('ええ', 97), ('ここ', 96), ('大きな', 95), ('度', 94), ('下', 93), ('今度', 93), ('ちゃ', 93), ('少々', 90), ('まい', 89), ('妙', 88), ('大変', 88), ('昔', 88), ('いくら', 86), ('奴', 86), ('あ', 85), ('あなた', 85), ('鈴木', 85), ('あまり', 84), ('六', 84), ('仙', 84), ('あれ', 83), ('独', 83), ('学校', 82), ('なかなか', 82), ('金', 82), ('もっとも', 81), ('やはり', 80), ('なるほど', 80), ('どうも', 79), ('小', 79), ('さあ', 78), ('話', 77), ('それから', 77), ('目', 76), ('かぐ', 75), ('まま', 74), ('彼等', 74), ('運動', 74), ('以上', 74), ('仕方', 73), ('ヴァイオリン', 73), ('もん', 73), ('ねえ', 73), ('全く', 73), ('もし', 72), ('つもり', 72), ('内', 71), ('物', 71), ('名', 71), ('何だか', 70), ('決して', 70), ('のに', 70), ('だい', 70), ('かう', 69), ('さえる', 69), ('ほか', 68), ('それで', 68), ('苦', 68), ('音', 67), ('右', 67), ('なんか', 66), ('様', 66), ('あと', 65), ('大分', 65), ('そんなに', 65), ('八', 65), ('教師', 64), ('みんな', 64), ('必ず', 63), ('相違', 63), ('心配', 63), ('毛', 62), ('急', 62), ('いつ', 62), ('ところが', 62), ('黒', 62), ('だから', 62), ('先', 61), ('そりゃ', 61), ('すると', 60), ('書斎', 60), ('候', 60), ('ら', 60), ('のみ', 60), ('敵', 60), ('無', 59), ('同じ', 59), ('まず', 59), ('事件', 59), ('はず', 58), ('足', 58), ('供', 57), ('において', 57), ('なに', 57), ('のむ', 56), ('お', 56), ('鼠', 56), ('奥さん', 56), ('しばらく', 55), ('気の毒', 55), ('泥棒', 55), ('あんな', 55), ('生徒', 55), ('分', 54), ('駄目', 53), ('無論', 53), ('ようやく', 52), ('返事', 52), ('すぐ', 52), ('とも', 52), ('そこ', 51), ('いよいよ', 51), ('驚', 51), ('なぜ', 51), ('逆上', 51), ('横', 50), ('真面目', 50), ('裏', 49), ('一つ', 49), ('屋', 49), ('ろ', 49), ('これから', 48), ('いろいろ', 48), ('しきりに', 48), ('首', 48), ('娘', 48), ('水', 48), ('名前', 47), ('無理', 47), ('世の中', 47), ('妻君', 47), ('どんな', 47), ('不思議', 46), ('んで', 46), ('せんだって', 46), ('体', 46), ('是非', 46), ('勢', 46), ('頃', 45), ('風', 45), ('吾', 45), ('極', 45), ('実は', 45), ('問題', 45), ('七', 45), ('博士', 45), ('まるで', 44), ('癖', 44), ('相手', 44), ('いかに', 44), ('勝手', 44), ('め', 44), ('円', 44), ('近頃', 44), ('実に', 43), ('何とか', 43), ('こっち', 43), ('西洋', 43), ('相', 43), ('とき', 42), ('下女', 42), ('百', 42), ('客', 42), ('ああ', 42), ('館', 42), ('ご', 41), ('元来', 41), ('結果', 41), ('垣', 41), ('念', 41), ('様子', 41), ('け', 41), ('なんて', 41), ('雪江', 41), ('ことに', 40), ('つい', 40), ('平気', 40), ('自己', 40), ('とうとう', 40), ('障子', 40), ('士', 40), ('多々良', 40), ('する', 39), ('当人', 39), ('き', 39), ('挨拶', 39), ('たって', 39), ('髯', 39), ('必要', 39), ('研究', 39), ('おや', 39), ('鏡', 39), ('時々', 38), ('とにかく', 38), ('すでに', 38), ('へえ', 38), ('す', 38), ('きっと', 38), ('し', 38), ('どうか', 38), ('神', 38), ('時代', 38), ('うん', 38), ('自然', 37), ('感心', 37), ('事実', 37), ('車屋', 37), ('あら', 37), ('会', 37), ('暗に', 36), ('腹', 36), ('色', 36), ('不', 36), ('後', 36), ('座敷', 36), ('随分', 36), ('骨', 36), ('国', 36), ('なお', 36), ('面', 36), ('意味', 36), ('飯', 36), ('武', 36), ('書生', 35), ('一番', 35), ('ちと', 35), ('せっかく', 35), ('さすが', 35), ('ちょうど', 35), ('承知', 35), ('病気', 35), ('坊', 35), ('点', 35), ('字', 35), ('君子', 35), ('実業', 35), ('探偵', 35), ('陰', 35), ('とうてい', 35), ('穴', 34), ('どうして', 34), ('どうしても', 34), ('力', 34), ('けれども', 34), ('すこぶる', 34), ('共', 34), ('到底', 33), ('不平', 33), ('等', 33), ('日本', 33), ('とく', 33), ('よほど', 33), ('影', 33), ('天下', 33), ('衛門', 33), ('真中', 32), ('非常', 32), ('左', 32), ('ついに', 32), ('やがて', 32), ('我', 32), ('毎日', 32), ('失敬', 32), ('どうせ', 32), ('時分', 32), ('夫婦', 32), ('にゃ', 32), ('突然', 32), ('安心', 32), ('に対して', 32), ('伯父', 32), ('他', 31), ('こりゃ', 31), ('について', 31), ('枚', 31), ('一体', 31), ('立派', 31), ('令嬢', 31), ('代り', 31), ('湯', 31), ('しかも', 30), ('別段', 30), ('はなはだ', 30), ('向', 30), ('後ろ', 30), ('耳', 30), ('言葉', 30), ('付', 30), ('残念', 30), ('おく', 30), ('普通', 30), ('姉', 30), ('晩', 30), ('辺', 30), ('逆', 30), ('ども', 30), ('によって', 30), ('山の芋', 30), ('考', 29), ('台所', 29), ('最後', 29), ('尻', 29), ('質問', 29), ('おい', 29), ('杯', 29), ('尻尾', 29), ('大丈夫', 29), ('喧嘩', 29), ('愉快', 29), ('なあ', 29), ('舌', 29), ('御前', 29), ('町', 29), ('尺', 29), ('烏', 29), ('傍', 28), ('いっしょ', 28), ('畳', 28), ('白', 28), ('たしかに', 28), ('発達', 28), ('愚', 28), ('変化', 28), ('感じる', 28), ('時間', 28), ('にやにや', 28), ('結構', 28), ('全体', 28), ('変', 28), ('茶碗', 28), ('感じ', 27), ('それでも', 27), ('夜', 27), ('己', 27), ('爪', 27), ('画', 27), ('夢', 27), ('世間', 27), ('羽織', 27), ('関係', 27), ('迷惑', 27), ('損', 27), ('だんだん', 27), ('ま', 27), ('つ', 27), ('妻', 27), ('諸君', 27), ('文明', 27), ('三平', 27), ('狂', 27), ('そうして', 26), ('我慢', 26), ('次', 26), ('一向', 26), ('底', 26), ('注意', 26), ('充分', 26), ('二つ', 26), ('嫁', 26), ('説明', 26), ('なあに', 26), ('あんまり', 26), ('先方', 26), ('ものの', 25), ('実際', 25), ('朝', 25), ('さっき', 25), ('場', 25), ('冗談', 25), ('箸', 25), ('山', 25), ('拝見', 25), ('餅', 25), ('戦争', 25), ('万', 25), ('法', 25), ('着物', 25), ('化物', 25), ('邸', 24), ('この間', 24), ('玉', 24), ('御馳走', 24), ('なるべく', 24), ('心持ち', 24), ('場合', 24), ('語', 24), ('動物', 24), ('婦人', 24), ('壺', 24), ('九', 24), ('もう少し', 24), ('嫌', 24), ('よっぽど', 24), ('種', 24), ('月並', 24), ('坊主', 24), ('希', 24), ('本人', 24), ('こそ', 24), ('帽子', 24), ('寸', 24), ('結婚', 24), ('地蔵', 24), ('個性', 24), ('胃弱', 23), ('毫も', 23), ('自ら', 23), ('同時に', 23), ('なん', 23), ('癪', 23), ('銭', 23), ('皆', 23), ('功', 23), ('大抵', 23), ('説', 23), ('御覧', 23), ('身', 23), ('いいえ', 23), ('嬢', 23), ('千', 23), ('世紀', 23), ('松', 23), ('甘木', 23), ('解釈', 23), ('しか', 23), ('布団', 23), ('自身', 23), ('東京', 23), ('禿', 23), ('蝉', 23), ('記憶', 22), ('尊敬', 22), ('判然', 22), ('ついで', 22), ('調子', 22), ('おれ', 22), ('そこで', 22), ('能', 22), ('意', 22), ('散歩', 22), ('皿', 22), ('ことごとく', 22), ('学者', 22), ('際', 22), ('師匠', 22), ('気味', 22), ('水島', 22), ('茶の間', 22), ('たちまち', 22), ('罪', 22), ('やっぱり', 22), ('自覚', 22), ('たまえ', 22), ('なか', 22), ('叔父さん', 22), ('煙草', 21), ('乱暴', 21), ('表', 21), ('天', 21), ('膝', 21), ('主義', 21), ('滑稽', 21), ('かよう', 21), ('こと', 21), ('個', 21), ('一般', 21), ('なんぞ', 21), ('源', 21), ('合', 21), ('真似', 21), ('詩', 21), ('天然', 21), ('竹', 21), ('帯', 21), ('爺さん', 21), ('あばた', 21), ('さて', 20), ('滅多', 20), ('神経', 20), ('現に', 20), ('熱心', 20), ('美学', 20), ('つつ', 20), ('野郎', 20), ('歩', 20), ('庭', 20), ('どっち', 20), ('得意', 20), ('ちゃんと', 20), ('大方', 20), ('わざわざ', 20), ('談話', 20), ('方法', 20), ('文章', 20), ('存外', 20), ('発明', 20), ('もっと', 20), ('句', 20), ('悪', 20), ('奇麗', 20), ('材料', 20), ('世界', 20), ('居士', 20), ('遠慮', 20), ('石', 20), ('先刻', 20), ('本当に', 20), ('珍', 20), ('夏', 20), ('巡査', 20), ('裸体', 20), ('芸術', 20), ('秋', 20), ('その後', 19), ('煙', 19), ('違う', 19), ('決心', 19), ('以外', 19), ('馬', 19), ('奥', 19), ('勉強', 19), ('性', 19), ('月', 19), ('茶', 19), ('犬', 19), ('自慢', 19), ('性質', 19), ('元', 19), ('いかなる', 19), ('木', 19), ('多少', 19), ('または', 19), ('すら', 19), ('同情', 19), ('恋', 19), ('艶', 19), ('面倒', 19), ('胃', 19), ('味', 19), ('宜', 19), ('無言', 19), ('回', 19), ('積極', 19), ('次第', 19), ('医者', 19), ('あるいは', 19), ('両', 19), ('危険', 19), ('老', 19), ('了見', 19), ('世', 19), ('虎', 19), ('警察', 19), ('いわゆる', 18), ('心持', 18), ('胸', 18), ('別に', 18), ('何となく', 18), ('そん', 18), ('楽', 18), ('議論', 18), ('写生', 18), ('悪口', 18), ('教育', 18), ('前足', 18), ('御蔭', 18), ('連中', 18), ('たしか', 18), ('独り', 18), ('半分', 18), ('窓', 18), ('牛', 18), ('製造', 18), ('机', 18), ('書', 18), ('さま', 18), ('公平', 18), ('頑固', 18), ('薬', 18), ('肩', 18), ('流', 18), ('術', 18), ('違い', 18), ('こちら', 18), ('いつの間にか', 18), ('方面', 18), ('失礼', 18), ('昨日', 18), ('こいつ', 18), ('冊', 18), ('価値', 18), ('珠', 18), ('当時', 17), ('背中', 17), ('容易', 17), ('るる', 17), ('どれ', 17), ('友人', 17), ('幅', 17), ('平生', 17), ('加減', 17), ('軽蔑', 17), ('えらい', 17), ('智識', 17), ('形', 17), ('歯', 17), ('頂戴', 17), ('妹', 17), ('行', 17), ('何等', 17), ('学問', 17), ('あんなに', 17), ('品', 17), ('大事', 17), ('御免', 17), ('紹介', 17), ('趣向', 17), ('朗読', 17), ('作', 17), ('下宿', 17), ('消極', 17), ('手紙', 17), ('羅', 17), ('風呂', 17), ('呑気', 17), ('ぞ', 17), ('道', 17), ('わたし', 17), ('即ち', 17), ('単に', 17), ('邪魔', 17), ('刑事', 17), ('火', 16), ('のそのそ', 16), ('書物', 16), ('経験', 16), ('そいつ', 16), ('後架', 16), ('近所', 16), ('あたり', 16), ('皮', 16), ('掃除', 16), ('ずつ', 16), ('気楽', 16), ('いえ', 16), ('生涯', 16), ('苦心', 16), ('角', 16), ('春', 16), ('存在', 16), ('梅', 16), ('暮', 16), ('左右', 16), ('冷淡', 16), ('真理', 16), ('失恋', 16), ('明治', 16), ('懐手', 16), ('両人', 16), ('すべて', 16), ('乙', 16), ('相談', 16), ('いえる', 16), ('わざと', 16), ('自殺', 16), ('いざ', 16), ('霊', 16), ('理由', 16), ('大和魂', 16), ('蟷螂', 16), ('ボール', 16), ('哲学', 16), ('八木', 16), ('池', 15), ('観察', 15), ('言語', 15), ('先日', 15), ('新体詩', 15), ('想像', 15), ('背', 15), ('わし', 15), ('交際', 15), ('相当', 15), ('或', 15), ('ますます', 15), ('たち', 15), ('酒', 15), ('論', 15), ('演説', 15), ('小説', 15), ('あすこ', 15), ('元気', 15), ('半', 15), ('有名', 15), ('実', 15), ('往来', 15), ('人物', 15), ('正月', 15), ('かえって', 15), ('他人', 15), ('蕎麦', 15), ('贅沢', 15), ('身分', 15), ('理', 15), ('否', 15), ('たび', 15), ('依然として', 15), ('四つ', 15), ('町内', 15), ('いささか', 15), ('了', 15), ('次に', 15), ('るい', 15), ('可', 15), ('球', 15), ('母', 15), ('縄', 15), ('英語', 15), ('だれ', 15), ('利口', 15), ('沢山', 15), ('作用', 15), ('歳', 15), ('曰く', 15), ('老人', 15), ('襖', 15), ('髪', 15), ('現象', 15), ('大概', 15), ('毛布', 15), ('真似る', 15), ('保険', 15), ('おれる', 15), ('ど', 14), ('姿', 14), ('再び', 14), ('新聞', 14), ('三つ', 14), ('指', 14), ('所有', 14), ('に関する', 14), ('紙', 14), ('当分', 14), ('何で', 14), ('筆', 14), ('ちっとも', 14), ('じっと', 14), ('棒', 14), ('出来', 14), ('低い', 14), ('じ', 14), ('枝', 14), ('理窟', 14), ('料理', 14), ('歴史', 14), ('社会', 14), ('空', 14), ('門', 14), ('おいで', 14), ('活動', 14), ('ちょい', 14), ('丈夫', 14), ('同', 14), ('雑煮', 14), ('何と', 14), ('恰好', 14), ('ちゃん', 14), ('手数', 14), ('尾', 14), ('胃病', 14), ('云', 14), ('従って', 14), ('幸', 14), ('帰り', 14), ('注文', 14), ('油', 14), ('成功', 14), ('腰', 14), ('羽', 14), ('何だ', 14), ('近来', 14), ('静岡', 14), ('夫人', 14), ('談判', 14), ('満足', 14), ('一言', 14), ('焼', 14), ('頬', 14), ('毒', 14), ('会社', 14), ('覚', 14), ('論文', 14), ('車夫', 14), ('桶', 14), ('生意気', 14), ('同じく', 14), ('目的', 14), ('かんかん', 14), ('豚', 14), ('休養', 14), ('叔母さん', 14), ('鍋', 14), ('戸棚', 14), ('おやじ', 14), ('見当', 13), ('輪', 13), ('容子', 13), ('やる', 13), ('縁', 13), ('垣根', 13), ('やっと', 13), ('限り', 13), ('好き', 13), ('天気', 13), ('しかるに', 13), ('そら', 13), ('水彩', 13), ('用', 13), ('折', 13), ('げ', 13), ('車', 13), ('勇気', 13), ('呈出', 13), ('碌', 13), ('降参', 13), ('肴', 13), ('恐縮', 13), ('玄関', 13), ('紐', 13), ('勘定', 13), ('吹聴', 13), ('とても', 13), ('余', 13), ('周囲', 13), ('まさか', 13), ('感', 13), ('うる', 13), ('生憎', 13), ('番', 13), ('極めて', 13), ('場所', 13), ('つまり', 13), ('無事', 13), ('孔雀', 13), ('然', 13), ('油断', 13), ('引力', 13), ('正直', 13), ('戸', 13), ('首縊り', 13), ('たった', 13), ('はっと', 13), ('自由', 13), ('蓋', 13), ('どころ', 13), ('以来', 13), ('不審', 13), ('力学', 13), ('但し', 13), ('地面', 13), ('嘘', 13), ('双方', 13), ('鉄', 13), ('歌', 13), ('趣味', 13), ('富子', 13), ('もしくは', 13), ('うんと', 13), ('空地', 13), ('天才', 13), ('修養', 13), ('た', 12), ('始める', 12), ('片', 12), ('ふと', 12), ('思い', 12), ('始末', 12), ('昼寝', 12), ('我儘', 12), ('袋', 12), ('むしろ', 12), ('俳句', 12), ('絵', 12), ('あり', 12), ('地', 12), ('感服', 12), ('数', 12), ('倍', 12), ('静か', 12), ('さも', 12), ('去年', 12), ('日記', 12), ('資格', 12), ('上等', 12), ('主張', 12), ('厭', 12), ('具合', 12), ('もと', 12), ('方角', 12), ('服装', 12), ('それに', 12), ('わが', 12), ('本当', 12), ('やあ', 12), ('早速', 12), ('名誉', 12), ('足音', 12), ('肉', 12), ('態度', 12), ('御飯', 12), ('棚', 12), ('始め', 12), ('至極', 12), ('少しく', 12), ('至り', 12), ('あまる', 12), ('にとって', 12), ('腹の中', 12), ('飄然', 12), ('台', 12), ('命', 12), ('ビール', 12), ('文', 12), ('学士', 12), ('大学', 12), ('夫', 12), ('に対する', 12), ('いたずら', 12), ('空間', 12), ('奇観', 12), ('ジャム', 12), ('坊や', 12), ('知らん顔', 12), ('罪人', 12), ('調和', 12), ('始終', 12), ('正面', 12), ('狸', 12), ('なぞ', 12), ('鉄扇', 12), ('ステッキ', 12), ('個人', 12), ('幸福', 12), ('俺', 12), ('古', 12), ('どうぞ', 12), ('天地', 12), ('強情', 12), ('未来', 12), ('しまいに', 12), ('鰹節', 12), ('桐', 12), ('ダムダム弾', 12), ('たいてい', 12), ('吉原', 12), ('やら', 11), ('訪問', 11), ('いきなり', 11), ('こんなに', 11), ('権利', 11), ('両君', 11), ('関', 11), ('にて', 11), ('翌日', 11), ('一種', 11), ('退屈', 11), ('えて', 11), ('偉大', 11), ('葉', 11), ('遥か', 11), ('どの', 11), ('ちっと', 11), ('匹', 11), ('段', 11), ('あたかも', 11), ('たんび', 11), ('文学', 11), ('約', 11), ('ほとんど', 11), ('某', 11), ('一応', 11), ('よし', 11), ('平等', 11), ('何とも', 11), ('平常', 11), ('寝室', 11), ('こないだ', 11), ('羽根', 11), ('外', 11), ('一生懸命', 11), ('中心', 11), ('之', 11), ('女の子', 11), ('要領', 11), ('参考', 11), ('袴', 11), ('拝聴', 11), ('それでは', 11), ('役', 11), ('義務', 11), ('諸', 11), ('柄', 11), ('発見', 11), ('厄介', 11), ('巨人', 11), ('万物', 11), ('講釈', 11), ('室', 11), ('約束', 11), ('奇', 11), ('最前', 11), ('団子', 11), ('結論', 11), ('やむを得ず', 11), ('思わず', 11), ('天井', 11), ('独逸', 11), ('かの', 11), ('猿', 11), ('中学', 11), ('年生', 11), ('手拭', 11), ('故に', 11), ('張', 11), ('窮屈', 11), ('用事', 11), ('意志', 11), ('一大', 11), ('手際', 11), ('盗難', 11), ('汗', 11), ('運命', 11), ('インスピレーション', 11), ('魚', 11), ('精神', 11), ('退校', 11), ('分る', 10), ('肝心', 10), ('竹垣', 10), ('遍', 10), ('宿', 10), ('得る', 10), ('別', 10), ('床', 10), ('鑑定', 10), ('辛', 10), ('ひそか', 10), ('何しろ', 10), ('肝', 10), ('張る', 10), ('謹聴', 10), ('泥', 10), ('卒業', 10), ('自', 10), ('明瞭', 10), ('裡', 10), ('久し振り', 10), ('端書', 10), ('からだ', 10), ('存', 10), ('いわんや', 10), ('べ', 10), ('前歯', 10), ('御存じ', 10), ('傾向', 10), ('見物', 10), ('汁', 10), ('ちゃあ', 10), ('上野', 10), ('攻撃', 10), ('頭脳', 10), ('二絃琴', 10), ('三毛', 10), ('互に', 10), ('三角', 10), ('いずれ', 10), ('天璋院', 10), ('空気', 10), ('辟易', 10), ('巻煙草', 10), ('名刺', 10), ('気色', 10), ('都合', 10), ('春風', 10), ('船頭', 10), ('使', 10), ('被', 10), ('兼', 10), ('余計', 10), ('鉢', 10), ('だの', 10), ('あいつ', 10), ('詩人', 10), ('禅', 10), ('鐘', 10), ('それだけ', 10), ('橋', 10), ('幸い', 10), ('取り', 10), ('義理', 10), ('いと', 10), ('依頼', 10), ('折々', 10), ('崎', 10), ('頓', 10), ('たま', 10), ('道楽', 10), ('へえー', 10), ('道具', 10), ('いかん', 10), ('柳', 10), ('工夫', 10), ('寺', 10), ('露見', 10), ('えと', 10), ('沙汰', 10), ('修業', 10), ('旦那', 10), ('隣', 10), ('臥竜', 10), ('隅', 10), ('たる', 10), ('箱', 10), ('ばい', 10), ('刈', 10), ('信用', 10), ('蛇', 10), ('校長', 10), ('天道', 10), ('殿下', 10), ('柿', 10), ('いる', 9), ('一疋', 9), ('雨', 9), ('運', 9), ('友達', 9), ('一間', 9), ('たり', 9), ('愛', 9), ('よる', 9), ('盛', 9), ('処', 9), ('光', 9), ('きり', 9), ('比較', 9), ('機嫌', 9), ('批評', 9), ('明', 9), ('昨夜', 9), ('と共に', 9), ('座', 9), ('忠告', 9), ('に従って', 9), ('出鱈目', 9), ('線', 9), ('席', 9), ('同様', 9), ('壁', 9), ('模様', 9), ('立てる', 9), ('新', 9), ('高い', 9), ('早々', 9), ('劇', 9), ('小さな', 9), ('糞', 9), ('特色', 9), ('界', 9), ('張り', 9), ('乏しい', 9), ('証拠', 9), ('面目', 9), ('それほど', 9), ('遊び', 9), ('つまらない', 9), ('薄い', 9), ('椀', 9), ('ほんとに', 9), ('衣服', 9), ('今朝', 9), ('立て', 9), ('笑い', 9), ('実行', 9), ('美', 9), ('形容', 9), ('はい', 9), ('はあ', 9), ('分り', 9), ('世話', 9), ('四角', 9), ('熱い', 9), ('ぽか', 9), ('如何', 9), ('遺憾', 9), ('賛成', 9), ('敬服', 9), ('類', 9), ('堤', 9), ('顔色', 9), ('女学生', 9), ('大兄', 9), ('を以て', 9), ('学', 9), ('歓迎', 9), ('得', 9), ('一時', 9), ('最初', 9), ('風邪', 9), ('喋', 9), ('親', 9), ('太平', 9), ('写真', 9), ('偶然', 9), ('価', 9), ('フロック', 9), ('直ちに', 9), ('式', 9), ('英国', 9), ('仮令', 9), ('籠', 9), ('勢力', 9), ('店', 9), ('ごと', 9), ('癇癪', 9), ('発展', 9), ('刺激', 9), ('根', 9), ('丁', 9), ('軒', 9), ('草', 9), ('生', 9), ('珍客', 9), ('株', 9), ('号', 9), ('あらゆる', 9), ('状態', 9), ('大将', 9), ('洗湯', 9), ('塊', 9), ('長', 9), ('女子', 9), ('石炭', 9), ('遊戯', 9), ('いやしくも', 9), ('かさ', 9), ('猿股', 9), ('記述', 9), ('きたない', 9), ('作家', 9), ('倫理', 9), ('常識', 9), ('電光', 9), ('雑巾', 9), ('古井', 9), ('浜田', 9), ('善', 9), ('ぬ', 8), ('をもって', 8), ('薬缶', 8), ('考える', 8), ('分別', 8), ('臭い', 8), ('蔭', 8), ('隙', 8), ('質', 8), ('だり', 8), ('板の間', 8), ('親子', 8), ('失敗', 8), ('だらけ', 8), ('時に', 8), ('やめる', 8), ('あえて', 8), ('波', 8), ('これら', 8), ('小便', 8), ('立つ', 8), ('出', 8), ('額', 8), ('烈しい', 8), ('問答', 8), ('いつも', 8), ('咽喉', 8), ('呼吸', 8), ('答', 8), ('反対', 8), ('化', 8), ('下手', 8), ('好', 8), ('名文', 8), ('嫌い', 8), ('際限', 8), ('竪', 8), ('上品', 8), ('落ちつき', 8), ('せめて', 8), ('応用', 8), ('差支える', 8), ('同類', 8), ('活版', 8), ('未だ', 8), ('公', 8), ('文句', 8), ('木綿', 8), ('賞', 8), ('割', 8), ('入', 8), ('針', 8), ('留守', 8), ('砂糖', 8), ('智慧', 8), ('威光', 8), ('廻', 8), ('死骸', 8), ('心理', 8), ('ひま', 8), ('週間', 8), ('豪傑', 8), ('廃', 8), ('影響', 8), ('横丁', 8), ('催促', 8), ('一寸', 8), ('重い', 8), ('やや', 8), ('気分', 8), ('女性', 8), ('景色', 8), ('惜しい', 8), ('じゃあ', 8), ('牛肉', 8), ('何でも', 8), ('英', 8), ('ともかく', 8), ('毎月', 8), ('叮嚀', 8), ('称する', 8), ('菓子', 8), ('故', 8), ('男爵', 8), ('節', 8), ('招待', 8), ('使用', 8), ('自信', 8), ('大切', 8), ('評判', 8), ('師', 8), ('うむ', 8), ('かしら', 8), ('差支え', 8), ('遠く', 8), ('堂', 8), ('愚図', 8), ('分の', 8), ('親切', 8), ('慾', 8), ('見識', 8), ('日曜', 8), ('愛想', 8), ('鼻毛', 8), ('幾', 8), ('子供', 8), ('股', 8), ('愛嬌', 8), ('不足', 8), ('言', 8), ('樽', 8), ('王様', 8), ('ハイカラ', 8), ('論理', 8), ('襟', 8), ('習慣', 8), ('以前', 8), ('立', 8), ('距離', 8), ('仮定', 8), ('平均', 8), ('い', 8), ('直線', 8), ('灯', 8), ('謙遜', 8), ('板', 8), ('予期', 8), ('雑作', 8), ('下等', 8), ('法螺', 8), ('動静', 8), ('たとい', 8), ('大勢', 8), ('記', 8), ('横風', 8), ('報', 8), ('青年', 8), ('極楽', 8), ('紳士', 8), ('高', 8), ('器械', 8), ('姿勢', 8), ('定めし', 8), ('魂', 8), ('無能', 8), ('多く', 8), ('瓜', 8), ('腕', 8), ('品物', 8), ('ランプ', 8), ('古い', 8), ('程度', 8), ('行水', 8), ('ツユ', 8), ('海', 8), ('米', 8), ('呉服', 8), ('男子', 8), ('虚子', 8), ('利用', 8), ('手段', 8), ('恥辱', 8), ('号する', 8), ('勘', 8), ('狂人', 8), ('民', 8), ('むやみ', 8), ('藤', 8), ('河豚', 8), ('元禄', 8), ('夜具', 8), ('碁', 8), ('シャンパン', 8), ('我々', 7), ('だいぶ', 7), ('はてな', 7), ('云う', 7), ('機会', 7), ('間もなく', 7), ('皮膚', 7), ('珍重', 7), ('昼', 7), ('部屋', 7), ('くる', 7), ('筋', 7), ('毎', 7), ('不人情', 7), ('一々', 7), ('月給', 7), ('らしい', 7), ('余念', 7), ('怒り', 7), ('前後', 7), ('ずる', 7), ('好奇', 7), ('忘れる', 7), ('険', 7), ('気焔', 7), ('試す', 7), ('覚悟', 7), ('極り', 7), ('弁護', 7), ('一度', 7), ('ふん', 7), ('魔', 7), ('今に', 7), ('放蕩', 7), ('適当', 7), ('まし', 7), ('における', 7), ('朝日', 7), ('真に', 7), ('仏', 7), ('近く', 7), ('南', 7), ('状', 7), ('やめ', 7), ('立ち', 7), ('かつて', 7), ('側', 7), ('外出', 7), ('短い', 7), ('せい', 7), ('蒲鉾', 7), ('余所', 7), ('ただし', 7), ('そっと', 7), ('端', 7), ('単純', 7), ('無用', 7), ('及ぶ', 7), ('存する', 7), ('因', 7), ('身体', 7), ('病', 7), ('閉口', 7), ('試し', 7), ('今夜', 7), ('考え', 7), ('香', 7), ('機', 7), ('勝手口', 7), ('期', 7), ('猛烈', 7), ('あちら', 7), ('ぐいと', 7), ('容赦', 7), ('孔', 7), ('越智', 7), ('途中', 7), ('いつの間に', 7), ('人前', 7), ('いかにも', 7), ('種類', 7), ('近松', 7), ('主', 7), ('奮発', 7), ('風呂敷', 7), ('申', 7), ('多忙', 7), ('為', 7), ('礼', 7), ('風流', 7), ('秘密', 7), ('俎', 7), ('息', 7), ('勿体ない', 7), ('芸', 7), ('下駄', 7), ('因果', 7), ('○', 7), ('脳', 7), ('活気', 7), ('悪寒', 7), ('狭い', 7), ('肌', 7), ('さよう', 7), ('妨害', 7), ('あぶない', 7), ('駄弁', 7), ('澄し', 7), ('御苦労', 7), ('中途', 7), ('今頃', 7), ('真黒', 7), ('芋', 7), ('引き', 7), ('案内', 7), ('矢', 7), ('なんぼ', 7), ('とかく', 7), ('稽古', 7), ('成立', 7), ('財産', 7), ('牧山', 7), ('不意', 7), ('専門', 7), ('くすくす', 7), ('音楽', 7), ('御礼', 7), ('ひどい', 7), ('当り前', 7), ('産婆', 7), ('首尾', 7), ('死', 7), ('今戸', 7), ('当家', 7), ('剣突', 7), ('薄', 7), ('行為', 7), ('次第に', 7), ('ただ今', 7), ('碁盤', 7), ('癲癇', 7), ('抵抗', 7), ('屋根', 7), ('袖', 7), ('髷', 7), ('藤十郎', 7), ('座布団', 7), ('安', 7), ('不便', 7), ('策', 7), ('随意', 7), ('虫', 7), ('弾丸', 7), ('講義', 7), ('能力', 7), ('全能', 7), ('ぬっと', 7), ('好男子', 7), ('毬栗', 7), ('しっかり', 7), ('告訴', 7), ('野蛮', 7), ('服', 7), ('賢', 7), ('汝', 7), ('乃至', 7), ('東郷', 7), ('衣', 7), ('硝子', 7), ('本来', 7), ('集', 7), ('海水浴', 7), ('せく', 7), ('時候', 7), ('漢', 7), ('入口', 7), ('湯槽', 7), ('真赤', 7), ('免職', 7), ('鳴き声', 7), ('桂月', 7), ('北側', 7), ('亀', 7), ('船', 7), ('液', 7), ('徳利', 7), ('すっと', 7), ('公徳', 7), ('代表', 7), ('床の間', 7), ('すう', 7), ('箒', 7), ('長火鉢', 7), ('監督', 7), ('甘干し', 7), ('甕', 7), ('とんと', 6), ('苦しい', 6), ('どうにか', 6), ('一刻', 6), ('騒々しい', 6), ('かん', 6), ('つける', 6), ('夜中', 6), ('流す', 6), ('平', 6), ('金縁', 6), ('眼鏡', 6), ('上手', 6), ('獣', 6), ('かこう', 6), ('笑', 6), ('覚えず', 6), ('欠伸', 6), ('黄', 6), ('むずむず', 6), ('坪', 6), ('無頓着', 6), ('度胸', 6), ('わずか', 6), ('落ちる', 6), ('答える', 6), ('近辺', 6), ('問', 6), ('髭', 6), ('若い', 6), ('吶喊', 6), ('こく', 6), ('通人', 6), ('部分', 6), ('面白い', 6), ('著述', 6), ('尋ねる', 6), ('冬', 6), ('そのまま', 6), ('区別', 6), ('末', 6), ('なおさら', 6), ('牡蠣', 6), ('願', 6), ('取次', 6), ('椎茸', 6), ('それなら', 6), ('負ける', 6), ('そして', 6), ('旅順', 6), ('綿', 6), ('着る', 6), ('着', 6), ('食卓', 6), ('幾分', 6), ('匙', 6), ('分量', 6), ('切', 6), ('じゅう', 6), ('防', 6), ('超然', 6), ('晩餐', 6), ('氏', 6), ('一心不乱', 6), ('利目', 6), ('不幸', 6), ('振り', 6), ('後足', 6), ('器用', 6), ('縮緬', 6), ('化粧', 6), ('祐筆', 6), ('俗', 6), ('陽気', 6), ('誂', 6), ('吉利', 6), ('調', 6), ('洋行', 6), ('蛙', 6), ('通', 6), ('甲斐', 6), ('しも', 6), ('意気', 6), ('頓着', 6), ('時刻', 6), ('古人', 6), ('曲', 6), ('主意', 6), ('幕', 6), ('仲居', 6), ('紫', 6), ('宴会', 6), ('御座', 6), ('将来', 6), ('功徳', 6), ('及び', 6), ('勿論', 6), ('根気', 6), ('屋敷', 6), ('煙管', 6), ('仕合せ', 6), ('汽車', 6), ('途端', 6), ('火鉢', 6), ('出来事', 6), ('四方', 6), ('提灯', 6), ('度目', 6), ('靴', 6), ('時計', 6), ('石鹸', 6), ('格別', 6), ('弄', 6), ('競争', 6), ('南無阿弥陀仏', 6), ('寿命', 6), ('苦しみ', 6), ('経', 6), ('短', 6), ('不明', 6), ('進化', 6), ('致し方', 6), ('原稿', 6), ('断念', 6), ('落第', 6), ('撰', 6), ('童子', 6), ('所作', 6), ('一家', 6), ('返答', 6), ('曖昧', 6), ('一流', 6), ('要求', 6), ('重', 6), ('釣', 6), ('シャツ', 6), ('陰気', 6), ('田舎', 6), ('日本人', 6), ('さい', 6), ('招魂', 6), ('社', 6), ('ありゃ', 6), ('倉', 6), ('利害', 6), ('変人', 6), ('噂', 6), ('使い', 6), ('地球', 6), ('不愉快', 6), ('たん', 6), ('コート', 6), ('命令', 6), ('好い加減', 6), ('いま', 6), ('国家', 6), ('苦痛', 6), ('構造', 6), ('長物', 6), ('一息', 6), ('母堂', 6), ('恐らく', 6), ('その他', 6), ('大した', 6), ('条件', 6), ('眉', 6), ('恥', 6), ('労力', 6), ('格言', 6), ('権力', 6), ('ざる', 6), ('長範', 6), ('侮辱', 6), ('仲間', 6), ('西', 6), ('廻転', 6), ('根本', 6), ('針箱', 6), ('脳天', 6), ('伝染', 6), ('人情', 6), ('女房', 6), ('光景', 6), ('図書館', 6), ('時機', 6), ('鮑', 6), ('貝', 6), ('枕元', 6), ('深夜', 6), ('不都合', 6), ('順序', 6), ('全然', 6), ('こい', 6), ('血液', 6), ('辞職', 6), ('膳', 6), ('摺', 6), ('意地', 6), ('見事', 6), ('変り', 6), ('ぽん', 6), ('渡す', 6), ('実験', 6), ('神秘', 6), ('裸', 6), ('間際', 6), ('進行', 6), ('朦朧', 6), ('御上', 6), ('衰弱', 6), ('興味', 6), ('領分', 6), ('両者', 6), ('松の木', 6), ('鄭', 6), ('寧', 6), ('裏口', 6), ('洲', 6), ('和', 6), ('代', 6), ('境', 6), ('群', 6), ('檜', 6), ('騒動', 6), ('草履', 6), ('分明', 6), ('巣鴨', 6), ('軍', 6), ('擂粉木', 6), ('ベースボール', 6), ('しかして', 6), ('催眠', 6), ('山羊', 6), ('宗伯', 6), ('かご', 6), ('高等', 6), ('朝鮮', 6), ('甲', 6), ('太刀', 6), ('隠居', 6), ('分署', 6), ('商売', 6), ('粒', 6), ('組', 6), ('庚申山', 6), ('つづら', 6), ('ある', 5), ('生れる', 5), ('装飾', 5), ('つるつる', 5), ('咽', 5), ('来る', 5), ('り', 5), ('とある', 5), ('一層', 5), ('否や', 5), ('ます', 5), ('といった', 5), ('職業', 5), ('覗く', 5), ('人望', 5), ('あながち', 5), ('余地', 5), ('断言', 5), ('へっ', 5), ('手出し', 5), ('おら', 5), ('涙', 5), ('完', 5), ('同族', 5), ('観念', 5), ('頼む', 5), ('弓', 5), ('かける', 5), ('初め', 5), ('露', 5), ('金魚', 5), ('寒', 5), ('活', 5), ('けり', 5), ('有様', 5), ('十分', 5), ('灰色', 5), ('心中', 5), ('しようが', 5), ('両足', 5), ('報道', 5), ('杉', 5), ('入り', 5), ('太陽', 5), ('光線', 5), ('大王', 5), ('膏', 5), ('畠', 5), ('ぐるぐる', 5), ('思案', 5), ('亭主', 5), ('溝', 5), ('芸者', 5), ('野暮', 5), ('かねる', 5), ('わる', 5), ('学生', 5), ('革命', 5), ('傍聴', 5), ('丸い', 5), ('差', 5), ('天秤棒', 5), ('落ち', 5), ('健康', 5), ('未だに', 5), ('年来', 5), ('ありがたい', 5), ('赤', 5), ('形体', 5), ('属', 5), ('口調', 5), ('簡便', 5), ('差別', 5), ('器量', 5), ('悉く', 5), ('相互', 5), ('伝', 5), ('至当', 5), ('格子', 5), ('ン', 5), ('偏屈', 5), ('申し分', 5), ('平手', 5), ('合奏', 5), ('同一', 5), ('櫃', 5), ('さっぱり', 5), ('腸', 5), ('働き', 5), ('毎晩', 5), ('弁解', 5), ('沢庵', 5), ('バルザック', 5), ('看板', 5), ('拍', 5), ('身の上', 5), ('境遇', 5), ('釜', 5), ('づく', 5), ('煩悶', 5), ('要するに', 5), ('動かす', 5), ('どっか', 5), ('朋友', 5), ('行儀', 5), ('かさん', 5), ('つけ', 5), ('了解', 5), ('詩的', 5), ('手持無沙汰', 5), ('合図', 5), ('投', 5), ('詞', 5), ('斤', 5), ('うそ', 5), ('ほんの', 5), ('ボー', 5), ('懐', 5), ('まことに', 5), ('芝居', 5), ('遣手', 5), ('見番', 5), ('ごろごろ', 5), ('現今', 5), ('責任', 5), ('姓名', 5), ('新年', 5), ('同意', 5), ('鳥', 5), ('園', 5), ('感謝', 5), ('流行', 5), ('皇', 5), ('図', 5), ('案出', 5), ('廿', 5), ('国民', 5), ('便宜', 5), ('仕舞', 5), ('本気', 5), ('診察', 5), ('ほんに', 5), ('維新', 5), ('さぞ', 5), ('泰然', 5), ('伎倆', 5), ('こ', 5), ('ずっと', 5), ('行徳', 5), ('ほっと', 5), ('土手', 5), ('ふわふわ', 5), ('現実', 5), ('空也', 5), ('かた', 5), ('川', 5), ('憐れ', 5), ('濡れる', 5), ('全快', 5), ('電車', 5), ('労', 5), ('どころか', 5), ('何事', 5), ('胸中', 5), ('万一', 5), ('権幕', 5), ('希望', 5), ('頭蓋骨', 5), ('沈黙', 5), ('糸瓜', 5), ('動作', 5), ('しばし', 5), ('野良', 5), ('火消', 5), ('たのもしい', 5), ('評', 5), ('鼻汁', 5), ('ぴたり', 5), ('白髪', 5), ('一句', 5), ('簡単', 5), ('銘', 5), ('墓', 5), ('親友', 5), ('大根卸', 5), ('赤ん坊', 5), ('けれど', 5), ('貴様', 5), ('代目', 5), ('窮', 5), ('ハンケチ', 5), ('鱈', 5), ('胴', 5), ('そうすると', 5), ('中学校', 5), ('番頭', 5), ('納得', 5), ('逸話', 5), ('理学', 5), ('請求', 5), ('意義', 5), ('下品', 5), ('多角', 5), ('遠方', 5), ('道理', 5), ('日本語', 5), ('報知', 5), ('はたき', 5), ('ベル', 5), ('辞儀', 5), ('斑', 5), ('鉄砲', 5), ('御両人', 5), ('人間らしい', 5), ('団栗', 5), ('成', 5), ('この世', 5), ('つき', 5), ('女郎', 5), ('傑作', 5), ('馬鹿馬鹿しい', 5), ('あした', 5), ('洋服', 5), ('電気', 5), ('魂胆', 5), ('話頭', 5), ('に関して', 5), ('晴', 5), ('花', 5), ('非', 5), ('無意味', 5), ('突っ', 5), ('剣呑', 5), ('恐れる', 5), ('助', 5), ('怪', 5), ('越し', 5), ('電話', 5), ('お前', 5), ('ありがとう', 5), ('愚物', 5), ('単簡', 5), ('いい加減', 5), ('体面', 5), ('誤解', 5), ('局部', 5), ('顔面', 5), ('初める', 5), ('にあたって', 5), ('淑女', 5), ('似合', 5), ('特別', 5), ('ぷんぷん', 5), ('塀', 5), ('出入', 5), ('大地', 5), ('土地', 5), ('脳裏', 5), ('ぴちゃぴちゃ', 5), ('最中', 5), ('庸', 5), ('自炊', 5), ('牡丹餅', 5), ('当', 5), ('甲羅', 5), ('とくに', 5), ('宇宙', 5), ('今や', 5), ('灯明', 5), ('比較的', 5), ('害', 5), ('不具', 5), ('鎖', 5), ('たてる', 5), ('判断', 5), ('いやー', 5), ('当世', 5), ('負け', 5), ('石塔', 5), ('院', 5), ('果', 5), ('貴重', 5), ('喜', 5), ('具', 5), ('困却', 5), ('枕', 5), ('そもそも', 5), ('裾', 5), ('まり', 5), ('出現', 5), ('両方', 5), ('眼前', 5), ('換言', 5), ('証明', 5), ('断定', 5), ('困難', 5), ('完全', 5), ('勝手次第', 5), ('敷居', 5), ('栄', 5), ('細長い', 5), ('片手', 5), ('ける', 5), ('要する', 5), ('夕べ', 5), ('ばってん', 5), ('始めて', 5), ('こうして', 5), ('利益', 5), ('居', 5), ('雁', 5), ('戦闘', 5), ('計', 5), ('流し', 5), ('向う側', 5), ('拍子', 5), ('勘弁', 5), ('頭巾', 5), ('割合', 5), ('傷', 5), ('路', 5), ('塵', 5), ('男女', 5), ('蔵', 5), ('歴然と', 5), ('初', 5), ('女学校', 5), ('落着', 5), ('案', 5), ('顕著', 5), ('余裕', 5), ('趣', 5), ('誇る', 5), ('滑り', 5), ('義経', 5), ('左衛門', 5), ('摩擦', 5), ('欧', 5), ('礼服', 5), ('血', 5), ('赤裸', 5), ('生長', 5), ('団体', 5), ('介', 5), ('外国', 5), ('唐', 5), ('小僧', 5), ('通行', 5), ('行動', 5), ('さらに', 5), ('表門', 5), ('駱駝', 5), ('乱入', 5), ('用意', 5), ('古来', 5), ('渋柿', 5), ('鷲', 5), ('訓戒', 5), ('わんわん', 5), ('隊', 5), ('多勢', 5), ('華族', 5), ('蒟蒻', 5), ('疱瘡', 5), ('義捐', 5), ('状袋', 5), ('海鼠', 5), ('業', 5), ('仁', 5), ('参', 5), ('原', 5), ('杉原', 5), ('瘋癲', 5), ('尼', 5), ('薩摩芋', 5), ('不道徳', 5), ('古物', 5), ('月賦', 5), ('孔子', 5), ('いた事', 4), ('食う', 4), ('おる', 4), ('たくさん', 4), ('痛い', 4), ('藁', 4), ('迎', 4), ('おさん', 4), ('合せる', 4), ('活溌', 4), ('ページ', 4), ('付ける', 4), ('中間', 4), ('る', 4), ('小さい', 4), ('総', 4), ('家族', 4), ('生活', 4), ('権', 4), ('正当', 4), ('住む', 4), ('間違い', 4), ('宗', 4), ('とる', 4), ('友', 4), ('一室', 4), ('利', 4), ('大家', 4), ('なり', 4), ('造作', 4), ('便利', 4), ('力量', 4), ('茶園', 4), ('大胆', 4), ('柔', 4), ('梧桐', 4), ('身動き', 4), ('恐れ', 4), ('心臓', 4), ('豊か', 4), ('昂然', 4), ('一方', 4), ('軽侮', 4), ('追って', 4), ('知己', 4), ('景気', 4), ('名人', 4), ('交番', 4), ('子分', 4), ('画家', 4), ('未練', 4), ('唯一', 4), ('傾聴', 4), ('問いかける', 4), ('けら', 4), ('門下生', 4), ('雪隠', 4), ('奇警', 4), ('脂', 4), ('残り', 4), ('許', 4), ('年始', 4), ('半ば', 4), ('読者', 4), ('評価', 4), ('智', 4), ('がち', 4), ('はた', 4), ('っと', 4), ('列', 4), ('複雑', 4), ('向上', 4), ('えらく', 4), ('今年', 4), ('旧', 4), ('来客', 4), ('不安', 4), ('かね', 4), ('紋付', 4), ('袖口', 4), ('欠ける', 4), ('何者', 4), ('臆病', 4), ('去る', 4), ('もす', 4), ('女連', 4), ('つぎ', 4), ('以後', 4), ('一切', 4), ('対', 4), ('麺', 4), ('ご覧', 4), ('衣装', 4), ('貰', 4), ('発揮', 4), ('朝飯', 4), ('香の物', 4), ('残酷', 4), ('眼球', 4), ('秩序', 4), ('病人', 4), ('黙然', 4), ('探険', 4), ('帰りがけ', 4), ('裁縫', 4), ('白状', 4), ('落す', 4), ('切れる', 4), ('沼', 4), ('答え', 4), ('無茶苦茶', 4), ('ともすると', 4), ('天祐', 4), ('食べる', 4), ('踊る', 4), ('堅い', 4), ('心得る', 4), ('異性', 4), ('苦労', 4), ('有する', 4), ('満', 4), ('反射', 4), ('赤い', 4), ('無邪気', 4), ('大好き', 4), ('甥', 4), ('すっかり', 4), ('回復', 4), ('高慢ちき', 4), ('無遠慮', 4), ('厘', 4), ('内心', 4), ('西川', 4), ('四隣', 4), ('寂寞', 4), ('しよう', 4), ('ちの', 4), ('向き', 4), ('洒落', 4), ('はさ', 4), ('謝罪', 4), ('払底', 4), ('俳人', 4), ('異存', 4), ('ぐっと', 4), ('御用', 4), ('同志', 4), ('花魁', 4), ('仮', 4), ('文芸', 4), ('世辞', 4), ('竜頭蛇尾', 4), ('わっ', 4), ('計画', 4), ('そろそろ', 4), ('明日', 4), ('居候', 4), ('むっと', 4), ('浅草', 4), ('極度', 4), ('近い', 4), ('事情', 4), ('恩', 4), ('さき', 4), ('瓶', 4), ('さっさと', 4), ('肺病', 4), ('感動', 4), ('無作法', 4), ('洗う', 4), ('休み', 4), ('相応', 4), ('神聖', 4), ('翻訳', 4), ('読本', 4), ('際どい', 4), ('熱', 4), ('出席', 4), ('心細い', 4), ('郵便', 4), ('鴻', 4), ('市', 4), ('一足', 4), ('万事', 4), ('安い', 4), ('睡眠', 4), ('吾が', 4), ('総身', 4), ('欄干', 4), ('夢中', 4), ('三味線', 4), ('ぐらぐら', 4), ('註釈', 4), ('脱', 4), ('がらり', 4), ('履行', 4), ('諺', 4), ('愛する', 4), ('輝', 4), ('唇', 4), ('意見', 4), ('独り言', 4), ('座蒲団', 4), ('誉', 4), ('戒名', 4), ('柱', 4), ('名産', 4), ('量', 4), ('融通', 4), ('児', 4), ('丸', 4), ('小鼻', 4), ('一致', 4), ('捨てる', 4), ('先月', 4), ('缶', 4), ('八つ', 4), ('大袈裟', 4), ('腹膜炎', 4), ('裏手', 4), ('話しかける', 4), ('感嘆', 4), ('費', 4), ('一文', 4), ('余り', 4), ('袂', 4), ('雑誌', 4), ('買', 4), ('外套', 4), ('定義', 4), ('処置', 4), ('白木屋', 4), ('洗濯', 4), ('一杯', 4), ('古代', 4), ('巻', 4), ('条', 4), ('理論', 4), ('仰せ', 4), ('やれやれ', 4), ('なんで', 4), ('続き', 4), ('純然', 4), ('泉岳寺', 4), ('少なくとも', 4), ('坂', 4), ('鯨', 4), ('精一杯', 4), ('標札', 4), ('もち', 4), ('方々', 4), ('片付ける', 4), ('環', 4), ('恐ろしい', 4), ('そ', 4), ('交換', 4), ('いくらでも', 4), ('保証', 4), ('素人', 4), ('だに', 4), ('宅', 4), ('天女', 4), ('噺', 4), ('構える', 4), ('間接', 4), ('任意', 4), ('解', 4), ('上り', 4), ('横町', 4), ('階', 4), ('ぴかぴか', 4), ('悠々', 4), ('廊下', 4), ('貧乏', 4), ('番茶', 4), ('教員', 4), ('妾', 4), ('小間使', 4), ('相撲', 4), ('あいかわらず', 4), ('寝返り', 4), ('ぼんやり', 4), ('応ずる', 4), ('珍品', 4), ('英雄', 4), ('剛', 4), ('必然', 4), ('持主', 4), ('殿', 4), ('むき', 4), ('良心', 4), ('不合理', 4), ('東西', 4), ('鮪', 4), ('禿頭', 4), ('東', 4), ('熊坂', 4), ('客間', 4), ('性分', 4), ('リー', 4), ('ドル', 4), ('梃', 4), ('出所', 4), ('間柄', 4), ('益', 4), ('可哀そう', 4), ('談', 4), ('疑問', 4), ('因縁', 4), ('右手', 4), ('麩', 4), ('観音', 4), ('仕事', 4), ('速度', 4), ('試験', 4), ('背く', 4), ('門口', 4), ('あてる', 4), ('室内', 4), ('断り', 4), ('早晩', 4), ('維持', 4), ('上下', 4), ('威厳', 4), ('異名', 4), ('消息', 4), ('狼狽', 4), ('金銭', 4), ('代理', 4), ('羊羹', 4), ('禅家', 4), ('奇問', 4), ('っけ', 4), ('大小', 4), ('帰', 4), ('原理', 4), ('蚊', 4), ('百日紅', 4), ('なにか', 4), ('人一倍', 4), ('合せ', 4), ('真', 4), ('そっち', 4), ('ぐる', 4), ('矛盾', 4), ('所為', 4), ('粉', 4), ('人生', 4), ('それにしても', 4), ('二六時中', 4), ('雪', 4), ('頁', 4), ('奇特', 4), ('片足', 4), ('しん', 4), ('系統', 4), ('雨戸', 4), ('天職', 4), ('全智', 4), ('俗人', 4), ('製作', 4), ('視線', 4), ('模', 4), ('像', 4), ('当然', 4), ('悠然と', 4), ('しった', 4), ('小脇', 4), ('覗き', 4), ('唐津', 4), ('兵', 4), ('分間', 4), ('すか', 4), ('かしこ', 4), ('大頭', 4), ('その間', 4), ('生息', 4), ('らん', 4), ('熾', 4), ('生れ', 4), ('来', 4), ('暮れる', 4), ('敷', 4), ('銅', 4), ('所在地', 4), ('悄然', 4), ('鷹揚', 4), ('たて', 4), ('門前', 4), ('物凄い', 4), ('引窓', 4), ('卑怯', 4), ('重み', 4), ('がりがり', 4), ('羊', 4), ('青い', 4), ('興', 4), ('半日', 4), ('茶漬', 4), ('ふらふら', 4), ('免', 4), ('理想', 4), ('独身', 4), ('峠', 4), ('一目', 4), ('辛抱', 4), ('おお', 4), ('盆', 4), ('脚本', 4), ('布', 4), ('丁目', 4), ('伊勢', 4), ('譚', 4), ('品性', 4), ('趨勢', 4), ('亜', 4), ('暁', 4), ('幹', 4), ('包', 4), ('義', 4), ('印度', 4), ('狩り', 4), ('活躍', 4), ('休息', 4), ('軍略', 4), ('おしい', 4), ('登り', 4), ('注', 4), ('集合', 4), ('叉', 4), ('ご免', 4), ('巡り', 4), ('阿呆', 4), ('衆', 4), ('痒い', 4), ('引っ', 4), ('浴場', 4), ('よもや', 4), ('養成', 4), ('薪', 4), ('南側', 4), ('アダム', 4), ('バス', 4), ('温泉', 4), ('本体', 4), ('通用', 4), ('日月', 4), ('われ', 4), ('異', 4), ('重太郎', 4), ('軍隊', 4), ('超人', 4), ('森', 4), ('小使', 4), ('弁当', 4), ('暇', 4), ('所以', 4), ('目垣', 4), ('木戸', 4), ('濡れ', 4), ('取りかかる', 4), ('弊', 4), ('ダム', 4), ('巧妙', 4), ('正しい', 4), ('出馬', 4), ('陣立て', 4), ('連想', 4), ('砲手', 4), ('弾', 4), ('一部', 4), ('則', 4), ('こら', 4), ('向後', 4), ('では', 4), ('滅多に', 4), ('瞼', 4), ('原因', 4), ('和尚', 4), ('それどころ', 4), ('幽霊', 4), ('賢者', 4), ('慰藉', 4), ('頼み', 4), ('鰻', 4), ('すい', 4), ('ろか', 4), ('地震', 4), ('聾', 4), ('公然', 4), ('襲撃', 4), ('夜着', 4), ('ゴロ', 4), ('ツキ', 4), ('県', 4), ('人民', 4), ('あきらめる', 4), ('やいなや', 4), ('札', 4), ('騒ぎ', 4), ('連結', 4), ('鉢合せ', 4), ('あて', 4), ('盤', 4), ('独習', 4), ('灰吹', 4), ('じいさん', 4), ('一枚岩', 4), ('鴛鴦', 4), ('スリ', 4), ('下士官', 4), ('掌', 3), ('悪い', 3), ('兄弟', 3), ('見える', 3), ('母親', 3), ('おかしい', 3), ('向う', 3), ('そのうち', 3), ('暮れ', 3), ('たい', 3), ('食物', 3), ('崩れる', 3), ('隣家', 3), ('猶予', 3), ('遭遇', 3), ('ひもじい', 3), ('つくづく', 3), ('出す', 3), ('忍び足', 3), ('垂らす', 3), ('入れる', 3), ('炬燵', 3), ('入る', 3), ('寝床', 3), ('五つ', 3), ('容', 3), ('わるい', 3), ('同居', 3), ('逆さ', 3), ('家内', 3), ('がかり', 3), ('腕力', 3), ('時節', 3), ('謡', 3), ('果して', 3), ('上げる', 3), ('感ずる', 3), ('あける', 3), ('たまらない', 3), ('自白', 3), ('毛並', 3), ('不器量', 3), ('盲', 3), ('筋肉', 3), ('仕儀', 3), ('存分', 3), ('失望', 3), ('怒鳴る', 3), ('何一つ', 3), ('酷い', 3), ('不徳', 3), ('かな', 3), ('昼飯', 3), ('快', 3), ('そば', 3), ('純粋', 3), ('午', 3), ('透明', 3), ('きらきら', 3), ('ばらばら', 3), ('真丸', 3), ('起す', 3), ('無学', 3), ('不自由', 3), ('邂逅', 3), ('ぴんと', 3), ('いっそ', 3), ('畜生', 3), ('望', 3), ('風采', 3), ('はか', 3), ('夫子', 3), ('捏造', 3), ('対話', 3), ('予め', 3), ('情', 3), ('挑撥', 3), ('掛ける', 3), ('日の出', 3), ('目付', 3), ('給', 3), ('跛', 3), ('漸', 3), ('著い', 3), ('紅', 3), ('散る', 3), ('稀', 3), ('欲', 3), ('むく', 3), ('しく', 3), ('紛れ', 3), ('肖像', 3), ('眼識', 3), ('浴', 3), ('何ぞ', 3), ('按排', 3), ('求む', 3), ('達観', 3), ('ずらりと', 3), ('離れる', 3), ('墨', 3), ('っぽい', 3), ('合点', 3), ('爺', 3), ('通る', 3), ('弱', 3), ('恋着', 3), ('挟む', 3), ('欠け', 3), ('紀', 3), ('所々', 3), ('人目', 3), ('小児', 3), ('毎朝', 3), ('らく', 3), ('重なる', 3), ('優る', 3), ('歩行', 3), ('切れ', 3), ('袋戸', 3), ('気遣い', 3), ('神田', 3), ('宝', 3), ('下落', 3), ('冷笑', 3), ('正宗', 3), ('験', 3), ('按摩', 3), ('後で', 3), ('健全', 3), ('冷かす', 3), ('続く', 3), ('間断', 3), ('虚栄', 3), ('新道', 3), ('仏蘭西', 3), ('店先', 3), ('連れる', 3), ('もしや', 3), ('念頭', 3), ('疳', 3), ('ぶくぶく', 3), ('直覚', 3), ('事物', 3), ('吸収', 3), ('意気込み', 3), ('踊', 3), ('恨めしい', 3), ('情け', 3), ('むらむら', 3), ('鈴', 3), ('おめでとう', 3), ('満更', 3), ('喉仏', 3), ('震動', 3), ('きの', 3), ('踊り', 3), ('おめでたい', 3), ('年中', 3), ('鮭', 3), ('御代', 3), ('応対', 3), ('大声', 3), ('いやに', 3), ('へー', 3), ('圧す', 3), ('大気', 3), ('なめくじ', 3), ('水仙', 3), ('めん', 3), ('メンチ', 3), ('沈着', 3), ('込', 3), ('問う', 3), ('済ます', 3), ('美術', 3), ('詩歌', 3), ('創作', 3), ('琵琶', 3), ('誤謬', 3), ('性格', 3), ('きく', 3), ('茶屋', 3), ('頓珍漢', 3), ('表情', 3), ('警句', 3), ('帳面', 3), ('知名', 3), ('揃', 3), ('掛', 3), ('申す', 3), ('光栄', 3), ('印', 3), ('カステラ', 3), ('先ず', 3), ('方針', 3), ('千古', 3), ('審美', 3), ('協会', 3), ('部', 3), ('教授', 3), ('連発', 3), ('のべつ', 3), ('光来', 3), ('心得', 3), ('然し', 3), ('を通じて', 3), ('如く', 3), ('小生', 3), ('済む', 3), ('由', 3), ('食', 3), ('保持', 3), ('秘法', 3), ('入浴', 3), ('嘔吐', 3), ('又', 3), ('到着', 3), ('スミス', 3), ('青', 3), ('雅', 3), ('咳', 3), ('のう', 3), ('ペスト', 3), ('野良猫', 3), ('寸法', 3), ('法螺吹き', 3), ('馬子', 3), ('借金', 3), ('題', 3), ('本文', 3), ('擲つ', 3), ('黒白', 3), ('あくまでも', 3), ('退治', 3), ('至って', 3), ('初対面', 3), ('かし', 3), ('出口', 3), ('膝頭', 3), ('宮', 3), ('復讐', 3), ('格', 3), ('高話', 3), ('露西亜', 3), ('無常', 3), ('迅速', 3), ('ぶら下がる', 3), ('危ない', 3), ('結び目', 3), ('試みる', 3), ('美的', 3), ('感応', 3), ('灰', 3), ('丁寧', 3), ('刻', 3), ('令夫人', 3), ('剤', 3), ('今時分', 3), ('糸', 3), ('摂津', 3), ('賑やか', 3), ('交渉', 3), ('手続き', 3), ('常', 3), ('規', 3), ('叱りつける', 3), ('くらむ', 3), ('横文字', 3), ('からかう', 3), ('宜しい', 3), ('水薬', 3), ('柱時計', 3), ('名医', 3), ('理解', 3), ('談笑', 3), ('雲', 3), ('転', 3), ('信女', 3), ('仏壇', 3), ('過', 3), ('達者', 3), ('類似', 3), ('坊さん', 3), ('しばしば', 3), ('放逐', 3), ('鈍', 3), ('さほど', 3), ('忘却', 3), ('昨今', 3), ('同等', 3), ('思想', 3), ('新た', 3), ('はたと', 3), ('改める', 3), ('録', 3), ('宛', 3), ('一気呵成', 3), ('ごたごた', 3), ('親指', 3), ('人さし指', 3), ('今月', 3), ('種々', 3), ('真白', 3), ('大学院', 3), ('猫又', 3), ('ずくめ', 3), ('善人', 3), ('説教', 3), ('書籍', 3), ('後学', 3), ('予言', 3), ('代価', 3), ('商', 3), ('合わせる', 3), ('不満', 3), ('包む', 3), ('午後', 3), ('憤る', 3), ('コップ', 3), ('刑', 3), ('太', 3), ('用いる', 3), ('本題', 3), ('絞殺', 3), ('今晩', 3), ('一端', 3), ('度合', 3), ('首脳', 3), ('ぱちぱち', 3), ('仰山', 3), ('埒', 3), ('正に', 3), ('江戸', 3), ('連', 3), ('災', 3), ('鳶口', 3), ('ぽつぽつ', 3), ('茫然', 3), ('垂れる', 3), ('住居', 3), ('洩る', 3), ('角屋敷', 3), ('束', 3), ('名乗る', 3), ('園遊会', 3), ('更紗', 3), ('銀', 3), ('団扇', 3), ('つんと', 3), ('きが', 3), ('赤面', 3), ('堀', 3), ('気持', 3), ('順', 3), ('これしき', 3), ('縄張', 3), ('色気', 3), ('小遣', 3), ('人並', 3), ('天文学', 3), ('霜', 3), ('本物', 3), ('奇抜', 3), ('容貌', 3), ('愚人', 3), ('山高帽子', 3), ('混同', 3), ('構え', 3), ('安閑', 3), ('かつ', 3), ('与える', 3), ('可哀相', 3), ('天意', 3), ('ずし', 3), ('得々', 3), ('ごろつき', 3), ('及ぼす', 3), ('一命', 3), ('勇猛', 3), ('隣国', 3), ('成就', 3), ('建築', 3), ('模範', 3), ('奥様', 3), ('手合', 3), ('冷やかす', 3), ('洞', 3), ('横行', 3), ('拝', 3), ('間隔', 3), ('懸念', 3), ('長吉', 3), ('狆', 3), ('局', 3), ('聟', 3), ('演者', 3), ('実用', 3), ('斯様', 3), ('かむ', 3), ('比例', 3), ('抗議', 3), ('臭', 3), ('偉観', 3), ('素', 3), ('律', 3), ('公式', 3), ('マン', 3), ('遺伝', 3), ('異状', 3), ('気候', 3), ('安全', 3), ('ようよう', 3), ('意向', 3), ('口々', 3), ('狐', 3), ('認定', 3), ('およそ', 3), ('振舞', 3), ('人類', 3), ('観', 3), ('やむを得ない', 3), ('築山', 3), ('盛徳', 3), ('堂々たる', 3), ('篤と', 3), ('解剖', 3), ('前面', 3), ('相対', 3), ('乱雑', 3), ('平凡', 3), ('無礼', 3), ('僧', 3), ('酔', 3), ('ダース', 3), ('お寺', 3), ('変物', 3), ('親密', 3), ('両手', 3), ('外部', 3), ('落つ', 3), ('洗髪', 3), ('しかしながら', 3), ('金箔', 3), ('鳩', 3), ('貰い', 3), ('鼠色', 3), ('通し', 3), ('大人気', 3), ('抑える', 3), ('旧友', 3), ('体裁', 3), ('いくつ', 3), ('六つ', 3), ('すき', 3), ('猪口', 3), ('数奇', 3), ('パスカル', 3), ('表面', 3), ('真相', 3), ('不可思議', 3), ('出張', 3), ('近道', 3), ('瞬時', 3), ('一生', 3), ('痕', 3), ('冷たい', 3), ('汁粉', 3), ('安眠', 3), ('将軍', 3), ('鶴', 3), ('機鋒', 3), ('発表', 3), ('著書', 3), ('説法', 3), ('軟化', 3), ('多年', 3), ('悟り', 3), ('富', 3), ('観る', 3), ('紙幣', 3), ('日夜', 3), ('圧倒', 3), ('爆発', 3), ('図太い', 3), ('古今', 3), ('演芸', 3), ('心的', 3), ('物騒', 3), ('回顧', 3), ('いかんせん', 3), ('目下', 3), ('眠', 3), ('地位', 3), ('無精', 3), ('熟睡', 3), ('無風流', 3), ('歯軋り', 3), ('属する', 3), ('腰障子', 3), ('大いなる', 3), ('揚板', 3), ('柳行李', 3), ('叙述', 3), ('うじゃうじゃ', 3), ('異様', 3), ('目撃', 3), ('半面', 3), ('国語', 3), ('特徴', 3), ('展開', 3), ('人相', 3), ('予想', 3), ('脛', 3), ('うーん', 3), ('模写', 3), ('飾る', 3), ('鄭重', 3), ('ちゃんちゃん', 3), ('股引', 3), ('繞', 3), ('形式', 3), ('糸織', 3), ('法外', 3), ('バク', 3), ('テリヤ', 3), ('食い', 3), ('得策', 3), ('袷', 3), ('手足', 3), ('おっ', 3), ('貯蓄', 3), ('銀行', 3), ('沓', 3), ('座禅', 3), ('常に', 3), ('儒家', 3), ('勧告', 3), ('無分別', 3), ('旺盛', 3), ('きのう', 3), ('八百屋', 3), ('悲壮', 3), ('境界', 3), ('一口', 3), ('付け', 3), ('三面', 3), ('閣下', 3), ('易', 3), ('竜', 3), ('竈', 3), ('とり', 3), ('がい', 3), ('小人', 3), ('けち', 3), ('径路', 3), ('毛穴', 3), ('怪物', 3), ('管', 3), ('味噌', 3), ('生存', 3), ('休暇', 3), ('家中', 3), ('別物', 3), ('引っ張る', 3), ('牛飼', 3), ('鍛冶', 3), ('ぐいぐい', 3), ('午睡', 3), ('細工', 3), ('すぱすぱ', 3), ('すぐさま', 3), ('重宝', 3), ('パナマ', 3), ('鍔', 3), ('懐中', 3), ('われる', 3), ('突き', 3), ('蠅', 3), ('美人', 3), ('由来', 3), ('山葵', 3), ('左手', 3), ('やってくる', 3), ('ガラス', 3), ('ありがたがる', 3), ('大磯', 3), ('ぶるぶる', 3), ('切実', 3), ('高島田', 3), ('囲炉裏', 3), ('周り', 3), ('婆さん', 3), ('湯気', 3), ('くら', 3), ('鎌首', 3), ('苦しまぎれ', 3), ('島田', 3), ('目障り', 3), ('出立', 3), ('一夜作り', 3), ('先祖', 3), ('容易い', 3), ('進歩', 3), ('敷島', 3), ('体操', 3), ('ぎゃあ', 3), ('一同', 3), ('無聊', 3), ('朝夕', 3), ('侍', 3), ('舞台', 3), ('警視庁', 3), ('花道', 3), ('敏', 3), ('章', 3), ('嘆息', 3), ('窮する', 3), ('送籍', 3), ('詐偽', 3), ('結', 3), ('推論', 3), ('打算', 3), ('しかく', 3), ('鎌倉', 3), ('法則', 3), ('逃げ出す', 3), ('前進', 3), ('縦', 3), ('むしゃむしゃ', 3), ('おし', 3), ('いつく', 3), ('秋風', 3), ('方便', 3), ('弄する', 3), ('注する', 3), ('樹', 3), ('はかない', 3), ('在', 3), ('嘴', 3), ('中止', 3), ('深入り', 3), ('霊妙', 3), ('思う存分', 3), ('猫なで声', 3), ('岡', 3), ('開校', 3), ('獣類', 3), ('よろしく', 3), ('蒙昧', 3), ('手前', 3), ('域', 3), ('薬湯', 3), ('天水', 3), ('用心', 3), ('肺', 3), ('廻り', 3), ('職人', 3), ('冷える', 3), ('大明', 3), ('山賊', 3), ('そのもの', 3), ('少年', 3), ('上がり', 3), ('岩', 3), ('かす', 3), ('立ち上がる', 3), ('を通して', 3), ('赤裸々', 3), ('ぴしゃり', 3), ('人格', 3), ('なく', 3), ('税', 3), ('ずるい', 3), ('哀願', 3), ('むき出す', 3), ('優勢', 3), ('陥れる', 3), ('柔術', 3), ('奥山', 3), ('自由自在', 3), ('定', 3), ('乗り', 3), ('壮', 3), ('人文', 3), ('樹下', 3), ('臨時', 3), ('不可能', 3), ('発射', 3), ('共通', 3), ('営養', 3), ('金柑', 3), ('塩', 3), ('本校', 3), ('侵入', 3), ('校舎', 3), ('輸入', 3), ('講話', 3), ('永久', 3), ('蜂', 3), ('河', 3), ('仔細', 3), ('砲', 3), ('米国', 3), ('まだしも', 3), ('ニュートン', 3), ('非常識', 3), ('庭前', 3), ('素足', 3), ('古風', 3), ('無勢', 3), ('冥', 3), ('がらがら', 3), ('可哀想', 3), ('円滑', 3), ('骨格', 3), ('滔々', 3), ('欠点', 3), ('退去', 3), ('ナポレオン', 3), ('落日', 3), ('痘痕', 3), ('養子', 3), ('確信', 3), ('寝台', 3), ('尊い', 3), ('訓練', 3), ('只', 3), ('途', 3), ('寄附', 3), ('九拝', 3), ('野', 3), ('干瓢', 3), ('酢味噌', 3), ('言辞', 3), ('滅する', 3), ('貴', 3), ('名づける', 3), ('コロン', 3), ('つかつか', 3), ('唐紙', 3), ('見ず知らず', 3), ('赤十字', 3), ('建', 3), ('名目', 3), ('自説', 3), ('ごまかす', 3), ('あくる', 3), ('立町', 3), ('食意地', 3), ('ぜひ', 3), ('出頭', 3), ('あいにく', 3), ('たいがい', 3), ('遊廓', 3), ('日暮れ', 3), ('当夜', 3), ('可愛い', 3), ('積', 3), ('辞', 3), ('貧', 3), ('夥しい', 3), ('かみさん', 3), ('苦手', 3), ('大蔵', 3), ('卿', 3), ('はじめる', 3), ('親類', 3), ('充満', 3), ('泥棒根性', 3), ('ひやひや', 3), ('味噌汁', 3), ('口中', 3), ('祭日', 3), ('蝙蝠傘', 3), ('だけど', 3), ('姉さん', 3), ('ごまかし', 3), ('日当', 3), ('どっと', 3), ('まさしく', 3), ('麗質', 3), ('襦袢', 3), ('まさに', 3), ('投函', 3), ('催す', 3), ('読売新聞', 3), ('清', 3), ('定石', 3), ('庵', 3), ('碁石', 3), ('肝胆', 3), ('質朴', 3), ('済まない', 3), ('制裁', 3), ('難', 3), ('店頭', 3), ('もぐる', 3), ('百姓', 3), ('蝸牛', 3), ('東嶺', 3), ('蝦蟇口', 3), ('姥', 3), ('じじい', 3), ('びら', 3), ('巾着', 3), ('水晶', 3), ('御殿', 3), ('強盗', 3), ('天子', 3), ('錬金術', 3), ('保護', 3), ('披露', 3), ('譜', 3), ('周旋', 3), ('種族', 2), ('スー', 2), ('逢う', 2), ('あまりに', 2), ('飲む', 2), ('廻る', 2), ('隠す', 2), ('しまう', 2), ('笹原', 2), ('くれる', 2), ('試み', 2), ('かかる', 2), ('そろりと', 2), ('行く', 2), ('這入る', 2), ('破れる', 2), ('暖かい', 2), ('抛り出す', 2), ('つまみ出す', 2), ('黒い', 2), ('眺める', 2), ('置く', 2), ('住', 2), ('終日', 2), ('見せる', 2), ('涎', 2), ('黄色', 2), ('徴候', 2), ('あらわす', 2), ('大飯', 2), ('ひろげる', 2), ('読む', 2), ('眠い', 2), ('毎夜', 2), ('日課', 2), ('限る', 2), ('勤まる', 2), ('つらい', 2), ('構う', 2), ('同断', 2), ('迫害', 2), ('加える', 2), ('磨く', 2), ('怒る', 2), ('話す', 2), ('族', 2), ('くい', 2), ('美しい', 2), ('刺', 2), ('守る', 2), ('掠奪', 2), ('軍人', 2), ('おりる', 2), ('送る', 2), ('英文', 2), ('繰返す', 2), ('どういう', 2), ('包み', 2), ('今更', 2), ('むずかしい', 2), ('越', 2), ('星辰', 2), ('枯木', 2), ('鴉', 2), ('細目', 2), ('執る', 2), ('輪廓', 2), ('上乗', 2), ('漆', 2), ('疑う', 2), ('押し出す', 2), ('あー', 2), ('わり', 2), ('増長', 2), ('強い', 2), ('騒ぐ', 2), ('浩然', 2), ('養う', 2), ('小春', 2), ('不覚', 2), ('長々', 2), ('忍び', 2), ('窃か', 2), ('過ぎる', 2), ('炎', 2), ('燃える', 2), ('体格', 2), ('佇立', 2), ('開く', 2), ('琥珀', 2), ('冷然', 2), ('察', 2), ('同盟', 2), ('みる', 2), ('食える', 2), ('見違える', 2), ('大きい', 2), ('箆', 2), ('寒竹', 2), ('度々', 2), ('雑談', 2), ('長い', 2), ('びりびり', 2), ('丈', 2), ('御する', 2), ('やすい', 2), ('形勢', 2), ('手柄', 2), ('しゃべる', 2), ('欠', 2), ('たんと', 2), ('相槌', 2), ('石灰', 2), ('けども', 2), ('追っかける', 2), ('うまい', 2), ('喝采', 2), ('大息', 2), ('儲ける', 2), ('胡', 2), ('悟る', 2), ('十二月', 2), ('多い', 2), ('自任', 2), ('待合', 2), ('山出し', 2), ('知', 2), ('抜ける', 2), ('欄間', 2), ('嬉しい', 2), ('謂', 2), ('なれる', 2), ('劈頭', 2), ('精細', 2), ('おくび', 2), ('気がつく', 2), ('響', 2), ('伝える', 2), ('饒舌', 2), ('美感', 2), ('一世', 2), ('史', 2), ('仏語', 2), ('出版', 2), ('鬼気', 2), ('襲う', 2), ('欺く', 2), ('光沢', 2), ('惹く', 2), ('赤松', 2), ('綴る', 2), ('こぼす', 2), ('紅白', 2), ('早い', 2), ('幼稚園', 2), ('唱歌', 2), ('毬', 2), ('まずまず', 2), ('無名', 2), ('蹲', 2), ('踞る', 2), ('年寄', 2), ('払う', 2), ('事もなげ', 2), ('高慢', 2), ('粗末', 2), ('垂れ', 2), ('いく', 2), ('識別', 2), ('餅屋', 2), ('征', 2), ('舶来', 2), ('行列', 2), ('独言', 2), ('傍ら', 2), ('宜しく', 2), ('奉る', 2), ('フン', 2), ('チリ', 2), ('高利貸', 2), ('早くから', 2), ('根性', 2), ('凄い', 2), ('御無沙汰', 2), ('向く', 2), ('ゆき', 2), ('挺', 2), ('巌', 2), ('連れ', 2), ('市中', 2), ('陥落', 2), ('とかいう', 2), ('結城紬', 2), ('当てる', 2), ('師走', 2), ('眼中', 2), ('餅菓子', 2), ('卓', 2), ('添える', 2), ('分配', 2), ('少', 2), ('余る', 2), ('就く', 2), ('よそう', 2), ('澱粉', 2), ('おっしゃる', 2), ('ござる', 2), ('からい', 2), ('まずい', 2), ('すらり', 2), ('白い', 2), ('旅', 2), ('皺', 2), ('そわそわ', 2), ('哲人', 2), ('遺書', 2), ('一道', 2), ('裏表', 2), ('保存', 2), ('晩酌', 2), ('漬物', 2), ('触れる', 2), ('ゆく', 2), ('根治', 2), ('顛倒', 2), ('昏睡', 2), ('固形', 2), ('牛乳', 2), ('終夜', 2), ('膈膜', 2), ('内臓', 2), ('痩我慢', 2), ('見地', 2), ('罪悪', 2), ('条理', 2), ('兼ねる', 2), ('巴', 2), ('来年', 2), ('感得', 2), ('しむ', 2), ('熟視', 2), ('浮ぶ', 2), ('重量', 2), ('込める', 2), ('動き', 2), ('とれる', 2), ('深い', 2), ('沈む', 2), ('割り切れる', 2), ('割る', 2), ('覚える', 2), ('逢着', 2), ('適', 2), ('不適', 2), ('逃げる', 2), ('呪い', 2), ('起つ', 2), ('臨む', 2), ('気合', 2), ('躍起', 2), ('げらげら', 2), ('在来', 2), ('醜態', 2), ('演ずる', 2), ('命ずる', 2), ('通過', 2), ('ばつ', 2), ('晴々', 2), ('見渡す', 2), ('首輪', 2), ('曲線', 2), ('静粛', 2), ('前回', 2), ('大層', 2), ('続け様', 2), ('ほんと', 2), ('名答', 2), ('あらそう', 2), ('よろしい', 2), ('混雑', 2), ('庭先', 2), ('考え事', 2), ('頭痛', 2), ('なさる', 2), ('さようなら', 2), ('通り抜ける', 2), ('霜柱', 2), ('崩れ', 2), ('蒙る', 2), ('罵詈', 2), ('へん', 2), ('不明瞭', 2), ('答弁', 2), ('憎らしい', 2), ('初春', 2), ('横着', 2), ('変る', 2), ('憚りながら', 2), ('腕まくり', 2), ('一遍', 2), ('小倉', 2), ('着ける', 2), ('入れ', 2), ('主客', 2), ('続', 2), ('押しやる', 2), ('茶番', 2), ('鴨', 2), ('ロース', 2), ('版', 2), ('過去', 2), ('誘い出す', 2), ('押す', 2), ('本論', 2), ('銀貨', 2), ('葉巻', 2), ('横浜', 2), ('派', 2), ('空腹', 2), ('表する', 2), ('途切れる', 2), ('組織', 2), ('会合', 2), ('伺う', 2), ('追', 2), ('藪', 2), ('自認', 2), ('役割', 2), ('身振り', 2), ('娼家', 2), ('起臥', 2), ('調べる', 2), ('法学', 2), ('せりふ', 2), ('務まる', 2), ('語気', 2), ('催し', 2), ('会場', 2), ('探知', 2), ('調子づく', 2), ('尽力', 2), ('員', 2), ('気軽', 2), ('加', 2), ('無上', 2), ('印形', 2), ('消光', 2), ('較べる', 2), ('参堂', 2), ('程', 2), ('存じる', 2), ('如し', 2), ('出勤', 2), ('珍味', 2), ('只今', 2), ('がたい', 2), ('につき', 2), ('鳥屋', 2), ('全盛', 2), ('砌', 2), ('諒察', 2), ('迄', 2), ('伯', 2), ('遠い', 2), ('標準', 2), ('方丈', 2), ('機能', 2), ('不調', 2), ('両立', 2), ('はて', 2), ('障害', 2), ('一挙両得', 2), ('愚考', 2), ('交通', 2), ('頻繁', 2), ('増加', 2), ('患者', 2), ('伝説', 2), ('考究', 2), ('既に', 2), ('未', 2), ('諸家', 2), ('至', 2), ('たべる', 2), ('火燵', 2), ('取扱', 2), ('比べる', 2), ('いただく', 2), ('だく', 2), ('脈', 2), ('どなた', 2), ('表通り', 2), ('薄ぎたない', 2), ('雄', 2), ('朝風呂', 2), ('楊枝', 2), ('つる', 2), ('やけに', 2), ('酷評', 2), ('作法', 2), ('無名氏', 2), ('山陽', 2), ('いそ', 2), ('表題', 2), ('雑', 2), ('外面', 2), ('空中', 2), ('地上', 2), ('恐れ入る', 2), ('返礼', 2), ('遠近', 2), ('雲井', 2), ('迷い', 2), ('ほん', 2), ('御宮', 2), ('軽薄', 2), ('留める', 2), ('永年', 2), ('教場', 2), ('社交', 2), ('真率', 2), ('ストーブ', 2), ('夜間', 2), ('冷水', 2), ('のらくら', 2), ('文壇', 2), ('人達', 2), ('御国', 2), ('祝う', 2), ('くさくさ', 2), ('三番', 2), ('濠', 2), ('通り過ぎる', 2), ('投げ入れる', 2), ('領', 2), ('下げる', 2), ('四辺', 2), ('恐る', 2), ('出直す', 2), ('急ぎ足', 2), ('佳境', 2), ('意識', 2), ('もごもご', 2), ('同日', 2), ('向島', 2), ('すむ', 2), ('小声', 2), ('奏', 2), ('診断', 2), ('帰り道', 2), ('生返事', 2), ('感慨', 2), ('ストライキ', 2), ('吾妻', 2), ('人力車', 2), ('微か', 2), ('捕まる', 2), ('半身', 2), ('一反', 2), ('荷厄介', 2), ('沈思', 2), ('掾', 2), ('鰻谷', 2), ('堀川', 2), ('引き下がる', 2), ('詰', 2), ('大入', 2), ('君代', 2), ('ぐずぐず', 2), ('聞き返す', 2), ('萎縮', 2), ('身上', 2), ('医', 2), ('当番', 2), ('笑顔', 2), ('予算', 2), ('有為転変', 2), ('生者必滅', 2), ('もしも', 2), ('冷酷', 2), ('立つ瀬', 2), ('箪笥', 2), ('風情', 2), ('起し', 2), ('執念深い', 2), ('歌舞伎座', 2), ('ろう', 2), ('順番', 2), ('悲しい', 2), ('潰す', 2), ('強いる', 2), ('逸民', 2), ('勝つ', 2), ('切り', 2), ('厭味', 2), ('注目', 2), ('早', 2), ('春日', 2), ('気掛り', 2), ('泥足', 2), ('人声', 2), ('仏師', 2), ('崩す', 2), ('線香', 2), ('チー', 2), ('南無', 2), ('回向', 2), ('動悸', 2), ('つまるところ', 2), ('かたい', 2), ('唾', 2), ('太鼓', 2), ('苦情', 2), ('軽少', 2), ('月桂寺', 2), ('活眼', 2), ('躊躇', 2), ('吉備', 2), ('名宛', 2), ('毛頭ない', 2), ('筆硯', 2), ('草稿', 2), ('洒落る', 2), ('改めて', 2), ('名案', 2), ('そこそこ', 2), ('消す', 2), ('論語', 2), ('酷', 2), ('水中', 2), ('感じ入る', 2), ('ふっと', 2), ('焦る', 2), ('割愛', 2), ('唐突', 2), ('面倒臭い', 2), ('死す', 2), ('ずかずか', 2), ('墓碑銘', 2), ('じき', 2), ('宙', 2), ('旧悪', 2), ('草双紙', 2), ('災難', 2), ('婆', 2), ('上の', 2), ('地味', 2), ('内々', 2), ('払い', 2), ('にこにこ', 2), ('抱える', 2), ('馬琴', 2), ('ふむ', 2), ('辛い', 2), ('聴く', 2), ('物理', 2), ('乾燥', 2), ('次の間', 2), ('男振り', 2), ('拍手', 2), ('絞る', 2), ('猶', 2), ('人中', 2), ('肉食', 2), ('エジプト', 2), ('斬る', 2), ('釘付け', 2), ('処刑', 2), ('釘', 2), ('咎める', 2), ('弥', 2), ('切り抜ける', 2), ('により', 2), ('侍女', 2), ('執行', 2), ('１', 2), ('６', 2), ('角度', 2), ('各部', 2), ('方程式', 2), ('残り惜しい', 2), ('往々', 2), ('はずみ', 2), ('見物人', 2), ('往生', 2), ('浮かれ出す', 2), ('案外', 2), ('脊髄', 2), ('生理', 2), ('論及', 2), ('風来坊', 2), ('高輪', 2), ('知らせる', 2), ('物語', 2), ('不埒', 2), ('再来', 2), ('遺物', 2), ('展覧', 2), ('べらべら', 2), ('たまに', 2), ('掛矢', 2), ('わら', 2), ('閑人', 2), ('さよなら', 2), ('あっけ', 2), ('格子戸', 2), ('二枚重ね', 2), ('ひと', 2), ('著', 2), ('多分', 2), ('諦', 2), ('見込', 2), ('日光', 2), ('毎々', 2), ('へええ', 2), ('魂消る', 2), ('苦々しい', 2), ('婚儀', 2), ('性行', 2), ('八卦', 2), ('付け文', 2), ('吾妻橋', 2), ('詳しい', 2), ('金剛石', 2), ('異彩', 2), ('胆', 2), ('驚愕', 2), ('お嬢さん', 2), ('あく', 2), ('したり顔', 2), ('ぶつ', 2), ('里', 2), ('転ずる', 2), ('填める', 2), ('物好き', 2), ('舞踏', 2), ('婦', 2), ('現われる', 2), ('さんざん', 2), ('帆', 2), ('舟', 2), ('千鳥', 2), ('卒', 2), ('標本', 2), ('猫背', 2), ('咎', 2), ('ちょん髷', 2), ('随処', 2), ('至急', 2), ('問い返す', 2), ('大丸', 2), ('賃', 2), ('神様', 2), ('富貴', 2), ('安置', 2), ('城', 2), ('偵察', 2), ('不公平', 2), ('叩きつける', 2), ('寄寓', 2), ('冒険', 2), ('義侠', 2), ('躁狂', 2), ('中庸', 2), ('軒下', 2), ('煩', 2), ('精進', 2), ('土中', 2), ('白雨', 2), ('人道', 2), ('無駄骨', 2), ('汚す', 2), ('舌頭', 2), ('続々', 2), ('占領', 2), ('傲慢', 2), ('作り', 2), ('漆喰', 2), ('土間', 2), ('界隈', 2), ('あな', 2), ('抱え', 2), ('唐変木', 2), ('威嚇', 2), ('妙味', 2), ('冷', 2), ('暖', 2), ('堪能', 2), ('満天下', 2), ('大明神', 2), ('天地玄黄', 2), ('滅茶苦茶', 2), ('津', 2), ('ピン', 2), ('福地', 2), ('怪しい', 2), ('隔てる', 2), ('代物', 2), ('鼻息', 2), ('綜合', 2), ('鶉', 2), ('毎度', 2), ('贔屓', 2), ('束髪', 2), ('行李', 2), ('にくらしい', 2), ('あう', 2), ('日当り', 2), ('山の上', 2), ('蜂の巣', 2), ('胡坐', 2), ('他言', 2), ('紫色', 2), ('長州', 2), ('征伐', 2), ('博物館', 2), ('旗本', 2), ('茶人', 2), ('乾', 2), ('清浄', 2), ('毒々しい', 2), ('親愛', 2), ('恥ずかしい', 2), ('わいわい', 2), ('必用', 2), ('愚見', 2), ('蓄積', 2), ('原則', 2), ('硬い', 2), ('飛', 2), ('隆起', 2), ('峻嶮', 2), ('シーザー', 2), ('正しく', 2), ('かめ', 2), ('上げ', 2), ('望外', 2), ('眷顧', 2), ('平面', 2), ('交叉', 2), ('先天的', 2), ('許す', 2), ('状況', 2), ('ある程度', 2), ('咄嗟', 2), ('初めて', 2), ('弁慶', 2), ('人通り', 2), ('語弊', 2), ('切身', 2), ('家業', 2), ('胡乱', 2), ('文字', 2), ('大空', 2), ('否定', 2), ('禁ずる', 2), ('切売', 2), ('如是', 2), ('浮世', 2), ('貫く', 2), ('印象', 2), ('阿倍', 2), ('圧し', 2), ('平坦', 2), ('刺身', 2), ('物静か', 2), ('徐々', 2), ('無法者', 2), ('顎', 2), ('押しつける', 2), ('弥生', 2), ('横顔', 2), ('憫然', 2), ('私しゃ', 2), ('大体', 2), ('剣', 2), ('無法', 2), ('恐悦', 2), ('やけ', 2), ('よしんば', 2), ('木像', 2), ('欲しい', 2), ('滅茶滅茶', 2), ('受取る', 2), ('見え', 2), ('客人', 2), ('知らせ', 2), ('一身上', 2), ('申し聞ける', 2), ('それとなく', 2), ('碌々', 2), ('ペンペン草', 2), ('時期', 2), ('経過', 2), ('暗黒', 2), ('化ける', 2), ('もはや', 2), ('夢にも', 2), ('吸口', 2), ('ぱたり', 2), ('見詰める', 2), ('流れる', 2), ('緑', 2), ('黒髪', 2), ('卵', 2), ('縫う', 2), ('乾かす', 2), ('まる', 2), ('あっと', 2), ('偕老同穴', 2), ('大発見', 2), ('真宗', 2), ('不相応', 2), ('厨子', 2), ('豆', 2), ('土器', 2), ('超然たる', 2), ('怒気', 2), ('くるくる', 2), ('見苦しい', 2), ('及第', 2), ('ていかん', 2), ('滋養', 2), ('跡', 2), ('開', 2), ('贋物', 2), ('京', 2), ('彼岸桜', 2), ('風波', 2), ('疑い', 2), ('平然と', 2), ('蹲踞', 2), ('一段と', 2), ('無愛嬌', 2), ('破壊', 2), ('処分', 2), ('不名誉', 2), ('厄', 2), ('際会', 2), ('きつける', 2), ('裏返す', 2), ('仕立', 2), ('襟飾り', 2), ('町人', 2), ('曲者', 2), ('時勢', 2), ('茶々', 2), ('同士', 2), ('一縷', 2), ('会得', 2), ('できる', 2), ('没交渉', 2), ('円転滑脱', 2), ('機微', 2), ('大道', 2), ('両親', 2), ('進める', 2), ('近々の', 2), ('問い', 2), ('もじもじ', 2), ('優に', 2), ('以心伝心', 2), ('僥倖', 2), ('鉄道', 2), ('品川', 2), ('凌ぐ', 2), ('菜', 2), ('慢性', 2), ('竹刀', 2), ('見つかる', 2), ('人足', 2), ('いまだに', 2), ('古雅', 2), ('忠実', 2), ('有望', 2), ('詰問', 2), ('原論', 2), ('賭', 2), ('奢る', 2), ('稿', 2), ('契約', 2), ('ずうずうしい', 2), ('旨い', 2), ('千載', 2), ('不憫', 2), ('出任せ', 2), ('秀才', 2), ('博学', 2), ('競技', 2), ('懸賞', 2), ('奨励', 2), ('褒美', 2), ('至境', 2), ('明記', 2), ('報酬', 2), ('切手', 2), ('翻って', 2), ('たまたま', 2), ('熱誠', 2), ('発作', 2), ('自称', 2), ('形容詞', 2), ('微塵', 2), ('象', 2), ('要', 2), ('進捗', 2), ('巴里', 2), ('防禦', 2), ('懐剣', 2), ('小刀', 2), ('おもちゃ', 2), ('野原', 2), ('芸当', 2), ('逐一', 2), ('ならべる', 2), ('数え年', 2), ('朧', 2), ('ほのか', 2), ('活力', 2), ('蚯蚓', 2), ('習い', 2), ('張本', 2), ('千金', 2), ('狂い', 2), ('欲する', 2), ('ご苦労', 2), ('拇指', 2), ('いびき', 2), ('不体裁', 2), ('体たらく', 2), ('狼藉', 2), ('闖入', 2), ('凱歌', 2), ('引き上げる', 2), ('すぎる', 2), ('添う', 2), ('締', 2), ('かねて', 2), ('いつか', 2), ('ぺろり', 2), ('栄誉', 2), ('開陳', 2), ('パラドックス', 2), ('道破', 2), ('独創', 2), ('一代', 2), ('驚嘆', 2), ('立場', 2), ('無能力', 2), ('成算', 2), ('杓子', 2), ('徹頭徹尾', 2), ('かけ', 2), ('筆法', 2), ('毛頭', 2), ('野心', 2), ('人真似', 2), ('天日', 2), ('推知', 2), ('大目', 2), ('湧き出る', 2), ('芽生え', 2), ('苦味', 2), ('口先', 2), ('才気', 2), ('差し出す', 2), ('満身', 2), ('捧げる', 2), ('琴瑟', 2), ('唐桟', 2), ('むき出し', 2), ('知らず', 2), ('寝言', 2), ('漠然と', 2), ('帰省', 2), ('愚か', 2), ('青大将', 2), ('上着', 2), ('翳す', 2), ('暫時', 2), ('時半', 2), ('盗賊', 2), ('書面', 2), ('届', 2), ('宿場', 2), ('繻子', 2), ('腹合せ', 2), ('一筋', 2), ('品数', 2), ('威勢', 2), ('法科', 2), ('雇う', 2), ('寿司', 2), ('そげん', 2), ('直径', 2), ('達', 2), ('ボールド', 2), ('げん', 2), ('不断', 2), ('世に', 2), ('日に日に', 2), ('狡猾', 2), ('卑劣', 2), ('銷沈', 2), ('朗吟', 2), ('儲け', 2), ('小石川', 2), ('困窮', 2), ('近々', 2), ('暖か', 2), ('逡巡', 2), ('柔らかい', 2), ('上野公園', 2), ('自弁', 2), ('多恨', 2), ('使役', 2), ('静坐', 2), ('修行', 2), ('態', 2), ('凡眼', 2), ('知識', 2), ('浅薄', 2), ('ゆるい', 2), ('天命', 2), ('娑婆', 2), ('徒', 2), ('大いに', 2), ('擒', 2), ('禅師', 2), ('花吹雪', 2), ('手桶', 2), ('あらかじめ', 2), ('地形', 2), ('酒屋', 2), ('遺す', 2), ('すれすれ', 2), ('仰向け', 2), ('しみじみ', 2), ('てんで', 2), ('居眠り', 2), ('山芋', 2), ('人力', 2), ('絶つ', 2), ('迂回', 2), ('そうしたら', 2), ('地獄', 2), ('警戒', 2), ('花嫁', 2), ('計略', 2), ('バル', 2), ('チック', 2), ('艦隊', 2), ('ぬう', 2), ('眸', 2), ('差す', 2), ('わい', 2), ('近寄る', 2), ('現在', 2), ('ひらり', 2), ('崇高', 2), ('だらり', 2), ('柔かい', 2), ('手懸り', 2), ('離', 2), ('ぎりぎり', 2), ('胴間声', 2), ('かくす', 2), ('やり切れない', 2), ('雑多', 2), ('衣食', 2), ('鋸', 2), ('等分', 2), ('人為', 2), ('真直', 2), ('マイナス', 2), ('新奇', 2), ('到来', 2), ('考案', 2), ('永らく', 2), ('反応', 2), ('ワン', 2), ('儀', 2), ('玉子', 2), ('フライ', 2), ('瓦', 2), ('半熟', 2), ('やおや', 2), ('蟹', 2), ('逆戻り', 2), ('果せる', 2), ('いろは', 2), ('せがれ', 2), ('足跡', 2), ('くし', 2), ('合併', 2), ('坐り', 2), ('拳骨', 2), ('くちゃくちゃ', 2), ('看破', 2), ('今一', 2), ('針金', 2), ('刃', 2), ('待', 2), ('らい', 2), ('饂飩', 2), ('流儀', 2), ('流れ出す', 2), ('激賞', 2), ('笊', 2), ('帽', 2), ('臆面', 2), ('目覚しい', 2), ('脱稿', 2), ('いびつ', 2), ('大豆', 2), ('喋々', 2), ('求', 2), ('相思', 2), ('取り掛る', 2), ('越後', 2), ('郡', 2), ('筍', 2), ('一軒屋', 2), ('蝋燭', 2), ('悪もの', 2), ('赤蛙', 2), ('厭きる', 2), ('ひょいと', 2), ('共に', 2), ('ごろりと', 2), ('翌朝', 2), ('丸薬', 2), ('そらす', 2), ('鬘', 2), ('千秋', 2), ('近眼', 2), ('一段落', 2), ('山盛り', 2), ('ドクトル', 2), ('品行', 2), ('堕落', 2), ('唐茄子', 2), ('甚兵衛', 2), ('火事', 2), ('算盤', 2), ('年頃', 2), ('ひび', 2), ('托', 2), ('ふう', 2), ('物知り', 2), ('典', 2), ('営業', 2), ('つらつら', 2), ('大悟', 2), ('きき', 2), ('流行る', 2), ('嘆願', 2), ('放免', 2), ('布令', 2), ('一騎当千', 2), ('難儀', 2), ('鹿', 2), ('九月', 2), ('毒気', 2), ('喜劇', 2), ('悲劇', 2), ('詰める', 2), ('とまる', 2), ('俳味', 2), ('思い入れ', 2), ('すさまじい', 2), ('上田', 2), ('亡国', 2), ('癇', 2), ('名論', 2), ('局面', 2), ('近日', 2), ('詩集', 2), ('捧ぐ', 2), ('弱い', 2), ('あまい', 2), ('口づけ', 2), ('短篇', 2), ('敬', 2), ('半紙', 2), ('天狗', 2), ('真平', 2), ('見せびらかす', 2), ('ちょき', 2), ('一概に', 2), ('是', 2), ('一族', 2), ('当年', 2), ('ヵ月', 2), ('はや', 2), ('憂い', 2), ('方寸', 2), ('野呂', 2), ('海水', 2), ('泳ぐ', 2), ('横断', 2), ('潮', 2), ('即席', 2), ('いまだ', 2), ('帰宅', 2), ('せん', 2), ('輩', 2), ('折助', 2), ('両端', 2), ('万古', 2), ('竿', 2), ('一足飛び', 2), ('背面', 2), ('ぱっと', 2), ('吉野紙', 2), ('右往左往', 2), ('油蝉', 2), ('しつこい', 2), ('綻びる', 2), ('蟻', 2), ('巧者', 2), ('侮る', 2), ('事業', 2), ('事項', 2), ('すべ', 2), ('青桐', 2), ('がさがさ', 2), ('悲鳴', 2), ('下向', 2), ('鵯越', 2), ('後ろ向き', 2), ('企てる', 2), ('真先', 2), ('通称', 2), ('道中', 2), ('逗留', 2), ('前途', 2), ('退却', 2), ('温厚', 2), ('象徴', 2), ('隆盛', 2), ('ほてる', 2), ('千疋', 2), ('すべからく', 2), ('豹変', 2), ('雷', 2), ('淡泊', 2), ('ねちねち', 2), ('申し訳', 2), ('外聞', 2), ('一先ず', 2), ('がん', 2), ('がら', 2), ('三角形', 2), ('本意', 2), ('繙く', 2), ('厳重', 2), ('図案', 2), ('模型', 2), ('挙行', 2), ('当局', 2), ('職員', 2), ('兵隊', 2), ('害する', 2), ('遺風', 2), ('重要', 2), ('本性', 2), ('年間', 2), ('衰える', 2), ('武士', 2), ('燕', 2), ('無理矢理', 2), ('開明', 2), ('人口', 2), ('露出', 2), ('ここいら', 2), ('垢', 2), ('牛込', 2), ('槽', 2), ('親方', 2), ('じゃんじゃん', 2), ('煉瓦', 2), ('凸凹', 2), ('黄色い', 2), ('各', 2), ('務める', 2), ('清和', 2), ('蝦夷', 2), ('歴々', 2), ('おーい', 2), ('本心', 2), ('怒号', 2), ('叱る', 2), ('振り返る', 2), ('尋常', 2), ('立腹', 2), ('言動', 2), ('殻', 2), ('かさかさ', 2), ('醋', 2), ('路頭', 2), ('こむ', 2), ('そちら', 2), ('初秋', 2), ('テラ', 2), ('速断', 2), ('副詞', 2), ('近所合壁', 2), ('吃驚', 2), ('支配', 2), ('ついでに', 2), ('正気', 2), ('大町', 2), ('妻子', 2), ('ぜん', 2), ('次郎', 2), ('とこ', 2), ('鶴館', 2), ('北面', 2), ('持ち腐れ', 2), ('伝兵衛', 2), ('勢い', 2), ('笹', 2), ('蚕食', 2), ('水草', 2), ('一風', 2), ('小犬', 2), ('獅子', 2), ('娯楽', 2), ('実地', 2), ('からかい', 2), ('風通し', 2), ('区域', 2), ('虞', 2), ('遊弋', 2), ('不利', 2), ('附近', 2), ('徘徊', 2), ('根拠地', 2), ('旧弊', 2), ('異議', 2), ('体内', 2), ('循環', 2), ('憂', 2), ('升', 2), ('打', 2), ('署', 2), ('医学', 2), ('供給', 2), ('立ち行く', 2), ('狂気', 2), ('南蛮', 2), ('自力', 2), ('便秘', 2), ('どことなく', 2), ('責める', 2), ('正銘', 2), ('砲火', 2), ('音声', 2), ('収縮', 2), ('美味', 2), ('鬼', 2), ('持て余す', 2), ('解決', 2), ('継続', 2), ('砲撃', 2), ('鶏肉', 2), ('恐る恐る', 2), ('鉾', 2), ('蒼い', 2), ('横腹', 2), ('制帽', 2), ('乗り越える', 2), ('根元', 2), ('うの', 2), ('将官', 2), ('壮観', 2), ('おしまい', 2), ('授業', 2), ('我が', 2), ('唐詩', 2), ('選', 2), ('皮肉', 2), ('冷評', 2), ('課業', 2), ('城壁', 2), ('太古', 2), ('奇蹟', 2), ('縦隊', 2), ('布く', 2), ('むける', 2), ('突飛', 2), ('援兵', 2), ('高価', 2), ('兜', 2), ('振い落す', 2), ('物体', 2), ('方向', 2), ('こっそり', 2), ('夕', 2), ('映ずる', 2), ('排列', 2), ('策略', 2), ('察す', 2), ('見境', 2), ('上家', 2), ('仲間入り', 2), ('将', 2), ('丹波', 2), ('笹山', 2), ('いちじるしい', 2), ('無断', 2), ('敏腕', 2), ('幹事', 2), ('教頭', 2), ('あに', 2), ('とりかかる', 2), ('何分', 2), ('多人数', 2), ('やける', 2), ('稚気', 2), ('篇', 2), ('結び', 2), ('哲理', 2), ('後悔', 2), ('好都合', 2), ('情ない', 2), ('度し難い', 2), ('苦悶', 2), ('窮措大', 2), ('福', 2), ('大臣', 2), ('閉鎖', 2), ('最', 2), ('賄賂', 2), ('迎える', 2), ('志', 2), ('長者', 2), ('激', 2), ('とうから', 2), ('くせ', 2), ('同窓', 2), ('天稟', 2), ('羨む', 2), ('きしゃご', 2), ('とそ', 2), ('政治', 2), ('代議', 2), ('政体', 2), ('我意', 2), ('改良', 2), ('どんなに', 2), ('後れ', 2), ('精密', 2), ('頑として', 2), ('視る', 2), ('きたならしい', 2), ('登校', 2), ('反覆', 2), ('埃及', 2), ('破裂', 2), ('歴然', 2), ('勧工場', 2), ('公園', 2), ('精神病', 2), ('磨', 2), ('まわり', 2), ('白昼', 2), ('徹', 2), ('苦労人', 2), ('手のひら', 2), ('まとも', 2), ('弁ずる', 2), ('鵜', 2), ('器', 2), ('煽動', 2), ('充血', 2), ('混沌', 2), ('胎毒', 2), ('透', 2), ('実質', 2), ('天保銭', 2), ('思い思い', 2), ('効', 2), ('すく', 2), ('皇帝', 2), ('陛下', 2), ('さぞかし', 2), ('信', 2), ('奉賀', 2), ('将士', 2), ('凱旋', 2), ('本会', 2), ('敬具', 2), ('不肖', 2), ('起因', 2), ('臥', 2), ('秘術', 2), ('綱要', 2), ('本書', 2), ('家庭', 2), ('利潤', 2), ('購求', 2), ('一助', 2), ('僅少', 2), ('屑', 2), ('三信', 2), ('飴', 2), ('若し', 2), ('江', 2), ('父母', 2), ('栄達', 2), ('平家', 2), ('再拝', 2), ('不透明', 2), ('寸断', 2), ('あくまで', 2), ('命題', 2), ('小町', 2), ('日間', 2), ('役目', 2), ('憚り', 2), ('御難', 2), ('口上', 2), ('伴', 2), ('将軍家', 2), ('総会', 2), ('すこしも', 2), ('正成', 2), ('理科', 2), ('大騒ぎ', 2), ('読み', 2), ('よみ', 2), ('蝦', 2), ('胆力', 2), ('東洋', 2), ('寄宿舎', 2), ('泊りがけ', 2), ('膏薬', 2), ('禅宗', 2), ('逆さま', 2), ('陶然', 2), ('禅学', 2), ('助ける', 2), ('天上', 2), ('仙人', 2), ('僕ら', 2), ('権化', 2), ('世人', 2), ('奇妙', 2), ('きびしい', 2), ('そり', 2), ('来訪', 2), ('通例', 2), ('役人', 2), ('物件', 2), ('日本堤', 2), ('恭謙', 2), ('お辞儀', 2), ('相場', 2), ('波瀾', 2), ('見習う', 2), ('唱道', 2), ('病院', 2), ('卜', 2), ('持参', 2), ('陽性', 2), ('非凡', 2), ('心丈夫', 2), ('あす', 2), ('暴露', 2), ('無意義', 2), ('ごみ', 2), ('ほこり', 2), ('故事', 2), ('いっこう', 2), ('泣き声', 2), ('出し', 2), ('シンフォニー', 2), ('美妙', 2), ('炭', 2), ('繁昌', 2), ('正式', 2), ('長女', 2), ('次女', 2), ('白粉', 2), ('授ける', 2), ('突進', 2), ('拭う', 2), ('持ち', 2), ('あてがう', 2), ('たたく', 2), ('だだっ子', 2), ('伊藤', 2), ('博文', 2), ('よむ', 2), ('させる', 2), ('良民', 2), ('宙返り', 2), ('あくび', 2), ('洗い', 2), ('欅', 2), ('笠', 2), ('処理', 2), ('刀', 2), ('朱', 2), ('食事', 2), ('暴威', 2), ('暴君', 2), ('したがって', 2), ('無難', 2), ('丹念', 2), ('まして', 2), ('絶', 2), ('式部', 2), ('働き手', 2), ('意気地', 2), ('平穏', 2), ('姪', 2), ('おこす', 2), ('貯金', 2), ('穏やか', 2), ('一喝', 2), ('辻', 2), ('仕様', 2), ('瓢箪', 2), ('贋札', 2), ('すこし', 2), ('岩崎', 2), ('不敬', 2), ('開化', 2), ('束縛', 2), ('片側', 2), ('来月', 2), ('没', 2), ('お客', 2), ('紅涙', 2), ('狂言', 2), ('薩摩絣', 2), ('絣', 2), ('着席', 2), ('妙齢', 2), ('料', 2), ('共同', 2), ('反響', 2), ('個々', 2), ('音色', 2), ('けっして', 2), ('ぴくぴく', 2), ('見合', 2), ('魑魅', 2), ('衝く', 2), ('茶托', 2), ('張れる', 2), ('華厳', 2), ('滝', 2), ('刻限', 2), ('白雲', 2), ('素琴', 2), ('無線', 2), ('電信', 2), ('白石', 2), ('黒石', 2), ('本因坊', 2), ('悟道', 2), ('そそっかしい', 2), ('生霊', 2), ('とうに', 2), ('麻裏', 2), ('梅干', 2), ('楽しみ', 2), ('剛健', 2), ('気風', 2), ('吐月峰', 2), ('才人', 2), ('計算', 2), ('絶対', 2), ('御名', 2), ('一路', 2), ('望み', 2), ('地方', 2), ('鋭敏', 2), ('ひく', 2), ('天長節', 2), ('神仏', 2), ('じれったい', 2), ('多情', 2), ('山々', 2), ('市内', 2), ('寒村', 2), ('落葉', 2), ('南郷', 2), ('街道', 2), ('木の葉', 2), ('麓', 2), ('星月夜', 2), ('灯影', 2), ('宵の口', 2), ('沈澱', 2), ('両替', 2), ('紺屋', 2), ('夜長', 2), ('夜寒', 2), ('ざっと', 2), ('従卒', 2), ('祖母', 2), ('子規', 2), ('八丁', 2), ('人形', 2), ('相宿', 2), ('きい', 2), ('山道', 2), ('大平', 2), ('乱す', 2), ('月下', 2), ('生計', 2), ('件', 2), ('不用意', 2), ('風上', 2), ('失せる', 2), ('烏金', 2), ('現代', 2), ('截然', 2), ('今代', 2), ('王族', 2), ('馬鈴薯', 2), ('聯隊', 2), ('士官', 2), ('椅子', 2), ('侍従', 2), ('官女', 2), ('おだやか', 2), ('圧迫', 2), ('なおなお', 2), ('ベーコン', 2), ('いじめ', 2), ('生命', 2), ('あつまる', 2), ('元信', 2), ('タイムス', 2), ('一念', 2), ('道歌', 2), ('弱点', 2), ('方案', 2), ('別居', 2), ('息子', 2), ('衝突', 2), ('わかれる', 2), ('蛮風', 2), ('読み手', 2), ('人々', 2), ('作品', 2), ('最大', 2), ('恐るべき', 2), ('呵責', 2), ('奥方', 2), ('楽隊', 2), ('候補', 2), ('仲人', 2), ('順当', 2), ('ふち', 2), ('葵', 2), ('無い', 1), ('つく', 1), ('薄暗い', 1), ('じめじめ', 1), ('*\\n', 1), ('泣く', 1), ('見る', 1), ('聞く', 1), ('獰悪', 1), ('捕える', 1), ('煮る', 1), ('ない', 1), ('恐い', 1), ('いとも', 1), ('思う', 1), ('載せる', 1), ('られる', 1), ('持ち上げる', 1), ('フワフワ', 1), ('落ちつく', 1), ('始', 1), ('残る', 1), ('れる', 1), ('べし', 1), ('出会う', 1), ('なる', 1), ('突起', 1), ('吹く', 1), ('ぽい', 1), ('弱る', 1), ('知る', 1), ('坐る', 1), ('速力', 1), ('運転', 1), ('動く', 1), ('助かる', 1), ('さる', 1), ('出る', 1), ('考え出す', 1), ('付く', 1), ('上今', 1), ('明るい', 1), ('明く', 1), ('這い出す', 1), ('棄てる', 1), ('考え付く', 1), ('さらさら', 1), ('渡る', 1), ('減る', 1), ('そる', 1), ('無理やり', 1), ('這う', 1), ('もぐり込む', 1), ('路傍', 1), ('餓死', 1), ('知れる', 1), ('一樹', 1), ('至る', 1), ('通路', 1), ('忍び込む', 1), ('善い', 1), ('暗い', 1), ('寒い', 1), ('降る', 1), ('出来る', 1), ('あるく', 1), ('つかむ', 1), ('ねぶる', 1), ('任せる', 1), ('上る', 1), ('投げ出す', 1), ('繰り返す', 1), ('返報', 1), ('下りる', 1), ('ぶら下げる', 1), ('向ける', 1), ('御台', 1), ('困る', 1), ('撚る', 1), ('口惜しい', 1), ('かくして', 1), ('極める', 1), ('帰る', 1), ('ごとし', 1), ('勤勉', 1), ('読みかける', 1), ('たらす', 1), ('淡い', 1), ('帯びる', 1), ('弾力', 1), ('寝る', 1), ('せる', 1), ('鳴らす', 1), ('住み込む', 1), ('跳ねる', 1), ('つとめる', 1), ('乗る', 1), ('やむを得る', 1), ('飯櫃', 1), ('好い', 1), ('ねる', 1), ('見出す', 1), ('割り込む', 1), ('醒ます', 1), ('さます', 1), ('飛び出す', 1), ('叩く', 1), ('同衾', 1), ('かぶせる', 1), ('押し込む', 1), ('追い廻す', 1), ('言う', 1), ('子猫', 1), ('産まれる', 1), ('持つ', 1), ('来たす', 1), ('一部始終', 1), ('戦う', 1), ('剿滅', 1), ('隣る', 1), ('解す', 1), ('憤慨', 1), ('鰡', 1), ('臍', 1), ('見付ける', 1), ('規約', 1), ('訴える', 1), ('強力', 1), ('奪う', 1), ('すます', 1), ('代言', 1), ('楽天', 1), ('栄える', 1), ('永い', 1), ('待つ', 1), ('思い出す', 1), ('勝れる', 1), ('がる', 1), ('ほととぎす', 1), ('投書', 1), ('明星', 1), ('凝る', 1), ('習う', 1), ('ブーブー', 1), ('うたう', 1), ('渾名', 1), ('吹き出す', 1), ('一月', 1), ('提げる', 1), ('あわただしい', 1), ('買う', 1), ('絵具', 1), ('毛筆', 1), ('ワットマン', 1), ('かき', 1), ('甘い', 1), ('述懐', 1), ('詐り', 1), ('写す', 1), ('華', 1), ('飛ぶ', 1), ('走る', 1), ('嘲る', 1), ('覚める', 1), ('極め込む', 1), ('失笑', 1), ('禁じる', 1), ('揶揄', 1), ('手初め', 1), ('彩る', 1), ('勝る', 1), ('描き出す', 1), ('一色', 1), ('含める', 1), ('斑入り', 1), ('有す', 1), ('彩色', 1), ('褐色', 1), ('交ぜる', 1), ('評す', 1), ('におう', 1), ('うい', 1), ('身内', 1), ('最早', 1), ('やむをえる', 1), ('おとなしい', 1), ('予定', 1), ('打つ', 1), ('足す', 1), ('掻く', 1), ('罵る', 1), ('言いよう', 1), ('呼', 1), ('漫罵', 1), ('甘んじる', 1), ('受ける', 1), ('快い', 1), ('窘める', 1), ('悲しむ', 1), ('広い', 1), ('瀟洒', 1), ('当る', 1), ('楽々', 1), ('一睡', 1), ('かたがた', 1), ('運ぶ', 1), ('木の根', 1), ('嗅ぐ', 1), ('西側', 1), ('押し倒す', 1), ('近づく', 1), ('心付く', 1), ('鼾', 1), ('眠る', 1), ('睡る', 1), ('驚く', 1), ('抛る', 1), ('嘆賞', 1), ('軽い', 1), ('誘う', 1), ('茂み', 1), ('かっと', 1), ('輝く', 1), ('双眸', 1), ('射る', 1), ('矮小', 1), ('あつめる', 1), ('卑しい', 1), ('籠る', 1), ('少ない', 1), ('抱く', 1), ('装う', 1), ('平時', 1), ('鼓動', 1), ('あきれる', 1), ('全て', 1), ('傍若無人', 1), ('瘠せる', 1), ('吹きかける', 1), ('良家', 1), ('切る', 1), ('肥満', 1), ('暮す', 1), ('敬遠', 1), ('こそばゆい', 1), ('生じる', 1), ('強', 1), ('食い物', 1), ('たつ', 1), ('太れる', 1), ('願う', 1), ('障る', 1), ('そぐ', 1), ('立ち去る', 1), ('吐く', 1), ('寝転ぶ', 1), ('新しい', 1), ('余程', 1), ('接す', 1), ('とろい', 1), ('捕る', 1), ('震わせる', 1), ('笑う', 1), ('足りる', 1), ('ころころ', 1), ('近', 1), ('直に', 1), ('飲み込む', 1), ('なまじい', 1), ('濁す', 1), ('定める', 1), ('そそのかす', 1), ('果然', 1), ('得意気', 1), ('つづける', 1), ('引き受ける', 1), ('合う', 1), ('ぱちつかせる', 1), ('込む', 1), ('喰う', 1), ('ぐれる', 1), ('こん', 1), ('追い込む', 1), ('いざる', 1), ('最後っ屁', 1), ('臭う', 1), ('臭気', 1), ('揚げる', 1), ('なでる', 1), ('睨む', 1), ('肥る', 1), ('色つや', 1), ('つまる', 1), ('稼ぐ', 1), ('ふてる', 1), ('取り上げる', 1), ('あがる', 1), ('壱', 1), ('いやがる', 1), ('食わせる', 1), ('わかる', 1), ('逆立てる', 1), ('気味が悪い', 1), ('猟', 1), ('要心', 1), ('かきつける', 1), ('出逢う', 1), ('好く', 1), ('余儀ない', 1), ('羨ましい', 1), ('進む', 1), ('於く', 1), ('気づかう', 1), ('済す', 1), ('一廉', 1), ('愚昧', 1), ('首肯', 1), ('羨い', 1), ('愚劣', 1), ('書く', 1), ('そこら', 1), ('懸ける', 1), ('眺め', 1), ('暮らす', 1), ('明ける', 1), ('背負う', 1), ('力む', 1), ('信じる', 1), ('喜悦', 1), ('記す', 1), ('散らす', 1), ('担ぐ', 1), ('顧慮', 1), ('く', 1), ('ハリソン', 1), ('白眉', 1), ('主人公', 1), ('死ぬ', 1), ('あらわれる', 1), ('動じる', 1), ('間違える', 1), ('似る', 1), ('黙る', 1), ('寺院', 1), ('しみ', 1), ('教える', 1), ('漏る', 1), ('褪める', 1), ('たまる', 1), ('消沈', 1), ('屁', 1), ('紅葉', 1), ('つくばう', 1), ('代る代る', 1), ('花弁', 1), ('山茶花', 1), ('尽す', 1), ('三間', 1), ('日脚', 1), ('傾く', 1), ('狭める', 1), ('休む', 1), ('歌う', 1), ('取る', 1), ('終る', 1), ('元朝', 1), ('交友', 1), ('上部', 1), ('下部', 1), ('深緑', 1), ('塗る', 1), ('パステル', 1), ('拗じる', 1), ('延ばす', 1), ('三世相', 1), ('揺れる', 1), ('動揺', 1), ('なくなる', 1), ('正体', 1), ('色彩', 1), ('整う', 1), ('描く', 1), ('知らす', 1), ('恵', 1), ('断る', 1), ('もつ', 1), ('糟', 1), ('よそ目', 1), ('自家', 1), ('固有', 1), ('足並', 1), ('好き嫌い', 1), ('粋', 1), ('無粋', 1), ('千差万別', 1), ('かかわる', 1), ('相貌', 1), ('しかる', 1), ('解する', 1), ('第一義', 1), ('吸う', 1), ('外界', 1), ('熊', 1), ('ねむる', 1), ('ペン', 1), ('握る', 1), ('躍る', 1), ('認める', 1), ('一見', 1), ('迂る', 1), ('捻る', 1), ('着く', 1), ('恭賀新年', 1), ('迂遠', 1), ('含む', 1), ('こす', 1), ('おり', 1), ('鳴る', 1), ('飛び込む', 1), ('年賀', 1), ('有る', 1), ('並べる', 1), ('しなびる', 1), ('求める', 1), ('です', 1), ('ひねくる', 1), ('謎', 1), ('引張る', 1), ('べら', 1), ('はみ出す', 1), ('転じる', 1), ('傘', 1), ('噛む', 1), ('ぼろ', 1), ('ぽかぽか', 1), ('なぐる', 1), ('戻す', 1), ('ならぶ', 1), ('伴奏', 1), ('まじる', 1), ('弾ける', 1), ('一人物', 1), ('惚れる', 1), ('諷刺', 1), ('浮気', 1), ('何故', 1), ('口取', 1), ('食い切る', 1), ('しいる', 1), ('略す', 1), ('身元', 1), ('考え込む', 1), ('思い切る', 1), ('兄', 1), ('来着', 1), ('古る', 1), ('透かす', 1), ('ふだん', 1), ('ぶらりと', 1), ('換える', 1), ('桃川', 1), ('グレー', 1), ('固い', 1), ('かれこれ', 1), ('忍ぶ', 1), ('間食', 1), ('仕付', 1), ('覚ます', 1), ('すくう', 1), ('睨み合う', 1), ('附加', 1), ('堆い', 1), ('寝ぼける', 1), ('擦る', 1), ('しゃくう', 1), ('利己', 1), ('割り出す', 1), ('劣る', 1), ('通じる', 1), ('出掛ける', 1), ('遅い', 1), ('だまる', 1), ('代える', 1), ('残す', 1), ('振る', 1), ('濁る', 1), ('焦げる', 1), ('爛れる', 1), ('利く', 1), ('召す', 1), ('厭く', 1), ('厭き', 1), ('対句', 1), ('止める', 1), ('直る', 1), ('お盆', 1), ('控える', 1), ('顧みる', 1), ('突き付ける', 1), ('詰腹', 1), ('見合せる', 1), ('叩き付ける', 1), ('帳', 1), ('書きつける', 1), ('根津', 1), ('裾模様', 1), ('春着', 1), ('特に', 1), ('喜多', 1), ('剃る', 1), ('異い', 1), ('自惚れる', 1), ('丹', 1), ('曲る', 1), ('薄紫', 1), ('素直', 1), ('着こなす', 1), ('昨夕', 1), ('枯れる', 1), ('振り向く', 1), ('成道', 1), ('難い', 1), ('浮かれる', 1), ('慰安', 1), ('くだる', 1), ('絶体絶命', 1), ('暗室', 1), ('行住坐臥', 1), ('尿', 1), ('真正', 1), ('亭', 1), ('廃する', 1), ('断つ', 1), ('涸らす', 1), ('本復', 1), ('疑る', 1), ('論法', 1), ('按腹', 1), ('療治', 1), ('皆川', 1), ('古流', 1), ('揉む', 1), ('安井', 1), ('息軒', 1), ('愛す', 1), ('坂本', 1), ('竜馬', 1), ('治療', 1), ('うける', 1), ('上根岸', 1), ('臓腑', 1), ('位置', 1), ('にくい', 1), ('ぼる', 1), ('大水', 1), ('眠れる', 1), ('腹中', 1), ('産気', 1), ('止す', 1), ('ともる', 1), ('かわるがわる', 1), ('下る', 1), ('直す', 1), ('講じる', 1), ('傾ける', 1), ('永', 1), ('持', 1), ('父祖', 1), ('ほかなる', 1), ('明晰', 1), ('整然', 1), ('反駁', 1), ('苦しむ', 1), ('保つ', 1), ('極め付ける', 1), ('富む', 1), ('ひっくり返す', 1), ('遠征', 1), ('気力', 1), ('なめる', 1), ('気に入る', 1), ('連れ出す', 1), ('くう', 1), ('頭文字', 1), ('作る', 1), ('故意', 1), ('剰る', 1), ('膠着', 1), ('菜っ葉', 1), ('寄せる', 1), ('上皮', 1), ('引く', 1), ('掛る', 1), ('ねばねば', 1), ('移す', 1), ('見廻す', 1), ('兎', 1), ('はずす', 1), ('刹那', 1), ('得難い', 1), ('好む', 1), ('開ける', 1), ('近付く', 1), ('見棄てる', 1), ('早く', 1), ('念じる', 1), ('あぐり', 1), ('食い込む', 1), ('引ける', 1), ('魔物', 1), ('抜く', 1), ('焦慮', 1), ('尽未来', 1), ('予知', 1), ('やむ', 1), ('寝かす', 1), ('気が付く', 1), ('助け', 1), ('借りる', 1), ('あげる', 1), ('撫でる', 1), ('廻す', 1), ('伸す', 1), ('劃する', 1), ('ぶる', 1), ('使う', 1), ('引っ掻く', 1), ('失う', 1), ('倒れる', 1), ('驀地', 1), ('現前', 1), ('危き', 1), ('能う', 1), ('為す', 1), ('享', 1), ('聞きつける', 1), ('羽子板', 1), ('遣る', 1), ('飛込む', 1), ('仰せる', 1), ('申し合せる', 1), ('狂瀾', 1), ('既倒', 1), ('見聞', 1), ('消え失せる', 1), ('白黒', 1), ('見殺し', 1), ('殺す', 1), ('折れる', 1), ('安楽', 1), ('困苦', 1), ('けろけろ', 1), ('家人', 1), ('易い', 1), ('美貌', 1), ('苦い', 1), ('何もかも', 1), ('生れ変る', 1), ('莫大', 1), ('曲がる', 1), ('折る', 1), ('物憂い', 1), ('ちょいちょい', 1), ('端正', 1), ('鵞毛', 1), ('滑らか', 1), ('身の毛', 1), ('光る', 1), ('微動', 1), ('恍惚', 1), ('招く', 1), ('ぐるり', 1), ('呼ぶ', 1), ('断わる', 1), ('頂く', 1), ('とちる', 1), ('あたし', 1), ('可愛がる', 1), ('くらべる', 1), ('洩らす', 1), ('あどけない', 1), ('笑える', 1), ('御身', 1), ('姫小松', 1), ('弾き出す', 1), ('生きる', 1), ('下さる', 1), ('間違う', 1), ('詰る', 1), ('きる', 1), ('分つ', 1), ('理詰', 1), ('虚言', 1), ('ぱったり', 1), ('いらっしゃる', 1), ('ちる', 1), ('戻る', 1), ('やす', 1), ('名残り', 1), ('融ける', 1), ('踏みつける', 1), ('建仁寺', 1), ('恐怖', 1), ('知らぬ顔', 1), ('行き過ぎる', 1), ('権兵衛', 1), ('留る', 1), ('くるり', 1), ('わする', 1), ('たぎる', 1), ('めでる', 1), ('づらい', 1), ('つかれる', 1), ('極まる', 1), ('長閑', 1), ('転がる', 1), ('行き掛り', 1), ('奉呈', 1), ('しゃけ', 1), ('見縊る', 1), ('頻りに', 1), ('胸倉', 1), ('小突く', 1), ('聞える', 1), ('破る', 1), ('誂える', 1), ('終える', 1), ('阿る', 1), ('帰す', 1), ('浴びせる', 1), ('潜る', 1), ('春めく', 1), ('笑い声', 1), ('明け放す', 1), ('寄る', 1), ('見馴れる', 1), ('分ける', 1), ('あぶる', 1), ('春慶', 1), ('塗り', 1), ('並ぶ', 1), ('関す', 1), ('献立', 1), ('小牛', 1), ('天明', 1), ('万葉', 1), ('なする', 1), ('見立てる', 1), ('ソップ', 1), ('花瓶', 1), ('冒頭', 1), ('ふーん', 1), ('ぼう', 1), ('詫びる', 1), ('表す', 1), ('訂正', 1), ('もらう', 1), ('参る', 1), ('こしらえる', 1), ('吹かす', 1), ('読み出す', 1), ('通信', 1), ('亀屋', 1), ('押し返す', 1), ('えさ', 1), ('罹る', 1), ('橡', 1), ('別れる', 1), ('延びる', 1), ('冷める', 1), ('飲み干す', 1), ('御願', 1), ('改まる', 1), ('注す', 1), ('続ける', 1), ('節奏', 1), ('附ける', 1), ('はじめて', 1), ('同人', 1), ('白楽天', 1), ('蕪村', 1), ('浄瑠璃', 1), ('戯曲', 1), ('睨み', 1), ('足る', 1), ('窺う', 1), ('懸る', 1), ('作中', 1), ('手真似', 1), ('写し出す', 1), ('丁稚', 1), ('書割', 1), ('乗せる', 1), ('芳原', 1), ('煙る', 1), ('掠める', 1), ('横手', 1), ('登場', 1), ('術語', 1), ('下婢', 1), ('あたる', 1), ('助役', 1), ('隷属', 1), ('一定', 1), ('指す', 1), ('司る', 1), ('どる', 1), ('あそこ', 1), ('調べ', 1), ('届く', 1), ('見上げる', 1), ('加わる', 1), ('生やす', 1), ('甘ったるい', 1), ('いける', 1), ('起る', 1), ('ところで', 1), ('やれる', 1), ('打ち明ける', 1), ('だす', 1), ('散会', 1), ('無気味', 1), ('弔詞', 1), ('述べる', 1), ('盛大', 1), ('入会', 1), ('仰ぐ', 1), ('だかん', 1), ('賛助', 1), ('名簿', 1), ('小菊', 1), ('署名', 1), ('捺印', 1), ('記入', 1), ('謀叛', 1), ('連判', 1), ('書き入れる', 1), ('列ねる', 1), ('入籍', 1), ('出合う', 1), ('つまむ', 1), ('頬張る', 1), ('モゴモゴ', 1), ('御慶', 1), ('目出度い', 1), ('納', 1), ('着せる', 1), ('罷る', 1), ('在る', 1), ('休心', 1), ('例外', 1), ('仕る', 1), ('候う', 1), ('反す', 1), ('未曾有', 1), ('推察', 1), ('致す', 1), ('果す', 1), ('微笑', 1), ('歌留多', 1), ('明後日', 1), ('うるさい', 1), ('とばす', 1), ('謡曲', 1), ('短歌', 1), ('無し', 1), ('拝趨', 1), ('宥恕', 1), ('供する', 1), ('厨', 1), ('依る', 1), ('間に合う', 1), ('計る', 1), ('風味', 1), ('両天秤', 1), ('小指', 1), ('健啖', 1), ('充たす', 1), ('捕獲', 1), ('花屋敷', 1), ('ちらほら', 1), ('見受ける', 1), ('見当る', 1), ('往昔', 1), ('豪奢', 1), ('食指', 1), ('全欧', 1), ('宴席', 1), ('欠く', 1), ('相成る', 1), ('レ', 1), ('スター', 1), ('エリザベス', 1), ('慥か', 1), ('レンブラント', 1), ('画く', 1), ('饗宴', 1), ('広げる', 1), ('居る', 1), ('必定', 1), ('つぶやく', 1), ('健', 1), ('消化', 1), ('醸す', 1), ('然るに', 1), ('衛生', 1), ('多量', 1), ('滋味', 1), ('貪る', 1), ('胃腸', 1), ('常態', 1), ('食後', 1), ('嚥', 1), ('下せる', 1), ('廓清', 1), ('奏す', 1), ('飽く迄', 1), ('吐出', 1), ('好物', 1), ('機関', 1), ('生ずる', 1), ('軍国', 1), ('多事', 1), ('戦勝', 1), ('心痛', 1), ('通ずる', 1), ('古史', 1), ('廃絶', 1), ('禍', 1), ('萌', 1), ('防ぐ', 1), ('平素', 1), ('逸楽', 1), ('返る', 1), ('モン', 1), ('セン', 1), ('渉猟', 1), ('端緒', 1), ('思い立つ', 1), ('中絶', 1), ('再興', 1), ('左様', 1), ('悩む', 1), ('草々', 1), ('不備', 1), ('書き方', 1), ('匆々', 1), ('悪戯', 1), ('過ぎ去る', 1), ('白磁', 1), ('凋む', 1), ('軸', 1), ('両度', 1), ('手水', 1), ('葉蘭', 1), ('隠れる', 1), ('厚遇', 1), ('疲れる', 1), ('明くる日', 1), ('働ける', 1), ('使える', 1), ('しくしく', 1), ('痛む', 1), ('殖える', 1), ('旧幕', 1), ('国事', 1), ('語る', 1), ('絞め殺す', 1), ('含嗽', 1), ('突く', 1), ('引越す', 1), ('草履取り', 1), ('冤罪', 1), ('寄れる', 1), ('沈吟', 1), ('なりすます', 1), ('よこす', 1), ('やって来る', 1), ('まう', 1), ('重たい', 1), ('はらう', 1), ('討つ', 1), ('示す', 1), ('給う', 1), ('本家', 1), ('遺誡', 1), ('かえす', 1), ('投げる', 1), ('遊ぶ', 1), ('のぼる', 1), ('地中', 1), ('家屋', 1), ('預る', 1), ('訳す', 1), ('比', 1), ('ほめる', 1), ('乗り気', 1), ('亡魂', 1), ('ほのめかす', 1), ('弁じる', 1), ('待ち構える', 1), ('唐皮', 1), ('呑み込む', 1), ('成語', 1), ('韻', 1), ('踏む', 1), ('返す', 1), ('咽ぶ', 1), ('文士', 1), ('大会', 1), ('臨席', 1), ('世話物', 1), ('撰ぶ', 1), ('金色', 1), ('夜叉', 1), ('誠実', 1), ('しつける', 1), ('挿す', 1), ('ねじ伏せる', 1), ('神楽', 1), ('尖る', 1), ('聞かす', 1), ('見捨てる', 1), ('在宿', 1), ('触れ', 1), ('心待ち', 1), ('寒中', 1), ('焚く', 1), ('家名', 1), ('しめる', 1), ('始まる', 1), ('辛苦', 1), ('節季', 1), ('お正月', 1), ('小学校', 1), ('負傷', 1), ('列挙', 1), ('味気', 1), ('なおのこと', 1), ('内外', 1), ('富士見', 1), ('曇る', 1), ('吹き付ける', 1), ('神楽坂', 1), ('ヒュー', 1), ('淋しい', 1), ('戦死', 1), ('老衰', 1), ('真下', 1), ('断', 1), ('縮める', 1), ('波紋', 1), ('言い伝え', 1), ('枝振り', 1), ('下がる', 1), ('いやいや', 1), ('よす', 1), ('余興', 1), ('登る', 1), ('蹴返す', 1), ('ゆるめる', 1), ('飛び下りる', 1), ('撓る', 1), ('拠', 1), ('永日', 1), ('面晤', 1), ('期す', 1), ('心置き', 1), ('縊れる', 1), ('引き返す', 1), ('焦れる', 1), ('死神', 1), ('副', 1), ('幽冥', 1), ('馴らす', 1), ('昨年', 1), ('知人', 1), ('忘年会', 1), ('携える', 1), ('集る', 1), ('盛会', 1), ('快事', 1), ('暇乞い', 1), ('精しい', 1), ('発熱', 1), ('絶間', 1), ('口走る', 1), ('病名', 1), ('犯す', 1), ('うなされる', 1), ('くるしい', 1), ('しめつける', 1), ('快活', 1), ('承る', 1), ('飛花落葉', 1), ('にわかに', 1), ('滅入る', 1), ('きかかる', 1), ('満潮', 1), ('干潮', 1), ('かたまる', 1), ('花川戸', 1), ('見送る', 1), ('札幌', 1), ('消える', 1), ('川上', 1), ('すかす', 1), ('がくがく', 1), ('はーい', 1), ('響く', 1), ('驚かす', 1), ('巻き込む', 1), ('刺し通す', 1), ('直', 1), ('浪', 1), ('洩れる', 1), ('見つめる', 1), ('浮く', 1), ('飛び上がる', 1), ('小石', 1), ('さめる', 1), ('追窮', 1), ('暗合', 1), ('まぜ返す', 1), ('御歳暮', 1), ('語り物', 1), ('下す', 1), ('一世一代', 1), ('予約', 1), ('脱す', 1), ('大原', 1), ('はいる', 1), ('ぴんぴん', 1), ('風船', 1), ('動ける', 1), ('急病', 1), ('叶える', 1), ('薪水', 1), ('酬いる', 1), ('嚢中', 1), ('堵', 1), ('降りる', 1), ('服薬', 1), ('迎い', 1), ('杏仁', 1), ('たまさか', 1), ('喜ぶ', 1), ('外れる', 1), ('無限', 1), ('情けない', 1), ('説く', 1), ('取り乱す', 1), ('速い', 1), ('卒業生', 1), ('お貰い', 1), ('悪意', 1), ('至情', 1), ('眩暈', 1), ('乱れる', 1), ('急き込む', 1), ('手落ち', 1), ('脱ぐ', 1), ('開き戸', 1), ('褒める', 1), ('もろ肌', 1), ('反映', 1), ('有形', 1), ('無形', 1), ('やく', 1), ('容体', 1), ('はなす', 1), ('敲く', 1), ('目縁', 1), ('引っ繰り返す', 1), ('さする', 1), ('頓服', 1), ('厳命', 1), ('おして', 1), ('注ぐ', 1), ('からげる', 1), ('はおる', 1), ('吐き気', 1), ('留まる', 1), ('飲める', 1), ('ぞくぞく', 1), ('語り', 1), ('とぼける', 1), ('咳払い', 1), ('偏狭', 1), ('かれる', 1), ('所得', 1), ('超然と', 1), ('娑婆気', 1), ('日常', 1), ('ちらちら', 1), ('ほのめく', 1), ('罵倒', 1), ('俗骨', 1), ('半可通', 1), ('取り得', 1), ('庭口', 1), ('門松', 1), ('飾り', 1), ('取り払う', 1), ('うらら', 1), ('流れ', 1), ('四海', 1), ('照らす', 1), ('元日', 1), ('曙光', 1), ('呈す', 1), ('人影', 1), ('行う', 1), ('ひっそり', 1), ('うとうと', 1), ('うたた寝', 1), ('浮かぶ', 1), ('剥げる', 1), ('位牌', 1), ('蒲団', 1), ('立ち上る', 1), ('木彫', 1), ('人様', 1), ('貰う', 1), ('しどころ', 1), ('呑む', 1), ('早死', 1), ('可愛らしい', 1), ('探す', 1), ('いたる', 1), ('身代り', 1), ('心残り', 1), ('果報者', 1), ('浄土', 1), ('すべる', 1), ('毛髪', 1), ('にたてる', 1), ('身震い', 1), ('寄りつく', 1), ('無性', 1), ('閉じる', 1), ('評する', 1), ('虐待', 1), ('甚五郎', 1), ('楼門', 1), ('刻む', 1), ('似顔', 1), ('恥づ', 1), ('岡山', 1), ('届ける', 1), ('接近', 1), ('糾合', 1), ('雌雄', 1), ('決す', 1), ('性情', 1), ('一身', 1), ('変心', 1), ('裏切り', 1), ('貧乏性', 1), ('習癖', 1), ('脱化', 1), ('気位', 1), ('言行', 1), ('生える', 1), ('わが物顔', 1), ('撮る', 1), ('見解', 1), ('異なる', 1), ('用紙', 1), ('唸る', 1), ('卸す', 1), ('序開き', 1), ('発する', 1), ('筆太', 1), ('放す', 1), ('穂', 1), ('うつ', 1), ('真一文字', 1), ('尽きる', 1), ('賛', 1), ('言文', 1), ('書き流す', 1), ('遠慮ない', 1), ('併行', 1), ('食み出す', 1), ('捻り出す', 1), ('見幕', 1), ('ねじ上げる', 1), ('ねじ', 1), ('下ろす', 1), ('銅鑼', 1), ('薬礼', 1), ('本屋', 1), ('抜き取る', 1), ('舐める', 1), ('覚え', 1), ('植付け', 1), ('粘着', 1), ('漲る', 1), ('突っ込む', 1), ('しかめる', 1), ('突き戻す', 1), ('経済', 1), ('追払う', 1), ('蛇足', 1), ('抹殺', 1), ('已める', 1), ('筆誅', 1), ('余す', 1), ('十文字', 1), ('揮う', 1), ('文人', 1), ('蘭', 1), ('究める', 1), ('連ねる', 1), ('乞う', 1), ('舞い込む', 1), ('題目', 1), ('彫る', 1), ('本堂', 1), ('力石', 1), ('接待', 1), ('掛り', 1), ('無愛想', 1), ('蒔く', 1), ('襟髪', 1), ('攫む', 1), ('釣る', 1), ('取れる', 1), ('おどる', 1), ('暴く', 1), ('宙乗り', 1), ('相好', 1), ('針仕事', 1), ('損害', 1), ('償う', 1), ('めす', 1), ('父様', 1), ('世帯', 1), ('見計らう', 1), ('丸善', 1), ('月末', 1), ('月々', 1), ('溜る', 1), ('憮然', 1), ('削減', 1), ('似合う', 1), ('駆る', 1), ('唐人', 1), ('お待ち', 1), ('こうる', 1), ('売る', 1), ('くべる', 1), ('焚ける', 1), ('ありがた味', 1), ('じゃらす', 1), ('考えつく', 1), ('詰め込む', 1), ('向き直る', 1), ('行雲流水', 1), ('忽ち', 1), ('逝く', 1), ('すまう', 1), ('別途', 1), ('不即不離', 1), ('わき', 1), ('御膳', 1), ('櫓', 1), ('首実検', 1), ('切ない', 1), ('加勢', 1), ('皆さん', 1), ('開き直る', 1), ('女人', 1), ('詰め', 1), ('穿つ', 1), ('はねる', 1), ('物思い', 1), ('晴朗', 1), ('一瓢', 1), ('欧州', 1), ('多弁', 1), ('さす', 1), ('仕込む', 1), ('専断', 1), ('無味', 1), ('脱俗', 1), ('超凡', 1), ('演題', 1), ('軽口', 1), ('退く', 1), ('聳やかす', 1), ('後れる', 1), ('待ち', 1), ('いそぐ', 1), ('よー', 1), ('本式', 1), ('とおい', 1), ('騒ぎ立てる', 1), ('隠し', 1), ('取り出す', 1), ('徐', 1), ('浚う', 1), ('処する', 1), ('アングロサクソン', 1), ('民族', 1), ('溯る', 1), ('旧約', 1), ('全書', 1), ('死体', 1), ('野獣', 1), ('餌食', 1), ('曝す', 1), ('忌み嫌う', 1), ('十字架', 1), ('御座る', 1), ('磔', 1), ('張付ける', 1), ('らっしゃる', 1), ('い草', 1), ('交ぜ返す', 1), ('難関', 1), ('あいかわる', 1), ('まする', 1), ('衒う', 1), ('云々', 1), ('物欲しそう', 1), ('奥床しい', 1), ('加担', 1), ('読める', 1), ('申し上げる', 1), ('括る', 1), ('片方', 1), ('取りはずす', 1), ('たとえる', 1), ('縄暖簾', 1), ('証拠立てる', 1), ('番地', 1), ('繋ぐ', 1), ('２', 1), ('地平線', 1), ('形づくる', 1), ('７', 1), ('体重', 1), ('逐う', 1), ('ずんずん', 1), ('移る', 1), ('論じる', 1), ('絞首', 1), ('架', 1), ('ガル', 1), ('ガ', 1), ('再度', 1), ('刑罰', 1), ('兇漢', 1), ('絞める', 1), ('死ねる', 1), ('実例', 1), ('悪漢', 1), ('飛び降りる', 1), ('やり直す', 1), ('手伝う', 1), ('人間並', 1), ('生き返る', 1), ('壊れる', 1), ('雄弁', 1), ('空々', 1), ('号外', 1), ('きょう', 1), ('失策', 1), ('忙しい', 1), ('おん', 1), ('嘯く', 1), ('今時', 1), ('義士', 1), ('見世物', 1), ('っ子', 1), ('釣り込む', 1), ('大鷹', 1), ('蒔絵', 1), ('印籠', 1), ('清廉', 1), ('通弁', 1), ('早口', 1), ('問い掛ける', 1), ('少しも', 1), ('物珍しい', 1), ('集う', 1), ('取り巻く', 1), ('へどもど', 1), ('結局', 1), ('ぐんぐん', 1), ('火桶', 1), ('鋭い', 1), ('どく', 1), ('見合わせる', 1), ('稀有', 1), ('擦り付ける', 1), ('超す', 1), ('生え際', 1), ('前髪', 1), ('堤防', 1), ('工事', 1), ('聳える', 1), ('せり出す', 1), ('切り通し', 1), ('勾配', 1), ('対立', 1), ('細い', 1), ('盗む', 1), ('据え付ける', 1), ('利かす', 1), ('鍵', 1), ('敬意', 1), ('称す', 1), ('睨める', 1), ('ぷかぷか', 1), ('ふかす', 1), ('木目', 1), ('鼎坐', 1), ('認識', 1), ('遣い', 1), ('重役', 1), ('御存知', 1), ('金満', 1), ('恩顧', 1), ('除く', 1), ('畏服', 1), ('天が下', 1), ('一隅', 1), ('取扱い', 1), ('通す', 1), ('燻る', 1), ('大島紬', 1), ('古渡', 1), ('重ねる', 1), ('おまけ', 1), ('あっ気', 1), ('縁辺', 1), ('上がる', 1), ('気転', 1), ('伺える', 1), ('えむ', 1), ('参らせる', 1), ('喧嘩腰', 1), ('軍配', 1), ('覚る', 1), ('土俵際', 1), ('持ち直す', 1), ('反り返る', 1), ('行司', 1), ('気取り', 1), ('乗り出す', 1), ('からまる', 1), ('狐付き', 1), ('忘れ', 1), ('阿部', 1), ('演奏', 1), ('嵌る', 1), ('放つ', 1), ('呆然', 1), ('瘧', 1), ('箍', 1), ('ゆるむ', 1), ('持前', 1), ('本態', 1), ('復する', 1), ('当て', 1), ('はずれる', 1), ('睨みつける', 1), ('陳述', 1), ('ぬかる', 1), ('憚り様', 1), ('御門', 1), ('軍鶏', 1), ('蹴合い', 1), ('思い付く', 1), ('救い', 1), ('根堀', 1), ('障り', 1), ('あらい', 1), ('荒立てる', 1), ('磁気', 1), ('怪訝', 1), ('成れる', 1), ('関する', 1), ('渋い', 1), ('併せる', 1), ('天体', 1), ('運行', 1), ('話題', 1), ('楊子', 1), ('絵葉書', 1), ('旧暦', 1), ('御山', 1), ('羽衣', 1), ('弾く', 1), ('一心に', 1), ('星', 1), ('微妙', 1), ('沁む', 1), ('寒さ', 1), ('聞き惚れる', 1), ('倶楽部', 1), ('やられる', 1), ('三枚目', 1), ('印刷', 1), ('書き散らす', 1), ('よべる', 1), ('泊り', 1), ('荒磯', 1), ('さよの', 1), ('船乗り', 1), ('話せる', 1), ('得手', 1), ('見送り', 1), ('口気', 1), ('一気', 1), ('中央', 1), ('陣取る', 1), ('売れ残る', 1), ('讒訴', 1), ('見離す', 1), ('高齢', 1), ('御召', 1), ('連綿', 1), ('生き延びる', 1), ('半々', 1), ('しま', 1), ('被れる', 1), ('被る', 1), ('威張る', 1), ('起きる', 1), ('眠たい', 1), ('克己', 1), ('差し', 1), ('寄こす', 1), ('祝捷', 1), ('調達', 1), ('仕立てる', 1), ('かおる', 1), ('当日', 1), ('翁', 1), ('離す', 1), ('棺', 1), ('大間', 1), ('小包', 1), ('遣わす', 1), ('小為替', 1), ('漢学', 1), ('聖堂', 1), ('朱子学', 1), ('こりる', 1), ('固まる', 1), ('恭しい', 1), ('やたら', 1), ('局長', 1), ('単なる', 1), ('曰く付き', 1), ('術数', 1), ('天来', 1), ('コメディー', 1), ('嘆ずる', 1), ('立ち至る', 1), ('踏み込む', 1), ('無関係', 1), ('図る', 1), ('権勢', 1), ('浮べる', 1), ('堪える', 1), ('買収', 1), ('ニヤニヤ', 1), ('したて', 1), ('乗り込む', 1), ('殊', 1), ('畳み込む', 1), ('血気', 1), ('美挙', 1), ('許諾', 1), ('忍ばす', 1), ('馬丁', 1), ('無頼漢', 1), ('日雇', 1), ('有用', 1), ('材', 1), ('すてる', 1), ('達す', 1), ('情勢', 1), ('見届ける', 1), ('佇む', 1), ('黒雲', 1), ('正義', 1), ('無駄', 1), ('男児', 1), ('本懐', 1), ('無駄足', 1), ('技', 1), ('内幕', 1), ('告げる', 1), ('与る', 1), ('角地', 1), ('威圧', 1), ('植', 1), ('大隈', 1), ('整然と', 1), ('叩き上げる', 1), ('かくれる', 1), ('なんとも', 1), ('してやる', 1), ('そりゃあ', 1), ('じらす', 1), ('言い付ける', 1), ('歩く', 1), ('不器用', 1), ('磬', 1), ('鼓する', 1), ('醍醐', 1), ('詮', 1), ('権助', 1), ('仲働き', 1), ('日本一', 1), ('血脈', 1), ('蟇', 1), ('夜光', 1), ('神祇', 1), ('釈教', 1), ('相伝', 1), ('妙薬', 1), ('仁王', 1), ('心太', 1), ('普段', 1), ('礼拝', 1), ('長久', 1), ('祈る', 1), ('低頭', 1), ('追付く', 1), ('ねじる', 1), ('収める', 1), ('草臥れる', 1), ('はする', 1), ('凝らす', 1), ('金切り声', 1), ('振り立てる', 1), ('懲らしめる', 1), ('いじめる', 1), ('キシャゴ', 1), ('かわす', 1), ('生国', 1), ('揃う', 1), ('遇う', 1), ('物笑い', 1), ('面構え', 1), ('へべれけ', 1), ('頓狂', 1), ('馬の骨', 1), ('一言半句', 1), ('推す', 1), ('未遂', 1), ('入水', 1), ('せしめる', 1), ('拝する', 1), ('祭る', 1), ('受合う', 1), ('荒い', 1), ('大和', 1), ('おくれる', 1), ('いいかえる', 1), ('おひゃらかす', 1), ('出ろ', 1), ('あずかる', 1), ('ジャラジャラ', 1), ('足元', 1), ('吠える', 1), ('水月', 1), ('大嫌い', 1), ('結う', 1), ('食わす', 1), ('半襟', 1), ('汚れる', 1), ('遊ばす', 1), ('鶯', 1), ('附', 1), ('染め出す', 1), ('似合い', 1), ('集める', 1), ('急ぐ', 1), ('成績', 1), ('汚い', 1), ('洞窟', 1), ('入り込む', 1), ('恋しい', 1), ('伺い', 1), ('御託宣', 1), ('吸い殻', 1), ('突き立てる', 1), ('手枕', 1), ('かい出す', 1), ('売品', 1), ('まじ', 1), ('天保', 1), ('陣笠', 1), ('立葵', 1), ('紋', 1), ('ぶっ', 1), ('割く', 1), ('納まる', 1), ('織田', 1), ('信長', 1), ('茶筌', 1), ('献納', 1), ('売れ残り', 1), ('隅田川', 1), ('水底', 1), ('にあたる', 1), ('押しかける', 1), ('久遠', 1), ('接ぐ', 1), ('祭り', 1), ('神酒', 1), ('供え', 1), ('幽か', 1), ('奥深い', 1), ('各々', 1), ('披瀝', 1), ('清聴', 1), ('煩わす', 1), ('起源', 1), ('突き出す', 1), ('抓む', 1), ('引っ込む', 1), ('微細', 1), ('寸評', 1), ('挿入', 1), ('申し込む', 1), ('陳べる', 1), ('削り取る', 1), ('点滴', 1), ('光明', 1), ('薫', 1), ('鼻筋', 1), ('通う', 1), ('護', 1), ('怖い', 1), ('鼻梁', 1), ('ゴールド', 1), ('貴い', 1), ('下世話', 1), ('権衡', 1), ('単独', 1), ('鞍馬山', 1), ('一等', 1), ('いらせられる', 1), ('ちょん', 1), ('喩え', 1), ('鼻柱', 1), ('奈良', 1), ('大仏', 1), ('失する', 1), ('英姿', 1), ('颯爽', 1), ('囲繞', 1), ('劣等', 1), ('病む', 1), ('講筵', 1), ('通俗', 1), ('佳人', 1), ('かざる', 1), ('期する', 1), ('立ち入る', 1), ('黄金', 1), ('失す', 1), ('厳格', 1), ('演繹', 1), ('デザート', 1), ('ワイス', 1), ('参酌', 1), ('心意', 1), ('後天', 1), ('有力', 1), ('る説', 1), ('生む', 1), ('察する', 1), ('潜伏期', 1), ('劇変', 1), ('膨脹', 1), ('学理', 1), ('論証', 1), ('鳴く', 1), ('やり込める', 1), ('やかましい', 1), ('しる', 1), ('逆鱗', 1), ('自乗', 1), ('特権', 1), ('冠する', 1), ('繁い', 1), ('反問', 1), ('吸い込む', 1), ('吐き出す', 1), ('血の道', 1), ('咎め立て', 1), ('間男', 1), ('聞き苦しい', 1), ('鰹', 1), ('ちょろまかす', 1), ('痙攣', 1), ('密着', 1), ('密談', 1), ('もってのほか', 1), ('職', 1), ('陋劣', 1), ('覆う', 1), ('執拗', 1), ('費やす', 1), ('尺寸', 1), ('差し支える', 1), ('茫々', 1), ('小賢しい', 1), ('杭', 1), ('某々', 1), ('蒼天', 1), ('届け出る', 1), ('切り刻む', 1), ('売買', 1), ('立方', 1), ('不当', 1), ('私有', 1), ('志す', 1), ('南北', 1), ('力ずく', 1), ('叶う', 1), ('曲げる', 1), ('屈従', 1), ('後者', 1), ('択ぶ', 1), ('避ける', 1), ('につけ', 1), ('映じる', 1), ('留', 1), ('拭く', 1), ('召し上がる', 1), ('餓鬼大将', 1), ('まえる', 1), ('土塀', 1), ('なす', 1), ('穿く', 1), ('機敏', 1), ('数え切れる', 1), ('見極め', 1), ('賑', 1), ('見透かす', 1), ('不運', 1), ('諦める', 1), ('冒す', 1), ('芝生', 1), ('明け放つ', 1), ('在所', 1), ('胡麻塩', 1), ('茂', 1), ('生す', 1), ('滑', 1), ('逞しい', 1), ('これぞ', 1), ('取り立てる', 1), ('宿命', 1), ('昭代', 1), ('平板', 1), ('尨', 1), ('思い付き', 1), ('煮える', 1), ('嵐', 1), ('ほろ', 1), ('慢心', 1), ('萌す', 1), ('負け惜しみ', 1), ('捲く', 1), ('追う', 1), ('さげる', 1), ('跣', 1), ('論点', 1), ('興人', 1), ('嘘八百', 1), ('並べ立てる', 1), ('しらじらしい', 1), ('私ゃ', 1), ('剛腹', 1), ('忌々しい', 1), ('半兵衛', 1), ('ふく', 1), ('言い草', 1), ('馴れる', 1), ('比丘尼', 1), ('木魚', 1), ('聞き分ける', 1), ('勤務', 1), ('承諾', 1), ('掛け', 1), ('彼岸', 1), ('詣る', 1), ('妄り', 1), ('容喙', 1), ('同宿', 1), ('諭す', 1), ('励み', 1), ('縁組', 1), ('変り者', 1), ('学才', 1), ('かしこまる', 1), ('土曜', 1), ('突き当る', 1), ('貼る', 1), ('ふる', 1), ('剥がれる', 1), ('木札', 1), ('ほんとう', 1), ('伝わる', 1), ('敷く', 1), ('麗', 1), ('干す', 1), ('目標', 1), ('製造元', 1), ('織る', 1), ('唐物', 1), ('売り捌く', 1), ('通り越す', 1), ('濃い', 1), ('変色', 1), ('擦り切れる', 1), ('僭上', 1), ('省く', 1), ('出張る', 1), ('支える', 1), ('フケる', 1), ('火の車', 1), ('思える', 1), ('行末', 1), ('幾重にも', 1), ('吹き寄せ', 1), ('非礼', 1), ('頬杖', 1), ('荘厳', 1), ('据える', 1), ('ヵ年', 1), ('礼儀', 1), ('脱却', 1), ('乗じる', 1), ('海苔', 1), ('ゴシゴシ', 1), ('振りかける', 1), ('唐縮緬', 1), ('靡く', 1), ('陽炎', 1), ('一所', 1), ('停る', 1), ('縺れる', 1), ('伝う', 1), ('契る', 1), ('眩い', 1), ('ゆう', 1), ('驚き', 1), ('瞳孔', 1), ('伝来', 1), ('幾世', 1), ('飾り付ける', 1), ('幼少', 1), ('厚い', 1), ('真鍮', 1), ('喚ぶ', 1), ('密接', 1), ('聯想', 1), ('文久', 1), ('見向く', 1), ('禿げる', 1), ('いむ', 1), ('合わす', 1), ('釣れる', 1), ('ぷりぷり', 1), ('捩じる', 1), ('見込み', 1), ('後日', 1), ('譲る', 1), ('倉皇', 1), ('逃げ込む', 1), ('丸める', 1), ('投げ込む', 1), ('随行', 1), ('見廻る', 1), ('万国', 1), ('製', 1), ('青磁', 1), ('活ける', 1), ('点検', 1), ('勧める', 1), ('乗り手', 1), ('傲然', 1), ('根っこ', 1), ('捉える', 1), ('引きずる', 1), ('自重', 1), ('重んずる', 1), ('股肱', 1), ('鎮座', 1), ('まします', 1), ('座席', 1), ('争い', 1), ('曲直', 1), ('争う', 1), ('憎悪', 1), ('増す', 1), ('衣紋', 1), ('つくろう', 1), ('無期', 1), ('徒刑', 1), ('本社', 1), ('見下ろす', 1), ('美麗', 1), ('派手', 1), ('ピカ', 1), ('七つ', 1), ('閑暇', 1), ('振り撒く', 1), ('いただき', 1), ('太平楽', 1), ('情死', 1), ('通せる', 1), ('さばける', 1), ('シャーレ', 1), ('部下', 1), ('クレオパトラ', 1), ('来す', 1), ('ろうと', 1), ('思い出せる', 1), ('間鼻', 1), ('纏める', 1), ('蒸す', 1), ('冷風', 1), ('消し', 1), ('旨', 1), ('産物', 1), ('異に', 1), ('むかっ腹', 1), ('片割れ', 1), ('恨み', 1), ('弟', 1), ('仲', 1), ('復命', 1), ('確かめる', 1), ('どやす', 1), ('殊更', 1), ('戸惑い', 1), ('易者', 1), ('損なう', 1), ('釣り合う', 1), ('まごまご', 1), ('使命', 1), ('万全', 1), ('附属', 1), ('肩書', 1), ('対す', 1), ('肩身', 1), ('学位', 1), ('運び', 1), ('手軽', 1), ('活かす', 1), ('正す', 1), ('角張る', 1), ('纏まる', 1), ('粗略', 1), ('したがう', 1), ('藤村', 1), ('もぐ', 1), ('旅烏', 1), ('舞い戻る', 1), ('長生', 1), ('おける', 1), ('いじる', 1), ('ひやかす', 1), ('田舎者', 1), ('街', 1), ('年々', 1), ('建つ', 1), ('才子', 1), ('大根', 1), ('兄弟分', 1), ('食い気', 1), ('自ずから', 1), ('焦げくさい', 1), ('豆腐', 1), ('祟る', 1), ('塔婆', 1), ('転がす', 1), ('傭う', 1), ('懺悔', 1), ('金巾', 1), ('越中褌', 1), ('雨上り', 1), ('溜り', 1), ('心から', 1), ('泉', 1), ('安永', 1), ('辰', 1), ('越す', 1), ('ゴシック', 1), ('専攻', 1), ('私情', 1), ('帖', 1), ('引き裂く', 1), ('画才', 1), ('頓挫', 1), ('境内', 1), ('咲く', 1), ('見掛け', 1), ('取り合う', 1), ('埋る', 1), ('正札', 1), ('引け', 1), ('見識張る', 1), ('無趣味', 1), ('通知', 1), ('しかける', 1), ('何より', 1), ('見やる', 1), ('自賛', 1), ('啻に', 1), ('白木', 1), ('仕上がる', 1), ('彫刻', 1), ('箔', 1), ('除ける', 1), ('スターン', 1), ('朽ちる', 1), ('くばる', 1), ('不導体', 1), ('感染', 1), ('末席', 1), ('息女', 1), ('崇める', 1), ('釣鐘', 1), ('黙過', 1), ('胡麻', 1), ('体育', 1), ('重んじる', 1), ('百方', 1), ('記録', 1), ('怪しむ', 1), ('疑団', 1), ('氷解', 1), ('痛快', 1), ('上手者', 1), ('象牙', 1), ('淵', 1), ('救い出す', 1), ('称', 1), ('逍遥', 1), ('元祖', 1), ('賞与', 1), ('技芸', 1), ('珍宝', 1), ('損する', 1), ('千両箱', 1), ('積む', 1), ('黄白', 1), ('匹敵', 1), ('服膺', 1), ('時事', 1), ('最高', 1), ('府', 1), ('位', 1), ('倦怠', 1), ('通り掛る', 1), ('身投げ', 1), ('仕損じる', 1), ('問屋', 1), ('煩い', 1), ('捏ねる', 1), ('学界', 1), ('ひるむ', 1), ('不承知', 1), ('百獣', 1), ('聡明', 1), ('貪婪', 1), ('退ける', 1), ('凹む', 1), ('なげる', 1), ('揚句', 1), ('素っ破抜く', 1), ('鋭鋒', 1), ('あしらう', 1), ('上分別', 1), ('口論', 1), ('封建', 1), ('口舌', 1), ('着々', 1), ('達する', 1), ('争論', 1), ('まんまと', 1), ('当該', 1), ('十中八九', 1), ('律す', 1), ('尊公', 1), ('奮闘', 1), ('ちゃう', 1), ('独歩', 1), ('評論', 1), ('不評判', 1), ('匕首', 1), ('袖の下', 1), ('雑魚', 1), ('喩える', 1), ('刃物', 1), ('仲見世', 1), ('銃', 1), ('路次', 1), ('日本橋', 1), ('矯風', 1), ('少なくも', 1), ('鼓吹', 1), ('企て', 1), ('描写', 1), ('価する', 1), ('奇行', 1), ('木枯し', 1), ('息む', 1), ('しんしん', 1), ('添乳', 1), ('花曇り', 1), ('疾く', 1), ('駒下駄', 1), ('明笛', 1), ('絶える', 1), ('鈍い', 1), ('ぺん', 1), ('煮汁', 1), ('俳諧', 1), ('春さき', 1), ('在天', 1), ('ジュピター', 1), ('おけら', 1), ('にかけて', 1), ('浮身', 1), ('窶す', 1), ('うれしい', 1), ('焦がれる', 1), ('恋慕', 1), ('春宵', 1), ('雌', 1), ('煩悩', 1), ('心地', 1), ('延べる', 1), ('潜り込む', 1), ('小本', 1), ('一行', 1), ('字典', 1), ('竜文', 1), ('松風', 1), ('寝つく', 1), ('つかえる', 1), ('挟まる', 1), ('ニッケル', 1), ('乳呑', 1), ('放り出す', 1), ('外す', 1), ('北の方', 1), ('倹約', 1), ('閉塞', 1), ('寝そべる', 1), ('とぶ', 1), ('のせる', 1), ('不自然', 1), ('灯火', 1), ('天真爛漫', 1), ('良夜', 1), ('惜しむ', 1), ('床しい', 1), ('滅却', 1), ('更ける', 1), ('中る', 1), ('あばれる', 1), ('用心深い', 1), ('中でも', 1), ('練', 1), ('修', 1), ('緩やか', 1), ('滑る', 1), ('高名', 1), ('尊顔', 1), ('蹶る', 1), ('刷毛', 1), ('マチ', 1), ('夜陰', 1), ('水車', 1), ('効用', 1), ('突き飛ばす', 1), ('急所', 1), ('おびただしい', 1), ('起こす', 1), ('渋る', 1), ('二度と', 1), ('悟', 1), ('透す', 1), ('写る', 1), ('代る', 1), ('縮まる', 1), ('飛出る', 1), ('待ち兼ねる', 1), ('不時', 1), ('卑見', 1), ('慮る', 1), ('耶蘇教', 1), ('天地開闢', 1), ('更', 1), ('叩き込む', 1), ('万有', 1), ('聖書', 1), ('玄妙', 1), ('承認', 1), ('世界中', 1), ('作り上げる', 1), ('でかい', 1), ('思いつく', 1), ('画工', 1), ('精力', 1), ('消耗', 1), ('一手', 1), ('負う', 1), ('当初', 1), ('造る', 1), ('損ねる', 1), ('陥る', 1), ('判ずる', 1), ('寸分', 1), ('聖母', 1), ('マドンナ', 1), ('双幅', 1), ('弘法大師', 1), ('空海', 1), ('書体', 1), ('伝習', 1), ('乳母', 1), ('発音', 1), ('至難', 1), ('悉皆', 1), ('焼印', 1), ('表明', 1), ('さして', 1), ('目まぐるしい', 1), ('瞥見', 1), ('感想', 1), ('湧く', 1), ('考え直す', 1), ('打ち消す', 1), ('眉目', 1), ('一銭', 1), ('銅貨', 1), ('きまる', 1), ('浅黒い', 1), ('目する', 1), ('植え付ける', 1), ('さては', 1), ('別人', 1), ('小切手', 1), ('迷う', 1), ('熱度', 1), ('惚れ込む', 1), ('早分り', 1), ('挙げる', 1), ('良縁', 1), ('健在', 1), ('要件', 1), ('放り込む', 1), ('半纏', 1), ('納戸', 1), ('博多', 1), ('むすぶ', 1), ('生白い', 1), ('引き込む', 1), ('むにゃむにゃ', 1), ('赤本', 1), ('皮癬', 1), ('静まり返る', 1), ('うかがう', 1), ('一穂', 1), ('越える', 1), ('化け物', 1), ('寝顔', 1), ('肥前', 1), ('住人', 1), ('土産', 1), ('煮物', 1), ('三盆', 1), ('用箪笥', 1), ('肌身', 1), ('合す', 1), ('目方', 1), ('くるむ', 1), ('解く', 1), ('のめる', 1), ('膨れる', 1), ('臨月', 1), ('はめる', 1), ('紬', 1), ('拡げる', 1), ('畳む', 1), ('熟練', 1), ('やり口', 1), ('しごく', 1), ('乳', 1), ('ホヤ', 1), ('遠のく', 1), ('寝込む', 1), ('朗らか', 1), ('晴れ渡る', 1), ('対談', 1), ('伏せる', 1), ('痛痒', 1), ('戸締り', 1), ('盗る', 1), ('持ち出す', 1), ('呼びつける', 1), ('権柄ずく', 1), ('細', 1), ('巻き付ける', 1), ('しめて', 1), ('書き付ける', 1), ('なんど', 1), ('河野', 1), ('値段', 1), ('足袋', 1), ('とろろ', 1), ('ねだる', 1), ('掘る', 1), ('すそ', 1), ('ざんする', 1), ('頑愚', 1), ('寄贈', 1), ('鉱山', 1), ('芽生', 1), ('後進', 1), ('廬', 1), ('訛り', 1), ('ズボン', 1), ('御機嫌', 1), ('うま', 1), ('つめる', 1), ('盗', 1), ('あさまい', 1), ('後部', 1), ('カ月', 1), ('煩わしい', 1), ('追いやる', 1), ('意地張り', 1), ('花見', 1), ('飼う', 1), ('図々しい', 1), ('伝聞', 1), ('同君', 1), ('浅い', 1), ('係わる', 1), ('井', 1), ('物産', 1), ('役員', 1), ('表裏', 1), ('護身', 1), ('玉葱', 1), ('成仏', 1), ('賢人', 1), ('良人', 1), ('くむ', 1), ('おいたつ', 1), ('うふ', 1), ('半袖', 1), ('不充分', 1), ('働く', 1), ('巡回', 1), ('郎', 1), ('簡明', 1), ('凹ます', 1), ('壊す', 1), ('外濠', 1), ('個月', 1), ('収入', 1), ('工', 1), ('九州', 1), ('炭坑', 1), ('盆暮', 1), ('配当', 1), ('リーダー', 1), ('無くなる', 1), ('先例', 1), ('動議', 1), ('行き当りばったり', 1), ('逸事', 1), ('尾行', 1), ('旻', 1), ('蠢動', 1), ('吹き込む', 1), ('木強漢', 1), ('多感', 1), ('心神', 1), ('労する', 1), ('贅物', 1), ('物象', 1), ('五感', 1), ('形骸', 1), ('渉', 1), ('端折る', 1), ('達磨', 1), ('腐る', 1), ('澄ます', 1), ('蔦', 1), ('大師', 1), ('塞ぐ', 1), ('廓', 1), ('聖', 1), ('閉居', 1), ('躄', 1), ('外見', 1), ('沈静', 1), ('巨匠', 1), ('仮死', 1), ('穀潰し', 1), ('誹謗', 1), ('視覚', 1), ('第一流', 1), ('恨む', 1), ('故障', 1), ('俚耳', 1), ('陽春', 1), ('和する', 1), ('光輝', 1), ('電鉄', 1), ('脱線', 1), ('標', 1), ('剥ぐ', 1), ('売り飛ばす', 1), ('由々しき', 1), ('坐する', 1), ('超邁', 1), ('猛虎', 1), ('占める', 1), ('雛', 1), ('鶏', 1), ('混成', 1), ('旅団', 1), ('捕れる', 1), ('悟れる', 1), ('ずれる', 1), ('賢しい', 1), ('破れ', 1), ('大手', 1), ('戦場', 1), ('仕切る', 1), ('羽目', 1), ('小鉢', 1), ('いとど', 1), ('小木', 1), ('自在', 1), ('平たい', 1), ('作戦', 1), ('恐く', 1), ('周密', 1), ('鼠賊', 1), ('逸出', 1), ('行路', 1), ('土管', 1), ('沿う', 1), ('下隅', 1), ('半月', 1), ('便', 1), ('楯', 1), ('やり過ごす', 1), ('煤', 1), ('やってのける', 1), ('本能', 1), ('助勢', 1), ('決める', 1), ('玉椿', 1), ('千代', 1), ('八千代', 1), ('論拠', 1), ('よって', 1), ('選ぶ', 1), ('当惑', 1), ('対馬海峡', 1), ('津軽', 1), ('海峡', 1), ('宗谷海峡', 1), ('察し', 1), ('格段', 1), ('智謀', 1), ('めぐらす', 1), ('夜目', 1), ('懲りる', 1), ('枕頭', 1), ('壮士', 1), ('気取る', 1), ('酔狂', 1), ('大戦', 1), ('切り抜く', 1), ('勤める', 1), ('颯と', 1), ('朧月', 1), ('斜め', 1), ('寝過ごす', 1), ('しだす', 1), ('小皿', 1), ('あらす', 1), ('すくむ', 1), ('どんぶり', 1), ('三寸', 1), ('ちょろちょろ', 1), ('暴行', 1), ('ちら', 1), ('金盥', 1), ('かちり', 1), ('後方', 1), ('歯磨', 1), ('逃がす', 1), ('頑張る', 1), ('小癪', 1), ('疲らす', 1), ('奔走', 1), ('努力', 1), ('敵愾心', 1), ('八方睨み', 1), ('目ざす', 1), ('過す', 1), ('たどる', 1), ('庇', 1), ('瞬く', 1), ('振り落とす', 1), ('護謨', 1), ('砕ける', 1), ('胴体', 1), ('跳ね返る', 1), ('起き上がる', 1), ('隙間', 1), ('蹴る', 1), ('釣り', 1), ('見おろす', 1), ('見上ぐ', 1), ('大幅', 1), ('差し込む', 1), ('もがく', 1), ('危うい', 1), ('掻きむしる', 1), ('損じる', 1), ('かかり', 1), ('水甕', 1), ('ただならぬ', 1), ('物音', 1), ('死物狂い', 1), ('張り上げる', 1), ('寝ぼけ', 1), ('炯々', 1), ('一帯', 1), ('半切', 1), ('暑い', 1), ('涼む', 1), ('シドニー', 1), ('洗い張り', 1), ('春夏秋冬', 1), ('押し通す', 1), ('あびる', 1), ('暖簾', 1), ('焼く', 1), ('酢', 1), ('漬ける', 1), ('一年中', 1), ('不完全', 1), ('蚕', 1), ('直接', 1), ('算段', 1), ('日傘', 1), ('かぶる', 1), ('櫛', 1), ('区劃', 1), ('仕切り', 1), ('つむじ', 1), ('贋造', 1), ('芭蕉', 1), ('平ら', 1), ('刈る', 1), ('切り落す', 1), ('枠', 1), ('植木', 1), ('受け取れる', 1), ('刈り込む', 1), ('憂身', 1), ('棒鱈', 1), ('こせつく', 1), ('こせこせ', 1), ('負える', 1), ('専売', 1), ('怠る', 1), ('齷齪', 1), ('暑中', 1), ('遠ざかる', 1), ('浴びる', 1), ('良い', 1), ('潰せる', 1), ('呼ばわる', 1), ('突っ伏す', 1), ('鼓膜', 1), ('醒める', 1), ('薩摩上布', 1), ('扇', 1), ('だるい', 1), ('退る', 1), ('載る', 1), ('もぎとる', 1), ('載っける', 1), ('焼ける', 1), ('バタ', 1), ('溶かす', 1), ('土用', 1), ('涼しい', 1), ('単', 1), ('一昨日', 1), ('施す', 1), ('ちきり', 1), ('言い兼ねる', 1), ('お話', 1), ('しな', 1), ('国名', 1), ('俗気', 1), ('同感', 1), ('湯漬', 1), ('省ける', 1), ('扱く', 1), ('仏頂面', 1), ('目覚', 1), ('鳳', 1), ('寄木', 1), ('細かい', 1), ('かためる', 1), ('張り付ける', 1), ('拳', 1), ('裏側', 1), ('両側', 1), ('潰れる', 1), ('麺棒', 1), ('延す', 1), ('片端', 1), ('蓆', 1), ('巻く', 1), ('斎', 1), ('正一', 1), ('手品', 1), ('休める', 1), ('放る', 1), ('尻餅', 1), ('麦藁', 1), ('ケース', 1), ('責め', 1), ('機転', 1), ('月形', 1), ('欠け目', 1), ('ちょ', 1), ('定規', 1), ('代用', 1), ('磨る', 1), ('螺旋', 1), ('鋲', 1), ('刺す', 1), ('金槌', 1), ('こじ開ける', 1), ('まつ', 1), ('錐', 1), ('削る', 1), ('ナイフ', 1), ('だが', 1), ('取りあげる', 1), ('覧', 1), ('押し付ける', 1), ('仰向く', 1), ('笊蕎麦', 1), ('ぱくつく', 1), ('巫山戯る', 1), ('打ち立てる', 1), ('薬味', 1), ('杉箸', 1), ('初心', 1), ('引っ掛ける', 1), ('勢揃い', 1), ('簀', 1), ('纏綿', 1), ('滑り込む', 1), ('浸す', 1), ('浸る', 1), ('嵩', 1), ('分目', 1), ('四半分', 1), ('溢れる', 1), ('脱兎', 1), ('喉笛', 1), ('滴', 1), ('一どきに', 1), ('飲み込める', 1), ('埃', 1), ('入来', 1), ('衆人', 1), ('待ちかねる', 1), ('電動', 1), ('レンズ', 1), ('反身', 1), ('幾何', 1), ('半径', 1), ('磨り潰す', 1), ('林檎', 1), ('苺', 1), ('いか', 1), ('小用', 1), ('拝借', 1), ('立ち寄る', 1), ('好例', 1), ('新撰', 1), ('長たらしい', 1), ('片付く', 1), ('切り付ける', 1), ('恋煩い', 1), ('助太刀', 1), ('艶聞', 1), ('順列', 1), ('懐旧', 1), ('小泉', 1), ('八雲', 1), ('永眠', 1), ('ほぼ', 1), ('物覚え', 1), ('蒲原', 1), ('谷', 1), ('蛸', 1), ('会津', 1), ('制する', 1), ('かじ', 1), ('魔力', 1), ('文金', 1), ('炊く', 1), ('いやす', 1), ('拘泥', 1), ('鏡花', 1), ('復す', 1), ('隊長', 1), ('蝗', 1), ('何気ない', 1), ('とぐろ', 1), ('つかまえる', 1), ('怖がる', 1), ('っす', 1), ('あい', 1), ('抜け出す', 1), ('骨抜き', 1), ('愚痴', 1), ('仰る', 1), ('すまん', 1), ('明朝', 1), ('覚す', 1), ('筧', 1), ('初恋', 1), ('前夜', 1), ('果敢', 1), ('かこつ', 1), ('くだらない', 1), ('めでたい', 1), ('恨事', 1), ('のぼせる', 1), ('拾う', 1), ('すね', 1), ('猿轡', 1), ('嵌める', 1), ('傷口', 1), ('憧憬', 1), ('落ちつける', 1), ('異見', 1), ('泊る', 1), ('宿屋', 1), ('別嬪', 1), ('差異', 1), ('ひねる', 1), ('どんどん', 1), ('平らげる', 1), ('痛み', 1), ('諾否', 1), ('引用', 1), ('弁難', 1), ('唖', 1), ('へぐ', 1), ('持ち切る', 1), ('寺参り', 1), ('代々', 1), ('暗記', 1), ('意中', 1), ('必ずしも', 1), ('間口', 1), ('戸前', 1), ('亡くなる', 1), ('帳場', 1), ('若い衆', 1), ('雲照', 1), ('律師', 1), ('帰依', 1), ('蕎麦湯', 1), ('どん', 1), ('愁然', 1), ('どんと', 1), ('おろす', 1), ('ちまう', 1), ('かなり', 1), ('散々', 1), ('担う', 1), ('受け合える', 1), ('泰西', 1), ('行き帰り', 1), ('慈善会', 1), ('販売', 1), ('独立', 1), ('取越苦労', 1), ('喜ばしい', 1), ('慶賀', 1), ('確か', 1), ('方今', 1), ('自尊', 1), ('筒袖', 1), ('鉄棒', 1), ('追懐', 1), ('発す', 1), ('法律', 1), ('拱く', 1), ('豁然', 1), ('開業', 1), ('儲かる', 1), ('七転び八起き', 1), ('弱り目', 1), ('祟り目', 1), ('御法度', 1), ('仕置', 1), ('仰せつける', 1), ('連署', 1), ('奉行', 1), ('無罪', 1), ('薄々', 1), ('入れ違う', 1), ('ご存じ', 1), ('網羅', 1), ('慰む', 1), ('頭数', 1), ('門下', 1), ('挙止', 1), ('千載一遇', 1), ('御蔭様', 1), ('つつむ', 1), ('集まる', 1), ('只事', 1), ('持ち上がる', 1), ('謹む', 1), ('ご無沙汰', 1), ('緞帳役者', 1), ('ゴワゴワ', 1), ('榊原', 1), ('健吉', 1), ('内弟子', 1), ('久しい', 1), ('たかい', 1), ('大きに', 1), ('漕ぎつける', 1), ('押し', 1), ('ぬく', 1), ('お澄し', 1), ('旧劇', 1), ('新劇', 1), ('大部', 1), ('機軸', 1), ('聞き出す', 1), ('一幕', 1), ('道具立て', 1), ('わけ', 1), ('縛り付ける', 1), ('盥', 1), ('横向き', 1), ('デカダン', 1), ('モデル', 1), ('興行', 1), ('とやかく', 1), ('絵画', 1), ('演劇', 1), ('おんなじ', 1), ('高浜', 1), ('灯心', 1), ('透綾', 1), ('薩摩', 1), ('飛白', 1), ('着付け', 1), ('陸軍', 1), ('御用達', 1), ('秒', 1), ('拍子木', 1), ('あっけない', 1), ('加味', 1), ('笑われる', 1), ('新説', 1), ('言い放つ', 1), ('感情', 1), ('どうのこうの', 1), ('拡張', 1), ('稿本', 1), ('袱紗', 1), ('避暑', 1), ('真面目くさる', 1), ('かに', 1), ('雅言', 1), ('たよ', 1), ('わく', 1), ('字義', 1), ('もてなす', 1), ('はぐる', 1), ('巻頭', 1), ('倦む', 1), ('薫ずる', 1), ('たなびく', 1), ('停車場', 1), ('訓', 1), ('学究', 1), ('一夜', 1), ('取り留める', 1), ('糺す', 1), ('反照', 1), ('七味', 1), ('唐辛子', 1), ('独特', 1), ('御作', 1), ('短文', 1), ('座興', 1), ('手製', 1), ('叫ぶ', 1), ('やみ', 1), ('掏摸', 1), ('一躍', 1), ('そり返る', 1), ('山師', 1), ('人殺し', 1), ('聞こえる', 1), ('文才', 1), ('多', 1), ('懇意', 1), ('詠む', 1), ('集中', 1), ('寄合', 1), ('火の手', 1), ('下火', 1), ('つくつく法師', 1), ('懸命', 1), ('冷罵', 1), ('近年', 1), ('解せる', 1), ('貴人', 1), ('称える', 1), ('腐れる', 1), ('飛び込める', 1), ('霞', 1), ('神国', 1), ('輓近', 1), ('係る', 1), ('短日月', 1), ('年月', 1), ('星霜', 1), ('はなはだしい', 1), ('寝小便', 1), ('おっぱい', 1), ('たわい', 1), ('転地', 1), ('療養', 1), ('海岸', 1), ('薨去', 1), ('唱える', 1), ('寂滅', 1), ('ごねる', 1), ('洋', 1), ('往復', 1), ('引き取る', 1), ('渺々', 1), ('漫々', 1), ('大海', 1), ('続けざま', 1), ('探る', 1), ('古往今来', 1), ('断案', 1), ('潮水', 1), ('〇', 1), ('リチャード', 1), ('ラッセル', 1), ('ブライトン', 1), ('四百四病', 1), ('広告', 1), ('味わう', 1), ('築地', 1), ('取りあえず', 1), ('取り極める', 1), ('貧民', 1), ('人聞き', 1), ('応じる', 1), ('ひっくり返る', 1), ('両面', 1), ('一物', 1), ('天の橋立', 1), ('ハムレット', 1), ('ラケット', 1), ('機械', 1), ('バット', 1), ('取り扱う', 1), ('対象', 1), ('取り去る', 1), ('索然', 1), ('没趣味', 1), ('興奮', 1), ('廂', 1), ('天辺', 1), ('花形', 1), ('干る', 1), ('滑べる', 1), ('飛びつく', 1), ('高々', 1), ('紙袋', 1), ('表紙', 1), ('見付かる', 1), ('手先', 1), ('旧式', 1), ('新式', 1), ('さがす', 1), ('すわる', 1), ('健気', 1), ('振り上げる', 1), ('軟かい', 1), ('下着', 1), ('いす', 1), ('飛ばす', 1), ('立木', 1), ('飛鳥', 1), ('逃げ延びる', 1), ('向い', 1), ('逃げ惑う', 1), ('出来上がる', 1), ('惰性', 1), ('なぐりつける', 1), ('孔明', 1), ('攻める', 1), ('次いで', 1), ('膚', 1), ('はる', 1), ('しょ', 1), ('即答', 1), ('簡略', 1), ('数学', 1), ('本職', 1), ('末孫', 1), ('逆らう', 1), ('利器', 1), ('悲運', 1), ('せつない', 1), ('烏賊', 1), ('綱目', 1), ('かせる', 1), ('余事', 1), ('陳腐', 1), ('茂る', 1), ('俗謡', 1), ('知るべ', 1), ('気早', 1), ('寂', 1), ('とどめる', 1), ('待ち合せる', 1), ('敷石', 1), ('確然', 1), ('縮む', 1), ('縦横無尽', 1), ('美事', 1), ('言語道断', 1), ('常磐', 1), ('最明寺', 1), ('ごつごつ', 1), ('くずす', 1), ('あさい', 1), ('落とす', 1), ('引き寄せる', 1), ('松樹', 1), ('手放し', 1), ('緩める', 1), ('変じる', 1), ('見易い', 1), ('木越', 1), ('ずるずる', 1), ('しきる', 1), ('平行', 1), ('一片', 1), ('一周', 1), ('丸太', 1), ('巡る', 1), ('推参', 1), ('籍', 1), ('かえる', 1), ('立ち退く', 1), ('つづく', 1), ('目だつ', 1), ('綱渡り', 1), ('黒装束', 1), ('遮る', 1), ('人体', 1), ('啓', 1), ('看過', 1), ('烏合', 1), ('先鋒', 1), ('しくじる', 1), ('揃える', 1), ('見下す', 1), ('記号', 1), ('応える', 1), ('あせる', 1), ('西行', 1), ('銀製', 1), ('進呈', 1), ('西郷', 1), ('銅像', 1), ('ひる', 1), ('見て取る', 1), ('過ごす', 1), ('ぐたぐた', 1), ('取り付き', 1), ('照り付ける', 1), ('ごろ', 1), ('西日', 1), ('染む', 1), ('ねばる', 1), ('蚤', 1), ('限', 1), ('こする', 1), ('目安', 1), ('彼女', 1), ('寄生虫', 1), ('繁殖', 1), ('寄り添う', 1), ('つかす', 1), ('翻す', 1), ('覆す', 1), ('現金', 1), ('扱ぐ', 1), ('俄然', 1), ('愚策', 1), ('執着心', 1), ('全滅', 1), ('こびりつく', 1), ('蔓延', 1), ('松脂', 1), ('北風', 1), ('目糞', 1), ('べたりと', 1), ('晴れやか', 1), ('色男', 1), ('夭折', 1), ('蒼生', 1), ('潰し', 1), ('設備', 1), ('異類', 1), ('洪', 1), ('当り', 1), ('屹立', 1), ('嫉妬', 1), ('囃す', 1), ('繰り言', 1), ('徳', 1), ('盛る', 1), ('使い分ける', 1), ('しつくす', 1), ('あげく', 1), ('行き当り', 1), ('谷あい', 1), ('ピラミッド', 1), ('かさねる', 1), ('諒', 1), ('メートル', 1), ('ぶらつく', 1), ('一週', 1), ('死目', 1), ('台湾', 1), ('生蕃', 1), ('規則', 1), ('制定', 1), ('都', 1), ('設立', 1), ('買い込む', 1), ('陳列', 1), ('一段', 1), ('貴婦人', 1), ('伍', 1), ('貴女', 1), ('品位', 1), ('両国', 1), ('志願', 1), ('装', 1), ('反', 1), ('きせる', 1), ('滞る', 1), ('あやまる', 1), ('復興', 1), ('淫靡', 1), ('風教', 1), ('思い及ぶ', 1), ('北欧', 1), ('北方', 1), ('出で立ち', 1), ('軽', 1), ('転化', 1), ('すぼめる', 1), ('信者', 1), ('帝国ホテル', 1), ('以下', 1), ('略', 1), ('安んずる', 1), ('デカルト', 1), ('思考', 1), ('三つ子', 1), ('負けん気', 1), ('生薬', 1), ('末流', 1), ('官員', 1), ('競う', 1), ('かたどる', 1), ('案ずる', 1), ('漫然', 1), ('勝ち', 1), ('さまざま', 1), ('新形', 1), ('振れる', 1), ('真空', 1), ('忌む', 1), ('嫌う', 1), ('骨肉', 1), ('纏う', 1), ('本質', 1), ('一部分', 1), ('杢', 1), ('阿弥', 1), ('名称', 1), ('億', 1), ('引ずる', 1), ('眼下', 1), ('狂態', 1), ('衆目', 1), ('環視', 1), ('ごちゃごちゃ', 1), ('規律', 1), ('誓う', 1), ('混ぜる', 1), ('若造', 1), ('慰み', 1), ('間然', 1), ('あまた', 1), ('疝気', 1), ('ぶん', 1), ('浮き', 1), ('浮かす', 1), ('受け合う', 1), ('曲淵', 1), ('下男', 1), ('雲母', 1), ('ほる', 1), ('岩見', 1), ('大刀', 1), ('振り翳す', 1), ('竣功', 1), ('拍子抜け', 1), ('温', 1), ('白銀', 1), ('桶屋', 1), ('えな', 1), ('悠々閑々', 1), ('もとめる', 1), ('よごれる', 1), ('誰か', 1), ('湯銭', 1), ('活用', 1), ('じりじり', 1), ('列席', 1), ('豪気', 1), ('ぐらい', 1), ('板間', 1), ('明かり', 1), ('腹這い', 1), ('石壁', 1), ('しゃがむ', 1), ('小坊主', 1), ('師弟', 1), ('あつい', 1), ('小判', 1), ('あびせる', 1), ('呉絽', 1), ('垢擦り', 1), ('抱え込む', 1), ('議', 1), ('むすこ', 1), ('借る', 1), ('とめる', 1), ('長崎', 1), ('国賊', 1), ('亡ぼす', 1), ('たでる', 1), ('腫物', 1), ('背骨', 1), ('むさい', 1), ('膿', 1), ('順々', 1), ('浅黄', 1), ('一礼', 1), ('緩い', 1), ('ゆるり', 1), ('あったまる', 1), ('よどみ', 1), ('男の子', 1), ('坊ちゃん', 1), ('大福', 1), ('踏み付ける', 1), ('泣き', 1), ('ゆうべ', 1), ('近江', 1), ('潜り', 1), ('夜番', 1), ('無謀', 1), ('憫笑', 1), ('消え去る', 1), ('図抜ける', 1), ('少い', 1), ('熱湯', 1), ('長時間', 1), ('あいだ', 1), ('高山', 1), ('彦九郎', 1), ('跳ねかす', 1), ('喝', 1), ('心憎い', 1), ('快哉', 1), ('たき', 1), ('むかし', 1), ('アルプス', 1), ('超える', 1), ('大岩', 1), ('火炙り', 1), ('常道', 1), ('律する', 1), ('牢', 1), ('矯正', 1), ('癒す', 1), ('たれる', 1), ('遠因', 1), ('君恩', 1), ('柘榴', 1), ('取りつく', 1), ('入り乱れる', 1), ('貫', 1), ('名状', 1), ('音響', 1), ('適す', 1), ('魅入る', 1), ('立ちすくむ', 1), ('混乱', 1), ('張り詰める', 1), ('押し寄せる', 1), ('大長', 1), ('身の丈', 1), ('反る', 1), ('日盛り', 1), ('うめる', 1), ('紛々', 1), ('群衆', 1), ('傑出', 1), ('瞬間', 1), ('梁', 1), ('またも', 1), ('物色', 1), ('くぐる', 1), ('群小', 1), ('湯上がり', 1), ('光らす', 1), ('のんき', 1), ('台場', 1), ('多病', 1), ('残', 1), ('突っつく', 1), ('離合', 1), ('撲る', 1), ('智慮', 1), ('思い通り', 1), ('鳴かす', 1), ('鳴かせる', 1), ('繰る', 1), ('含まる', 1), ('蛇蝎', 1), ('孑孑', 1), ('思惟', 1), ('天麩羅', 1), ('下痢', 1), ('目白', 1), ('食前', 1), ('呼びかける', 1), ('ころばす', 1), ('関白', 1), ('太政大臣', 1), ('御酒', 1), ('綴り', 1), ('きめる', 1), ('火箸', 1), ('梅月', 1), ('旅行', 1), ('すすめる', 1), ('豚肉', 1), ('塩焼', 1), ('家賃', 1), ('付き', 1), ('結ぶ', 1), ('尽く', 1), ('野中', 1), ('一軒家', 1), ('江湖', 1), ('処士', 1), ('密生', 1), ('屈曲', 1), ('取り囲む', 1), ('あきる', 1), ('手こずる', 1), ('のびる', 1), ('借家', 1), ('古語', 1), ('家主', 1), ('取り立て', 1), ('吹き払う', 1), ('抜け裏', 1), ('晴れる', 1), ('分かる', 1), ('処方', 1), ('ゆっくり', 1), ('せいせい', 1), ('不用心', 1), ('乱杭', 1), ('逆茂木', 1), ('不要', 1), ('決', 1), ('決する', 1), ('早計', 1), ('梁上の君子', 1), ('こなす', 1), ('私立', 1), ('月謝', 1), ('徴集', 1), ('宿り', 1), ('変ずる', 1), ('沙漠', 1), ('住民', 1), ('一両日', 1), ('三十一文字', 1), ('俗耳', 1), ('才芸', 1), ('時として', 1), ('返す返す', 1), ('追い出す', 1), ('雲助', 1), ('三助', 1), ('属す', 1), ('学ぶ', 1), ('植物', 1), ('戒める', 1), ('不穏', 1), ('取締', 1), ('返書', 1), ('挙動', 1), ('要素', 1), ('人数', 1), ('疾風', 1), ('瘤', 1), ('狂う', 1), ('無神経', 1), ('適例', 1), ('八つ裂き', 1), ('つぶし', 1), ('獄', 1), ('投ずる', 1), ('囚人', 1), ('房', 1), ('くらす', 1), ('じらせる', 1), ('耽る', 1), ('大名', 1), ('なぐさむ', 1), ('幼稚', 1), ('使い道', 1), ('遂行', 1), ('快楽', 1), ('うすい', 1), ('みたい', 1), ('俗物', 1), ('証券', 1), ('略する', 1), ('手頃', 1), ('縛る', 1), ('ぶんなぐる', 1), ('守り', 1), ('安直', 1), ('充ちる', 1), ('五体', 1), ('持てる', 1), ('備わる', 1), ('骨頂', 1), ('組み合せる', 1), ('ぬける', 1), ('清国', 1), ('奇術', 1), ('世尊', 1), ('つくす', 1), ('呑舟', 1), ('大穴', 1), ('ゆる', 1), ('分界', 1), ('論断', 1), ('飛び越える', 1), ('離れ', 1), ('垣根越し', 1), ('よしや', 1), ('膃肭臍', 1), ('ひな', 1), ('密猟', 1), ('直ぐ', 1), ('出せる', 1), ('わあわあ', 1), ('判定', 1), ('まかる', 1), ('怒鳴りつける', 1), ('周章てる', 1), ('引きあげる', 1), ('寂然', 1), ('のぞく', 1), ('奔命', 1), ('本務', 1), ('頂点', 1), ('唱う', 1), ('四肢', 1), ('増減', 1), ('熾る', 1), ('欠乏', 1), ('従前', 1), ('降す', 1), ('故人', 1), ('先君', 1), ('頭寒足熱', 1), ('延命', 1), ('息災', 1), ('徴', 1), ('傷寒', 1), ('長寿', 1), ('慣用', 1), ('一所不住', 1), ('沙門', 1), ('雲水', 1), ('行脚', 1), ('石上', 1), ('難行苦行', 1), ('祖', 1), ('舂く', 1), ('引き起す', 1), ('逆上せる', 1), ('汽船', 1), ('凡人', 1), ('世間体', 1), ('勿体', 1), ('瞞着', 1), ('売薬', 1), ('朽木', 1), ('牛鍋', 1), ('馬肉', 1), ('入院', 1), ('拵える', 1), ('とりのける', 1), ('悩ます', 1), ('葡萄', 1), ('わかす', 1), ('学説', 1), ('酔っぱらい', 1), ('酒飲み', 1), ('坐禅', 1), ('快走', 1), ('青空', 1), ('伏', 1), ('切望', 1), ('逸する', 1), ('劇甚', 1), ('空名', 1), ('見くびる', 1), ('謡う', 1), ('書き立てる', 1), ('群がる', 1), ('放課後', 1), ('浴びせかける', 1), ('仕掛', 1), ('弾道', 1), ('海軍', 1), ('射撃', 1), ('ころがる', 1), ('発', 1), ('血管', 1), ('外行', 1), ('普段着', 1), ('舞う', 1), ('スッポン', 1), ('海老', 1), ('下界', 1), ('中味', 1), ('亀の甲', 1), ('軟らか', 1), ('めちゃめちゃ', 1), ('無惨', 1), ('遂げる', 1), ('時宜', 1), ('畏怖', 1), ('蕪', 1), ('煎餅', 1), ('嚇す', 1), ('山下', 1), ('廃業', 1), ('待ち受ける', 1), ('平伏す', 1), ('思いのほか', 1), ('庭下駄', 1), ('交戦', 1), ('慕う', 1), ('追いかける', 1), ('追いつく', 1), ('うに', 1), ('成る', 1), ('騰る', 1), ('散文', 1), ('朗々', 1), ('拮抗', 1), ('誤り', 1), ('忠恕', 1), ('恕', 1), ('隣室', 1), ('放歌', 1), ('吟じる', 1), ('おって', 1), ('にやりと', 1), ('よぶ', 1), ('分子', 1), ('交う', 1), ('痛切', 1), ('乱射', 1), ('漸次', 1), ('教室', 1), ('密封', 1), ('同勢', 1), ('鬨の声', 1), ('建物', 1), ('ぶんぶん', 1), ('戸口', 1), ('開き', 1), ('我勝ち', 1), ('発端', 1), ('沙', 1), ('奉天', 1), ('がかる', 1), ('アキ', 1), ('リス', 1), ('トロイ', 1), ('長坂', 1), ('矛', 1), ('日本国', 1), ('帝都', 1), ('健児', 1), ('数える', 1), ('陵', 1), ('戦', 1), ('陣', 1), ('巧み', 1), ('通則', 1), ('外側', 1), ('縦列', 1), ('誘致', 1), ('職務', 1), ('形勝', 1), ('陣地', 1), ('面す', 1), ('一直線', 1), ('練習', 1), ('準備', 1), ('文盲', 1), ('国柄', 1), ('教', 1), ('うべ', 1), ('くだける', 1), ('慈善', 1), ('攻', 1), ('砲術', 1), ('局外', 1), ('縫い', 1), ('手中', 1), ('敲き', 1), ('ポ', 1), ('カン', 1), ('事足る', 1), ('雲霞', 1), ('付き添う', 1), ('わめく', 1), ('消費', 1), ('拾', 1), ('設ける', 1), ('草原', 1), ('打ち落す', 1), ('降らせる', 1), ('打ち出す', 1), ('照準', 1), ('誤る', 1), ('命中', 1), ('動き出す', 1), ('均一', 1), ('取りとめる', 1), ('突き通す', 1), ('裂く', 1), ('拾える', 1), ('鰌', 1), ('蝙蝠', 1), ('つきもの', 1), ('慣れる', 1), ('一眼', 1), ('挑む', 1), ('応戦', 1), ('奮然', 1), ('猛然', 1), ('詫び入る', 1), ('逃げ', 1), ('人質', 1), ('捕虜', 1), ('上級生', 1), ('雑兵', 1), ('追い詰める', 1), ('味方', 1), ('木戸口', 1), ('上衣', 1), ('まくる', 1), ('腕組', 1), ('綿ネル', 1), ('洗いざらし', 1), ('花文字', 1), ('縫いつける', 1), ('猛', 1), ('漁師', 1), ('近火', 1), ('風体', 1), ('殺気', 1), ('尋問', 1), ('奥歯', 1), ('み', 1), ('癇癪玉', 1), ('越後獅子', 1), ('徽章', 1), ('にせもの', 1), ('埼玉', 1), ('言いつける', 1), ('者共', 1), ('忠臣蔵', 1), ('校', 1), ('語尾', 1), ('勇士', 1), ('瞳', 1), ('乗り越す', 1), ('引き渡し', 1), ('呼び立てる', 1), ('強弩', 1), ('叙', 1), ('全', 1), ('軽率', 1), ('包含', 1), ('層', 1), ('連続', 1), ('うっかり', 1), ('法語', 1), ('寝ころぶ', 1), ('五行', 1), ('演じる', 1), ('韓', 1), ('薔薇', 1), ('清める', 1), ('自腹', 1), ('精読', 1), ('自宅', 1), ('ばったり', 1), ('懐かしい', 1), ('久々', 1), ('拝顔', 1), ('歩み寄る', 1), ('うく', 1), ('ご用', 1), ('胸糞', 1), ('一人天下', 1), ('小生意気', 1), ('腕前', 1), ('損得', 1), ('やらす', 1), ('妙案', 1), ('落城', 1), ('難所', 1), ('地軸', 1), ('功力', 1), ('養', 1), ('なう', 1), ('御利益', 1), ('すり抜ける', 1), ('当り障り', 1), ('しだ', 1), ('驢馬', 1), ('丼', 1), ('無花果', 1), ('適宜', 1), ('客来', 1), ('文部', 1), ('命じる', 1), ('行ける', 1), ('すれる', 1), ('痛める', 1), ('立て通す', 1), ('業務', 1), ('とどのつまり', 1), ('骨折り損', 1), ('草臥儲', 1), ('高度', 1), ('慰撫', 1), ('かかりつけ', 1), ('殊勝', 1), ('もとより', 1), ('あきれ返る', 1), ('手癖', 1), ('療法', 1), ('懸かる', 1), ('一決', 1), ('盲目', 1), ('思い込む', 1), ('逸す', 1), ('打ち解ける', 1), ('一面識', 1), ('張り込む', 1), ('奇人', 1), ('奥行き', 1), ('比喩', 1), ('自然薯', 1), ('会計', 1), ('背広', 1), ('やり方', 1), ('触る', 1), ('遣り口', 1), ('進取', 1), ('講ずる', 1), ('君臣', 1), ('回る', 1), ('加茂川', 1), ('洒落れる', 1), ('つむ', 1), ('勝', 1), ('金持', 1), ('貧乏人', 1), ('従う', 1), ('沈める', 1), ('助言', 1), ('衰退', 1), ('増殖', 1), ('反比例', 1), ('統計', 1), ('二の腕', 1), ('それとも', 1), ('党勢', 1), ('不振', 1), ('中天', 1), ('挽回', 1), ('流俗', 1), ('抗する', 1), ('不磨', 1), ('値する', 1), ('山伏', 1), ('浅田', 1), ('病家', 1), ('見舞う', 1), ('葛根', 1), ('練る', 1), ('亡者', 1), ('積み込む', 1), ('孤城', 1), ('曝露', 1), ('満面', 1), ('教壇', 1), ('不言', 1), ('答案', 1), ('ミイラ', 1), ('髣髴', 1), ('冥々', 1), ('噴火山', 1), ('物心', 1), ('小川', 1), ('つけ込む', 1), ('乞食', 1), ('容れる', 1), ('喇叭', 1), ('じい', 1), ('かなう', 1), ('建具', 1), ('稀代', 1), ('新調', 1), ('出来心', 1), ('難物', 1), ('ゆかり', 1), ('結び付ける', 1), ('役に立つ', 1), ('転げ落ちる', 1), ('転用', 1), ('薄っぺら', 1), ('メリンス', 1), ('兵児帯', 1), ('こま', 1), ('じゃれる', 1), ('寄り付く', 1), ('瞬', 1), ('まぶしい', 1), ('炎熱', 1), ('御大', 1), ('跳ね返す', 1), ('さておく', 1), ('侵蝕', 1), ('蛍', 1), ('御意', 1), ('くに', 1), ('内済', 1), ('天然痘', 1), ('わける', 1), ('しこう', 1), ('訪う', 1), ('名僧', 1), ('仰天', 1), ('醜い', 1), ('醜悪', 1), ('悪党', 1), ('髄', 1), ('解脱', 1), ('膨らます', 1), ('ふくれる', 1), ('まじなう', 1), ('穴守稲荷', 1), ('みやげ', 1), ('紛失', 1), ('水気', 1), ('なやむ', 1), ('緊張', 1), ('こんど', 1), ('うつす', 1), ('目立つ', 1), ('平に', 1), ('遠距離', 1), ('一度に', 1), ('くしゃくしゃ', 1), ('人指しゆび', 1), ('吸取る', 1), ('吸い取る', 1), ('浮き出す', 1), ('塗抹', 1), ('指頭', 1), ('べっかんこう', 1), ('やって退ける', 1), ('競', 1), ('善意', 1), ('見性', 1), ('仕草', 1), ('山川', 1), ('措く', 1), ('お蔭', 1), ('灯下', 1), ('書巻', 1), ('自証', 1), ('醸造', 1), ('消毒', 1), ('浮華', 1), ('増上慢', 1), ('害す', 1), ('うた', 1), ('事蹟', 1), ('つくる', 1), ('自我', 1), ('瞭然', 1), ('反り', 1), ('嘲笑', 1), ('印せる', 1), ('しき', 1), ('あかんべえ', 1), ('結膜炎', 1), ('鯛', 1), ('腐爛', 1), ('北国', 1), ('冬空', 1), ('晴れ晴れ', 1), ('誇大', 1), ('白眼', 1), ('不得要領', 1), ('一貫', 1), ('眼窩', 1), ('漂う', 1), ('余波', 1), ('丹精', 1), ('晦渋', 1), ('溷濁', 1), ('悲境', 1), ('彷徨', 1), ('構成', 1), ('まなこ', 1), ('証す', 1), ('尽くす', 1), ('思いやる', 1), ('鑑みる', 1), ('歩調', 1), ('ととのう', 1), ('鼓舞', 1), ('朝な夕な', 1), ('鞭撻', 1), ('蓄える', 1), ('毛孔', 1), ('聊か', 1), ('把', 1), ('主たる', 1), ('もさ', 1), ('門外漢', 1), ('撓める', 1), ('非難', 1), ('満腔', 1), ('調練', 1), ('引き戻す', 1), ('御釜', 1), ('もたす', 1), ('ずり', 1), ('いかめしい', 1), ('拝啓', 1), ('愈', 1), ('多祥', 1), ('戦役', 1), ('連戦', 1), ('連勝', 1), ('平和', 1), ('克復', 1), ('忠勇', 1), ('義烈', 1), ('過半', 1), ('歓喜', 1), ('何もの', 1), ('若く', 1), ('宣戦', 1), ('大詔', 1), ('煥発', 1), ('義勇', 1), ('奉じる', 1), ('万里', 1), ('異境', 1), ('克', 1), ('苦難', 1), ('一意', 1), ('従事', 1), ('至誠', 1), ('終了', 1), ('区内', 1), ('有余', 1), ('出征', 1), ('将校', 1), ('下士', 1), ('に対し', 1), ('区民', 1), ('祝賀', 1), ('開催', 1), ('遺族', 1), ('誠之', 1), ('微衷', 1), ('各位', 1), ('協賛', 1), ('盛典', 1), ('何卒', 1), ('奮う', 1), ('黙読', 1), ('一過', 1), ('封', 1), ('納める', 1), ('東北', 1), ('凶作', 1), ('不穏当', 1), ('勧誘', 1), ('強談', 1), ('持ちかける', 1), ('時下', 1), ('秋冷', 1), ('貴家', 1), ('陳', 1), ('一昨々年', 1), ('妨げる', 1), ('存じ', 1), ('其の', 1), ('漸く', 1), ('独力', 1), ('適する', 1), ('新築', 1), ('別冊', 1), ('命名', 1), ('書冊', 1), ('工芸', 1), ('因る', 1), ('普い', 1), ('製本', 1), ('実費', 1), ('些少', 1), ('附す', 1), ('斯道', 1), ('心算', 1), ('思召', 1), ('呈', 1), ('分与', 1), ('賛同', 1), ('伏す', 1), ('懇願', 1), ('縫', 1), ('田', 1), ('風変り', 1), ('光彩', 1), ('はなやか', 1), ('皮下', 1), ('肉太', 1), ('我と', 1), ('什麼', 1), ('敬する', 1), ('喫する', 1), ('親鸞', 1), ('日蓮', 1), ('分身', 1), ('愛人', 1), ('たかる', 1), ('一朝', 1), ('秘蔵', 1), ('黴', 1), ('たのむ', 1), ('土偶', 1), ('凝結', 1), ('骸', 1), ('酔漢', 1), ('蹣跚', 1), ('畏い', 1), ('怫然', 1), ('産', 1), ('人参', 1), ('服せる', 1), ('没書', 1), ('打ち返す', 1), ('読み直す', 1), ('醜婦', 1), ('難解', 1), ('言句', 1), ('深長', 1), ('賞賛', 1), ('潜伏', 1), ('測る', 1), ('気高い', 1), ('主旨', 1), ('道家', 1), ('道徳', 1), ('名筆', 1), ('机上', 1), ('想', 1), ('開け放つ', 1), ('あけ', 1), ('空家', 1), ('通れる', 1), ('えん', 1), ('粛然', 1), ('端坐', 1), ('ぺたりと', 1), ('片づける', 1), ('西向き', 1), ('堅気', 1), ('上段', 1), ('上使', 1), ('年長', 1), ('上座', 1), ('痛み入る', 1), ('効果', 1), ('立見', 1), ('くっつく', 1), ('参上', 1), ('旁', 1), ('見知り', 1), ('今後', 1), ('淀み', 1), ('無口', 1), ('うてる', 1), ('膝元', 1), ('がする', 1), ('瓦解', 1), ('今来', 1), ('用達', 1), ('入国', 1), ('拝む', 1), ('長生き', 1), ('宮殿', 1), ('腋の下', 1), ('不恰好', 1), ('上白', 1), ('離れ離れ', 1), ('引きつける', 1), ('立ち返る', 1), ('打ちつける', 1), ('切らす', 1), ('じろじろ', 1), ('物見高い', 1), ('割り', 1), ('持たす', 1), ('京都', 1), ('黒谷', 1), ('参詣', 1), ('蓮', 1), ('戴く', 1), ('返却', 1), ('撃つ', 1), ('楠', 1), ('日帰り', 1), ('磁力', 1), ('ビードロ', 1), ('漢土', 1), ('形而下', 1), ('命懸け', 1), ('綯う', 1), ('坐り込む', 1), ('孟子', 1), ('放心', 1), ('仏家', 1), ('中峯', 1), ('不退転', 1), ('沢', 1), ('不動', 1), ('神妙', 1), ('暗誦', 1), ('置き去り', 1), ('粗忽', 1), ('忙中', 1), ('成句', 1), ('取り違える', 1), ('和名', 1), ('みみず', 1), ('目見', 1), ('打ち殺す', 1), ('茎', 1), ('畏まる', 1), ('山高', 1), ('まわる', 1), ('紙片', 1), ('飯粒', 1), ('毒蛇', 1), ('即効', 1), ('好人物', 1), ('ぶらさがる', 1), ('引っかかる', 1), ('うり', 1), ('何でもかでも', 1), ('寄宿', 1), ('怪我', 1), ('峻', 1), ('石火', 1), ('狼狽える', 1), ('負', 1), ('みの', 1), ('あやしい', 1), ('せき込む', 1), ('ためす', 1), ('聞き合わせる', 1), ('凝り固まる', 1), ('出先', 1), ('円覚寺', 1), ('踏切る', 1), ('レール', 1), ('とりとめる', 1), ('溺れる', 1), ('金剛不壊', 1), ('寺内', 1), ('蓮池', 1), ('道場', 1), ('僧堂', 1), ('麦飯', 1), ('熱中', 1), ('善し悪し', 1), ('食い意地', 1), ('併発', 1), ('カツレツ', 1), ('収容', 1), ('漕ぐ', 1), ('自大', 1), ('任じる', 1), ('救う', 1), ('取り寄せる', 1), ('毎回', 1), ('取り合せる', 1), ('おおかた', 1), ('煎じる', 1), ('っきり', 1), ('上がれる', 1), ('読誦', 1), ('書翰', 1), ('差出人', 1), ('腹立たしい', 1), ('病者', 1), ('心労', 1), ('疑念', 1), ('慚愧', 1), ('隔て', 1), ('中の間', 1), ('躍り出る', 1), ('引き続く', 1), ('出陣', 1), ('御足労', 1), ('腰つき', 1), ('吉田', 1), ('いなせ', 1), ('早合点', 1), ('手錠', 1), ('番人', 1), ('場末', 1), ('名主', 1), ('ぴょこぴょこ', 1), ('午前', 1), ('与太郎', 1), ('あご', 1), ('下げ渡す', 1), ('請書', 1), ('管轄', 1), ('開け放す', 1), ('ふくらす', 1), ('つねに', 1), ('いけすかない', 1), ('近付き', 1), ('たった今', 1), ('平身低頭', 1), ('済度', 1), ('差し引く', 1), ('思い返す', 1), ('いったん', 1), ('引き揚げる', 1), ('拱手', 1), ('歴る', 1), ('引き摺り込む', 1), ('偉人', 1), ('名立', 1), ('起居', 1), ('ざれる', 1), ('盛名', 1), ('主宰', 1), ('任', 1), ('同気', 1), ('同型', 1), ('鋳る', 1), ('打ち抜く', 1), ('同室', 1), ('突き合せる', 1), ('このほど', 1), ('点じる', 1), ('脳漿', 1), ('勺', 1), ('化学', 1), ('竜泉', 1), ('腋', 1), ('清風', 1), ('歯根', 1), ('市民', 1), ('脈搏', 1), ('検査', 1), ('脱する', 1), ('本位', 1), ('手近', 1), ('棒組', 1), ('ふざける', 1), ('はと', 1), ('年齢', 1), ('空しい', 1), ('豪', 1), ('数え立てる', 1), ('寄り', 1), ('つかみ合う', 1), ('いがみ合う', 1), ('奪い合う', 1), ('細胞', 1), ('押し込める', 1), ('幽閉', 1), ('院外', 1), ('孤立', 1), ('金力', 1), ('威力', 1), ('濫用', 1), ('孤灯', 1), ('熟慮', 1), ('ありのまま', 1), ('常人', 1), ('提供', 1), ('思索', 1), ('徹底的', 1), ('茫漠', 1), ('鼻孔', 1), ('迸出', 1), ('捕捉', 1), ('読心術', 1), ('いきさつ', 1), ('心眼', 1), ('やさしい', 1), ('即座', 1), ('訳合', 1), ('出直し', 1), ('連れ添う', 1), ('推して知るべし', 1), ('あか', 1), ('傾城', 1), ('年廻り', 1), ('親切心', 1), ('論定', 1), ('関知', 1), ('完成', 1), ('告', 1), ('朔', 1), ('かたちづくる', 1), ('結びつける', 1), ('挙る', 1), ('内容', 1), ('結合', 1), ('起', 1), ('朝めし', 1), ('浅ましい', 1), ('這出る', 1), ('日影', 1), ('かがやく', 1), ('かきまぜる', 1), ('沸き上がる', 1), ('元々', 1), ('甘える', 1), ('疎い', 1), ('天涯', 1), ('遊子', 1), ('断腸', 1), ('あらし', 1), ('信ずる', 1), ('色盲', 1), ('視力', 1), ('具える', 1), ('夜露', 1), ('明かす', 1), ('しめ', 1), ('野良犬', 1), ('物置', 1), ('えつ', 1), ('づける', 1), ('胚胎', 1), ('神頼み', 1), ('ぬすむ', 1), ('ふみ', 1), ('やる気', 1), ('喚起', 1), ('堅炭', 1), ('真黒い', 1), ('引きかえす', 1), ('番目', 1), ('洗える', 1), ('バケツ', 1), ('引きずり出す', 1), ('ろくに', 1), ('からから', 1), ('語源', 1), ('ぽたぽた', 1), ('雫', 1), ('したたか', 1), ('中形', 1), ('教わる', 1), ('双六', 1), ('物識り', 1), ('ちがい', 1), ('茸', 1), ('恵比寿', 1), ('わたしゃ', 1), ('聞き糺す', 1), ('裏店', 1), ('取上げる', 1), ('キュー', 1), ('塗りつける', 1), ('もろ', 1), ('見逃す', 1), ('詰まる', 1), ('音量', 1), ('せめる', 1), ('跳ねのける', 1), ('ぷんと', 1), ('勇ましい', 1), ('泣かす', 1), ('差し控える', 1), ('はげしい', 1), ('泣かせる', 1), ('手廻し', 1), ('あてつける', 1), ('横っ面', 1), ('犯罪', 1), ('国境', 1), ('逃亡', 1), ('偶像', 1), ('火あぶり', 1), ('通暁', 1), ('軍師', 1), ('成す', 1), ('崩し', 1), ('朝っぱら', 1), ('がばと', 1), ('起き直る', 1), ('表皮', 1), ('寝巻', 1), ('とおる', 1), ('整列', 1), ('野猪', 1), ('本領', 1), ('全面', 1), ('聞き合せる', 1), ('見張る', 1), ('ところどころ', 1), ('あからさま', 1), ('肉筆', 1), ('裏返し', 1), ('反古', 1), ('見抜く', 1), ('執着', 1), ('心機', 1), ('俗語', 1), ('奥行', 1), ('むっくと', 1), ('韓国', 1), ('統監', 1), ('手掛り', 1), ('虚構', 1), ('雇主', 1), ('握り拳', 1), ('変調', 1), ('持続', 1), ('出御', 1), ('落し', 1), ('姉御', 1), ('立膝', 1), ('黒柿', 1), ('想見', 1), ('拭き込む', 1), ('てらてら', 1), ('桜', 1), ('布巾', 1), ('引き立つ', 1), ('留守番', 1), ('引き払う', 1), ('あつかう', 1), ('召使', 1), ('権限', 1), ('委', 1), ('代理人', 1), ('委任', 1), ('事務', 1), ('何ら', 1), ('面影', 1), ('琉球', 1), ('塗', 1), ('面長', 1), ('すくない', 1), ('はやる', 1), ('若竹', 1), ('追手', 1), ('せまる', 1), ('空漠', 1), ('手腕', 1), ('楽しい', 1), ('ご飯', 1), ('おえる', 1), ('小形', 1), ('たくる', 1), ('無才', 1), ('のさばる', 1), ('官職', 1), ('萌芽', 1), ('薫陶', 1), ('癒せる', 1), ('分捕る', 1), ('長大', 1), ('専有', 1), ('使いこなせる', 1), ('盛り込む', 1), ('だらだら', 1), ('こぼれる', 1), ('力一杯', 1), ('受納', 1), ('掛声', 1), ('再考', 1), ('世故', 1), ('たける', 1), ('もともと', 1), ('積り', 1), ('あん', 1), ('しゃも', 1), ('焦げ', 1), ('掬う', 1), ('見かねる', 1), ('取払う', 1), ('かじる', 1), ('いたす', 1), ('盛り', 1), ('くずれる', 1), ('熱す', 1), ('こたえる', 1), ('大人', 1), ('火傷', 1), ('専心', 1), ('放任', 1), ('海老茶', 1), ('情夫', 1), ('出奔', 1), ('虚勢', 1), ('おどかす', 1), ('鎌', 1), ('年輩', 1), ('見様見真似', 1), ('心得違い', 1), ('愛国心', 1), ('ごろつく', 1), ('気概', 1), ('猪口才', 1), ('朝食', 1), ('済ませる', 1), ('支度', 1), ('休', 1), ('暦', 1), ('欠勤', 1), ('郵便箱', 1), ('踵', 1), ('まがる', 1), ('履く', 1), ('ふくらます', 1), ('逢える', 1), ('まっ', 1), ('寝坊', 1), ('わざ', 1), ('似合しい', 1), ('世帯染みる', 1), ('脆い', 1), ('いるか', 1), ('社員', 1), ('掛金', 1), ('無類', 1), ('ほら', 1), ('淑徳', 1), ('天神', 1), ('話し声', 1), ('ききつける', 1), ('どたばた', 1), ('かちかち', 1), ('はなつ', 1), ('すんで', 1), ('田圃', 1), ('稲', 1), ('いぬ', 1), ('おなら', 1), ('苦笑', 1), ('重箱', 1), ('紙屑', 1), ('大金持ち', 1), ('恐れ多い', 1), ('分際', 1), ('懲役', 1), ('いたたまれない', 1), ('夜昼', 1), ('交替', 1), ('前方', 1), ('ためし', 1), ('車引', 1), ('のこのこ', 1), ('くどい', 1), ('本筋', 1), ('論ずる', 1), ('ただいま', 1), ('昔話', 1), ('物事', 1), ('姑', 1), ('忌わしい', 1), ('葛藤', 1), ('減ずる', 1), ('並', 1), ('なんとか', 1), ('宗教', 1), ('あこがれる', 1), ('祭壇', 1), ('供える', 1), ('屠る', 1), ('キューピッド', 1), ('吹き矢', 1), ('大当り', 1), ('じきに', 1), ('弁論', 1), ('無鉄砲', 1), ('青春', 1), ('満ちる', 1), ('寄', 1), ('本当は', 1), ('水道', 1), ('差出す', 1), ('受け取る', 1), ('花活け', 1), ('陶器', 1), ('いらう', 1), ('検', 1), ('賤業', 1), ('待たす', 1), ('理性', 1), ('還す', 1), ('おきる', 1), ('学資', 1), ('潸然', 1), ('一掬', 1), ('泣顔', 1), ('横目', 1), ('種取り', 1), ('忍びやか', 1), ('むくむく', 1), ('不可測', 1), ('勃然', 1), ('深奥', 1), ('窺知', 1), ('発揚', 1), ('炳乎', 1), ('旋毛曲り', 1), ('役者', 1), ('かぎる', 1), ('持説', 1), ('久留米がすり', 1), ('伊予', 1), ('素袷', 1), ('印す', 1), ('こまる', 1), ('つんつるてん', 1), ('不調和', 1), ('微々たる', 1), ('排斥', 1), ('しでかす', 1), ('臆病者', 1), ('騒ぎ出す', 1), ('酔っ払う', 1), ('取り落す', 1), ('ばか', 1), ('老朽', 1), ('つくねんと', 1), ('仕入れる', 1), ('毀損', 1), ('祖父', 1), ('法事', 1), ('しびれ', 1), ('碗', 1), ('小笠原', 1), ('手つき', 1), ('突きつける', 1), ('同年輩', 1), ('比する', 1), ('据わる', 1), ('無念', 1), ('はらはら', 1), ('一滴', 1), ('入学', 1), ('感銘', 1), ('嚆矢', 1), ('吃る', 1), ('姫', 1), ('語勢', 1), ('変える', 1), ('つけ加える', 1), ('平助', 1), ('遠藤', 1), ('退学', 1), ('お母さん', 1), ('継母', 1), ('飽くまでも', 1), ('もったいぶる', 1), ('平然たる', 1), ('波動', 1), ('別々', 1), ('おっかさん', 1), ('継子', 1), ('ひそめる', 1), ('情深い', 1), ('思いやり', 1), ('賦', 1), ('拙い', 1), ('部類', 1), ('内部', 1), ('望む', 1), ('買い被る', 1), ('志乃', 1), ('文吾', 1), ('両隣', 1), ('八犬伝', 1), ('跨ぐ', 1), ('躍り込む', 1), ('仏陀', 1), ('福音', 1), ('面白', 1), ('筋道', 1), ('ちょっとした', 1), ('とんだ', 1), ('行き', 1), ('功名', 1), ('はちきれる', 1), ('無意識', 1), ('砲丸', 1), ('飲み下す', 1), ('出向く', 1), ('下げ', 1), ('同級生', 1), ('ただに', 1), ('切に', 1), ('真人間', 1), ('居住', 1), ('誘い', 1), ('赤坂', 1), ('無闇', 1), ('ぼん', 1), ('自転車', 1), ('仇', 1), ('会釈', 1), ('老木', 1), ('森々', 1), ('昼間', 1), ('万丈', 1), ('都会', 1), ('迷い込む', 1), ('探検', 1), ('浪々', 1), ('アンチモニー', 1), ('のしかかる', 1), ('協商', 1), ('あばく', 1), ('流れ込む', 1), ('超絶', 1), ('ファンクション', 1), ('あらう', 1), ('訣別', 1), ('薩摩下駄', 1), ('吟', 1), ('取り殺す', 1), ('降り込む', 1), ('奇談', 1), ('手分け', 1), ('無茶', 1), ('恐ろしく', 1), ('悄々', 1), ('思潮', 1), ('いたずらに', 1), ('奴ら', 1), ('片っ端', 1), ('帰国', 1), ('対坐', 1), ('勝負', 1), ('成敗', 1), ('度外', 1), ('個中', 1), ('仙骨', 1), ('宛然', 1), ('狭苦しい', 1), ('眩む', 1), ('面積', 1), ('並べ方', 1), ('わけ目', 1), ('こぼれ落ちる', 1), ('嗜好', 1), ('せせこましい', 1), ('天空', 1), ('踏み出せる', 1), ('縄張り', 1), ('しいて', 1), ('暑苦しい', 1), ('揃い', 1), ('各自', 1), ('交わす', 1), ('目盛り', 1), ('臣', 1), ('薫風', 1), ('涼', 1), ('つぐ', 1), ('くりゃる', 1), ('八幡', 1), ('水臭い', 1), ('どける', 1), ('待った', 1), ('倍する', 1), ('捌ける', 1), ('生死', 1), ('事大', 1), ('一石', 1), ('輸贏', 1), ('出処', 1), ('ぬくもる', 1), ('おみやげ', 1), ('献上', 1), ('善悪', 1), ('灰汁', 1), ('ごしごし', 1), ('だき', 1), ('妙音', 1), ('来臨', 1), ('そっちのけ', 1), ('無駄口', 1), ('釜中', 1), ('章魚', 1), ('同然', 1), ('目打ち', 1), ('視', 1), ('せわ', 1), ('生かす', 1), ('砕く', 1), ('促す', 1), ('上達', 1), ('顛末', 1), ('お話し', 1), ('もちろん', 1), ('切り上げる', 1), ('片づく', 1), ('箇所', 1), ('進上', 1), ('几帳面', 1), ('裸足', 1), ('はだし', 1), ('廻れる', 1), ('握り飯', 1), ('夏蜜柑', 1), ('食いつく', 1), ('塩気', 1), ('奉職', 1), ('楚', 1), ('今世紀', 1), ('物堅い', 1), ('埋める', 1), ('柔弱', 1), ('ずいぶん', 1), ('紺', 1), ('無地', 1), ('貰い手', 1), ('己惚れる', 1), ('未婚', 1), ('霊気', 1), ('ふれる', 1), ('開拓', 1), ('手始め', 1), ('鋒鋩', 1), ('三昧', 1), ('懸崖', 1), ('絶後', 1), ('蘇る', 1), ('気魄', 1), ('じみる', 1), ('渇仰', 1), ('極致', 1), ('表わす', 1), ('溜める', 1), ('買える', 1), ('呼ばわり', 1), ('辛うじて', 1), ('重き', 1), ('吊るす', 1), ('感覚', 1), ('霊異', 1), ('譴責', 1), ('鉄拳', 1), ('絶息', 1), ('まかり間違う', 1), ('心掛ける', 1), ('感興', 1), ('やましい', 1), ('十一月', 1), ('偽', 1), ('つかう', 1), ('ゆする', 1), ('剥く', 1), ('ふさぐ', 1), ('からむ', 1), ('祈念', 1), ('こらす', 1), ('性急', 1), ('軒端', 1), ('果てし', 1), ('飽き飽きする', 1), ('あさって', 1), ('動ずる', 1), ('じれる', 1), ('枉げる', 1), ('噴き出す', 1), ('鞍', 1), ('村', 1), ('四畳半', 1), ('手織', 1), ('釦', 1), ('制服', 1), ('被う', 1), ('こんもり', 1), ('松平', 1), ('菩提所', 1), ('幽邃', 1), ('梵刹', 1), ('天の河', 1), ('長瀬川', 1), ('横切る', 1), ('鷹', 1), ('古城', 1), ('仙石', 1), ('喰代', 1), ('順に', 1), ('尾張', 1), ('名古屋', 1), ('鯱', 1), ('楽器', 1), ('金子', 1), ('兵衛', 1), ('難渋', 1), ('予防線', 1), ('くり', 1), ('丸み', 1), ('つよい', 1), ('琴線', 1), ('映る', 1), ('隠る', 1), ('党', 1), ('クラス', 1), ('溜まる', 1), ('柔道', 1), ('ついと', 1), ('古ぼける', 1), ('洋書', 1), ('聴手', 1), ('真夜中', 1), ('水泡', 1), ('見積る', 1), ('ぶらぶら', 1), ('経つ', 1), ('置炬燵', 1), ('吊る', 1), ('うろうろ', 1), ('まごつく', 1), ('累々', 1), ('喪家', 1), ('騎', 1), ('鷹匠', 1), ('県庁', 1), ('川添', 1), ('川端', 1), ('落人', 1), ('目貫', 1), ('大戸', 1), ('潜り戸', 1), ('大半', 1), ('若僧', 1), ('堪る', 1), ('詩吟', 1), ('王師', 1), ('はん', 1), ('木村', 1), ('夜通し', 1), ('道中双六', 1), ('序幕', 1), ('こん度', 1), ('ぶらさげる', 1), ('掘り出す', 1), ('戸袋', 1), ('しまる', 1), ('隠れ家', 1), ('手ひどい', 1), ('危機一髪', 1), ('安宅', 1), ('取り残す', 1), ('餞別', 1), ('造詣', 1), ('つき合う', 1), ('木槿', 1), ('頭領', 1), ('督', 1), ('音曲', 1), ('御寺', 1), ('日藤', 1), ('発覚', 1), ('はれる', 1), ('まさ', 1), ('機外', 1), ('疲労', 1), ('古着', 1), ('登山', 1), ('邯鄲', 1), ('かすむ', 1), ('奴さん', 1), ('からり', 1), ('持ち主', 1), ('悪事', 1), ('千里', 1), ('年の功', 1), ('粗葉', 1), ('垂涎', 1), ('山上', 1), ('懶い', 1), ('弾ずる', 1), ('ぴいぴい', 1), ('露地', 1), ('ねぼける', 1), ('一策', 1), ('切先', 1), ('鍔元', 1), ('しらべる', 1), ('研ぐ', 1), ('名刀', 1), ('長夜', 1), ('鞘', 1), ('ふるえる', 1), ('引き付ける', 1), ('疵', 1), ('ぬる', 1), ('停電', 1), ('いいかねる', 1), ('暗闇', 1), ('見つける', 1), ('爪先上り', 1), ('差しかかる', 1), ('何時', 1), ('城下', 1), ('見下せる', 1), ('眺望', 1), ('佳い', 1), ('平地', 1), ('樟', 1), ('樟脳', 1), ('採る', 1), ('小屋', 1), ('工兵', 1), ('演習', 1), ('切り開く', 1), ('岩の上', 1), ('落ち着く', 1), ('沁みる', 1), ('引き抜く', 1), ('皎', 1), ('冽', 1), ('寒天', 1), ('透く', 1), ('徹る', 1), ('自他', 1), ('満山', 1), ('梢', 1), ('野分', 1), ('大死', 1), ('乾坤', 1), ('雨垂れ', 1), ('やから', 1), ('紛然', 1), ('雑然', 1), ('糅', 1), ('コン', 1), ('ノート', 1), ('都人士', 1), ('狂乱', 1), ('焼酎', 1), ('毛脛', 1), ('お客様', 1), ('蒸発', 1), ('肋骨', 1), ('ステ', 1), ('テコ', 1), ('紙鳶', 1), ('うなる', 1), ('掻い込む', 1), ('ひょろひょろ', 1), ('一目散', 1), ('くるまる', 1), ('物足りない', 1), ('一座', 1), ('上出来', 1), ('惨憺', 1), ('東方', 1), ('邦', 1), ('竪琴', 1), ('かかえる', 1), ('巧', 1), ('嫦娥', 1), ('おどろかす', 1), ('大差', 1), ('好漢', 1), ('営む', 1), ('しがない', 1), ('おそらく', 1), ('磨ける', 1), ('言い触らす', 1), ('知れ渡る', 1), ('花聟', 1), ('紙上', 1), ('長篇', 1), ('箇月', 1), ('満腹', 1), ('こめる', 1), ('四方八方', 1), ('聞き及ぶ', 1), ('予審', 1), ('判事', 1), ('祝', 1), ('闇', 1), ('結婚式', 1), ('申し渡す', 1), ('飽く', 1), ('滑らす', 1), ('ダン', 1), ('ビラ', 1), ('着服', 1), ('おどす', 1), ('置ける', 1), ('隊伍', 1), ('整える', 1), ('新婚', 1), ('身代', 1), ('つかまる', 1), ('たたる', 1), ('物々しい', 1), ('盗人', 1), ('手並', 1), ('自若', 1), ('宝生', 1), ('時局', 1), ('物価', 1), ('金米糖', 1), ('いらいら', 1), ('見性成仏', 1), ('堂々', 1), ('敬う', 1), ('比す', 1), ('終始一貫', 1), ('未生', 1), ('一挙手一投足', 1), ('まつわる', 1), ('人工', 1), ('従容', 1), ('コソコソ', 1), ('引込む', 1), ('しの', 1), ('焦熱', 1), ('三更', 1), ('無我', 1), ('ナイス', 1), ('張り切れる', 1), ('心づく', 1), ('自国', 1), ('我流', 1), ('兵営', 1), ('祝す', 1), ('並みいる', 1), ('盃', 1), ('宮廷', 1), ('御念', 1), ('短評', 1), ('殺伐', 1), ('ごく', 1), ('しずか', 1), ('土俵', 1), ('組む', 1), ('暴力', 1), ('水力', 1), ('電力', 1), ('縛する', 1), ('才', 1), ('智者', 1), ('敗れる', 1), ('ぺてん', 1), ('因業', 1), ('着倒れ', 1), ('食い倒れ', 1), ('恋う', 1), ('卒塔婆', 1), ('行き倒れ', 1), ('申し立てる', 1), ('言下', 1), ('熟考', 1), ('よそよそしい', 1), ('のべる', 1), ('出世間', 1), ('鉄心', 1), ('掛合', 1), ('べつ', 1), ('クラブ', 1), ('放擲', 1), ('なし崩し', 1), ('必ずや', 1), ('アーサー', 1), ('そうなると', 1), ('科学', 1), ('正', 1), ('科', 1), ('墨守', 1), ('他殺', 1), ('進ぜる', 1), ('槍', 1), ('薙刀', 1), ('飛道具', 1), ('あてこする', 1), ('高尚', 1), ('技術', 1), ('殺し', 1), ('棍棒', 1), ('公民', 1), ('撲殺', 1), ('慈悲', 1), ('打殺す', 1), ('白痴', 1), ('はりつける', 1), ('志望', 1), ('徹底', 1), ('泡沫', 1), ('夢幻', 1), ('飛び離れる', 1), ('燕雀', 1), ('焉んぞ', 1), ('大鵬', 1), ('スペイン', 1), ('今昔', 1), ('風習', 1), ('家々', 1), ('水泳', 1), ('老若', 1), ('暮色', 1), ('蒼然', 1), ('模糊', 1), ('なんと', 1), ('日没', 1), ('撞く', 1), ('めいめい', 1), ('河岸', 1), ('飛び込み', 1), ('迷わす', 1), ('詐欺', 1), ('書画', 1), ('骨董', 1), ('いつわる', 1), ('ほしい', 1), ('手元', 1), ('芝居気', 1), ('お気', 1), ('きさく', 1), ('とど', 1), ('狩野', 1), ('法眼', 1), ('払込', 1), ('百科全書', 1), ('皆済', 1), ('歳月', 1), ('期日', 1), ('忘れっぽい', 1), ('貸費', 1), ('公言', 1), ('だます', 1), ('たとえば', 1), ('穏当', 1), ('反抗', 1), ('事柄', 1), ('世態', 1), ('変遷', 1), ('竹槍', 1), ('カゴ', 1), ('当座', 1), ('間に合せ', 1), ('ろくな', 1), ('代官', 1), ('領主', 1), ('ふたり', 1), ('行き違う', 1), ('おのれ', 1), ('一毫', 1), ('固守', 1), ('侵す', 1), ('張りつめる', 1), ('はち切れる', 1), ('色々', 1), ('自業自得', 1), ('苦し紛れ', 1), ('制す', 1), ('制度', 1), ('利息', 1), ('美風', 1), ('つれる', 1), ('制限', 1), ('いっす', 1), ('異体', 1), ('同心', 1), ('内実', 1), ('行灯袴', 1), ('牢乎', 1), ('鍛え上げる', 1), ('賢夫人', 1), ('水平', 1), ('上がったり', 1), ('雑居', 1), ('同棲', 1), ('編入', 1), ('のろける', 1), ('破天荒', 1), ('いやいやながら', 1), ('謬見', 1), ('高潮', 1), ('劣情', 1), ('挙', 1), ('悖徳', 1), ('倫', 1), ('全力', 1), ('情操', 1), ('優美', 1), ('高潔', 1), ('洗', 1), ('錬る', 1), ('ずく', 1), ('滅', 1), ('帰着', 1), ('享受', 1), ('愛読', 1), ('おのおの', 1), ('詩文', 1), ('ジェームス', 1), ('婚姻', 1), ('滅亡', 1), ('担ぎ出す', 1), ('変形', 1), ('打てる', 1), ('壮快', 1), ('怨恨', 1), ('痛憤', 1), ('翕然', 1), ('旗下', 1), ('ホーマー', 1), ('超', 1), ('人的', 1), ('写し', 1), ('王者', 1), ('蕩々', 1), ('無為', 1), ('化す', 1), ('もうす', 1), ('アルコール', 1), ('中毒', 1), ('厭世', 1), ('賢哲', 1), ('貞婦', 1), ('娶る', 1), ('だし', 1), ('老年', 1), ('行き詰る', 1), ('とろける', 1), ('婦女子', 1), ('難事', 1), ('えり', 1), ('しそ', 1), ('苦しめる', 1), ('困憊', 1), ('あたう', 1), ('婦女', 1), ('大厄', 1), ('制御', 1), ('船舶', 1), ('綺羅', 1), ('性癖', 1), ('蔽う', 1), ('もとづく', 1), ('せり', 1), ('つて', 1), ('おくる', 1), ('願わくは', 1), ('術中', 1), ('友愛', 1), ('誘惑', 1), ('蜜', 1), ('愚妻', 1), ('あらあらしい', 1), ('卸', 1), ('狂わせる', 1), ('麦酒', 1), ('ぐるみ', 1), ('どっかと', 1), ('武者', 1), ('艘', 1), ('小舟', 1), ('誰彼', 1), ('大船', 1), ('人魚', 1), ('ビジネス', 1), ('おのずから', 1), ('吸い出す', 1), ('軽便', 1), ('入用', 1), ('妙手', 1), ('全身', 1), ('振袖', 1), ('つきつける', 1), ('知事', 1), ('一夫多妻', 1), ('多妻', 1), ('前祝', 1), ('栓', 1), ('大礼', 1), ('媒酌人', 1), ('三々九度', 1), ('宵', 1), ('風月', 1), ('蓼', 1), ('奏する', 1), ('算', 1), ('寄席', 1), ('夕飯', 1), ('かき合せる', 1), ('洗い晒し', 1), ('鞭', 1), ('転がれる', 1), ('先達て', 1), ('ふとした', 1), ('冥土', 1), ('対面', 1), ('しるし', 1), ('不孝', 1), ('有', 1), ('郷', 1), ('帰臥', 1), ('がたつく', 1), ('月夜', 1), ('茶色', 1), ('月影', 1), ('液体', 1), ('熱苦しい', 1), ('息遣い', 1), ('墓場', 1), ('悔やむ', 1), ('口癖', 1), ('良薬', 1), ('にがい', 1), ('空前', 1), ('やっつける', 1), ('ぴりぴり', 1), ('難なく', 1), ('ぽうっと', 1), ('引掻く', 1), ('よたよた', 1), ('水の上', 1), ('掻ける', 1), ('減', 1), ('のばす', 1), ('拷問', 1)]\n"
          ],
          "name": "stdout"
        }
      ]
    },
    {
      "cell_type": "markdown",
      "metadata": {
        "id": "kaW9fkDmyFGt"
      },
      "source": [
        "36. 頻度上位10語<br>\r\n",
        "出現頻度が高い10語とその出現頻度をグラフ（例えば棒グラフなど）で表示せよ．"
      ]
    },
    {
      "cell_type": "code",
      "metadata": {
        "colab": {
          "base_uri": "https://localhost:8080/"
        },
        "id": "IDiS6VgJyGz-",
        "outputId": "9a01dcc2-f97c-4b07-e96a-b0c89cd86566"
      },
      "source": [
        "!pip install japanize_matplotlib"
      ],
      "execution_count": null,
      "outputs": [
        {
          "output_type": "stream",
          "text": [
            "Collecting japanize_matplotlib\n",
            "\u001b[?25l  Downloading https://files.pythonhosted.org/packages/aa/85/08a4b7fe8987582d99d9bb7ad0ff1ec75439359a7f9690a0dbf2dbf98b15/japanize-matplotlib-1.1.3.tar.gz (4.1MB)\n",
            "\u001b[K     |████████████████████████████████| 4.1MB 11.6MB/s \n",
            "\u001b[?25hRequirement already satisfied: matplotlib in /usr/local/lib/python3.6/dist-packages (from japanize_matplotlib) (3.2.2)\n",
            "Requirement already satisfied: pyparsing!=2.0.4,!=2.1.2,!=2.1.6,>=2.0.1 in /usr/local/lib/python3.6/dist-packages (from matplotlib->japanize_matplotlib) (2.4.7)\n",
            "Requirement already satisfied: numpy>=1.11 in /usr/local/lib/python3.6/dist-packages (from matplotlib->japanize_matplotlib) (1.19.4)\n",
            "Requirement already satisfied: kiwisolver>=1.0.1 in /usr/local/lib/python3.6/dist-packages (from matplotlib->japanize_matplotlib) (1.3.1)\n",
            "Requirement already satisfied: cycler>=0.10 in /usr/local/lib/python3.6/dist-packages (from matplotlib->japanize_matplotlib) (0.10.0)\n",
            "Requirement already satisfied: python-dateutil>=2.1 in /usr/local/lib/python3.6/dist-packages (from matplotlib->japanize_matplotlib) (2.8.1)\n",
            "Requirement already satisfied: six in /usr/local/lib/python3.6/dist-packages (from cycler>=0.10->matplotlib->japanize_matplotlib) (1.15.0)\n",
            "Building wheels for collected packages: japanize-matplotlib\n",
            "  Building wheel for japanize-matplotlib (setup.py) ... \u001b[?25l\u001b[?25hdone\n",
            "  Created wheel for japanize-matplotlib: filename=japanize_matplotlib-1.1.3-cp36-none-any.whl size=4120276 sha256=b925be170437da0a88e4bc14a9b0c8109d72ee326dc5554cc356f19967a9af79\n",
            "  Stored in directory: /root/.cache/pip/wheels/b7/d9/a2/f907d50b32a2d2008ce5d691d30fb6569c2c93eefcfde55202\n",
            "Successfully built japanize-matplotlib\n",
            "Installing collected packages: japanize-matplotlib\n",
            "Successfully installed japanize-matplotlib-1.1.3\n"
          ],
          "name": "stdout"
        }
      ]
    },
    {
      "cell_type": "code",
      "metadata": {
        "colab": {
          "base_uri": "https://localhost:8080/"
        },
        "id": "qP4KWzmjzYr_",
        "outputId": "5dd01e6d-6435-4a7c-b204-9612dd305507"
      },
      "source": [
        "import matplotlib.pyplot as plt\r\n",
        "import japanize_matplotlib\r\n",
        "\r\n",
        "key2num = {}\r\n",
        "for sentence in sentences:\r\n",
        "  for morph in sentence:\r\n",
        "    if morph['pos'] == '記号':\r\n",
        "      continue\r\n",
        "      \r\n",
        "    if morph[\"surface\"] in key2num:\r\n",
        "      val = key2num[morph[\"surface\"]]\r\n",
        "      key2num[morph[\"base\"]] = val + 1\r\n",
        "    else:\r\n",
        "      key2num[morph[\"base\"]] = 1\r\n",
        "\r\n",
        "# ここでdict->list(tuple集合体)へ変換されるので注意      \r\n",
        "score_sorted = sorted(key2num.items(), key=lambda x:x[1], reverse=True)\r\n",
        "keys = [a[0] for a in score_sorted[0:10]]\r\n",
        "values = [a[1] for a in score_sorted[0:10]]\r\n",
        "\r\n",
        "plt.figure(figsize = (8, 4))\r\n",
        "plt.bar(keys, values)\r\n",
        "plt.show()"
      ],
      "execution_count": null,
      "outputs": [
        {
          "output_type": "display_data",
          "data": {
            "image/png": "[encoded data removed]",
            "text/plain": [
              "<Figure size 576x288 with 1 Axes>"
            ]
          },
          "metadata": {
            "tags": [],
            "needs_background": "light"
          }
        }
      ]
    },
    {
      "cell_type": "markdown",
      "metadata": {
        "id": "2GS18k6i3A_W"
      },
      "source": [
        "37. 「猫」と共起頻度の高い上位10語<br>「猫」とよく共起する（共起頻度が高い）10語とその出現頻度をグラフ（例えば棒グラフなど）で表示せよ．"
      ]
    },
    {
      "cell_type": "code",
      "metadata": {
        "id": "HqE6s6cY0DSE",
        "colab": {
          "base_uri": "https://localhost:8080/",
          "height": 275
        },
        "outputId": "5453fdc5-6b80-4124-e863-f6283e7b2106"
      },
      "source": [
        "from collections import defaultdict \r\n",
        "ans = defaultdict(int)\r\n",
        "for sentence in sentences:\r\n",
        "  if '猫' in [morph['surface'] for morph in sentence]:\r\n",
        "    for morph in sentence:\r\n",
        "      if morph['pos'] != '記号' and morph['pos'] != '助詞' and morph['pos'] != '助動詞':\r\n",
        "        ans[morph['base']] += 1\r\n",
        "\r\n",
        "del ans['猫']\r\n",
        "ans = sorted(ans.items(), key=lambda x: x[1], reverse=True)\r\n",
        "\r\n",
        "keys = [a[0] for a in ans[0:10]]\r\n",
        "values = [a[1] for a in ans[0:10]]\r\n",
        "plt.figure(figsize=(8, 4))\r\n",
        "plt.bar(keys, values)\r\n",
        "plt.show()"
      ],
      "execution_count": null,
      "outputs": [
        {
          "output_type": "display_data",
          "data": {
            "image/png": "[encoded data removed]",
            "text/plain": [
              "<Figure size 576x288 with 1 Axes>"
            ]
          },
          "metadata": {
            "tags": [],
            "needs_background": "light"
          }
        }
      ]
    },
    {
      "cell_type": "markdown",
      "metadata": {
        "id": "H_iQMewVTtSe"
      },
      "source": [
        "38. ヒストグラム<br>\r\n",
        "単語の出現頻度のヒストグラム（横軸に出現頻度，縦軸に出現頻度をとる単語の種類数を棒グラフで表したもの）を描け．"
      ]
    },
    {
      "cell_type": "code",
      "metadata": {
        "id": "6eHrB-ksQg8Q",
        "colab": {
          "base_uri": "https://localhost:8080/",
          "height": 277
        },
        "outputId": "14b9e2dd-79af-431b-8412-d71e6a790ead"
      },
      "source": [
        "ans = defaultdict(int)\r\n",
        "for sentence in sentences:\r\n",
        "  for morph in sentence:\r\n",
        "    if morph['pos'] != '記号':\r\n",
        "      ans[morph['base']] += 1\r\n",
        "\r\n",
        "ans = ans.values()\r\n",
        "plt.figure(figsize=(8, 4))\r\n",
        "plt.hist(ans, bins=100)\r\n",
        "plt.xlabel('出現頻度')\r\n",
        "plt.ylabel('単語の種類数')\r\n",
        "plt.show()"
      ],
      "execution_count": 23,
      "outputs": [
        {
          "output_type": "display_data",
          "data": {
            "image/png": "[encoded data removed]",
            "text/plain": [
              "<Figure size 576x288 with 1 Axes>"
            ]
          },
          "metadata": {
            "tags": [],
            "needs_background": "light"
          }
        }
      ]
    },
    {
      "cell_type": "markdown",
      "metadata": {
        "id": "WFmP9QXbo2mf"
      },
      "source": [
        "39. Zipfの法則<br>\r\n",
        "単語の出現頻度順位を横軸，その出現頻度を縦軸として，両対数グラフをプロットせよ．"
      ]
    },
    {
      "cell_type": "code",
      "metadata": {
        "id": "ObJQO4IOlKL4",
        "colab": {
          "base_uri": "https://localhost:8080/",
          "height": 283
        },
        "outputId": "c8ddceeb-6e77-4916-88c1-ef67aec89993"
      },
      "source": [
        "import math\r\n",
        "\r\n",
        "ans = defaultdict(int)\r\n",
        "for sentence in sentences:\r\n",
        "  for morph in sentence:\r\n",
        "    if morph['pos'] != '記号':\r\n",
        "      ans[morph['base']] += 1\r\n",
        "ans = sorted(ans.items(), key=lambda x: x[1], reverse=True)\r\n",
        "\r\n",
        "ranks = [r + 1 for r in range(len(ans))]\r\n",
        "values = [a[1] for a in ans]\r\n",
        "plt.figure(figsize=(8, 4))\r\n",
        "plt.scatter(ranks, values)\r\n",
        "plt.xscale('log')\r\n",
        "plt.yscale('log')\r\n",
        "plt.xlabel('出現頻度順位')\r\n",
        "plt.ylabel('出現頻度')\r\n",
        "plt.show()"
      ],
      "execution_count": 24,
      "outputs": [
        {
          "output_type": "display_data",
          "data": {
            "image/png": "[encoded data removed]",
            "text/plain": [
              "<Figure size 576x288 with 1 Axes>"
            ]
          },
          "metadata": {
            "tags": [],
            "needs_background": "light"
          }
        }
      ]
    },
    {
      "cell_type": "code",
      "metadata": {
        "id": "qbZewg-Gpwcj"
      },
      "source": [
        ""
      ],
      "execution_count": null,
      "outputs": []
    }
  ]
}